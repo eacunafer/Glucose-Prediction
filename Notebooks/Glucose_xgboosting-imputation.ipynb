{
 "cells": [
  {
   "cell_type": "code",
   "execution_count": 1,
   "id": "f4b63cf6",
   "metadata": {},
   "outputs": [
    {
     "name": "stderr",
     "output_type": "stream",
     "text": [
      "C:\\Users\\eacun\\anaconda3\\lib\\site-packages\\xgboost\\compat.py:36: FutureWarning: pandas.Int64Index is deprecated and will be removed from pandas in a future version. Use pandas.Index with the appropriate dtype instead.\n",
      "  from pandas import MultiIndex, Int64Index\n"
     ]
    }
   ],
   "source": [
    "# forecast monthly births with xgboost\n",
    "from numpy import asarray\n",
    "import pandas as pd\n",
    "from pandas import read_csv\n",
    "from pandas import DataFrame\n",
    "from pandas import concat\n",
    "from sklearn.metrics import mean_absolute_error\n",
    "import xgboost as xgb\n",
    "from xgboost import XGBRegressor\n",
    "import matplotlib.pyplot as plt"
   ]
  },
  {
   "cell_type": "code",
   "execution_count": 2,
   "id": "807862a9",
   "metadata": {},
   "outputs": [],
   "source": [
    "import pandas as pd\n",
    "from sklearn.multioutput import MultiOutputRegressor\n",
    "import numpy as np\n",
    "import xml.etree.cElementTree as et\n",
    "from datetime import datetime\n",
    "from pandas.core.tools.datetimes import to_datetime\n",
    "from datetime import timedelta"
   ]
  },
  {
   "cell_type": "code",
   "execution_count": 3,
   "id": "e01de317",
   "metadata": {},
   "outputs": [],
   "source": [
    "# get some noised linear data\n",
    "# X = np.random.random((1000, 10))\n",
    "#a = np.random.random((10, 3))\n",
    "#y = np.dot(X, a) + np.random.normal(0, 1e-3, (1000, 3))\n",
    "#print(y.shape)\n",
    "# fitting\n",
    "#multioutputregressor = MultiOutputRegressor(xgb.XGBRegressor(objective='reg:squarederror')).fit(X, y)\n",
    "\n",
    "# predicting\n",
    "#print(np.mean((multioutputregressor.predict(X) - y)**2, axis=0))  # 0.004, 0.003, 0.005"
   ]
  },
  {
   "cell_type": "code",
   "execution_count": 4,
   "id": "efde4a8b",
   "metadata": {},
   "outputs": [],
   "source": [
    "def read_xml_data(filename, selected_items):\n",
    "  tree=et.parse(filename)\n",
    "  root=tree.getroot()\n",
    "  #extract selected items\n",
    "  for child in root:\n",
    "    if child.tag in selected_items:\n",
    "      df = pd.DataFrame()\n",
    "      for elem in child:      \n",
    "        df1 = pd.DataFrame(elem.attrib, index=[0])\n",
    "        #df = df.append(df1)d\n",
    "        df = pd.concat([df, df1])\n",
    "      #First column is the timestamp (dayfirst)      \n",
    "      #df.iloc[:,0] = pd.to_datetime(df.iloc[:,0], dayfirst=True)\n",
    "      #write to csv file using the timestamp as index      \n",
    "      df.to_csv(child.tag+'.csv', index=0)  "
   ]
  },
  {
   "cell_type": "code",
   "execution_count": 5,
   "id": "9ead7232",
   "metadata": {},
   "outputs": [],
   "source": [
    "def read_ts_file(filename):\n",
    "  #reads csv file where the first column is a timestamp and the index column\n",
    "  df = pd.read_csv (filename, parse_dates=[0], dayfirst=True, index_col=0)\n",
    "  return df"
   ]
  },
  {
   "cell_type": "code",
   "execution_count": 6,
   "id": "cab12c01",
   "metadata": {},
   "outputs": [],
   "source": [
    "def align_timeseries(align_df, source_df, source_columns, default_vals, dest_columns=[], include_index=False):\n",
    "  # Generates a new dataframe with source_df data aligned to align_df\n",
    "  # source_columns : list of columns from source_df to be included in result\n",
    "  # dest_columns = column names of source_columns, if ommited column names will be the same as in source_df\n",
    "  #                if specified, the first column has to be the name of the index in the destination\n",
    "  # include_index: if source index must be included in the result\n",
    "  # default_vals = list of default values for source_columns\n",
    " \n",
    "  df_align = align_df.copy()\n",
    "  df_align = df_align.sort_index()\n",
    "  df2 = source_df.copy()\n",
    "  df2 = df2.sort_index()\n",
    "  df_dup = pd.DataFrame()\n",
    "  if (dest_columns==[]) : dest_columns = source_columns.copy()\n",
    "  if (len(dest_columns) == len(source_columns)) : dest_columns = ['source_ts'] + dest_columns # add column for index\n",
    "  #add blank cells in destination\n",
    "  df_align[dest_columns] = [np.nan] + default_vals\n",
    "  for i in range(len(df2)):\n",
    "      ts2 = df2.index[i]\n",
    "      ts1_loc = df_align.index.get_loc(ts2, method='nearest')\n",
    "      ts1 = df_align.index[ts1_loc]\n",
    "      vals = [ts2]+list(df2.loc[ts2, source_columns])\n",
    "      ts_old = df_align.loc[ts1, dest_columns[0]]\n",
    "      if not pd.isna(ts_old): #there are duplicates\n",
    "        if (abs(ts1.value-ts2.value) > abs(ts1.value-ts_old.value)): \n",
    "          #difference is greater, do not replace        \n",
    "          df_dup = df_dup.append(df_align.loc[ts1])\n",
    "          df_dup.loc[ts1, dest_columns] = vals\n",
    "        else: #replace\n",
    "          df_dup = df_dup.append(df_align.loc[ts1])\n",
    "          df_align.loc[ts1, dest_columns] = vals\n",
    "        continue\n",
    "      df_align.loc[ts1, dest_columns] = vals\n",
    "  \n",
    "  if not(include_index) : df_align = df_align.drop( columns = dest_columns[0])\n",
    "\n",
    "  return df_align, df_dup"
   ]
  },
  {
   "cell_type": "code",
   "execution_count": 7,
   "id": "26ee230c",
   "metadata": {},
   "outputs": [],
   "source": [
    "def timedf(df):\n",
    "  #creates a 5 minute interval timeseries dataframe based in index of df\n",
    "  # df must have a timestamp index\n",
    "  #time_df: result dataframe with timestamp index\n",
    "  timestamp = pd.date_range(start=df.index[0], end=df.index[-1]  + timedelta(minutes=4), freq='5T')\n",
    "  time_df = pd.DataFrame({'timestamp':timestamp})\n",
    "  time_df.set_index('timestamp', inplace=True)\n",
    "  return time_df"
   ]
  },
  {
   "cell_type": "code",
   "execution_count": 8,
   "id": "da293146",
   "metadata": {},
   "outputs": [],
   "source": [
    "def find_gaps(df, greaterthan=5, units='m'):\n",
    "  # find gaps relative to index, index must be a datetime field\n",
    "  # greaterthan is the number of time units to be considered a gap\n",
    "  # units 'm'=minutes, 'h'=hours\n",
    "  i = 0\n",
    "  gaps_df = pd.DataFrame()\n",
    "  while i < len(df) - 1:\n",
    "    ts = df.index[i]\n",
    "    next_ts = df.index[i+1]\n",
    "    duration = next_ts - ts\n",
    "    if duration > np.timedelta64(greaterthan, units): \n",
    "      begin_gap = ts\n",
    "      end_gap = next_ts\n",
    "      gaps_df = gaps_df.append({'From': begin_gap, 'To': end_gap, 'Duration': duration}, ignore_index=True)\n",
    "    i = i + 1\n",
    "  gaps_df.sort_values(by=['Duration'], ascending=False, inplace=True)\n",
    "  return gaps_df"
   ]
  },
  {
   "cell_type": "code",
   "execution_count": 9,
   "id": "cc9c05b5",
   "metadata": {},
   "outputs": [],
   "source": [
    "def read_files():\n",
    "  #read glucose\n",
    "  glucose_df = read_ts_file('glucose_level.csv')\n",
    "  glucose_df.rename(columns={\"ts\": \"timestamp\", \"value\": \"glucose\"}, inplace=True)\n",
    "  print(glucose_df)\n",
    "  #read meal\n",
    "  meal_df = read_ts_file('meal.csv')\n",
    "  print(meal_df)\n",
    "  #read bolus\n",
    "  meal_df = read_ts_file('bolus.csv')\n",
    "  print(meal_df)"
   ]
  },
  {
   "cell_type": "markdown",
   "id": "75fc463a",
   "metadata": {},
   "source": [
    "## Reading Training Data"
   ]
  },
  {
   "cell_type": "code",
   "execution_count": 10,
   "id": "dd170918",
   "metadata": {},
   "outputs": [],
   "source": [
    "#selected_items = ['glucose_level','bolus','meal']\n",
    "read_xml_data(filename='c://aadm/588-ws-training.xml', selected_items=['glucose_level','bolus','meal'])"
   ]
  },
  {
   "cell_type": "code",
   "execution_count": 11,
   "id": "f4d2daed",
   "metadata": {},
   "outputs": [
    {
     "name": "stdout",
     "output_type": "stream",
     "text": [
      "<class 'pandas.core.frame.DataFrame'>\n",
      "DatetimeIndex: 12640 entries, 2021-08-30 11:53:00 to 2021-10-14 23:55:00\n",
      "Data columns (total 1 columns):\n",
      " #   Column   Non-Null Count  Dtype\n",
      "---  ------   --------------  -----\n",
      " 0   glucose  12640 non-null  int64\n",
      "dtypes: int64(1)\n",
      "memory usage: 197.5 KB\n"
     ]
    }
   ],
   "source": [
    "glucose_train = read_ts_file('glucose_level.csv')\n",
    "glucose_train.rename(columns={\"ts\": \"timestamp\", \"value\": \"glucose\"}, inplace=True)\n",
    "glucose_train.info()"
   ]
  },
  {
   "cell_type": "code",
   "execution_count": 12,
   "id": "8b1d9190",
   "metadata": {},
   "outputs": [
    {
     "name": "stdout",
     "output_type": "stream",
     "text": [
      "Missing intervals:  466\n"
     ]
    }
   ],
   "source": [
    "#Finding the length of the complete time series\n",
    "time_df = timedf(glucose_train)\n",
    "print('Missing intervals: ', len(time_df) - len(glucose_train) )"
   ]
  },
  {
   "cell_type": "code",
   "execution_count": 13,
   "id": "5832cec5",
   "metadata": {},
   "outputs": [
    {
     "name": "stdout",
     "output_type": "stream",
     "text": [
      "<class 'pandas.core.frame.DataFrame'>\n",
      "DatetimeIndex: 13106 entries, 2021-08-30 11:50:00 to 2021-10-14 23:55:00\n",
      "Freq: 5T\n",
      "Data columns (total 1 columns):\n",
      " #   Column   Non-Null Count  Dtype  \n",
      "---  ------   --------------  -----  \n",
      " 0   glucose  12640 non-null  float64\n",
      "dtypes: float64(1)\n",
      "memory usage: 204.8 KB\n"
     ]
    },
    {
     "data": {
      "text/html": [
       "<div>\n",
       "<style scoped>\n",
       "    .dataframe tbody tr th:only-of-type {\n",
       "        vertical-align: middle;\n",
       "    }\n",
       "\n",
       "    .dataframe tbody tr th {\n",
       "        vertical-align: top;\n",
       "    }\n",
       "\n",
       "    .dataframe thead th {\n",
       "        text-align: right;\n",
       "    }\n",
       "</style>\n",
       "<table border=\"1\" class=\"dataframe\">\n",
       "  <thead>\n",
       "    <tr style=\"text-align: right;\">\n",
       "      <th></th>\n",
       "      <th>glucose</th>\n",
       "    </tr>\n",
       "    <tr>\n",
       "      <th>ts</th>\n",
       "      <th></th>\n",
       "    </tr>\n",
       "  </thead>\n",
       "  <tbody>\n",
       "    <tr>\n",
       "      <th>2021-08-31 00:00:00</th>\n",
       "      <td>99.0</td>\n",
       "    </tr>\n",
       "    <tr>\n",
       "      <th>2021-08-31 00:05:00</th>\n",
       "      <td>99.0</td>\n",
       "    </tr>\n",
       "    <tr>\n",
       "      <th>2021-08-31 00:10:00</th>\n",
       "      <td>98.0</td>\n",
       "    </tr>\n",
       "    <tr>\n",
       "      <th>2021-08-31 00:15:00</th>\n",
       "      <td>99.0</td>\n",
       "    </tr>\n",
       "    <tr>\n",
       "      <th>2021-08-31 00:20:00</th>\n",
       "      <td>100.0</td>\n",
       "    </tr>\n",
       "    <tr>\n",
       "      <th>...</th>\n",
       "      <td>...</td>\n",
       "    </tr>\n",
       "    <tr>\n",
       "      <th>2021-09-06 23:35:00</th>\n",
       "      <td>143.0</td>\n",
       "    </tr>\n",
       "    <tr>\n",
       "      <th>2021-09-06 23:40:00</th>\n",
       "      <td>142.0</td>\n",
       "    </tr>\n",
       "    <tr>\n",
       "      <th>2021-09-06 23:45:00</th>\n",
       "      <td>140.0</td>\n",
       "    </tr>\n",
       "    <tr>\n",
       "      <th>2021-09-06 23:50:00</th>\n",
       "      <td>138.0</td>\n",
       "    </tr>\n",
       "    <tr>\n",
       "      <th>2021-09-06 23:55:00</th>\n",
       "      <td>136.0</td>\n",
       "    </tr>\n",
       "  </tbody>\n",
       "</table>\n",
       "<p>2016 rows × 1 columns</p>\n",
       "</div>"
      ],
      "text/plain": [
       "                     glucose\n",
       "ts                          \n",
       "2021-08-31 00:00:00     99.0\n",
       "2021-08-31 00:05:00     99.0\n",
       "2021-08-31 00:10:00     98.0\n",
       "2021-08-31 00:15:00     99.0\n",
       "2021-08-31 00:20:00    100.0\n",
       "...                      ...\n",
       "2021-09-06 23:35:00    143.0\n",
       "2021-09-06 23:40:00    142.0\n",
       "2021-09-06 23:45:00    140.0\n",
       "2021-09-06 23:50:00    138.0\n",
       "2021-09-06 23:55:00    136.0\n",
       "\n",
       "[2016 rows x 1 columns]"
      ]
     },
     "execution_count": 13,
     "metadata": {},
     "output_type": "execute_result"
    }
   ],
   "source": [
    "#Adding NA in the whole range of cgm-training\n",
    "cgmtrainmiss=glucose_train.resample('5T').mean()\n",
    "cgmtrainmiss.info()\n",
    "cgmoriginal=cgmtrainmiss\n",
    "dftso=cgmoriginal['2021-08-31 00:00:00':'2021-09-06 23:59:00']\n",
    "dftso"
   ]
  },
  {
   "cell_type": "code",
   "execution_count": 14,
   "id": "e2c432d9",
   "metadata": {},
   "outputs": [],
   "source": [
    "def impute_mean(df, column, by='hour'):\n",
    "  # impute with mean by hours\n",
    "  # in the future by could be another mean grouping criterion\n",
    "  df[by] = df.index.hour\n",
    "  df[column] = df.groupby(by)[column].apply(lambda x: x.fillna(x.mean()))\n",
    "  df.drop(by, axis=1, inplace=True)"
   ]
  },
  {
   "cell_type": "code",
   "execution_count": 15,
   "id": "52edd57e",
   "metadata": {},
   "outputs": [],
   "source": [
    "#def impute_mean(df, column,by=\"hour\"):\n",
    "# impute with mean by hours\n",
    "#df[by] = df.index.hour\n",
    "#df[by] = ['{}:{:02d}'.format(r.hour, (r.minute//10)*10) for r in df.index]\n",
    "#print(df)\n",
    "#df[column] = df.groupby(by)[column].apply(lambda x: x.fillna(x.aggregate(np.mean)))\n",
    "#df.drop(by, axis=1, inplace=True)\n",
    "#impute_mean(cgmtrainmiss, 'glucose')\n",
    "#cgmtrainclean=cgmtrainmiss\n",
    "#cgmtrainclean.describe()"
   ]
  },
  {
   "cell_type": "code",
   "execution_count": 16,
   "id": "381cd57f",
   "metadata": {},
   "outputs": [],
   "source": [
    "#def impute_meandw(df, column):\n",
    "#     df[column] = (df.groupby((df.index.dayofweek * 24) + (df.index.hour) + (df.index.minute //5)*5).transform(lambda x: x.fillna(x.mean())))\n",
    "#impute_meandw(cgmtrainmiss, 'glucose')\n",
    "#cgmtrainclean=cgmtrainmiss\n",
    "#cgmtrainclean.info()"
   ]
  },
  {
   "cell_type": "code",
   "execution_count": 17,
   "id": "03da8612",
   "metadata": {},
   "outputs": [],
   "source": [
    "cgmtrainclean= cgmtrainmiss.interpolate(method=\"polynomial\",order=3)\n",
    "#cgmtrainclean.describe()"
   ]
  },
  {
   "cell_type": "code",
   "execution_count": 18,
   "id": "3b7e2447",
   "metadata": {},
   "outputs": [],
   "source": [
    "#import rpy2\n",
    "#import rpy2.rinterface\n",
    "#%load_ext rpy2.ipython\n",
    "#import rpy2.robjects as robjects\n",
    "#3from rpy2.robjects.packages import importr\n",
    "#splines = importr('splines') \n",
    "#x_train=np.arange(len(cgmtrainclean))\n",
    "#y_train=cgmtrainclean['glucose']\n",
    "#r_y = robjects.FloatVector(y_train)\n",
    "#r_x = robjects.FloatVector(x_train)\n",
    "#r_smooth_spline = robjects.r['smooth.spline'] #extract R function# run smoothing function\n",
    "#spline1 = r_smooth_spline(x=r_x,y=r_y, spar=.1)\n",
    "#ySpline=np.array(robjects.r['predict'](spline1,robjects.FloatVector(x_train)).rx2('y'))\n",
    "#print(ySpline)\n",
    "#plt.figure(figsize=(12,6))\n",
    "#plt.scatter(x_train,y_train,c=\"blue\")\n",
    "#plt.plot(x_train,ySpline,c='red')"
   ]
  },
  {
   "cell_type": "code",
   "execution_count": 19,
   "id": "238fcba0",
   "metadata": {},
   "outputs": [
    {
     "data": {
      "text/html": [
       "<div>\n",
       "<style scoped>\n",
       "    .dataframe tbody tr th:only-of-type {\n",
       "        vertical-align: middle;\n",
       "    }\n",
       "\n",
       "    .dataframe tbody tr th {\n",
       "        vertical-align: top;\n",
       "    }\n",
       "\n",
       "    .dataframe thead th {\n",
       "        text-align: right;\n",
       "    }\n",
       "</style>\n",
       "<table border=\"1\" class=\"dataframe\">\n",
       "  <thead>\n",
       "    <tr style=\"text-align: right;\">\n",
       "      <th></th>\n",
       "      <th>glucose</th>\n",
       "    </tr>\n",
       "  </thead>\n",
       "  <tbody>\n",
       "    <tr>\n",
       "      <th>count</th>\n",
       "      <td>13106.000000</td>\n",
       "    </tr>\n",
       "    <tr>\n",
       "      <th>mean</th>\n",
       "      <td>153.513786</td>\n",
       "    </tr>\n",
       "    <tr>\n",
       "      <th>std</th>\n",
       "      <td>129.439439</td>\n",
       "    </tr>\n",
       "    <tr>\n",
       "      <th>min</th>\n",
       "      <td>-1524.727286</td>\n",
       "    </tr>\n",
       "    <tr>\n",
       "      <th>25%</th>\n",
       "      <td>127.000000</td>\n",
       "    </tr>\n",
       "    <tr>\n",
       "      <th>50%</th>\n",
       "      <td>159.000000</td>\n",
       "    </tr>\n",
       "    <tr>\n",
       "      <th>75%</th>\n",
       "      <td>199.000000</td>\n",
       "    </tr>\n",
       "    <tr>\n",
       "      <th>max</th>\n",
       "      <td>400.000000</td>\n",
       "    </tr>\n",
       "  </tbody>\n",
       "</table>\n",
       "</div>"
      ],
      "text/plain": [
       "            glucose\n",
       "count  13106.000000\n",
       "mean     153.513786\n",
       "std      129.439439\n",
       "min    -1524.727286\n",
       "25%      127.000000\n",
       "50%      159.000000\n",
       "75%      199.000000\n",
       "max      400.000000"
      ]
     },
     "execution_count": 19,
     "metadata": {},
     "output_type": "execute_result"
    }
   ],
   "source": [
    "#Imputation using Kalman smoothing and spline smoothing\n",
    "from tsmoothie.smoother import *\n",
    "from tsmoothie.utils_func import create_windows\n",
    "#smoother1 = SplineSmoother(n_knots=1500,spline_type='cubic_spline')\n",
    "#smoother1.smooth(cgmtrainclean[['glucose']].T)\n",
    "#smoother1 = KalmanSmoother(component='level_season', \n",
    "#component_noise={'level':0.1, 'season':0.1},n_seasons=7)\n",
    "#smoother1.smooth(cgmtrainmiss[['glucose']].T)\n",
    "#glucosekf=smoother1.smooth_data[0]\n",
    "#cgmtrainclean=cgmtrainmiss\n",
    "#cgmtrainclean['glucose']=glucosekf\n",
    "#cgmtrainclean['glucose']=ySpline\n",
    "cgmtrainclean.describe()"
   ]
  },
  {
   "cell_type": "code",
   "execution_count": 20,
   "id": "567bcf20",
   "metadata": {},
   "outputs": [],
   "source": [
    "#a=cgmtrainclean['glucose']-cgmtrainmiss['glucose']\n",
    "#a.describe()"
   ]
  },
  {
   "cell_type": "code",
   "execution_count": 21,
   "id": "98da894a",
   "metadata": {},
   "outputs": [
    {
     "data": {
      "text/html": [
       "<div>\n",
       "<style scoped>\n",
       "    .dataframe tbody tr th:only-of-type {\n",
       "        vertical-align: middle;\n",
       "    }\n",
       "\n",
       "    .dataframe tbody tr th {\n",
       "        vertical-align: top;\n",
       "    }\n",
       "\n",
       "    .dataframe thead th {\n",
       "        text-align: right;\n",
       "    }\n",
       "</style>\n",
       "<table border=\"1\" class=\"dataframe\">\n",
       "  <thead>\n",
       "    <tr style=\"text-align: right;\">\n",
       "      <th></th>\n",
       "      <th>glucose</th>\n",
       "    </tr>\n",
       "    <tr>\n",
       "      <th>ts</th>\n",
       "      <th></th>\n",
       "    </tr>\n",
       "  </thead>\n",
       "  <tbody>\n",
       "    <tr>\n",
       "      <th>2021-08-31 00:00:00</th>\n",
       "      <td>99.0</td>\n",
       "    </tr>\n",
       "    <tr>\n",
       "      <th>2021-08-31 00:05:00</th>\n",
       "      <td>99.0</td>\n",
       "    </tr>\n",
       "    <tr>\n",
       "      <th>2021-08-31 00:10:00</th>\n",
       "      <td>98.0</td>\n",
       "    </tr>\n",
       "    <tr>\n",
       "      <th>2021-08-31 00:15:00</th>\n",
       "      <td>99.0</td>\n",
       "    </tr>\n",
       "    <tr>\n",
       "      <th>2021-08-31 00:20:00</th>\n",
       "      <td>100.0</td>\n",
       "    </tr>\n",
       "    <tr>\n",
       "      <th>2021-08-31 00:25:00</th>\n",
       "      <td>101.0</td>\n",
       "    </tr>\n",
       "    <tr>\n",
       "      <th>2021-08-31 00:30:00</th>\n",
       "      <td>102.0</td>\n",
       "    </tr>\n",
       "    <tr>\n",
       "      <th>2021-08-31 00:35:00</th>\n",
       "      <td>102.0</td>\n",
       "    </tr>\n",
       "    <tr>\n",
       "      <th>2021-08-31 00:40:00</th>\n",
       "      <td>101.0</td>\n",
       "    </tr>\n",
       "    <tr>\n",
       "      <th>2021-08-31 00:45:00</th>\n",
       "      <td>100.0</td>\n",
       "    </tr>\n",
       "    <tr>\n",
       "      <th>2021-08-31 00:50:00</th>\n",
       "      <td>98.0</td>\n",
       "    </tr>\n",
       "    <tr>\n",
       "      <th>2021-08-31 00:55:00</th>\n",
       "      <td>96.0</td>\n",
       "    </tr>\n",
       "    <tr>\n",
       "      <th>2021-08-31 01:00:00</th>\n",
       "      <td>95.0</td>\n",
       "    </tr>\n",
       "    <tr>\n",
       "      <th>2021-08-31 01:05:00</th>\n",
       "      <td>95.0</td>\n",
       "    </tr>\n",
       "    <tr>\n",
       "      <th>2021-08-31 01:10:00</th>\n",
       "      <td>94.0</td>\n",
       "    </tr>\n",
       "    <tr>\n",
       "      <th>2021-08-31 01:15:00</th>\n",
       "      <td>95.0</td>\n",
       "    </tr>\n",
       "    <tr>\n",
       "      <th>2021-08-31 01:20:00</th>\n",
       "      <td>95.0</td>\n",
       "    </tr>\n",
       "    <tr>\n",
       "      <th>2021-08-31 01:25:00</th>\n",
       "      <td>96.0</td>\n",
       "    </tr>\n",
       "    <tr>\n",
       "      <th>2021-08-31 01:30:00</th>\n",
       "      <td>97.0</td>\n",
       "    </tr>\n",
       "    <tr>\n",
       "      <th>2021-08-31 01:35:00</th>\n",
       "      <td>98.0</td>\n",
       "    </tr>\n",
       "    <tr>\n",
       "      <th>2021-08-31 01:40:00</th>\n",
       "      <td>99.0</td>\n",
       "    </tr>\n",
       "    <tr>\n",
       "      <th>2021-08-31 01:45:00</th>\n",
       "      <td>101.0</td>\n",
       "    </tr>\n",
       "    <tr>\n",
       "      <th>2021-08-31 01:50:00</th>\n",
       "      <td>103.0</td>\n",
       "    </tr>\n",
       "    <tr>\n",
       "      <th>2021-08-31 01:55:00</th>\n",
       "      <td>104.0</td>\n",
       "    </tr>\n",
       "    <tr>\n",
       "      <th>2021-08-31 02:00:00</th>\n",
       "      <td>106.0</td>\n",
       "    </tr>\n",
       "    <tr>\n",
       "      <th>2021-08-31 02:05:00</th>\n",
       "      <td>107.0</td>\n",
       "    </tr>\n",
       "    <tr>\n",
       "      <th>2021-08-31 02:10:00</th>\n",
       "      <td>107.0</td>\n",
       "    </tr>\n",
       "    <tr>\n",
       "      <th>2021-08-31 02:15:00</th>\n",
       "      <td>107.0</td>\n",
       "    </tr>\n",
       "    <tr>\n",
       "      <th>2021-08-31 02:20:00</th>\n",
       "      <td>107.0</td>\n",
       "    </tr>\n",
       "    <tr>\n",
       "      <th>2021-08-31 02:25:00</th>\n",
       "      <td>108.0</td>\n",
       "    </tr>\n",
       "    <tr>\n",
       "      <th>2021-08-31 02:30:00</th>\n",
       "      <td>109.0</td>\n",
       "    </tr>\n",
       "    <tr>\n",
       "      <th>2021-08-31 02:35:00</th>\n",
       "      <td>110.0</td>\n",
       "    </tr>\n",
       "    <tr>\n",
       "      <th>2021-08-31 02:40:00</th>\n",
       "      <td>112.0</td>\n",
       "    </tr>\n",
       "    <tr>\n",
       "      <th>2021-08-31 02:45:00</th>\n",
       "      <td>116.0</td>\n",
       "    </tr>\n",
       "    <tr>\n",
       "      <th>2021-08-31 02:50:00</th>\n",
       "      <td>119.0</td>\n",
       "    </tr>\n",
       "    <tr>\n",
       "      <th>2021-08-31 02:55:00</th>\n",
       "      <td>120.0</td>\n",
       "    </tr>\n",
       "    <tr>\n",
       "      <th>2021-08-31 03:00:00</th>\n",
       "      <td>121.0</td>\n",
       "    </tr>\n",
       "    <tr>\n",
       "      <th>2021-08-31 03:05:00</th>\n",
       "      <td>122.0</td>\n",
       "    </tr>\n",
       "    <tr>\n",
       "      <th>2021-08-31 03:10:00</th>\n",
       "      <td>122.0</td>\n",
       "    </tr>\n",
       "    <tr>\n",
       "      <th>2021-08-31 03:15:00</th>\n",
       "      <td>124.0</td>\n",
       "    </tr>\n",
       "    <tr>\n",
       "      <th>2021-08-31 03:20:00</th>\n",
       "      <td>125.0</td>\n",
       "    </tr>\n",
       "    <tr>\n",
       "      <th>2021-08-31 03:25:00</th>\n",
       "      <td>125.0</td>\n",
       "    </tr>\n",
       "    <tr>\n",
       "      <th>2021-08-31 03:30:00</th>\n",
       "      <td>126.0</td>\n",
       "    </tr>\n",
       "    <tr>\n",
       "      <th>2021-08-31 03:35:00</th>\n",
       "      <td>127.0</td>\n",
       "    </tr>\n",
       "    <tr>\n",
       "      <th>2021-08-31 03:40:00</th>\n",
       "      <td>128.0</td>\n",
       "    </tr>\n",
       "    <tr>\n",
       "      <th>2021-08-31 03:45:00</th>\n",
       "      <td>128.0</td>\n",
       "    </tr>\n",
       "    <tr>\n",
       "      <th>2021-08-31 03:50:00</th>\n",
       "      <td>129.0</td>\n",
       "    </tr>\n",
       "    <tr>\n",
       "      <th>2021-08-31 03:55:00</th>\n",
       "      <td>128.0</td>\n",
       "    </tr>\n",
       "    <tr>\n",
       "      <th>2021-08-31 04:00:00</th>\n",
       "      <td>157.0</td>\n",
       "    </tr>\n",
       "    <tr>\n",
       "      <th>2021-08-31 04:05:00</th>\n",
       "      <td>157.0</td>\n",
       "    </tr>\n",
       "  </tbody>\n",
       "</table>\n",
       "</div>"
      ],
      "text/plain": [
       "                     glucose\n",
       "ts                          \n",
       "2021-08-31 00:00:00     99.0\n",
       "2021-08-31 00:05:00     99.0\n",
       "2021-08-31 00:10:00     98.0\n",
       "2021-08-31 00:15:00     99.0\n",
       "2021-08-31 00:20:00    100.0\n",
       "2021-08-31 00:25:00    101.0\n",
       "2021-08-31 00:30:00    102.0\n",
       "2021-08-31 00:35:00    102.0\n",
       "2021-08-31 00:40:00    101.0\n",
       "2021-08-31 00:45:00    100.0\n",
       "2021-08-31 00:50:00     98.0\n",
       "2021-08-31 00:55:00     96.0\n",
       "2021-08-31 01:00:00     95.0\n",
       "2021-08-31 01:05:00     95.0\n",
       "2021-08-31 01:10:00     94.0\n",
       "2021-08-31 01:15:00     95.0\n",
       "2021-08-31 01:20:00     95.0\n",
       "2021-08-31 01:25:00     96.0\n",
       "2021-08-31 01:30:00     97.0\n",
       "2021-08-31 01:35:00     98.0\n",
       "2021-08-31 01:40:00     99.0\n",
       "2021-08-31 01:45:00    101.0\n",
       "2021-08-31 01:50:00    103.0\n",
       "2021-08-31 01:55:00    104.0\n",
       "2021-08-31 02:00:00    106.0\n",
       "2021-08-31 02:05:00    107.0\n",
       "2021-08-31 02:10:00    107.0\n",
       "2021-08-31 02:15:00    107.0\n",
       "2021-08-31 02:20:00    107.0\n",
       "2021-08-31 02:25:00    108.0\n",
       "2021-08-31 02:30:00    109.0\n",
       "2021-08-31 02:35:00    110.0\n",
       "2021-08-31 02:40:00    112.0\n",
       "2021-08-31 02:45:00    116.0\n",
       "2021-08-31 02:50:00    119.0\n",
       "2021-08-31 02:55:00    120.0\n",
       "2021-08-31 03:00:00    121.0\n",
       "2021-08-31 03:05:00    122.0\n",
       "2021-08-31 03:10:00    122.0\n",
       "2021-08-31 03:15:00    124.0\n",
       "2021-08-31 03:20:00    125.0\n",
       "2021-08-31 03:25:00    125.0\n",
       "2021-08-31 03:30:00    126.0\n",
       "2021-08-31 03:35:00    127.0\n",
       "2021-08-31 03:40:00    128.0\n",
       "2021-08-31 03:45:00    128.0\n",
       "2021-08-31 03:50:00    129.0\n",
       "2021-08-31 03:55:00    128.0\n",
       "2021-08-31 04:00:00    157.0\n",
       "2021-08-31 04:05:00    157.0"
      ]
     },
     "execution_count": 21,
     "metadata": {},
     "output_type": "execute_result"
    }
   ],
   "source": [
    "dftsw=cgmtrainclean['2021-08-31 00:00:00':'2021-09-06 23:59:00']\n",
    "dftsw.head(50)"
   ]
  },
  {
   "cell_type": "code",
   "execution_count": 22,
   "id": "bb61aaff",
   "metadata": {},
   "outputs": [
    {
     "data": {
      "text/plain": [
       "<matplotlib.legend.Legend at 0x27939431370>"
      ]
     },
     "execution_count": 22,
     "metadata": {},
     "output_type": "execute_result"
    },
    {
     "data": {
      "image/png": "[encoded data removed]",
      "text/plain": [
       "<Figure size 864x432 with 1 Axes>"
      ]
     },
     "metadata": {
      "needs_background": "light"
     },
     "output_type": "display_data"
    }
   ],
   "source": [
    "plt.figure(figsize=(12,6))\n",
    "plt.scatter(dftso.index,dftso['glucose'],c='red', label='glucose', alpha=0.3)\n",
    "plt.plot(dftso.index,dftsw['glucose'],c='blue',label='Polynomial Interpolation')\n",
    "plt.legend()"
   ]
  },
  {
   "cell_type": "markdown",
   "id": "2d3ea0a2",
   "metadata": {},
   "source": [
    "## Reading the testing data"
   ]
  },
  {
   "cell_type": "code",
   "execution_count": 23,
   "id": "055c573a",
   "metadata": {},
   "outputs": [],
   "source": [
    "#selected_items = ['glucose_level','bolus','meal']\n",
    "read_xml_data(filename='c://aadm/563-ws-testing.xml', selected_items=['glucose_level','bolus','meal'])"
   ]
  },
  {
   "cell_type": "code",
   "execution_count": 24,
   "id": "50bbcb15",
   "metadata": {},
   "outputs": [
    {
     "data": {
      "text/html": [
       "<div>\n",
       "<style scoped>\n",
       "    .dataframe tbody tr th:only-of-type {\n",
       "        vertical-align: middle;\n",
       "    }\n",
       "\n",
       "    .dataframe tbody tr th {\n",
       "        vertical-align: top;\n",
       "    }\n",
       "\n",
       "    .dataframe thead th {\n",
       "        text-align: right;\n",
       "    }\n",
       "</style>\n",
       "<table border=\"1\" class=\"dataframe\">\n",
       "  <thead>\n",
       "    <tr style=\"text-align: right;\">\n",
       "      <th></th>\n",
       "      <th>glucose</th>\n",
       "    </tr>\n",
       "  </thead>\n",
       "  <tbody>\n",
       "    <tr>\n",
       "      <th>count</th>\n",
       "      <td>2570.000000</td>\n",
       "    </tr>\n",
       "    <tr>\n",
       "      <th>mean</th>\n",
       "      <td>167.372374</td>\n",
       "    </tr>\n",
       "    <tr>\n",
       "      <th>std</th>\n",
       "      <td>46.138496</td>\n",
       "    </tr>\n",
       "    <tr>\n",
       "      <th>min</th>\n",
       "      <td>62.000000</td>\n",
       "    </tr>\n",
       "    <tr>\n",
       "      <th>25%</th>\n",
       "      <td>134.000000</td>\n",
       "    </tr>\n",
       "    <tr>\n",
       "      <th>50%</th>\n",
       "      <td>167.000000</td>\n",
       "    </tr>\n",
       "    <tr>\n",
       "      <th>75%</th>\n",
       "      <td>195.000000</td>\n",
       "    </tr>\n",
       "    <tr>\n",
       "      <th>max</th>\n",
       "      <td>313.000000</td>\n",
       "    </tr>\n",
       "  </tbody>\n",
       "</table>\n",
       "</div>"
      ],
      "text/plain": [
       "           glucose\n",
       "count  2570.000000\n",
       "mean    167.372374\n",
       "std      46.138496\n",
       "min      62.000000\n",
       "25%     134.000000\n",
       "50%     167.000000\n",
       "75%     195.000000\n",
       "max     313.000000"
      ]
     },
     "execution_count": 24,
     "metadata": {},
     "output_type": "execute_result"
    }
   ],
   "source": [
    "glucose_test = read_ts_file('glucose_level.csv')\n",
    "glucose_test.rename(columns={\"ts\": \"timestamp\", \"value\": \"glucose\"}, inplace=True)\n",
    "glucose_test.describe()"
   ]
  },
  {
   "cell_type": "code",
   "execution_count": 25,
   "id": "c3d07a6c",
   "metadata": {},
   "outputs": [
    {
     "name": "stdout",
     "output_type": "stream",
     "text": [
      "Missing intervals:  122\n"
     ]
    }
   ],
   "source": [
    "#Finding the length of the complete time series\n",
    "time_df = timedf(glucose_test)\n",
    "print('Missing intervals: ', len(time_df) - len(glucose_test) )"
   ]
  },
  {
   "cell_type": "code",
   "execution_count": 26,
   "id": "1faee92c",
   "metadata": {},
   "outputs": [
    {
     "name": "stderr",
     "output_type": "stream",
     "text": [
      "C:\\Users\\eacun\\AppData\\Local\\Temp\\ipykernel_10216\\1628313578.py:14: FutureWarning: The frame.append method is deprecated and will be removed from pandas in a future version. Use pandas.concat instead.\n",
      "  gaps_df = gaps_df.append({'From': begin_gap, 'To': end_gap, 'Duration': duration}, ignore_index=True)\n",
      "C:\\Users\\eacun\\AppData\\Local\\Temp\\ipykernel_10216\\1628313578.py:14: FutureWarning: The frame.append method is deprecated and will be removed from pandas in a future version. Use pandas.concat instead.\n",
      "  gaps_df = gaps_df.append({'From': begin_gap, 'To': end_gap, 'Duration': duration}, ignore_index=True)\n",
      "C:\\Users\\eacun\\AppData\\Local\\Temp\\ipykernel_10216\\1628313578.py:14: FutureWarning: The frame.append method is deprecated and will be removed from pandas in a future version. Use pandas.concat instead.\n",
      "  gaps_df = gaps_df.append({'From': begin_gap, 'To': end_gap, 'Duration': duration}, ignore_index=True)\n"
     ]
    }
   ],
   "source": [
    "# All gaps \n",
    "gaps_df = find_gaps(glucose_test)\n",
    "#print(gaps_df)"
   ]
  },
  {
   "cell_type": "code",
   "execution_count": 27,
   "id": "66880ab3",
   "metadata": {},
   "outputs": [],
   "source": [
    "#Adding NA in the whole range of cgm-testing\n",
    "cgmtestmiss=glucose_test.resample('5T').mean()\n",
    "#cgmtestmiss.describe()"
   ]
  },
  {
   "cell_type": "code",
   "execution_count": 28,
   "id": "9669bad5",
   "metadata": {},
   "outputs": [
    {
     "data": {
      "text/html": [
       "<div>\n",
       "<style scoped>\n",
       "    .dataframe tbody tr th:only-of-type {\n",
       "        vertical-align: middle;\n",
       "    }\n",
       "\n",
       "    .dataframe tbody tr th {\n",
       "        vertical-align: top;\n",
       "    }\n",
       "\n",
       "    .dataframe thead th {\n",
       "        text-align: right;\n",
       "    }\n",
       "</style>\n",
       "<table border=\"1\" class=\"dataframe\">\n",
       "  <thead>\n",
       "    <tr style=\"text-align: right;\">\n",
       "      <th></th>\n",
       "      <th>glucose</th>\n",
       "    </tr>\n",
       "  </thead>\n",
       "  <tbody>\n",
       "    <tr>\n",
       "      <th>count</th>\n",
       "      <td>2691.000000</td>\n",
       "    </tr>\n",
       "    <tr>\n",
       "      <th>mean</th>\n",
       "      <td>167.346194</td>\n",
       "    </tr>\n",
       "    <tr>\n",
       "      <th>std</th>\n",
       "      <td>45.125898</td>\n",
       "    </tr>\n",
       "    <tr>\n",
       "      <th>min</th>\n",
       "      <td>62.000000</td>\n",
       "    </tr>\n",
       "    <tr>\n",
       "      <th>25%</th>\n",
       "      <td>136.000000</td>\n",
       "    </tr>\n",
       "    <tr>\n",
       "      <th>50%</th>\n",
       "      <td>166.000000</td>\n",
       "    </tr>\n",
       "    <tr>\n",
       "      <th>75%</th>\n",
       "      <td>194.000000</td>\n",
       "    </tr>\n",
       "    <tr>\n",
       "      <th>max</th>\n",
       "      <td>313.000000</td>\n",
       "    </tr>\n",
       "  </tbody>\n",
       "</table>\n",
       "</div>"
      ],
      "text/plain": [
       "           glucose\n",
       "count  2691.000000\n",
       "mean    167.346194\n",
       "std      45.125898\n",
       "min      62.000000\n",
       "25%     136.000000\n",
       "50%     166.000000\n",
       "75%     194.000000\n",
       "max     313.000000"
      ]
     },
     "execution_count": 28,
     "metadata": {},
     "output_type": "execute_result"
    }
   ],
   "source": [
    "impute_mean(cgmtestmiss, 'glucose')\n",
    "cgmtestclean=cgmtestmiss\n",
    "cgmtestclean.describe()"
   ]
  },
  {
   "cell_type": "code",
   "execution_count": 29,
   "id": "c5bd3c98",
   "metadata": {},
   "outputs": [],
   "source": [
    "#cgmtestclean= cgmtestmiss.interpolate(method=\"quadratic\")\n",
    "#cgmtestclean.describe()"
   ]
  },
  {
   "cell_type": "code",
   "execution_count": 30,
   "id": "5cdf456d",
   "metadata": {},
   "outputs": [
    {
     "name": "stderr",
     "output_type": "stream",
     "text": [
      "Unable to determine R home: [WinError 2] The system cannot find the file specified\n",
      "C:\\Users\\eacun\\anaconda3\\lib\\site-packages\\rpy2\\robjects\\packages.py:367: UserWarning: The symbol 'quartz' is not in this R namespace/package.\n",
      "  warnings.warn(\n"
     ]
    },
    {
     "data": {
      "text/plain": [
       "[<matplotlib.lines.Line2D at 0x2793e0ff7c0>]"
      ]
     },
     "execution_count": 30,
     "metadata": {},
     "output_type": "execute_result"
    },
    {
     "data": {
      "image/png": "[encoded data removed]",
      "text/plain": [
       "<Figure size 864x432 with 1 Axes>"
      ]
     },
     "metadata": {
      "needs_background": "light"
     },
     "output_type": "display_data"
    }
   ],
   "source": [
    "import rpy2\n",
    "import rpy2.rinterface\n",
    "%load_ext rpy2.ipython\n",
    "import rpy2.robjects as robjects\n",
    "from rpy2.robjects.packages import importr\n",
    "splines = importr('splines') \n",
    "x_train=np.arange(len(cgmtestclean))\n",
    "y_train=cgmtestclean['glucose']\n",
    "r_y = robjects.FloatVector(y_train)\n",
    "r_x = robjects.FloatVector(x_train)\n",
    "r_smooth_spline = robjects.r['smooth.spline'] #extract R function# run smoothing function\n",
    "spline1 = r_smooth_spline(x=r_x,y=r_y, spar= .1)\n",
    "ySpline=np.array(robjects.r['predict'](spline1,robjects.FloatVector(x_train)).rx2('y'))\n",
    "#print(ySpline)\n",
    "plt.figure(figsize=(12,6))\n",
    "plt.scatter(x_train,y_train,c=\"blue\")\n",
    "plt.plot(x_train,ySpline,c='red')"
   ]
  },
  {
   "cell_type": "code",
   "execution_count": 31,
   "id": "531ae608",
   "metadata": {},
   "outputs": [
    {
     "data": {
      "text/html": [
       "<div>\n",
       "<style scoped>\n",
       "    .dataframe tbody tr th:only-of-type {\n",
       "        vertical-align: middle;\n",
       "    }\n",
       "\n",
       "    .dataframe tbody tr th {\n",
       "        vertical-align: top;\n",
       "    }\n",
       "\n",
       "    .dataframe thead th {\n",
       "        text-align: right;\n",
       "    }\n",
       "</style>\n",
       "<table border=\"1\" class=\"dataframe\">\n",
       "  <thead>\n",
       "    <tr style=\"text-align: right;\">\n",
       "      <th></th>\n",
       "      <th>glucose</th>\n",
       "    </tr>\n",
       "  </thead>\n",
       "  <tbody>\n",
       "    <tr>\n",
       "      <th>count</th>\n",
       "      <td>2691.000000</td>\n",
       "    </tr>\n",
       "    <tr>\n",
       "      <th>mean</th>\n",
       "      <td>167.346194</td>\n",
       "    </tr>\n",
       "    <tr>\n",
       "      <th>std</th>\n",
       "      <td>43.962888</td>\n",
       "    </tr>\n",
       "    <tr>\n",
       "      <th>min</th>\n",
       "      <td>62.069281</td>\n",
       "    </tr>\n",
       "    <tr>\n",
       "      <th>25%</th>\n",
       "      <td>137.090382</td>\n",
       "    </tr>\n",
       "    <tr>\n",
       "      <th>50%</th>\n",
       "      <td>166.383143</td>\n",
       "    </tr>\n",
       "    <tr>\n",
       "      <th>75%</th>\n",
       "      <td>193.721314</td>\n",
       "    </tr>\n",
       "    <tr>\n",
       "      <th>max</th>\n",
       "      <td>305.037669</td>\n",
       "    </tr>\n",
       "  </tbody>\n",
       "</table>\n",
       "</div>"
      ],
      "text/plain": [
       "           glucose\n",
       "count  2691.000000\n",
       "mean    167.346194\n",
       "std      43.962888\n",
       "min      62.069281\n",
       "25%     137.090382\n",
       "50%     166.383143\n",
       "75%     193.721314\n",
       "max     305.037669"
      ]
     },
     "execution_count": 31,
     "metadata": {},
     "output_type": "execute_result"
    }
   ],
   "source": [
    "#Imputation using Kalman smoothing or smoothing spline\n",
    "#Imputation using Kalman Filter\n",
    "from tsmoothie.smoother import *\n",
    "from tsmoothie.utils_func import create_windows\n",
    "#smoother1 = SplineSmoother(n_knots=1500, spline_type='cubic_spline')\n",
    "#smoother1.smooth(cgmtestclean[['glucose']].T)\n",
    "#smoother = KalmanSmoother(component='level_season', \n",
    "#                          component_noise={'level':0.1, 'season':0.1},n_seasons=7)\n",
    "#smoother.smooth(cgmtrainmiss[['glucose']].T)\n",
    "#glucosekf=smoother1.smooth_data[0]\n",
    "#cgmtestclean=cgmtestnmiss\n",
    "#cgmtestclean['glucose']=glucosekf\n",
    "#smoother1.smooth_data[0].mean()\n",
    "#smoother1 = SplineSmoother(n_knots=400, spline_type='linear_spline')\n",
    "#smoother1.smooth(cgmtestclean[['glucose']].T)\n",
    "#smoother.smooth(cgmtrainmiss[['glucose']].T)\n",
    "#glucosekf=smoother.smooth_data[0]\n",
    "#cgmtrainclean=cgmtrainmiss\n",
    "#cgmtrainclean['glucose']=glucosekf\n",
    "cgmtestclean['glucose']=ySpline\n",
    "cgmtestclean.describe()"
   ]
  },
  {
   "cell_type": "code",
   "execution_count": 32,
   "id": "b77cc2ad",
   "metadata": {},
   "outputs": [],
   "source": [
    "#Normalizing the data\n",
    "from sklearn.preprocessing import MinMaxScaler\n",
    "from sklearn.metrics import mean_squared_error\n",
    "datatrain = np.array(cgmtrainclean.values.astype('float32'))\n",
    "datatest = np.array(cgmtestclean.values.astype('float32'))\n",
    "#scaler = MinMaxScaler(feature_range=(0, 1))\n",
    "#datatrain = scaler.fit_transform(datatrain).flatten()\n",
    "#datatest = scaler.fit_transform(datatest).flatten()\n",
    "#n = len(data)\n",
    "train_data=pd.DataFrame(datatrain)\n",
    "test_data=pd.DataFrame(datatest)"
   ]
  },
  {
   "cell_type": "code",
   "execution_count": 33,
   "id": "52269f08",
   "metadata": {},
   "outputs": [
    {
     "name": "stdout",
     "output_type": "stream",
     "text": [
      "(13106, 1)\n",
      "(2691, 1)\n"
     ]
    }
   ],
   "source": [
    "print(train_data.shape)\n",
    "print(test_data.shape)"
   ]
  },
  {
   "cell_type": "code",
   "execution_count": 34,
   "id": "22c9fd15",
   "metadata": {},
   "outputs": [],
   "source": [
    "# convert time series into supervised learning problem\n",
    "def series_to_supervised(data, n_in=1, n_out=1, dropnan=True):\n",
    "    n_vars=1 if type(data) is list else data.shape[1]\n",
    "    df = pd.DataFrame(data)\n",
    "    cols, names = list(), list()\n",
    "    # input sequence (t-n, ... t-1)\n",
    "    for i in range(n_in, 0, -1):\n",
    "        cols.append(df.shift(i))\n",
    "        names += [('var%d(t-%d)' % (j+1, i)) for j in range(n_vars)]\n",
    "    # forecast sequence (t, t+1, ... t+n)\n",
    "    for i in range(0, n_out):\n",
    "        cols.append(df.shift(-i))\n",
    "        if i == 0:\n",
    "            names += [('var%d(t)' % (j+1)) for j in range(n_vars)]\n",
    "        else:\n",
    "            names += [('var%d(t+%d)' % (j+1, i)) for j in range(n_vars)]\n",
    "    # put it all together\n",
    "    agg = pd.concat(cols, axis=1)\n",
    "    agg.columns = names\n",
    "    # drop rows with NaN values\n",
    "    if dropnan:\n",
    "        agg.dropna(inplace=True)\n",
    "    return agg"
   ]
  },
  {
   "cell_type": "code",
   "execution_count": 35,
   "id": "b736bc50",
   "metadata": {},
   "outputs": [],
   "source": [
    "#Past history: One hour, Prediction horizon: 30 minutes \n",
    "n_lag=12\n",
    "n_seq=6"
   ]
  },
  {
   "cell_type": "code",
   "execution_count": 36,
   "id": "8e129e11",
   "metadata": {},
   "outputs": [
    {
     "name": "stdout",
     "output_type": "stream",
     "text": [
      "test shape: (2674, 18)\n",
      "train shape: (13089, 18)\n"
     ]
    }
   ],
   "source": [
    "data1=series_to_supervised(train_data, n_in=n_lag, n_out=n_seq, dropnan=True)\n",
    "data2=series_to_supervised(test_data, n_in=n_lag, n_out=n_seq, dropnan=True)\n",
    "train=data1.values\n",
    "test=data2.values\n",
    "#print(data1.shape)\n",
    "print(\"test shape:\",test.shape)\n",
    "print(\"train shape:\",train.shape)"
   ]
  },
  {
   "cell_type": "code",
   "execution_count": 37,
   "id": "a98f12c5",
   "metadata": {},
   "outputs": [
    {
     "name": "stdout",
     "output_type": "stream",
     "text": [
      "(13089, 6)\n"
     ]
    },
    {
     "data": {
      "text/html": [
       "<div>\n",
       "<style scoped>\n",
       "    .dataframe tbody tr th:only-of-type {\n",
       "        vertical-align: middle;\n",
       "    }\n",
       "\n",
       "    .dataframe tbody tr th {\n",
       "        vertical-align: top;\n",
       "    }\n",
       "\n",
       "    .dataframe thead th {\n",
       "        text-align: right;\n",
       "    }\n",
       "</style>\n",
       "<table border=\"1\" class=\"dataframe\">\n",
       "  <thead>\n",
       "    <tr style=\"text-align: right;\">\n",
       "      <th></th>\n",
       "      <th>0</th>\n",
       "      <th>1</th>\n",
       "      <th>2</th>\n",
       "      <th>3</th>\n",
       "      <th>4</th>\n",
       "      <th>5</th>\n",
       "    </tr>\n",
       "  </thead>\n",
       "  <tbody>\n",
       "    <tr>\n",
       "      <th>0</th>\n",
       "      <td>0.203796</td>\n",
       "      <td>-0.955826</td>\n",
       "      <td>-1.076965</td>\n",
       "      <td>-0.891434</td>\n",
       "      <td>0.419540</td>\n",
       "      <td>-0.844315</td>\n",
       "    </tr>\n",
       "    <tr>\n",
       "      <th>1</th>\n",
       "      <td>-0.271912</td>\n",
       "      <td>-0.409317</td>\n",
       "      <td>-1.219925</td>\n",
       "      <td>-0.177704</td>\n",
       "      <td>0.001785</td>\n",
       "      <td>-1.494980</td>\n",
       "    </tr>\n",
       "    <tr>\n",
       "      <th>2</th>\n",
       "      <td>0.145798</td>\n",
       "      <td>-0.325333</td>\n",
       "      <td>-0.506363</td>\n",
       "      <td>0.322510</td>\n",
       "      <td>-0.198013</td>\n",
       "      <td>-0.708939</td>\n",
       "    </tr>\n",
       "    <tr>\n",
       "      <th>3</th>\n",
       "      <td>0.180847</td>\n",
       "      <td>0.302536</td>\n",
       "      <td>-0.112900</td>\n",
       "      <td>-0.234650</td>\n",
       "      <td>-0.658661</td>\n",
       "      <td>0.838821</td>\n",
       "    </tr>\n",
       "    <tr>\n",
       "      <th>4</th>\n",
       "      <td>-0.158081</td>\n",
       "      <td>-0.476868</td>\n",
       "      <td>-0.143433</td>\n",
       "      <td>-0.648468</td>\n",
       "      <td>-0.659546</td>\n",
       "      <td>-1.757111</td>\n",
       "    </tr>\n",
       "  </tbody>\n",
       "</table>\n",
       "</div>"
      ],
      "text/plain": [
       "          0         1         2         3         4         5\n",
       "0  0.203796 -0.955826 -1.076965 -0.891434  0.419540 -0.844315\n",
       "1 -0.271912 -0.409317 -1.219925 -0.177704  0.001785 -1.494980\n",
       "2  0.145798 -0.325333 -0.506363  0.322510 -0.198013 -0.708939\n",
       "3  0.180847  0.302536 -0.112900 -0.234650 -0.658661  0.838821\n",
       "4 -0.158081 -0.476868 -0.143433 -0.648468 -0.659546 -1.757111"
      ]
     },
     "execution_count": 37,
     "metadata": {},
     "output_type": "execute_result"
    }
   ],
   "source": [
    "# transform list into array\n",
    "#train = asarray(train)\n",
    "# split into input and output columns\n",
    "X, y = train[:, 0:n_lag], train[:, n_lag:]\n",
    "print(y.shape)\n",
    "# fit model\n",
    "import time\n",
    "start_time = time.time()\n",
    "#model = XGBRegressor(objective='reg:squarederror', n_estimators=1000)\n",
    "multioutputregressor = MultiOutputRegressor(xgb.XGBRegressor(objective='reg:squarederror',n_estimators=1000)).fit(X, y)\n",
    "# predicting\n",
    "a=multioutputregressor.predict(X)-y\n",
    "a=DataFrame(a)\n",
    "a.head()"
   ]
  },
  {
   "cell_type": "code",
   "execution_count": 38,
   "id": "fbc4be77",
   "metadata": {},
   "outputs": [],
   "source": [
    "testX, testy = test[:,0:n_lag], test[:, n_lag:]"
   ]
  },
  {
   "cell_type": "code",
   "execution_count": 39,
   "id": "6f15fcbc",
   "metadata": {},
   "outputs": [
    {
     "data": {
      "text/plain": [
       "0    7.156105\n",
       "dtype: float32"
      ]
     },
     "execution_count": 39,
     "metadata": {},
     "output_type": "execute_result"
    }
   ],
   "source": [
    "b = np.sqrt(np.mean((multioutputregressor.predict(testX)-testy)**2,axis=0))\n",
    "from math import sqrt\n",
    "b=DataFrame(b)\n",
    "#b.head()\n",
    "b.mean()"
   ]
  },
  {
   "cell_type": "code",
   "execution_count": 40,
   "id": "3655aa09",
   "metadata": {},
   "outputs": [
    {
     "name": "stdout",
     "output_type": "stream",
     "text": [
      "--- 28.47899293899536 seconds ---\n"
     ]
    }
   ],
   "source": [
    "print(\"--- %s seconds ---\" % (time.time() - start_time))"
   ]
  },
  {
   "cell_type": "code",
   "execution_count": null,
   "id": "f138ad14",
   "metadata": {},
   "outputs": [],
   "source": []
  }
 ],
 "metadata": {
  "kernelspec": {
   "display_name": "Python 3 (ipykernel)",
   "language": "python",
   "name": "python3"
  },
  "language_info": {
   "codemirror_mode": {
    "name": "ipython",
    "version": 3
   },
   "file_extension": ".py",
   "mimetype": "text/x-python",
   "name": "python",
   "nbconvert_exporter": "python",
   "pygments_lexer": "ipython3",
   "version": "3.9.12"
  }
 },
 "nbformat": 4,
 "nbformat_minor": 5
}
