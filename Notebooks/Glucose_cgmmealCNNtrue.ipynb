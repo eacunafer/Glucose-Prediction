{
 "cells": [
  {
   "cell_type": "markdown",
   "metadata": {},
   "source": [
    "### Script for processing Glucose multivariate data"
   ]
  },
  {
   "cell_type": "code",
   "execution_count": 1,
   "metadata": {
    "id": "huJVvpnX0fem"
   },
   "outputs": [],
   "source": [
    "import pandas as pd\n",
    "import numpy as np\n",
    "import xml.etree.cElementTree as et\n",
    "from datetime import datetime\n",
    "from pandas.core.tools.datetimes import to_datetime\n",
    "from datetime import timedelta"
   ]
  },
  {
   "cell_type": "markdown",
   "metadata": {},
   "source": [
    "### Function to read the xml formatted datafile"
   ]
  },
  {
   "cell_type": "code",
   "execution_count": 2,
   "metadata": {},
   "outputs": [],
   "source": [
    "def read_xml_data(filename, selected_items):\n",
    "  tree=et.parse(filename)\n",
    "  root=tree.getroot()\n",
    "  #extract selected items\n",
    "  for child in root:\n",
    "    if child.tag in selected_items:\n",
    "      df = pd.DataFrame()\n",
    "      for elem in child:      \n",
    "        df1 = pd.DataFrame(elem.attrib, index=[0])\n",
    "        #df = df.append(df1)\n",
    "        df = pd.concat([df, df1])\n",
    "      #First column is the timestamp (dayfirst)      \n",
    "      #df.iloc[:,0] = pd.to_datetime(df.iloc[:,0], dayfirst=True)\n",
    "      #write to csv file using the timestamp as index      \n",
    "      df.to_csv(child.tag+'.csv', index=0)  "
   ]
  },
  {
   "cell_type": "code",
   "execution_count": 3,
   "metadata": {
    "id": "vvMV4uhscPRn"
   },
   "outputs": [],
   "source": [
    "def read_ts_file(filename):\n",
    "  #reads csv file where the first column is a timestamp and the index column\n",
    "  df = pd.read_csv (filename, parse_dates=[0], dayfirst=True, index_col=0)\n",
    "  return df"
   ]
  },
  {
   "cell_type": "markdown",
   "metadata": {},
   "source": [
    "### Function for  alignment of two time series "
   ]
  },
  {
   "cell_type": "code",
   "execution_count": 4,
   "metadata": {
    "id": "oBTcc1bReOUI"
   },
   "outputs": [],
   "source": [
    "def align_timeseries(align_df, source_df, source_columns, default_vals, dest_columns=[], include_index=False):\n",
    "  # Generates a new dataframe with source_df data aligned to align_df\n",
    "  # source_columns : list of columns from source_df to be included in result\n",
    "  # dest_columns = column names of source_columns, if ommited column names will be the same as in source_df\n",
    "  #                if specified, the first column has to be the name of the index in the destination\n",
    "  # include_index: if source index must be included in the result\n",
    "  # default_vals = list of default values for source_columns\n",
    " \n",
    "  df_align = align_df.copy()\n",
    "  df_align = df_align.sort_index()\n",
    "  df2 = source_df.copy()\n",
    "  df2 = df2.sort_index()\n",
    "  df_dup = pd.DataFrame()\n",
    "  if (dest_columns==[]) : dest_columns = source_columns.copy()\n",
    "  if (len(dest_columns) == len(source_columns)) : dest_columns = ['source_ts'] + dest_columns # add column for index\n",
    "  #add blank cells in destination\n",
    "  df_align[dest_columns] = [np.nan] + default_vals\n",
    "  for i in range(len(df2)):\n",
    "      ts2 = df2.index[i]\n",
    "      ts1_loc = df_align.index.get_loc(ts2, method='nearest')\n",
    "      ts1 = df_align.index[ts1_loc]\n",
    "      vals = [ts2]+list(df2.loc[ts2, source_columns])\n",
    "      ts_old = df_align.loc[ts1, dest_columns[0]]\n",
    "      if not pd.isna(ts_old): #there are duplicates\n",
    "        if (abs(ts1.value-ts2.value) > abs(ts1.value-ts_old.value)): \n",
    "          #difference is greater, do not replace        \n",
    "          df_dup = df_dup.append(df_align.loc[ts1])\n",
    "          df_dup.loc[ts1, dest_columns] = vals\n",
    "        else: #replace\n",
    "          df_dup = df_dup.append(df_align.loc[ts1])\n",
    "          df_align.loc[ts1, dest_columns] = vals\n",
    "        continue\n",
    "      df_align.loc[ts1, dest_columns] = vals\n",
    "  \n",
    "  if not(include_index) : df_align = df_align.drop( columns = dest_columns[0])\n",
    "\n",
    "  return df_align, df_dup"
   ]
  },
  {
   "cell_type": "markdown",
   "metadata": {},
   "source": [
    "### Function to create an equally spaced 5 minutes time series"
   ]
  },
  {
   "cell_type": "code",
   "execution_count": 5,
   "metadata": {
    "id": "DgIsZtJOfC3Y"
   },
   "outputs": [],
   "source": [
    "def timedf(df):\n",
    "  #creates a 5 minute interval timeseries dataframe based in index of df\n",
    "  # df must have a timestamp index\n",
    "  #time_df: result dataframe with timestamp index\n",
    "  timestamp = pd.date_range(start=df.index[0], end=df.index[-1]  + timedelta(minutes=4), freq='5T')\n",
    "  time_df = pd.DataFrame({'timestamp':timestamp})\n",
    "  time_df.set_index('timestamp', inplace=True)\n",
    "  return time_df"
   ]
  },
  {
   "cell_type": "markdown",
   "metadata": {},
   "source": [
    "### Function to find out the number of gaps and theirs length  in a time series"
   ]
  },
  {
   "cell_type": "code",
   "execution_count": 6,
   "metadata": {
    "id": "7F6omJDLbpun"
   },
   "outputs": [],
   "source": [
    "def find_gaps(df, greaterthan=5, units='m'):\n",
    "  # find gaps relative to index, index must be a datetime field\n",
    "  # greaterthan is the number of time units to be considered a gap\n",
    "  # units 'm'=minutes, 'h'=hours\n",
    "  i = 0\n",
    "  gaps_df = pd.DataFrame()\n",
    "  while i < len(df) - 1:\n",
    "    ts = df.index[i]\n",
    "    next_ts = df.index[i+1]\n",
    "    duration = next_ts - ts\n",
    "    if duration > np.timedelta64(greaterthan, units): \n",
    "      begin_gap = ts\n",
    "      end_gap = next_ts\n",
    "      gaps_df = gaps_df.append({'From': begin_gap, 'To': end_gap, 'Duration': duration}, ignore_index=True)\n",
    "    i = i + 1\n",
    "  gaps_df.sort_values(by=['Duration'], ascending=False, inplace=True)\n",
    "  return gaps_df"
   ]
  },
  {
   "cell_type": "code",
   "execution_count": 7,
   "metadata": {
    "id": "AqWnu7sUcy0j"
   },
   "outputs": [],
   "source": [
    "#def read_files():\n",
    "#  #read glucose\n",
    "#  glucose_df = read_ts_file('glucose_level.csv')\n",
    "#  glucose_df.rename(columns={\"ts\": \"timestamp\", \"value\": \"glucose\"}, inplace=True)\n",
    "#  print(glucose_df)\n",
    "#read meal\n",
    "#  meal_df = read_ts_file('meal.csv')\n",
    "#  print(meal_df)\n",
    "#  #read bolus\n",
    "#  meal_df = read_ts_file('bolus.csv')\n",
    "# print(meal_df)"
   ]
  },
  {
   "cell_type": "markdown",
   "metadata": {},
   "source": [
    "### Function to impute by the mean"
   ]
  },
  {
   "cell_type": "code",
   "execution_count": 8,
   "metadata": {},
   "outputs": [],
   "source": [
    "def impute_mean(df, column, by='hour'):\n",
    "  # impute with mean by hours\n",
    "  # in the future by could be another mean grouping criterion\n",
    "  df[by] = df.index.hour\n",
    "  df[column] = df.groupby(by)[column].apply(lambda x: x.fillna(x.mean()))\n",
    "  df.drop(by, axis=1, inplace=True)"
   ]
  },
  {
   "cell_type": "markdown",
   "metadata": {},
   "source": [
    "### Function to convert time series into supervised learning problem"
   ]
  },
  {
   "cell_type": "code",
   "execution_count": 9,
   "metadata": {},
   "outputs": [],
   "source": [
    "# convert time series into supervised learning problem\n",
    "def series_to_supervised(data, n_in=1, n_out=1, dropnan=True):\n",
    "    n_vars=1 if type(data) is list else data.shape[1]\n",
    "    df = pd.DataFrame(data)\n",
    "    cols, names = list(), list()\n",
    "    # input sequence (t-n, ... t-1)\n",
    "    for i in range(n_in, 0, -1):\n",
    "        cols.append(df.shift(i))\n",
    "        names += [('var%d(t-%d)' % (j+1, i)) for j in range(n_vars)]\n",
    "    # forecast sequence (t, t+1, ... t+n)\n",
    "    for i in range(0, n_out):\n",
    "        cols.append(df.shift(-i))\n",
    "        if i == 0:\n",
    "            names += [('var%d(t)' % (j+1)) for j in range(n_vars)]\n",
    "        else:\n",
    "            names += [('var%d(t+%d)' % (j+1, i)) for j in range(n_vars)]\n",
    "    # put it all together\n",
    "    agg = pd.concat(cols, axis=1)\n",
    "    agg.columns = names\n",
    "    # drop rows with NaN values\n",
    "    if dropnan:\n",
    "        agg.dropna(inplace=True)\n",
    "    return agg"
   ]
  },
  {
   "cell_type": "markdown",
   "metadata": {
    "id": "p6fGo4Bu6nic"
   },
   "source": [
    "## Reading  Training  Data"
   ]
  },
  {
   "cell_type": "code",
   "execution_count": 10,
   "metadata": {
    "id": "xnLzUPY70mNV"
   },
   "outputs": [],
   "source": [
    "#selected_items = ['glucose_level','bolus','meal']\n",
    "read_xml_data(filename='c://aadm/570-ws-training.xml', selected_items=['glucose_level','meal'])"
   ]
  },
  {
   "cell_type": "code",
   "execution_count": 11,
   "metadata": {
    "colab": {
     "base_uri": "https://localhost:8080/"
    },
    "id": "piTliitocOFu",
    "outputId": "e2848464-dc9c-4255-d86c-b53bd38dbcde"
   },
   "outputs": [
    {
     "name": "stdout",
     "output_type": "stream",
     "text": [
      "                     glucose\n",
      "ts                          \n",
      "2021-12-07 16:29:00      101\n",
      "2021-12-07 16:34:00      100\n",
      "2021-12-07 16:39:00      100\n",
      "2021-12-07 16:44:00       99\n",
      "2021-12-07 16:49:00       98\n",
      "...                      ...\n",
      "2022-01-16 23:39:00      113\n",
      "2022-01-16 23:44:00      118\n",
      "2022-01-16 23:49:00      120\n",
      "2022-01-16 23:54:00      123\n",
      "2022-01-16 23:59:00      128\n",
      "\n",
      "[10982 rows x 1 columns]\n"
     ]
    }
   ],
   "source": [
    "glucose_df = read_ts_file('glucose_level.csv')\n",
    "glucose_df.rename(columns={\"ts\": \"timestamp\", \"value\": \"glucose\"}, inplace=True)\n",
    "print(glucose_df)"
   ]
  },
  {
   "cell_type": "code",
   "execution_count": 12,
   "metadata": {},
   "outputs": [
    {
     "data": {
      "text/html": [
       "<div>\n",
       "<style scoped>\n",
       "    .dataframe tbody tr th:only-of-type {\n",
       "        vertical-align: middle;\n",
       "    }\n",
       "\n",
       "    .dataframe tbody tr th {\n",
       "        vertical-align: top;\n",
       "    }\n",
       "\n",
       "    .dataframe thead th {\n",
       "        text-align: right;\n",
       "    }\n",
       "</style>\n",
       "<table border=\"1\" class=\"dataframe\">\n",
       "  <thead>\n",
       "    <tr style=\"text-align: right;\">\n",
       "      <th></th>\n",
       "      <th>glucose</th>\n",
       "    </tr>\n",
       "  </thead>\n",
       "  <tbody>\n",
       "    <tr>\n",
       "      <th>count</th>\n",
       "      <td>10982.000000</td>\n",
       "    </tr>\n",
       "    <tr>\n",
       "      <th>mean</th>\n",
       "      <td>187.492989</td>\n",
       "    </tr>\n",
       "    <tr>\n",
       "      <th>std</th>\n",
       "      <td>62.328928</td>\n",
       "    </tr>\n",
       "    <tr>\n",
       "      <th>min</th>\n",
       "      <td>46.000000</td>\n",
       "    </tr>\n",
       "    <tr>\n",
       "      <th>25%</th>\n",
       "      <td>142.000000</td>\n",
       "    </tr>\n",
       "    <tr>\n",
       "      <th>50%</th>\n",
       "      <td>189.000000</td>\n",
       "    </tr>\n",
       "    <tr>\n",
       "      <th>75%</th>\n",
       "      <td>232.000000</td>\n",
       "    </tr>\n",
       "    <tr>\n",
       "      <th>max</th>\n",
       "      <td>377.000000</td>\n",
       "    </tr>\n",
       "  </tbody>\n",
       "</table>\n",
       "</div>"
      ],
      "text/plain": [
       "            glucose\n",
       "count  10982.000000\n",
       "mean     187.492989\n",
       "std       62.328928\n",
       "min       46.000000\n",
       "25%      142.000000\n",
       "50%      189.000000\n",
       "75%      232.000000\n",
       "max      377.000000"
      ]
     },
     "execution_count": 12,
     "metadata": {},
     "output_type": "execute_result"
    }
   ],
   "source": [
    "glucose_df.describe()"
   ]
  },
  {
   "cell_type": "markdown",
   "metadata": {
    "id": "F35XLzzv62VM"
   },
   "source": [
    "# Explore gaps"
   ]
  },
  {
   "cell_type": "code",
   "execution_count": 13,
   "metadata": {
    "colab": {
     "base_uri": "https://localhost:8080/"
    },
    "id": "1yRLPScwidM-",
    "outputId": "008ccc52-e597-4bd0-eebc-ff254b1c1417"
   },
   "outputs": [
    {
     "name": "stdout",
     "output_type": "stream",
     "text": [
      "Missing intervals:  629\n"
     ]
    }
   ],
   "source": [
    "#Finding the length of the complete time series\n",
    "time_df = timedf(glucose_df)\n",
    "print('Missing intervals: ', len(time_df) - len(glucose_df) )"
   ]
  },
  {
   "cell_type": "code",
   "execution_count": 14,
   "metadata": {
    "colab": {
     "base_uri": "https://localhost:8080/"
    },
    "id": "9Zy-xy9i7ATs",
    "outputId": "b893f890-2112-46af-8139-4c11eff1a411"
   },
   "outputs": [
    {
     "name": "stderr",
     "output_type": "stream",
     "text": [
      "C:\\Users\\eacun\\AppData\\Local\\Temp\\ipykernel_6464\\1628313578.py:14: FutureWarning: The frame.append method is deprecated and will be removed from pandas in a future version. Use pandas.concat instead.\n",
      "  gaps_df = gaps_df.append({'From': begin_gap, 'To': end_gap, 'Duration': duration}, ignore_index=True)\n",
      "C:\\Users\\eacun\\AppData\\Local\\Temp\\ipykernel_6464\\1628313578.py:14: FutureWarning: The frame.append method is deprecated and will be removed from pandas in a future version. Use pandas.concat instead.\n",
      "  gaps_df = gaps_df.append({'From': begin_gap, 'To': end_gap, 'Duration': duration}, ignore_index=True)\n",
      "C:\\Users\\eacun\\AppData\\Local\\Temp\\ipykernel_6464\\1628313578.py:14: FutureWarning: The frame.append method is deprecated and will be removed from pandas in a future version. Use pandas.concat instead.\n",
      "  gaps_df = gaps_df.append({'From': begin_gap, 'To': end_gap, 'Duration': duration}, ignore_index=True)\n",
      "C:\\Users\\eacun\\AppData\\Local\\Temp\\ipykernel_6464\\1628313578.py:14: FutureWarning: The frame.append method is deprecated and will be removed from pandas in a future version. Use pandas.concat instead.\n",
      "  gaps_df = gaps_df.append({'From': begin_gap, 'To': end_gap, 'Duration': duration}, ignore_index=True)\n",
      "C:\\Users\\eacun\\AppData\\Local\\Temp\\ipykernel_6464\\1628313578.py:14: FutureWarning: The frame.append method is deprecated and will be removed from pandas in a future version. Use pandas.concat instead.\n",
      "  gaps_df = gaps_df.append({'From': begin_gap, 'To': end_gap, 'Duration': duration}, ignore_index=True)\n",
      "C:\\Users\\eacun\\AppData\\Local\\Temp\\ipykernel_6464\\1628313578.py:14: FutureWarning: The frame.append method is deprecated and will be removed from pandas in a future version. Use pandas.concat instead.\n",
      "  gaps_df = gaps_df.append({'From': begin_gap, 'To': end_gap, 'Duration': duration}, ignore_index=True)\n",
      "C:\\Users\\eacun\\AppData\\Local\\Temp\\ipykernel_6464\\1628313578.py:14: FutureWarning: The frame.append method is deprecated and will be removed from pandas in a future version. Use pandas.concat instead.\n",
      "  gaps_df = gaps_df.append({'From': begin_gap, 'To': end_gap, 'Duration': duration}, ignore_index=True)\n",
      "C:\\Users\\eacun\\AppData\\Local\\Temp\\ipykernel_6464\\1628313578.py:14: FutureWarning: The frame.append method is deprecated and will be removed from pandas in a future version. Use pandas.concat instead.\n",
      "  gaps_df = gaps_df.append({'From': begin_gap, 'To': end_gap, 'Duration': duration}, ignore_index=True)\n",
      "C:\\Users\\eacun\\AppData\\Local\\Temp\\ipykernel_6464\\1628313578.py:14: FutureWarning: The frame.append method is deprecated and will be removed from pandas in a future version. Use pandas.concat instead.\n",
      "  gaps_df = gaps_df.append({'From': begin_gap, 'To': end_gap, 'Duration': duration}, ignore_index=True)\n",
      "C:\\Users\\eacun\\AppData\\Local\\Temp\\ipykernel_6464\\1628313578.py:14: FutureWarning: The frame.append method is deprecated and will be removed from pandas in a future version. Use pandas.concat instead.\n",
      "  gaps_df = gaps_df.append({'From': begin_gap, 'To': end_gap, 'Duration': duration}, ignore_index=True)\n",
      "C:\\Users\\eacun\\AppData\\Local\\Temp\\ipykernel_6464\\1628313578.py:14: FutureWarning: The frame.append method is deprecated and will be removed from pandas in a future version. Use pandas.concat instead.\n",
      "  gaps_df = gaps_df.append({'From': begin_gap, 'To': end_gap, 'Duration': duration}, ignore_index=True)\n",
      "C:\\Users\\eacun\\AppData\\Local\\Temp\\ipykernel_6464\\1628313578.py:14: FutureWarning: The frame.append method is deprecated and will be removed from pandas in a future version. Use pandas.concat instead.\n",
      "  gaps_df = gaps_df.append({'From': begin_gap, 'To': end_gap, 'Duration': duration}, ignore_index=True)\n",
      "C:\\Users\\eacun\\AppData\\Local\\Temp\\ipykernel_6464\\1628313578.py:14: FutureWarning: The frame.append method is deprecated and will be removed from pandas in a future version. Use pandas.concat instead.\n",
      "  gaps_df = gaps_df.append({'From': begin_gap, 'To': end_gap, 'Duration': duration}, ignore_index=True)\n",
      "C:\\Users\\eacun\\AppData\\Local\\Temp\\ipykernel_6464\\1628313578.py:14: FutureWarning: The frame.append method is deprecated and will be removed from pandas in a future version. Use pandas.concat instead.\n",
      "  gaps_df = gaps_df.append({'From': begin_gap, 'To': end_gap, 'Duration': duration}, ignore_index=True)\n",
      "C:\\Users\\eacun\\AppData\\Local\\Temp\\ipykernel_6464\\1628313578.py:14: FutureWarning: The frame.append method is deprecated and will be removed from pandas in a future version. Use pandas.concat instead.\n",
      "  gaps_df = gaps_df.append({'From': begin_gap, 'To': end_gap, 'Duration': duration}, ignore_index=True)\n",
      "C:\\Users\\eacun\\AppData\\Local\\Temp\\ipykernel_6464\\1628313578.py:14: FutureWarning: The frame.append method is deprecated and will be removed from pandas in a future version. Use pandas.concat instead.\n",
      "  gaps_df = gaps_df.append({'From': begin_gap, 'To': end_gap, 'Duration': duration}, ignore_index=True)\n",
      "C:\\Users\\eacun\\AppData\\Local\\Temp\\ipykernel_6464\\1628313578.py:14: FutureWarning: The frame.append method is deprecated and will be removed from pandas in a future version. Use pandas.concat instead.\n",
      "  gaps_df = gaps_df.append({'From': begin_gap, 'To': end_gap, 'Duration': duration}, ignore_index=True)\n",
      "C:\\Users\\eacun\\AppData\\Local\\Temp\\ipykernel_6464\\1628313578.py:14: FutureWarning: The frame.append method is deprecated and will be removed from pandas in a future version. Use pandas.concat instead.\n",
      "  gaps_df = gaps_df.append({'From': begin_gap, 'To': end_gap, 'Duration': duration}, ignore_index=True)\n",
      "C:\\Users\\eacun\\AppData\\Local\\Temp\\ipykernel_6464\\1628313578.py:14: FutureWarning: The frame.append method is deprecated and will be removed from pandas in a future version. Use pandas.concat instead.\n",
      "  gaps_df = gaps_df.append({'From': begin_gap, 'To': end_gap, 'Duration': duration}, ignore_index=True)\n",
      "C:\\Users\\eacun\\AppData\\Local\\Temp\\ipykernel_6464\\1628313578.py:14: FutureWarning: The frame.append method is deprecated and will be removed from pandas in a future version. Use pandas.concat instead.\n",
      "  gaps_df = gaps_df.append({'From': begin_gap, 'To': end_gap, 'Duration': duration}, ignore_index=True)\n"
     ]
    }
   ],
   "source": [
    "# All gaps \n",
    "gaps_df = find_gaps(glucose_df)\n",
    "#print(gaps_df)"
   ]
  },
  {
   "cell_type": "code",
   "execution_count": 15,
   "metadata": {
    "colab": {
     "base_uri": "https://localhost:8080/"
    },
    "id": "s6UZqRPq8A-i",
    "outputId": "eeb5fcd1-407d-41af-ad85-31bfb96a7b60"
   },
   "outputs": [],
   "source": [
    "# Find gaps greater than 5 hours\n",
    "#gaps_df2 = find_gaps(glucose_df, greaterthan=5, units='h')\n",
    "#print(gaps_df2)"
   ]
  },
  {
   "cell_type": "markdown",
   "metadata": {
    "id": "sNyxY3Pcdvsv"
   },
   "source": [
    "# Impute using average per time\n"
   ]
  },
  {
   "cell_type": "code",
   "execution_count": 16,
   "metadata": {
    "colab": {
     "base_uri": "https://localhost:8080/",
     "height": 238
    },
    "id": "wbZkHAyBDkeK",
    "outputId": "7ebd0ebe-d122-47b4-ee65-12418fde9eab"
   },
   "outputs": [
    {
     "name": "stdout",
     "output_type": "stream",
     "text": [
      "<class 'pandas.core.frame.DataFrame'>\n",
      "DatetimeIndex: 11611 entries, 2021-12-07 16:25:00 to 2022-01-16 23:55:00\n",
      "Freq: 5T\n",
      "Data columns (total 1 columns):\n",
      " #   Column   Non-Null Count  Dtype  \n",
      "---  ------   --------------  -----  \n",
      " 0   glucose  10982 non-null  float64\n",
      "dtypes: float64(1)\n",
      "memory usage: 181.4 KB\n"
     ]
    }
   ],
   "source": [
    "glucose_full=glucose_df.resample('5T').mean()\n",
    "glucose_full.info()"
   ]
  },
  {
   "cell_type": "code",
   "execution_count": 17,
   "metadata": {
    "id": "QQm64AKWEDr6"
   },
   "outputs": [],
   "source": [
    "#impute_mean(glucose_full, 'glucose')"
   ]
  },
  {
   "cell_type": "code",
   "execution_count": 18,
   "metadata": {
    "colab": {
     "base_uri": "https://localhost:8080/",
     "height": 81
    },
    "id": "UC0plxLbFqy_",
    "outputId": "48ace4b8-1c37-42c9-910c-a3f51d6ee0ac"
   },
   "outputs": [],
   "source": [
    "#trainmiss[trainmiss['glucose'].isna()]\n",
    "#trainmiss.info()"
   ]
  },
  {
   "cell_type": "code",
   "execution_count": 19,
   "metadata": {
    "colab": {
     "base_uri": "https://localhost:8080/",
     "height": 455
    },
    "id": "6BLqxs8GBmfq",
    "outputId": "68126b9d-6a22-46f9-d0ba-d4c7ded01ed6"
   },
   "outputs": [],
   "source": [
    "#trainmiss.loc[dfnans.index]\n",
    "#trainmiss.info()"
   ]
  },
  {
   "cell_type": "code",
   "execution_count": 20,
   "metadata": {},
   "outputs": [],
   "source": [
    "glucose_full= glucose_full.interpolate(method=\"polynomial\",order=3)\n",
    "#glucose_full.head()\n",
    "#missing_minutes =list(df2sp2[df2sp2['glucose'].isna()].index)\n",
    "#missing_minutes\n",
    "#cgmtrainclean.info()"
   ]
  },
  {
   "cell_type": "code",
   "execution_count": 21,
   "metadata": {},
   "outputs": [
    {
     "data": {
      "text/html": [
       "<div>\n",
       "<style scoped>\n",
       "    .dataframe tbody tr th:only-of-type {\n",
       "        vertical-align: middle;\n",
       "    }\n",
       "\n",
       "    .dataframe tbody tr th {\n",
       "        vertical-align: top;\n",
       "    }\n",
       "\n",
       "    .dataframe thead th {\n",
       "        text-align: right;\n",
       "    }\n",
       "</style>\n",
       "<table border=\"1\" class=\"dataframe\">\n",
       "  <thead>\n",
       "    <tr style=\"text-align: right;\">\n",
       "      <th></th>\n",
       "      <th>glucose</th>\n",
       "    </tr>\n",
       "  </thead>\n",
       "  <tbody>\n",
       "    <tr>\n",
       "      <th>count</th>\n",
       "      <td>11611.000000</td>\n",
       "    </tr>\n",
       "    <tr>\n",
       "      <th>mean</th>\n",
       "      <td>190.536748</td>\n",
       "    </tr>\n",
       "    <tr>\n",
       "      <th>std</th>\n",
       "      <td>63.216232</td>\n",
       "    </tr>\n",
       "    <tr>\n",
       "      <th>min</th>\n",
       "      <td>46.000000</td>\n",
       "    </tr>\n",
       "    <tr>\n",
       "      <th>25%</th>\n",
       "      <td>145.500000</td>\n",
       "    </tr>\n",
       "    <tr>\n",
       "      <th>50%</th>\n",
       "      <td>192.000000</td>\n",
       "    </tr>\n",
       "    <tr>\n",
       "      <th>75%</th>\n",
       "      <td>236.000000</td>\n",
       "    </tr>\n",
       "    <tr>\n",
       "      <th>max</th>\n",
       "      <td>377.000000</td>\n",
       "    </tr>\n",
       "  </tbody>\n",
       "</table>\n",
       "</div>"
      ],
      "text/plain": [
       "            glucose\n",
       "count  11611.000000\n",
       "mean     190.536748\n",
       "std       63.216232\n",
       "min       46.000000\n",
       "25%      145.500000\n",
       "50%      192.000000\n",
       "75%      236.000000\n",
       "max      377.000000"
      ]
     },
     "execution_count": 21,
     "metadata": {},
     "output_type": "execute_result"
    }
   ],
   "source": [
    "glucose_full.describe()"
   ]
  },
  {
   "cell_type": "code",
   "execution_count": 22,
   "metadata": {},
   "outputs": [],
   "source": [
    "#import matplotlib.pyplot as plt \n",
    "#import rpy2\n",
    "#import rpy2.rinterface\n",
    "#%load_ext rpy2.ipython\n",
    "#import rpy2.robjects as robjects\n",
    "#from rpy2.robjects.packages import importr\n",
    "#splines = importr('splines') \n",
    "#x_train=np.arange(len(glucose_full))\n",
    "#y_train=glucose_full['glucose']\n",
    "#r_y = robjects.FloatVector(y_train)\n",
    "#r_x = robjects.FloatVector(x_train)\n",
    "#r_smooth_spline = robjects.r['smooth.spline'] #extract R function# run smoothing function\n",
    "#spline1 = r_smooth_spline(x=r_x,y=r_y, spar=.01)\n",
    "#ySpline=np.array(robjects.r['predict'](spline1,robjects.FloatVector(x_train)).rx2('y'))\n",
    "#print(ySpline)\n",
    "#plt.figure(figsize=(12,6))\n",
    "#plt.scatter(x_train,y_train,c=\"blue\")\n",
    "#plt.plot(x_train,ySpline,c='red')"
   ]
  },
  {
   "cell_type": "code",
   "execution_count": 23,
   "metadata": {},
   "outputs": [],
   "source": [
    "#Imputation using Kalman smoothing\n",
    "from tsmoothie.smoother import *\n",
    "from tsmoothie.utils_func import create_windows\n",
    "#smoother = KalmanSmoother(component='level_trend', \n",
    "#                          component_noise={'level':0.1, 'trend':0.1})\n",
    "#smoother = KalmanSmoother(component='level_season', \n",
    "#                          component_noise={'level':0.1, 'season':0.1},n_seasons=7)\n",
    "#smoother = SplineSmoother(n_knots=100, spline_type='cubic_spline')\n",
    "#smoother.smooth(glucose_full[['glucose']].T)\n",
    "#glucosekf=smoother.smooth_data[0]\n",
    "#print(len(glucosekf))\n",
    "#glucose_full['glucose']=glucosekf\n",
    "#glucose_full['glucose']=ySpline\n",
    "#glucose_full.head()\n",
    "#smoother.smooth_data[0].mean()"
   ]
  },
  {
   "cell_type": "code",
   "execution_count": 24,
   "metadata": {},
   "outputs": [
    {
     "data": {
      "text/html": [
       "<div>\n",
       "<style scoped>\n",
       "    .dataframe tbody tr th:only-of-type {\n",
       "        vertical-align: middle;\n",
       "    }\n",
       "\n",
       "    .dataframe tbody tr th {\n",
       "        vertical-align: top;\n",
       "    }\n",
       "\n",
       "    .dataframe thead th {\n",
       "        text-align: right;\n",
       "    }\n",
       "</style>\n",
       "<table border=\"1\" class=\"dataframe\">\n",
       "  <thead>\n",
       "    <tr style=\"text-align: right;\">\n",
       "      <th></th>\n",
       "      <th>glucose</th>\n",
       "    </tr>\n",
       "  </thead>\n",
       "  <tbody>\n",
       "    <tr>\n",
       "      <th>count</th>\n",
       "      <td>11611.000000</td>\n",
       "    </tr>\n",
       "    <tr>\n",
       "      <th>mean</th>\n",
       "      <td>190.536748</td>\n",
       "    </tr>\n",
       "    <tr>\n",
       "      <th>std</th>\n",
       "      <td>63.216232</td>\n",
       "    </tr>\n",
       "    <tr>\n",
       "      <th>min</th>\n",
       "      <td>46.000000</td>\n",
       "    </tr>\n",
       "    <tr>\n",
       "      <th>25%</th>\n",
       "      <td>145.500000</td>\n",
       "    </tr>\n",
       "    <tr>\n",
       "      <th>50%</th>\n",
       "      <td>192.000000</td>\n",
       "    </tr>\n",
       "    <tr>\n",
       "      <th>75%</th>\n",
       "      <td>236.000000</td>\n",
       "    </tr>\n",
       "    <tr>\n",
       "      <th>max</th>\n",
       "      <td>377.000000</td>\n",
       "    </tr>\n",
       "  </tbody>\n",
       "</table>\n",
       "</div>"
      ],
      "text/plain": [
       "            glucose\n",
       "count  11611.000000\n",
       "mean     190.536748\n",
       "std       63.216232\n",
       "min       46.000000\n",
       "25%      145.500000\n",
       "50%      192.000000\n",
       "75%      236.000000\n",
       "max      377.000000"
      ]
     },
     "execution_count": 24,
     "metadata": {},
     "output_type": "execute_result"
    }
   ],
   "source": [
    "glucose_full.describe()"
   ]
  },
  {
   "cell_type": "markdown",
   "metadata": {
    "id": "BBVmdlHi7jQg"
   },
   "source": [
    "# Process meals   (training)"
   ]
  },
  {
   "cell_type": "code",
   "execution_count": 25,
   "metadata": {
    "colab": {
     "base_uri": "https://localhost:8080/"
    },
    "id": "ol_fWphaeq_X",
    "outputId": "315967e2-9b94-4739-c2e5-796ff508236c"
   },
   "outputs": [
    {
     "name": "stdout",
     "output_type": "stream",
     "text": [
      "                          type  carbs\n",
      "ts                                   \n",
      "2021-12-07 18:28:00     Dinner     65\n",
      "2021-12-07 21:33:00      Snack      5\n",
      "2021-12-08 06:14:00  Breakfast     97\n",
      "2021-12-08 12:04:00      Lunch    120\n",
      "2021-12-08 16:50:00      Snack     38\n",
      "...                        ...    ...\n",
      "2022-01-15 21:03:00     Dinner    130\n",
      "2022-01-16 08:28:00  Breakfast     75\n",
      "2022-01-16 13:46:00      Snack     90\n",
      "2022-01-16 18:47:00      Snack     60\n",
      "2022-01-16 20:14:00     Dinner    150\n",
      "\n",
      "[136 rows x 2 columns]\n"
     ]
    }
   ],
   "source": [
    "meal_df = read_ts_file('meal.csv')\n",
    "print(meal_df)"
   ]
  },
  {
   "cell_type": "code",
   "execution_count": 26,
   "metadata": {},
   "outputs": [],
   "source": [
    "#df_aligned2, df_dups2 = align_timeseries(glucose_full, meal_df, ['carbs'], [0], dest_columns=['meal_carbs'], include_index=True)"
   ]
  },
  {
   "cell_type": "code",
   "execution_count": 27,
   "metadata": {
    "colab": {
     "base_uri": "https://localhost:8080/"
    },
    "id": "GNn-BV2jC3El",
    "outputId": "cb620bed-cb96-43f6-d46b-75966a4401be"
   },
   "outputs": [],
   "source": [
    "#df_aligned2.describe()\n",
    "#print(df_dups2). There are no duplicates"
   ]
  },
  {
   "cell_type": "markdown",
   "metadata": {
    "id": "MVEBLh6J-M4V"
   },
   "source": [
    "# correcting  meal values"
   ]
  },
  {
   "cell_type": "code",
   "execution_count": 28,
   "metadata": {
    "id": "fGBlem-wn3Qd"
   },
   "outputs": [],
   "source": [
    "def eff_carbs(aligned_df, meals_df):\n",
    "  eff_carbs_df = aligned_df.copy()\n",
    "  eff_carbs_df.sort_index()\n",
    "  end = eff_carbs_df.index[-1]\n",
    "  meals_df.sort_index()\n",
    "  binc= 0.111\n",
    "  bdecr= 0.028\n",
    "  eff_carbs_df['eff_carbs'] = 0\n",
    "  ts_inc = list(range(15,60,5)) #increasing phase\n",
    "  ts_dec = list(range(60,240,5)) #decreasing phase\n",
    "  for i in range(len(meals_df)):\n",
    "    ts_meal = meals_df.index[i]\n",
    "    ts_loc = eff_carbs_df.index.get_loc(ts_meal, method='nearest')\n",
    "    ts_eff_carbs = eff_carbs_df.index[ts_loc]\n",
    "    cmeal = meals_df.loc[ts_meal, 'carbs']\n",
    "    #increasing phase\n",
    "    #idx = ts_eff_carbs\n",
    "    for j in range(len(ts_inc)):\n",
    "      idx = ts_eff_carbs + timedelta(minutes=ts_inc[j])\n",
    "      if idx > end:\n",
    "        break\n",
    "      eff_carbs_df.loc[idx, 'eff_carbs'] += (j+1)*binc*cmeal\n",
    "     #decreasing phase\n",
    "    for j in range(len(ts_dec)):\n",
    "      idx = ts_eff_carbs + timedelta(minutes=ts_dec[j])\n",
    "      if idx > end:\n",
    "        break\n",
    "      val = cmeal*(1-(j+1)*bdecr)\n",
    "      if val<=0: \n",
    "        break\n",
    "      eff_carbs_df.loc[idx, 'eff_carbs'] += val\n",
    "  \n",
    "  return eff_carbs_df"
   ]
  },
  {
   "cell_type": "code",
   "execution_count": 29,
   "metadata": {
    "id": "22P_nX2q0Fia"
   },
   "outputs": [
    {
     "name": "stderr",
     "output_type": "stream",
     "text": [
      "C:\\Users\\eacun\\AppData\\Local\\Temp\\ipykernel_6464\\165131089.py:13: FutureWarning: Passing method to DatetimeIndex.get_loc is deprecated and will raise in a future version. Use index.get_indexer([item], method=...) instead.\n",
      "  ts_loc = eff_carbs_df.index.get_loc(ts_meal, method='nearest')\n"
     ]
    }
   ],
   "source": [
    "corrected_meals_df = eff_carbs(glucose_full, meal_df)"
   ]
  },
  {
   "cell_type": "code",
   "execution_count": 30,
   "metadata": {
    "colab": {
     "base_uri": "https://localhost:8080/"
    },
    "id": "bvEdJyEo3qaj",
    "outputId": "61efbd7e-43e3-4bb1-ae3d-0b0368bc629a"
   },
   "outputs": [
    {
     "data": {
      "text/html": [
       "<div>\n",
       "<style scoped>\n",
       "    .dataframe tbody tr th:only-of-type {\n",
       "        vertical-align: middle;\n",
       "    }\n",
       "\n",
       "    .dataframe tbody tr th {\n",
       "        vertical-align: top;\n",
       "    }\n",
       "\n",
       "    .dataframe thead th {\n",
       "        text-align: right;\n",
       "    }\n",
       "</style>\n",
       "<table border=\"1\" class=\"dataframe\">\n",
       "  <thead>\n",
       "    <tr style=\"text-align: right;\">\n",
       "      <th></th>\n",
       "      <th>glucose</th>\n",
       "      <th>eff_carbs</th>\n",
       "    </tr>\n",
       "  </thead>\n",
       "  <tbody>\n",
       "    <tr>\n",
       "      <th>count</th>\n",
       "      <td>11611.000000</td>\n",
       "      <td>11611.000000</td>\n",
       "    </tr>\n",
       "    <tr>\n",
       "      <th>mean</th>\n",
       "      <td>190.536748</td>\n",
       "      <td>26.867094</td>\n",
       "    </tr>\n",
       "    <tr>\n",
       "      <th>std</th>\n",
       "      <td>63.216232</td>\n",
       "      <td>38.320737</td>\n",
       "    </tr>\n",
       "    <tr>\n",
       "      <th>min</th>\n",
       "      <td>46.000000</td>\n",
       "      <td>0.000000</td>\n",
       "    </tr>\n",
       "    <tr>\n",
       "      <th>25%</th>\n",
       "      <td>145.500000</td>\n",
       "      <td>0.000000</td>\n",
       "    </tr>\n",
       "    <tr>\n",
       "      <th>50%</th>\n",
       "      <td>192.000000</td>\n",
       "      <td>0.000000</td>\n",
       "    </tr>\n",
       "    <tr>\n",
       "      <th>75%</th>\n",
       "      <td>236.000000</td>\n",
       "      <td>46.800000</td>\n",
       "    </tr>\n",
       "    <tr>\n",
       "      <th>max</th>\n",
       "      <td>377.000000</td>\n",
       "      <td>199.800000</td>\n",
       "    </tr>\n",
       "  </tbody>\n",
       "</table>\n",
       "</div>"
      ],
      "text/plain": [
       "            glucose     eff_carbs\n",
       "count  11611.000000  11611.000000\n",
       "mean     190.536748     26.867094\n",
       "std       63.216232     38.320737\n",
       "min       46.000000      0.000000\n",
       "25%      145.500000      0.000000\n",
       "50%      192.000000      0.000000\n",
       "75%      236.000000     46.800000\n",
       "max      377.000000    199.800000"
      ]
     },
     "execution_count": 30,
     "metadata": {},
     "output_type": "execute_result"
    }
   ],
   "source": [
    "corrected_meals_df.describe()"
   ]
  },
  {
   "cell_type": "markdown",
   "metadata": {},
   "source": [
    "### Clean training data including cgm and corrected meals"
   ]
  },
  {
   "cell_type": "code",
   "execution_count": 31,
   "metadata": {
    "id": "fslhNTeY3vhy"
   },
   "outputs": [
    {
     "name": "stdout",
     "output_type": "stream",
     "text": [
      "<class 'pandas.core.frame.DataFrame'>\n",
      "DatetimeIndex: 11611 entries, 2021-12-07 16:25:00 to 2022-01-16 23:55:00\n",
      "Freq: 5T\n",
      "Data columns (total 2 columns):\n",
      " #   Column     Non-Null Count  Dtype  \n",
      "---  ------     --------------  -----  \n",
      " 0   glucose    11611 non-null  float64\n",
      " 1   eff_carbs  11611 non-null  float64\n",
      "dtypes: float64(2)\n",
      "memory usage: 530.2 KB\n"
     ]
    }
   ],
   "source": [
    "cgmtrainclean=corrected_meals_df.loc[:,['glucose','eff_carbs']]\n",
    "cgmtrainclean.info()\n",
    "#cgmtrainclean.to_csv('corrected_meals.csv')"
   ]
  },
  {
   "cell_type": "markdown",
   "metadata": {
    "id": "wG2kzDt4o7oT"
   },
   "source": [
    "## Reading Testing data"
   ]
  },
  {
   "cell_type": "code",
   "execution_count": 32,
   "metadata": {},
   "outputs": [],
   "source": [
    "#selected_items = ['glucose_level','bolus','meal']\n",
    "read_xml_data(filename='c://aadm/570-ws-testing.xml', selected_items=['glucose_level','meal'])"
   ]
  },
  {
   "cell_type": "code",
   "execution_count": 33,
   "metadata": {},
   "outputs": [
    {
     "name": "stdout",
     "output_type": "stream",
     "text": [
      "                     glucose\n",
      "ts                          \n",
      "2022-01-17 00:04:00      135\n",
      "2022-01-17 00:09:00      143\n",
      "2022-01-17 00:14:00      152\n",
      "2022-01-17 00:19:00      159\n",
      "2022-01-17 00:24:00      166\n",
      "...                      ...\n",
      "2022-01-26 23:37:00      204\n",
      "2022-01-26 23:42:00      208\n",
      "2022-01-26 23:47:00      212\n",
      "2022-01-26 23:52:00      218\n",
      "2022-01-26 23:57:00      224\n",
      "\n",
      "[2745 rows x 1 columns]\n"
     ]
    }
   ],
   "source": [
    "glucose_df = read_ts_file('glucose_level.csv')\n",
    "glucose_df.rename(columns={\"ts\": \"timestamp\", \"value\": \"glucose\"}, inplace=True)\n",
    "print(glucose_df)"
   ]
  },
  {
   "cell_type": "code",
   "execution_count": 34,
   "metadata": {},
   "outputs": [
    {
     "name": "stdout",
     "output_type": "stream",
     "text": [
      "Missing intervals:  135\n"
     ]
    }
   ],
   "source": [
    "#Finding the length of the complete time series\n",
    "time_df = timedf(glucose_df)\n",
    "print('Missing intervals: ', len(time_df) - len(glucose_df) )"
   ]
  },
  {
   "cell_type": "code",
   "execution_count": 35,
   "metadata": {},
   "outputs": [
    {
     "name": "stderr",
     "output_type": "stream",
     "text": [
      "C:\\Users\\eacun\\AppData\\Local\\Temp\\ipykernel_6464\\1628313578.py:14: FutureWarning: The frame.append method is deprecated and will be removed from pandas in a future version. Use pandas.concat instead.\n",
      "  gaps_df = gaps_df.append({'From': begin_gap, 'To': end_gap, 'Duration': duration}, ignore_index=True)\n",
      "C:\\Users\\eacun\\AppData\\Local\\Temp\\ipykernel_6464\\1628313578.py:14: FutureWarning: The frame.append method is deprecated and will be removed from pandas in a future version. Use pandas.concat instead.\n",
      "  gaps_df = gaps_df.append({'From': begin_gap, 'To': end_gap, 'Duration': duration}, ignore_index=True)\n",
      "C:\\Users\\eacun\\AppData\\Local\\Temp\\ipykernel_6464\\1628313578.py:14: FutureWarning: The frame.append method is deprecated and will be removed from pandas in a future version. Use pandas.concat instead.\n",
      "  gaps_df = gaps_df.append({'From': begin_gap, 'To': end_gap, 'Duration': duration}, ignore_index=True)\n",
      "C:\\Users\\eacun\\AppData\\Local\\Temp\\ipykernel_6464\\1628313578.py:14: FutureWarning: The frame.append method is deprecated and will be removed from pandas in a future version. Use pandas.concat instead.\n",
      "  gaps_df = gaps_df.append({'From': begin_gap, 'To': end_gap, 'Duration': duration}, ignore_index=True)\n",
      "C:\\Users\\eacun\\AppData\\Local\\Temp\\ipykernel_6464\\1628313578.py:14: FutureWarning: The frame.append method is deprecated and will be removed from pandas in a future version. Use pandas.concat instead.\n",
      "  gaps_df = gaps_df.append({'From': begin_gap, 'To': end_gap, 'Duration': duration}, ignore_index=True)\n",
      "C:\\Users\\eacun\\AppData\\Local\\Temp\\ipykernel_6464\\1628313578.py:14: FutureWarning: The frame.append method is deprecated and will be removed from pandas in a future version. Use pandas.concat instead.\n",
      "  gaps_df = gaps_df.append({'From': begin_gap, 'To': end_gap, 'Duration': duration}, ignore_index=True)\n",
      "C:\\Users\\eacun\\AppData\\Local\\Temp\\ipykernel_6464\\1628313578.py:14: FutureWarning: The frame.append method is deprecated and will be removed from pandas in a future version. Use pandas.concat instead.\n",
      "  gaps_df = gaps_df.append({'From': begin_gap, 'To': end_gap, 'Duration': duration}, ignore_index=True)\n",
      "C:\\Users\\eacun\\AppData\\Local\\Temp\\ipykernel_6464\\1628313578.py:14: FutureWarning: The frame.append method is deprecated and will be removed from pandas in a future version. Use pandas.concat instead.\n",
      "  gaps_df = gaps_df.append({'From': begin_gap, 'To': end_gap, 'Duration': duration}, ignore_index=True)\n",
      "C:\\Users\\eacun\\AppData\\Local\\Temp\\ipykernel_6464\\1628313578.py:14: FutureWarning: The frame.append method is deprecated and will be removed from pandas in a future version. Use pandas.concat instead.\n",
      "  gaps_df = gaps_df.append({'From': begin_gap, 'To': end_gap, 'Duration': duration}, ignore_index=True)\n"
     ]
    }
   ],
   "source": [
    "# All gaps \n",
    "gaps_df = find_gaps(glucose_df)\n",
    "#print(gaps_df)"
   ]
  },
  {
   "cell_type": "code",
   "execution_count": 36,
   "metadata": {},
   "outputs": [
    {
     "data": {
      "text/html": [
       "<div>\n",
       "<style scoped>\n",
       "    .dataframe tbody tr th:only-of-type {\n",
       "        vertical-align: middle;\n",
       "    }\n",
       "\n",
       "    .dataframe tbody tr th {\n",
       "        vertical-align: top;\n",
       "    }\n",
       "\n",
       "    .dataframe thead th {\n",
       "        text-align: right;\n",
       "    }\n",
       "</style>\n",
       "<table border=\"1\" class=\"dataframe\">\n",
       "  <thead>\n",
       "    <tr style=\"text-align: right;\">\n",
       "      <th></th>\n",
       "      <th>glucose</th>\n",
       "    </tr>\n",
       "  </thead>\n",
       "  <tbody>\n",
       "    <tr>\n",
       "      <th>count</th>\n",
       "      <td>2745.000000</td>\n",
       "    </tr>\n",
       "    <tr>\n",
       "      <th>mean</th>\n",
       "      <td>214.764299</td>\n",
       "    </tr>\n",
       "    <tr>\n",
       "      <th>std</th>\n",
       "      <td>66.396614</td>\n",
       "    </tr>\n",
       "    <tr>\n",
       "      <th>min</th>\n",
       "      <td>60.000000</td>\n",
       "    </tr>\n",
       "    <tr>\n",
       "      <th>25%</th>\n",
       "      <td>167.000000</td>\n",
       "    </tr>\n",
       "    <tr>\n",
       "      <th>50%</th>\n",
       "      <td>221.000000</td>\n",
       "    </tr>\n",
       "    <tr>\n",
       "      <th>75%</th>\n",
       "      <td>264.000000</td>\n",
       "    </tr>\n",
       "    <tr>\n",
       "      <th>max</th>\n",
       "      <td>388.000000</td>\n",
       "    </tr>\n",
       "  </tbody>\n",
       "</table>\n",
       "</div>"
      ],
      "text/plain": [
       "           glucose\n",
       "count  2745.000000\n",
       "mean    214.764299\n",
       "std      66.396614\n",
       "min      60.000000\n",
       "25%     167.000000\n",
       "50%     221.000000\n",
       "75%     264.000000\n",
       "max     388.000000"
      ]
     },
     "execution_count": 36,
     "metadata": {},
     "output_type": "execute_result"
    }
   ],
   "source": [
    "glucose_full=glucose_df.resample('5T').mean()\n",
    "glucose_full.describe()"
   ]
  },
  {
   "cell_type": "code",
   "execution_count": 37,
   "metadata": {},
   "outputs": [],
   "source": [
    "#impute_mean(glucose_full, 'glucose')"
   ]
  },
  {
   "cell_type": "code",
   "execution_count": 38,
   "metadata": {},
   "outputs": [],
   "source": [
    "#testmiss.loc[dfnans.index]\n",
    "#testmiss.info()"
   ]
  },
  {
   "cell_type": "code",
   "execution_count": 39,
   "metadata": {},
   "outputs": [],
   "source": [
    "glucose_full= glucose_full.interpolate(method=\"polynomial\",order=3)"
   ]
  },
  {
   "cell_type": "code",
   "execution_count": 40,
   "metadata": {},
   "outputs": [],
   "source": [
    "#import rpy2\n",
    "#import rpy2.rinterface\n",
    "#%load_ext rpy2.ipython\n",
    "#import rpy2.robjects as robjects\n",
    "#from rpy2.robjects.packages import importr\n",
    "#splines = importr('splines') \n",
    "#x_train=np.arange(len(glucose_full))\n",
    "#y_train=glucose_full['glucose']\n",
    "#r_y = robjects.FloatVector(y_train)\n",
    "#r_x = robjects.FloatVector(x_train)\n",
    "#r_smooth_spline = robjects.r['smooth.spline'] #extract R function# run smoothing function\n",
    "#spline1 = r_smooth_spline(x=r_x,y=r_y, spar=.01)\n",
    "#ySpline=np.array(robjects.r['predict'](spline1,robjects.FloatVector(x_train)).rx2('y'))\n",
    "#print(ySpline)\n",
    "#plt.figure(figsize=(12,6))\n",
    "#plt.scatter(x_train,y_train,c=\"blue\")\n",
    "#plt.plot(x_train,ySpline,c='red')"
   ]
  },
  {
   "cell_type": "code",
   "execution_count": 41,
   "metadata": {},
   "outputs": [
    {
     "data": {
      "text/html": [
       "<div>\n",
       "<style scoped>\n",
       "    .dataframe tbody tr th:only-of-type {\n",
       "        vertical-align: middle;\n",
       "    }\n",
       "\n",
       "    .dataframe tbody tr th {\n",
       "        vertical-align: top;\n",
       "    }\n",
       "\n",
       "    .dataframe thead th {\n",
       "        text-align: right;\n",
       "    }\n",
       "</style>\n",
       "<table border=\"1\" class=\"dataframe\">\n",
       "  <thead>\n",
       "    <tr style=\"text-align: right;\">\n",
       "      <th></th>\n",
       "      <th>glucose</th>\n",
       "    </tr>\n",
       "  </thead>\n",
       "  <tbody>\n",
       "    <tr>\n",
       "      <th>count</th>\n",
       "      <td>2880.000000</td>\n",
       "    </tr>\n",
       "    <tr>\n",
       "      <th>mean</th>\n",
       "      <td>217.255250</td>\n",
       "    </tr>\n",
       "    <tr>\n",
       "      <th>std</th>\n",
       "      <td>67.367325</td>\n",
       "    </tr>\n",
       "    <tr>\n",
       "      <th>min</th>\n",
       "      <td>60.000000</td>\n",
       "    </tr>\n",
       "    <tr>\n",
       "      <th>25%</th>\n",
       "      <td>168.000000</td>\n",
       "    </tr>\n",
       "    <tr>\n",
       "      <th>50%</th>\n",
       "      <td>222.000000</td>\n",
       "    </tr>\n",
       "    <tr>\n",
       "      <th>75%</th>\n",
       "      <td>266.000000</td>\n",
       "    </tr>\n",
       "    <tr>\n",
       "      <th>max</th>\n",
       "      <td>388.000000</td>\n",
       "    </tr>\n",
       "  </tbody>\n",
       "</table>\n",
       "</div>"
      ],
      "text/plain": [
       "           glucose\n",
       "count  2880.000000\n",
       "mean    217.255250\n",
       "std      67.367325\n",
       "min      60.000000\n",
       "25%     168.000000\n",
       "50%     222.000000\n",
       "75%     266.000000\n",
       "max     388.000000"
      ]
     },
     "execution_count": 41,
     "metadata": {},
     "output_type": "execute_result"
    }
   ],
   "source": [
    "#Imputation using Kalman filter\n",
    "#smoother = KalmanSmoother(component='level_trend', \n",
    "#                          component_noise={'level':0.1, 'trend':0.1})\n",
    "#smoother = KalmanSmoother(component='level_season', \n",
    "#                          component_noise={'level':0.1, 'season':0.1},n_seasons=7)\n",
    "#smoother = SplineSmoother(n_knots=100, spline_type='cubic_spline')\n",
    "#smoother.smooth(glucose_full[['glucose']].T)\n",
    "#glucosekf=smoother.smooth_data[0]\n",
    "#glucose_full['glucose']=glucosekf\n",
    "#glucose_full['glucose']=ySpline\n",
    "#smoother.smooth_data[0].mean()\n",
    "glucose_full.describe()"
   ]
  },
  {
   "cell_type": "code",
   "execution_count": 42,
   "metadata": {},
   "outputs": [],
   "source": [
    "meal_df = read_ts_file('meal.csv')\n",
    "#print(meal_df)\n",
    "#df_aligned2, df_dups2 = align_timeseries(glucose_full, meal_df, ['carbs'], [0], dest_columns=['meal_carbs'], include_index=True)"
   ]
  },
  {
   "cell_type": "markdown",
   "metadata": {},
   "source": [
    "### Cleaning testing data including cgm and corrected meals"
   ]
  },
  {
   "cell_type": "code",
   "execution_count": 43,
   "metadata": {},
   "outputs": [
    {
     "name": "stderr",
     "output_type": "stream",
     "text": [
      "C:\\Users\\eacun\\AppData\\Local\\Temp\\ipykernel_6464\\165131089.py:13: FutureWarning: Passing method to DatetimeIndex.get_loc is deprecated and will raise in a future version. Use index.get_indexer([item], method=...) instead.\n",
      "  ts_loc = eff_carbs_df.index.get_loc(ts_meal, method='nearest')\n"
     ]
    },
    {
     "data": {
      "text/html": [
       "<div>\n",
       "<style scoped>\n",
       "    .dataframe tbody tr th:only-of-type {\n",
       "        vertical-align: middle;\n",
       "    }\n",
       "\n",
       "    .dataframe tbody tr th {\n",
       "        vertical-align: top;\n",
       "    }\n",
       "\n",
       "    .dataframe thead th {\n",
       "        text-align: right;\n",
       "    }\n",
       "</style>\n",
       "<table border=\"1\" class=\"dataframe\">\n",
       "  <thead>\n",
       "    <tr style=\"text-align: right;\">\n",
       "      <th></th>\n",
       "      <th>glucose</th>\n",
       "      <th>eff_carbs</th>\n",
       "    </tr>\n",
       "  </thead>\n",
       "  <tbody>\n",
       "    <tr>\n",
       "      <th>count</th>\n",
       "      <td>2880.000000</td>\n",
       "      <td>2880.000000</td>\n",
       "    </tr>\n",
       "    <tr>\n",
       "      <th>mean</th>\n",
       "      <td>217.255250</td>\n",
       "      <td>29.744569</td>\n",
       "    </tr>\n",
       "    <tr>\n",
       "      <th>std</th>\n",
       "      <td>67.367325</td>\n",
       "      <td>42.173350</td>\n",
       "    </tr>\n",
       "    <tr>\n",
       "      <th>min</th>\n",
       "      <td>60.000000</td>\n",
       "      <td>0.000000</td>\n",
       "    </tr>\n",
       "    <tr>\n",
       "      <th>25%</th>\n",
       "      <td>168.000000</td>\n",
       "      <td>0.000000</td>\n",
       "    </tr>\n",
       "    <tr>\n",
       "      <th>50%</th>\n",
       "      <td>222.000000</td>\n",
       "      <td>0.000000</td>\n",
       "    </tr>\n",
       "    <tr>\n",
       "      <th>75%</th>\n",
       "      <td>266.000000</td>\n",
       "      <td>53.160000</td>\n",
       "    </tr>\n",
       "    <tr>\n",
       "      <th>max</th>\n",
       "      <td>388.000000</td>\n",
       "      <td>174.825000</td>\n",
       "    </tr>\n",
       "  </tbody>\n",
       "</table>\n",
       "</div>"
      ],
      "text/plain": [
       "           glucose    eff_carbs\n",
       "count  2880.000000  2880.000000\n",
       "mean    217.255250    29.744569\n",
       "std      67.367325    42.173350\n",
       "min      60.000000     0.000000\n",
       "25%     168.000000     0.000000\n",
       "50%     222.000000     0.000000\n",
       "75%     266.000000    53.160000\n",
       "max     388.000000   174.825000"
      ]
     },
     "execution_count": 43,
     "metadata": {},
     "output_type": "execute_result"
    }
   ],
   "source": [
    "#print(df_aligned2)\n",
    "corrected_meals_df = eff_carbs(glucose_full, meal_df)\n",
    "cgmtestclean=corrected_meals_df.loc[:,['glucose','eff_carbs']]\n",
    "cgmtestclean.describe()\n",
    "#cgmtestclean.to_csv('corrected_meals.csv')"
   ]
  },
  {
   "cell_type": "markdown",
   "metadata": {},
   "source": [
    "## Data Normalization"
   ]
  },
  {
   "cell_type": "code",
   "execution_count": 45,
   "metadata": {},
   "outputs": [],
   "source": [
    "#Normalizing the data\n",
    "from sklearn.preprocessing import MinMaxScaler\n",
    "from sklearn.metrics import mean_squared_error\n",
    "datatrain = np.array(cgmtrainclean.values.astype('float32'))\n",
    "datatest = np.array(cgmtestclean.values.astype('float32'))\n",
    "#print(datatest)\n",
    "testmax=datatest.max(axis=0)[0]\n",
    "testmin=datatest.min(axis=0)[0]\n",
    "#print(testmax[0])\n",
    "#print(testmin[0])\n",
    "values = cgmtrainclean.values\n",
    "values = values.astype('float32')\n",
    "# normalize features\n",
    "scaler = MinMaxScaler(feature_range=(0, 1))\n",
    "scaled = scaler.fit_transform(values)"
   ]
  },
  {
   "cell_type": "code",
   "execution_count": 46,
   "metadata": {},
   "outputs": [],
   "source": [
    "#Normalizing Testing\n",
    "values1 = cgmtestclean.values\n",
    "values1 = values1.astype('float32')\n",
    "# normalize features\n",
    "scaler = MinMaxScaler(feature_range=(0, 1))\n",
    "scaled1 = scaler.fit_transform(values1)"
   ]
  },
  {
   "cell_type": "code",
   "execution_count": 47,
   "metadata": {},
   "outputs": [
    {
     "data": {
      "text/html": [
       "<div>\n",
       "<style scoped>\n",
       "    .dataframe tbody tr th:only-of-type {\n",
       "        vertical-align: middle;\n",
       "    }\n",
       "\n",
       "    .dataframe tbody tr th {\n",
       "        vertical-align: top;\n",
       "    }\n",
       "\n",
       "    .dataframe thead th {\n",
       "        text-align: right;\n",
       "    }\n",
       "</style>\n",
       "<table border=\"1\" class=\"dataframe\">\n",
       "  <thead>\n",
       "    <tr style=\"text-align: right;\">\n",
       "      <th></th>\n",
       "      <th>var1(t-12)</th>\n",
       "      <th>var2(t-12)</th>\n",
       "      <th>var1(t-11)</th>\n",
       "      <th>var2(t-11)</th>\n",
       "      <th>var1(t-10)</th>\n",
       "      <th>var2(t-10)</th>\n",
       "      <th>var1(t-9)</th>\n",
       "      <th>var2(t-9)</th>\n",
       "      <th>var1(t-8)</th>\n",
       "      <th>var2(t-8)</th>\n",
       "      <th>...</th>\n",
       "      <th>var1(t+1)</th>\n",
       "      <th>var2(t+1)</th>\n",
       "      <th>var1(t+2)</th>\n",
       "      <th>var2(t+2)</th>\n",
       "      <th>var1(t+3)</th>\n",
       "      <th>var2(t+3)</th>\n",
       "      <th>var1(t+4)</th>\n",
       "      <th>var2(t+4)</th>\n",
       "      <th>var1(t+5)</th>\n",
       "      <th>var2(t+5)</th>\n",
       "    </tr>\n",
       "  </thead>\n",
       "  <tbody>\n",
       "    <tr>\n",
       "      <th>12</th>\n",
       "      <td>0.390659</td>\n",
       "      <td>0.0</td>\n",
       "      <td>0.385474</td>\n",
       "      <td>0.0</td>\n",
       "      <td>0.395845</td>\n",
       "      <td>0.0</td>\n",
       "      <td>0.409673</td>\n",
       "      <td>0.0</td>\n",
       "      <td>0.423501</td>\n",
       "      <td>0.0</td>\n",
       "      <td>...</td>\n",
       "      <td>0.430416</td>\n",
       "      <td>0.0</td>\n",
       "      <td>0.440787</td>\n",
       "      <td>0.0</td>\n",
       "      <td>0.435601</td>\n",
       "      <td>0.0</td>\n",
       "      <td>0.425230</td>\n",
       "      <td>0.0</td>\n",
       "      <td>0.414859</td>\n",
       "      <td>0.0</td>\n",
       "    </tr>\n",
       "    <tr>\n",
       "      <th>13</th>\n",
       "      <td>0.385474</td>\n",
       "      <td>0.0</td>\n",
       "      <td>0.395845</td>\n",
       "      <td>0.0</td>\n",
       "      <td>0.409673</td>\n",
       "      <td>0.0</td>\n",
       "      <td>0.423501</td>\n",
       "      <td>0.0</td>\n",
       "      <td>0.435601</td>\n",
       "      <td>0.0</td>\n",
       "      <td>...</td>\n",
       "      <td>0.440787</td>\n",
       "      <td>0.0</td>\n",
       "      <td>0.435601</td>\n",
       "      <td>0.0</td>\n",
       "      <td>0.425230</td>\n",
       "      <td>0.0</td>\n",
       "      <td>0.414859</td>\n",
       "      <td>0.0</td>\n",
       "      <td>0.407945</td>\n",
       "      <td>0.0</td>\n",
       "    </tr>\n",
       "    <tr>\n",
       "      <th>14</th>\n",
       "      <td>0.395845</td>\n",
       "      <td>0.0</td>\n",
       "      <td>0.409673</td>\n",
       "      <td>0.0</td>\n",
       "      <td>0.423501</td>\n",
       "      <td>0.0</td>\n",
       "      <td>0.435601</td>\n",
       "      <td>0.0</td>\n",
       "      <td>0.449429</td>\n",
       "      <td>0.0</td>\n",
       "      <td>...</td>\n",
       "      <td>0.435601</td>\n",
       "      <td>0.0</td>\n",
       "      <td>0.425230</td>\n",
       "      <td>0.0</td>\n",
       "      <td>0.414859</td>\n",
       "      <td>0.0</td>\n",
       "      <td>0.407945</td>\n",
       "      <td>0.0</td>\n",
       "      <td>0.404488</td>\n",
       "      <td>0.0</td>\n",
       "    </tr>\n",
       "    <tr>\n",
       "      <th>15</th>\n",
       "      <td>0.409673</td>\n",
       "      <td>0.0</td>\n",
       "      <td>0.423501</td>\n",
       "      <td>0.0</td>\n",
       "      <td>0.435601</td>\n",
       "      <td>0.0</td>\n",
       "      <td>0.449429</td>\n",
       "      <td>0.0</td>\n",
       "      <td>0.461529</td>\n",
       "      <td>0.0</td>\n",
       "      <td>...</td>\n",
       "      <td>0.425230</td>\n",
       "      <td>0.0</td>\n",
       "      <td>0.414859</td>\n",
       "      <td>0.0</td>\n",
       "      <td>0.407945</td>\n",
       "      <td>0.0</td>\n",
       "      <td>0.404488</td>\n",
       "      <td>0.0</td>\n",
       "      <td>0.394116</td>\n",
       "      <td>0.0</td>\n",
       "    </tr>\n",
       "    <tr>\n",
       "      <th>16</th>\n",
       "      <td>0.423501</td>\n",
       "      <td>0.0</td>\n",
       "      <td>0.435601</td>\n",
       "      <td>0.0</td>\n",
       "      <td>0.449429</td>\n",
       "      <td>0.0</td>\n",
       "      <td>0.461529</td>\n",
       "      <td>0.0</td>\n",
       "      <td>0.458072</td>\n",
       "      <td>0.0</td>\n",
       "      <td>...</td>\n",
       "      <td>0.414859</td>\n",
       "      <td>0.0</td>\n",
       "      <td>0.407945</td>\n",
       "      <td>0.0</td>\n",
       "      <td>0.404488</td>\n",
       "      <td>0.0</td>\n",
       "      <td>0.394116</td>\n",
       "      <td>0.0</td>\n",
       "      <td>0.369917</td>\n",
       "      <td>0.0</td>\n",
       "    </tr>\n",
       "  </tbody>\n",
       "</table>\n",
       "<p>5 rows × 36 columns</p>\n",
       "</div>"
      ],
      "text/plain": [
       "    var1(t-12)  var2(t-12)  var1(t-11)  var2(t-11)  var1(t-10)  var2(t-10)  \\\n",
       "12    0.390659         0.0    0.385474         0.0    0.395845         0.0   \n",
       "13    0.385474         0.0    0.395845         0.0    0.409673         0.0   \n",
       "14    0.395845         0.0    0.409673         0.0    0.423501         0.0   \n",
       "15    0.409673         0.0    0.423501         0.0    0.435601         0.0   \n",
       "16    0.423501         0.0    0.435601         0.0    0.449429         0.0   \n",
       "\n",
       "    var1(t-9)  var2(t-9)  var1(t-8)  var2(t-8)  ...  var1(t+1)  var2(t+1)  \\\n",
       "12   0.409673        0.0   0.423501        0.0  ...   0.430416        0.0   \n",
       "13   0.423501        0.0   0.435601        0.0  ...   0.440787        0.0   \n",
       "14   0.435601        0.0   0.449429        0.0  ...   0.435601        0.0   \n",
       "15   0.449429        0.0   0.461529        0.0  ...   0.425230        0.0   \n",
       "16   0.461529        0.0   0.458072        0.0  ...   0.414859        0.0   \n",
       "\n",
       "    var1(t+2)  var2(t+2)  var1(t+3)  var2(t+3)  var1(t+4)  var2(t+4)  \\\n",
       "12   0.440787        0.0   0.435601        0.0   0.425230        0.0   \n",
       "13   0.435601        0.0   0.425230        0.0   0.414859        0.0   \n",
       "14   0.425230        0.0   0.414859        0.0   0.407945        0.0   \n",
       "15   0.414859        0.0   0.407945        0.0   0.404488        0.0   \n",
       "16   0.407945        0.0   0.404488        0.0   0.394116        0.0   \n",
       "\n",
       "    var1(t+5)  var2(t+5)  \n",
       "12   0.414859        0.0  \n",
       "13   0.407945        0.0  \n",
       "14   0.404488        0.0  \n",
       "15   0.394116        0.0  \n",
       "16   0.369917        0.0  \n",
       "\n",
       "[5 rows x 36 columns]"
      ]
     },
     "execution_count": 47,
     "metadata": {},
     "output_type": "execute_result"
    }
   ],
   "source": [
    "# Transforming the training time series data into a supervised data\n",
    "train = series_to_supervised(scaled, 12, 6)\n",
    "train.head()"
   ]
  },
  {
   "cell_type": "code",
   "execution_count": 48,
   "metadata": {},
   "outputs": [
    {
     "name": "stdout",
     "output_type": "stream",
     "text": [
      "(12064, 12)\n"
     ]
    }
   ],
   "source": [
    "# Transforming the training time series data into a supervised data\n",
    "#train = series_to_supervised(scaled, 12, 6)\n",
    "#print(train.shape)\n",
    "# drop columns we don't want to predict\n",
    "train.drop(train.columns[[25,27,29,31,33,35]], axis=1, inplace=True)\n",
    "train.head()\n",
    "n_features=1\n",
    "X1=train.iloc[:,0:24:2]\n",
    "print(X1.shape)\n",
    "X1=np.array(X1).reshape(X1.shape[0], X1.shape[1], n_features)\n",
    "X2=train.iloc[:,1:24:2]\n",
    "X2=np.array(X2).reshape(X2.shape[0], X2.shape[1], n_features)"
   ]
  },
  {
   "cell_type": "code",
   "execution_count": 49,
   "metadata": {},
   "outputs": [
    {
     "name": "stdout",
     "output_type": "stream",
     "text": [
      "      var1(t-12)  var1(t-11)  var1(t-10)  var1(t-9)  var1(t-8)  var1(t-7)  \\\n",
      "12      0.437786    0.447962    0.458138   0.468314   0.478490   0.488665   \n",
      "13      0.447962    0.458138    0.468314   0.478490   0.488665   0.501385   \n",
      "14      0.458138    0.468314    0.478490   0.488665   0.501385   0.514105   \n",
      "15      0.468314    0.478490    0.488665   0.501385   0.514105   0.519193   \n",
      "16      0.478490    0.488665    0.501385   0.514105   0.519193   0.519193   \n",
      "...          ...         ...         ...        ...        ...        ...   \n",
      "2866    0.435242    0.435242    0.437786   0.442874   0.445418   0.450506   \n",
      "2867    0.435242    0.437786    0.442874   0.445418   0.450506   0.458138   \n",
      "2868    0.437786    0.442874    0.445418   0.450506   0.458138   0.460682   \n",
      "2869    0.442874    0.445418    0.450506   0.458138   0.460682   0.460682   \n",
      "2870    0.445418    0.450506    0.458138   0.460682   0.460682   0.458138   \n",
      "\n",
      "      var1(t-6)  var1(t-5)  var1(t-4)  var1(t-3)  var1(t-2)  var1(t-1)  \n",
      "12     0.501385   0.514105   0.519193   0.519193   0.519193   0.529369  \n",
      "13     0.514105   0.519193   0.519193   0.519193   0.529369   0.554808  \n",
      "14     0.519193   0.519193   0.519193   0.529369   0.554808   0.575160  \n",
      "15     0.519193   0.519193   0.529369   0.554808   0.575160   0.585336  \n",
      "16     0.519193   0.529369   0.554808   0.575160   0.585336   0.595511  \n",
      "...         ...        ...        ...        ...        ...        ...  \n",
      "2866   0.458138   0.460682   0.460682   0.458138   0.455594   0.455594  \n",
      "2867   0.460682   0.460682   0.458138   0.455594   0.455594   0.455594  \n",
      "2868   0.460682   0.458138   0.455594   0.455594   0.455594   0.458138  \n",
      "2869   0.458138   0.455594   0.455594   0.455594   0.458138   0.460682  \n",
      "2870   0.455594   0.455594   0.455594   0.458138   0.460682   0.458138  \n",
      "\n",
      "[2859 rows x 12 columns]\n"
     ]
    }
   ],
   "source": [
    "# Transforming the testing time series data into a supervised data\n",
    "test = series_to_supervised(scaled1, 12, 6)\n",
    "#print(test.shape)\n",
    "# drop columns we don't want to predict\n",
    "test.drop(test.columns[[25,27,29,31,33,35]], axis=1, inplace=True)\n",
    "Xtest1=test.iloc[:,0:24:2]\n",
    "print(Xtest1)\n",
    "Xtest1=np.array(Xtest1).reshape(Xtest1.shape[0], Xtest1.shape[1], n_features)\n",
    "Xtest2=test.iloc[:,1:24:2]\n",
    "Xtest2=np.array(Xtest2).reshape(Xtest2.shape[0], Xtest2.shape[1], n_features)\n",
    "test=np.array(test)"
   ]
  },
  {
   "cell_type": "code",
   "execution_count": 50,
   "metadata": {},
   "outputs": [],
   "source": [
    "#Past history: One hour, Prediction horizon: 30 minutes \n",
    "n_lag=12\n",
    "n_seq=6\n",
    "epochs=50"
   ]
  },
  {
   "cell_type": "code",
   "execution_count": 51,
   "metadata": {},
   "outputs": [],
   "source": [
    "from keras.models import Sequential\n",
    "from keras.layers import Dense\n",
    "from keras.layers import Flatten\n",
    "from keras.layers.convolutional import Conv1D\n",
    "from keras.layers import TimeDistributed\n",
    "from keras.layers.convolutional import MaxPooling1D\n",
    "import datetime   \n",
    "import math"
   ]
  },
  {
   "cell_type": "code",
   "execution_count": 52,
   "metadata": {},
   "outputs": [
    {
     "name": "stdout",
     "output_type": "stream",
     "text": [
      "[[0.4753573  0.43041557 0.44078672 0.43560112 0.42522997 0.4148588 ]\n",
      " [0.43041557 0.44078672 0.43560112 0.42522997 0.4148588  0.40794468]\n",
      " [0.44078672 0.43560112 0.42522997 0.4148588  0.40794468 0.4044876 ]\n",
      " ...\n",
      " [0.48399997 0.4857285  0.4891855  0.49437112 0.49955672 0.5064708 ]\n",
      " [0.4857285  0.4891855  0.49437112 0.49955672 0.5064708  0.51338494]\n",
      " [0.4891855  0.49437112 0.49955672 0.5064708  0.51338494 0.5202991 ]]\n",
      "(12064, 6)\n",
      "rows-x= 12064\n"
     ]
    }
   ],
   "source": [
    "n_features=1\n",
    "timesteps=n_lag\n",
    "n_seq=6\n",
    "#X= np.array(train.iloc[:, 0:24])\n",
    "#X1=train.iloc[:,0:24:2].reshape(train.shape[0], train.shape[1], n_features)\n",
    "#X2=train.iloc[:,1:24:2].reshape(train.shape[0], train.shape[1], n_features)\n",
    "y= np.array(train.iloc[:, 24:36])\n",
    "print(y)\n",
    "print(y.shape)\n",
    "rows_x = len(y)\n",
    "print(\"rows-x=\",rows_x)\n",
    "#X = np.reshape(X, (rows_x, timesteps, 1)) \n",
    "#print(X.shape)"
   ]
  },
  {
   "cell_type": "code",
   "execution_count": 53,
   "metadata": {},
   "outputs": [
    {
     "name": "stdout",
     "output_type": "stream",
     "text": [
      "Model: \"model\"\n",
      "__________________________________________________________________________________________________\n",
      " Layer (type)                   Output Shape         Param #     Connected to                     \n",
      "==================================================================================================\n",
      " input_1 (InputLayer)           [(None, 12, 1)]      0           []                               \n",
      "                                                                                                  \n",
      " input_2 (InputLayer)           [(None, 12, 1)]      0           []                               \n",
      "                                                                                                  \n",
      " conv1d (Conv1D)                (None, 11, 64)       192         ['input_1[0][0]']                \n",
      "                                                                                                  \n",
      " conv1d_1 (Conv1D)              (None, 11, 64)       192         ['input_2[0][0]']                \n",
      "                                                                                                  \n",
      " max_pooling1d (MaxPooling1D)   (None, 5, 64)        0           ['conv1d[0][0]']                 \n",
      "                                                                                                  \n",
      " max_pooling1d_1 (MaxPooling1D)  (None, 5, 64)       0           ['conv1d_1[0][0]']               \n",
      "                                                                                                  \n",
      " flatten (Flatten)              (None, 320)          0           ['max_pooling1d[0][0]']          \n",
      "                                                                                                  \n",
      " flatten_1 (Flatten)            (None, 320)          0           ['max_pooling1d_1[0][0]']        \n",
      "                                                                                                  \n",
      " concatenate (Concatenate)      (None, 640)          0           ['flatten[0][0]',                \n",
      "                                                                  'flatten_1[0][0]']              \n",
      "                                                                                                  \n",
      " dense (Dense)                  (None, 100)          64100       ['concatenate[0][0]']            \n",
      "                                                                                                  \n",
      " dense_1 (Dense)                (None, 6)            606         ['dense[0][0]']                  \n",
      "                                                                                                  \n",
      "==================================================================================================\n",
      "Total params: 65,090\n",
      "Trainable params: 65,090\n",
      "Non-trainable params: 0\n",
      "__________________________________________________________________________________________________\n"
     ]
    }
   ],
   "source": [
    "# first input model\n",
    "from keras.layers import Input\n",
    "from keras.models import Model\n",
    "from keras.layers import concatenate\n",
    "visible1 = Input(shape=(timesteps, n_features))\n",
    "cnn1 = Conv1D(filters=64, kernel_size=2, activation='relu')(visible1)\n",
    "cnn1 = MaxPooling1D(pool_size=2)(cnn1)\n",
    "cnn1 = Flatten()(cnn1)\n",
    "# second input model\n",
    "visible2 = Input(shape=(timesteps, n_features))\n",
    "cnn2 = Conv1D(filters=64, kernel_size=2, activation='relu')(visible2)\n",
    "cnn2 = MaxPooling1D(pool_size=2)(cnn2)\n",
    "cnn2 = Flatten()(cnn2)\n",
    "# merge input models\n",
    "merge = concatenate([cnn1, cnn2])\n",
    "dense = Dense(100, activation='relu')(merge)\n",
    "output = Dense(n_seq)(dense)\n",
    "model = Model(inputs=[visible1, visible2], outputs=output)\n",
    "model.summary()\n",
    "model.compile(optimizer='adam', loss='mse')"
   ]
  },
  {
   "cell_type": "code",
   "execution_count": 54,
   "metadata": {},
   "outputs": [
    {
     "data": {
      "text/plain": [
       "<keras.callbacks.History at 0x2871757e7f0>"
      ]
     },
     "execution_count": 54,
     "metadata": {},
     "output_type": "execute_result"
    }
   ],
   "source": [
    "# fit model\n",
    "import time\n",
    "start_time = time.time()\n",
    "model.fit([X1, X2], y, epochs=400, verbose=0)"
   ]
  },
  {
   "cell_type": "code",
   "execution_count": 55,
   "metadata": {},
   "outputs": [
    {
     "name": "stdout",
     "output_type": "stream",
     "text": [
      "477/477 [==============================] - 1s 782us/step\n",
      "[[0.5177825  0.52166766 0.5253947  0.52844757 0.53191566 0.5355246 ]\n",
      " [0.5307024  0.53596574 0.54068846 0.54458135 0.5485003  0.5522363 ]\n",
      " [0.57233286 0.58438873 0.59471446 0.60362583 0.61164975 0.61788017]\n",
      " ...\n",
      " [0.4503875  0.45160803 0.45275477 0.45347363 0.45542794 0.4571422 ]\n",
      " [0.4545902  0.45652965 0.4582899  0.45964447 0.46209952 0.46433738]\n",
      " [0.45921302 0.46181843 0.46411154 0.46600047 0.4691932  0.47201678]]\n"
     ]
    }
   ],
   "source": [
    "a=model.predict([Xtest1,Xtest2],batch_size=n_seq)\n",
    "print(a)"
   ]
  },
  {
   "cell_type": "code",
   "execution_count": 56,
   "metadata": {},
   "outputs": [
    {
     "name": "stdout",
     "output_type": "stream",
     "text": [
      "400.0\n",
      "6.910993\n"
     ]
    }
   ],
   "source": [
    "print(testmax)\n",
    "print(testmin)"
   ]
  },
  {
   "cell_type": "code",
   "execution_count": 57,
   "metadata": {},
   "outputs": [
    {
     "name": "stdout",
     "output_type": "stream",
     "text": [
      "[[210.44562 211.97282 213.43788 214.63794 216.0012  217.41985]\n",
      " [215.52429 217.59325 219.44969 220.97995 222.52045 223.98903]\n",
      " [231.88876 236.62779 240.68672 244.18968 247.3438  249.79291]\n",
      " ...\n",
      " [183.95338 184.43315 184.88393 185.1665  185.93472 186.60858]\n",
      " [185.60541 186.36778 187.05972 187.5922  188.55725 189.43692]\n",
      " [187.42259 188.44675 189.34814 190.09067 191.34569 192.45561]]\n"
     ]
    }
   ],
   "source": [
    "forec1=a*(testmax-testmin)+testmin\n",
    "print(forec1)"
   ]
  },
  {
   "cell_type": "code",
   "execution_count": 58,
   "metadata": {},
   "outputs": [
    {
     "name": "stdout",
     "output_type": "stream",
     "text": [
      "              24          25          26          27          28          29\n",
      "0     225.000000  233.000015  237.000000  241.000000  246.000015  248.000000\n",
      "1     233.000015  237.000000  241.000000  246.000015  248.000000  250.000000\n",
      "2     237.000000  241.000000  246.000015  248.000000  250.000000  252.000000\n",
      "3     241.000000  246.000015  248.000000  250.000000  252.000000  256.000000\n",
      "4     246.000015  248.000000  250.000000  252.000000  256.000000  259.000000\n",
      "...          ...         ...         ...         ...         ...         ...\n",
      "2854  186.000000  187.000000  188.000000  187.000000  186.000000  185.000000\n",
      "2855  187.000000  188.000000  187.000000  186.000000  185.000000  182.999985\n",
      "2856  188.000000  187.000000  186.000000  185.000000  182.999985  182.000000\n",
      "2857  187.000000  186.000000  185.000000  182.999985  182.000000  180.000000\n",
      "2858  186.000000  185.000000  182.999985  182.000000  180.000000  177.000000\n",
      "\n",
      "[2859 rows x 6 columns]\n"
     ]
    }
   ],
   "source": [
    "test=pd.DataFrame(test)\n",
    "testy=test.loc[:,24:30]\n",
    "actual=testy*(testmax-testmin)+testmin\n",
    "print(actual)"
   ]
  },
  {
   "cell_type": "code",
   "execution_count": 59,
   "metadata": {},
   "outputs": [
    {
     "name": "stdout",
     "output_type": "stream",
     "text": [
      "(2859, 6)\n"
     ]
    },
    {
     "data": {
      "text/plain": [
       "18.084686"
      ]
     },
     "execution_count": 59,
     "metadata": {},
     "output_type": "execute_result"
    }
   ],
   "source": [
    "forec1=np.array(forec1)\n",
    "actual=np.array(actual)\n",
    "diff=actual-forec1\n",
    "print(diff.shape)\n",
    "#np.sqrt(np.mean((diff)**2,axis=0))\n",
    "np.sqrt(np.mean((diff)**2,axis=0)).mean()"
   ]
  },
  {
   "cell_type": "raw",
   "metadata": {},
   "source": [
    "print(\"--- %s seconds ---\" % (time.time() - start_time))"
   ]
  }
 ],
 "metadata": {
  "colab": {
   "collapsed_sections": [],
   "name": "Glucose process_data v3.2.ipynb",
   "provenance": []
  },
  "kernelspec": {
   "display_name": "Python 3 (ipykernel)",
   "language": "python",
   "name": "python3"
  },
  "language_info": {
   "codemirror_mode": {
    "name": "ipython",
    "version": 3
   },
   "file_extension": ".py",
   "mimetype": "text/x-python",
   "name": "python",
   "nbconvert_exporter": "python",
   "pygments_lexer": "ipython3",
   "version": "3.9.12"
  }
 },
 "nbformat": 4,
 "nbformat_minor": 1
}
