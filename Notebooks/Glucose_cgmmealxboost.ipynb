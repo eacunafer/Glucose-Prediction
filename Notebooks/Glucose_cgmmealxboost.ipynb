{
 "cells": [
  {
   "cell_type": "markdown",
   "metadata": {},
   "source": [
    "### Script for processing Glucose multivariate data"
   ]
  },
  {
   "cell_type": "code",
   "execution_count": 476,
   "metadata": {
    "id": "huJVvpnX0fem"
   },
   "outputs": [],
   "source": [
    "import pandas as pd\n",
    "import numpy as np\n",
    "import xml.etree.cElementTree as et\n",
    "from datetime import datetime\n",
    "from pandas.core.tools.datetimes import to_datetime\n",
    "from datetime import timedelta\n",
    "# forecast monthly births with xgboost\n",
    "from numpy import asarray\n",
    "from pandas import read_csv\n",
    "from pandas import DataFrame\n",
    "from pandas import concat\n",
    "from sklearn.metrics import mean_absolute_error\n",
    "import xgboost as xgb\n",
    "from xgboost import XGBRegressor\n",
    "from sklearn.multioutput import MultiOutputRegressor\n",
    "import matplotlib.pyplot as plt"
   ]
  },
  {
   "cell_type": "markdown",
   "metadata": {},
   "source": [
    "### Function to read the xml formatted datafile"
   ]
  },
  {
   "cell_type": "code",
   "execution_count": 477,
   "metadata": {},
   "outputs": [],
   "source": [
    "def read_xml_data(filename, selected_items):\n",
    "  tree=et.parse(filename)\n",
    "  root=tree.getroot()\n",
    "  #extract selected items\n",
    "  for child in root:\n",
    "    if child.tag in selected_items:\n",
    "      df = pd.DataFrame()\n",
    "      for elem in child:      \n",
    "        df1 = pd.DataFrame(elem.attrib, index=[0])\n",
    "        #df = df.append(df1)\n",
    "        df = pd.concat([df, df1])\n",
    "      #First column is the timestamp (dayfirst)      \n",
    "      #df.iloc[:,0] = pd.to_datetime(df.iloc[:,0], dayfirst=True)\n",
    "      #write to csv file using the timestamp as index      \n",
    "      df.to_csv(child.tag+'.csv', index=0)  "
   ]
  },
  {
   "cell_type": "code",
   "execution_count": 478,
   "metadata": {
    "id": "vvMV4uhscPRn"
   },
   "outputs": [],
   "source": [
    "def read_ts_file(filename):\n",
    "  #reads csv file where the first column is a timestamp and the index column\n",
    "  df = pd.read_csv (filename, parse_dates=[0], dayfirst=True, index_col=0)\n",
    "  return df"
   ]
  },
  {
   "cell_type": "markdown",
   "metadata": {},
   "source": [
    "### Function for  alignment of two time series "
   ]
  },
  {
   "cell_type": "code",
   "execution_count": 479,
   "metadata": {
    "id": "oBTcc1bReOUI"
   },
   "outputs": [],
   "source": [
    "def align_timeseries(align_df, source_df, source_columns, default_vals, dest_columns=[], include_index=False):\n",
    "  # Generates a new dataframe with source_df data aligned to align_df\n",
    "  # source_columns : list of columns from source_df to be included in result\n",
    "  # dest_columns = column names of source_columns, if ommited column names will be the same as in source_df\n",
    "  #                if specified, the first column has to be the name of the index in the destination\n",
    "  # include_index: if source index must be included in the result\n",
    "  # default_vals = list of default values for source_columns\n",
    " \n",
    "  df_align = align_df.copy()\n",
    "  df_align = df_align.sort_index()\n",
    "  df2 = source_df.copy()\n",
    "  df2 = df2.sort_index()\n",
    "  df_dup = pd.DataFrame()\n",
    "  if (dest_columns==[]) : dest_columns = source_columns.copy()\n",
    "  if (len(dest_columns) == len(source_columns)) : dest_columns = ['source_ts'] + dest_columns # add column for index\n",
    "  #add blank cells in destination\n",
    "  df_align[dest_columns] = [np.nan] + default_vals\n",
    "  for i in range(len(df2)):\n",
    "      ts2 = df2.index[i]\n",
    "      ts1_loc = df_align.index.get_loc(ts2, method='nearest')\n",
    "      ts1 = df_align.index[ts1_loc]\n",
    "      vals = [ts2]+list(df2.loc[ts2, source_columns])\n",
    "      ts_old = df_align.loc[ts1, dest_columns[0]]\n",
    "      if not pd.isna(ts_old): #there are duplicates\n",
    "        if (abs(ts1.value-ts2.value) > abs(ts1.value-ts_old.value)): \n",
    "          #difference is greater, do not replace        \n",
    "          df_dup = df_dup.append(df_align.loc[ts1])\n",
    "          df_dup.loc[ts1, dest_columns] = vals\n",
    "        else: #replace\n",
    "          df_dup = df_dup.append(df_align.loc[ts1])\n",
    "          df_align.loc[ts1, dest_columns] = vals\n",
    "        continue\n",
    "      df_align.loc[ts1, dest_columns] = vals\n",
    "  \n",
    "  if not(include_index) : df_align = df_align.drop( columns = dest_columns[0])\n",
    "\n",
    "  return df_align, df_dup"
   ]
  },
  {
   "cell_type": "markdown",
   "metadata": {},
   "source": [
    "### Function to create an equally spaced 5 minutes time series"
   ]
  },
  {
   "cell_type": "code",
   "execution_count": 480,
   "metadata": {
    "id": "DgIsZtJOfC3Y"
   },
   "outputs": [],
   "source": [
    "def timedf(df):\n",
    "  #creates a 5 minute interval timeseries dataframe based in index of df\n",
    "  # df must have a timestamp index\n",
    "  #time_df: result dataframe with timestamp index\n",
    "  timestamp = pd.date_range(start=df.index[0], end=df.index[-1]  + timedelta(minutes=4), freq='5T')\n",
    "  time_df = pd.DataFrame({'timestamp':timestamp})\n",
    "  time_df.set_index('timestamp', inplace=True)\n",
    "  return time_df"
   ]
  },
  {
   "cell_type": "markdown",
   "metadata": {},
   "source": [
    "### Function to find out the number of gaps and theirs length  in a time series"
   ]
  },
  {
   "cell_type": "code",
   "execution_count": 481,
   "metadata": {
    "id": "7F6omJDLbpun"
   },
   "outputs": [],
   "source": [
    "def find_gaps(df, greaterthan=5, units='m'):\n",
    "  # find gaps relative to index, index must be a datetime field\n",
    "  # greaterthan is the number of time units to be considered a gap\n",
    "  # units 'm'=minutes, 'h'=hours\n",
    "  i = 0\n",
    "  gaps_df = pd.DataFrame()\n",
    "  while i < len(df) - 1:\n",
    "    ts = df.index[i]\n",
    "    next_ts = df.index[i+1]\n",
    "    duration = next_ts - ts\n",
    "    if duration > np.timedelta64(greaterthan, units): \n",
    "      begin_gap = ts\n",
    "      end_gap = next_ts\n",
    "      gaps_df = gaps_df.append({'From': begin_gap, 'To': end_gap, 'Duration': duration}, ignore_index=True)\n",
    "    i = i + 1\n",
    "  gaps_df.sort_values(by=['Duration'], ascending=False, inplace=True)\n",
    "  return gaps_df"
   ]
  },
  {
   "cell_type": "code",
   "execution_count": 482,
   "metadata": {
    "id": "AqWnu7sUcy0j"
   },
   "outputs": [],
   "source": [
    "#def read_files():\n",
    "#  #read glucose\n",
    "#  glucose_df = read_ts_file('glucose_level.csv')\n",
    "#  glucose_df.rename(columns={\"ts\": \"timestamp\", \"value\": \"glucose\"}, inplace=True)\n",
    "#  print(glucose_df)\n",
    "#read meal\n",
    "#  meal_df = read_ts_file('meal.csv')\n",
    "#  print(meal_df)\n",
    "#  #read bolus\n",
    "#  meal_df = read_ts_file('bolus.csv')\n",
    "# print(meal_df)"
   ]
  },
  {
   "cell_type": "markdown",
   "metadata": {},
   "source": [
    "### Function to impute by the mean"
   ]
  },
  {
   "cell_type": "code",
   "execution_count": 483,
   "metadata": {},
   "outputs": [],
   "source": [
    "def impute_mean(df, column, by='hour'):\n",
    "  # impute with mean by hours\n",
    "  # in the future by could be another mean grouping criterion\n",
    "  df[by] = df.index.hour\n",
    "  df[column] = df.groupby(by)[column].apply(lambda x: x.fillna(x.mean()))\n",
    "  df.drop(by, axis=1, inplace=True)"
   ]
  },
  {
   "cell_type": "markdown",
   "metadata": {},
   "source": [
    "### Function to convert time series into supervised learning problem"
   ]
  },
  {
   "cell_type": "code",
   "execution_count": 484,
   "metadata": {},
   "outputs": [],
   "source": [
    "# convert time series into supervised learning problem\n",
    "def series_to_supervised(data, n_in=1, n_out=1, dropnan=True):\n",
    "    n_vars=1 if type(data) is list else data.shape[1]\n",
    "    df = pd.DataFrame(data)\n",
    "    cols, names = list(), list()\n",
    "    # input sequence (t-n, ... t-1)\n",
    "    for i in range(n_in, 0, -1):\n",
    "        cols.append(df.shift(i))\n",
    "        names += [('var%d(t-%d)' % (j+1, i)) for j in range(n_vars)]\n",
    "    # forecast sequence (t, t+1, ... t+n)\n",
    "    for i in range(0, n_out):\n",
    "        cols.append(df.shift(-i))\n",
    "        if i == 0:\n",
    "            names += [('var%d(t)' % (j+1)) for j in range(n_vars)]\n",
    "        else:\n",
    "            names += [('var%d(t+%d)' % (j+1, i)) for j in range(n_vars)]\n",
    "    # put it all together\n",
    "    agg = pd.concat(cols, axis=1)\n",
    "    agg.columns = names\n",
    "    # drop rows with NaN values\n",
    "    if dropnan:\n",
    "        agg.dropna(inplace=True)\n",
    "    return agg"
   ]
  },
  {
   "cell_type": "markdown",
   "metadata": {
    "id": "p6fGo4Bu6nic"
   },
   "source": [
    "## Reading  Training  Data"
   ]
  },
  {
   "cell_type": "code",
   "execution_count": 485,
   "metadata": {
    "id": "xnLzUPY70mNV"
   },
   "outputs": [],
   "source": [
    "#selected_items = ['glucose_level','bolus','meal']\n",
    "read_xml_data(filename='c://aadm/584-ws-training.xml', selected_items=['glucose_level','meal'])"
   ]
  },
  {
   "cell_type": "code",
   "execution_count": 486,
   "metadata": {
    "colab": {
     "base_uri": "https://localhost:8080/"
    },
    "id": "piTliitocOFu",
    "outputId": "e2848464-dc9c-4255-d86c-b53bd38dbcde"
   },
   "outputs": [
    {
     "name": "stdout",
     "output_type": "stream",
     "text": [
      "                     glucose\n",
      "ts                          \n",
      "2025-05-14 00:03:00       48\n",
      "2025-05-14 00:08:00       48\n",
      "2025-05-14 00:13:00       53\n",
      "2025-05-14 00:18:00       63\n",
      "2025-05-14 00:23:00       69\n",
      "...                      ...\n",
      "2025-06-28 23:36:00      206\n",
      "2025-06-28 23:41:00      208\n",
      "2025-06-28 23:46:00      213\n",
      "2025-06-28 23:51:00      224\n",
      "2025-06-28 23:56:00      235\n",
      "\n",
      "[12150 rows x 1 columns]\n"
     ]
    }
   ],
   "source": [
    "glucose_df = read_ts_file('glucose_level.csv')\n",
    "glucose_df.rename(columns={\"ts\": \"timestamp\", \"value\": \"glucose\"}, inplace=True)\n",
    "print(glucose_df)"
   ]
  },
  {
   "cell_type": "code",
   "execution_count": 487,
   "metadata": {},
   "outputs": [
    {
     "data": {
      "text/html": [
       "<div>\n",
       "<style scoped>\n",
       "    .dataframe tbody tr th:only-of-type {\n",
       "        vertical-align: middle;\n",
       "    }\n",
       "\n",
       "    .dataframe tbody tr th {\n",
       "        vertical-align: top;\n",
       "    }\n",
       "\n",
       "    .dataframe thead th {\n",
       "        text-align: right;\n",
       "    }\n",
       "</style>\n",
       "<table border=\"1\" class=\"dataframe\">\n",
       "  <thead>\n",
       "    <tr style=\"text-align: right;\">\n",
       "      <th></th>\n",
       "      <th>glucose</th>\n",
       "    </tr>\n",
       "  </thead>\n",
       "  <tbody>\n",
       "    <tr>\n",
       "      <th>count</th>\n",
       "      <td>12150.000000</td>\n",
       "    </tr>\n",
       "    <tr>\n",
       "      <th>mean</th>\n",
       "      <td>192.484444</td>\n",
       "    </tr>\n",
       "    <tr>\n",
       "      <th>std</th>\n",
       "      <td>65.442789</td>\n",
       "    </tr>\n",
       "    <tr>\n",
       "      <th>min</th>\n",
       "      <td>40.000000</td>\n",
       "    </tr>\n",
       "    <tr>\n",
       "      <th>25%</th>\n",
       "      <td>145.000000</td>\n",
       "    </tr>\n",
       "    <tr>\n",
       "      <th>50%</th>\n",
       "      <td>183.000000</td>\n",
       "    </tr>\n",
       "    <tr>\n",
       "      <th>75%</th>\n",
       "      <td>230.000000</td>\n",
       "    </tr>\n",
       "    <tr>\n",
       "      <th>max</th>\n",
       "      <td>400.000000</td>\n",
       "    </tr>\n",
       "  </tbody>\n",
       "</table>\n",
       "</div>"
      ],
      "text/plain": [
       "            glucose\n",
       "count  12150.000000\n",
       "mean     192.484444\n",
       "std       65.442789\n",
       "min       40.000000\n",
       "25%      145.000000\n",
       "50%      183.000000\n",
       "75%      230.000000\n",
       "max      400.000000"
      ]
     },
     "execution_count": 487,
     "metadata": {},
     "output_type": "execute_result"
    }
   ],
   "source": [
    "glucose_df.describe()"
   ]
  },
  {
   "cell_type": "markdown",
   "metadata": {
    "id": "F35XLzzv62VM"
   },
   "source": [
    "# Explore gaps"
   ]
  },
  {
   "cell_type": "code",
   "execution_count": 488,
   "metadata": {
    "colab": {
     "base_uri": "https://localhost:8080/"
    },
    "id": "1yRLPScwidM-",
    "outputId": "008ccc52-e597-4bd0-eebc-ff254b1c1417"
   },
   "outputs": [
    {
     "name": "stdout",
     "output_type": "stream",
     "text": [
      "Missing intervals:  1098\n"
     ]
    }
   ],
   "source": [
    "#Finding the length of the complete time series\n",
    "time_df = timedf(glucose_df)\n",
    "print('Missing intervals: ', len(time_df) - len(glucose_df) )"
   ]
  },
  {
   "cell_type": "code",
   "execution_count": 489,
   "metadata": {
    "colab": {
     "base_uri": "https://localhost:8080/"
    },
    "id": "9Zy-xy9i7ATs",
    "outputId": "b893f890-2112-46af-8139-4c11eff1a411"
   },
   "outputs": [
    {
     "name": "stderr",
     "output_type": "stream",
     "text": [
      "C:\\Users\\eacun\\AppData\\Local\\Temp\\ipykernel_11648\\1628313578.py:14: FutureWarning: The frame.append method is deprecated and will be removed from pandas in a future version. Use pandas.concat instead.\n",
      "  gaps_df = gaps_df.append({'From': begin_gap, 'To': end_gap, 'Duration': duration}, ignore_index=True)\n",
      "C:\\Users\\eacun\\AppData\\Local\\Temp\\ipykernel_11648\\1628313578.py:14: FutureWarning: The frame.append method is deprecated and will be removed from pandas in a future version. Use pandas.concat instead.\n",
      "  gaps_df = gaps_df.append({'From': begin_gap, 'To': end_gap, 'Duration': duration}, ignore_index=True)\n",
      "C:\\Users\\eacun\\AppData\\Local\\Temp\\ipykernel_11648\\1628313578.py:14: FutureWarning: The frame.append method is deprecated and will be removed from pandas in a future version. Use pandas.concat instead.\n",
      "  gaps_df = gaps_df.append({'From': begin_gap, 'To': end_gap, 'Duration': duration}, ignore_index=True)\n",
      "C:\\Users\\eacun\\AppData\\Local\\Temp\\ipykernel_11648\\1628313578.py:14: FutureWarning: The frame.append method is deprecated and will be removed from pandas in a future version. Use pandas.concat instead.\n",
      "  gaps_df = gaps_df.append({'From': begin_gap, 'To': end_gap, 'Duration': duration}, ignore_index=True)\n",
      "C:\\Users\\eacun\\AppData\\Local\\Temp\\ipykernel_11648\\1628313578.py:14: FutureWarning: The frame.append method is deprecated and will be removed from pandas in a future version. Use pandas.concat instead.\n",
      "  gaps_df = gaps_df.append({'From': begin_gap, 'To': end_gap, 'Duration': duration}, ignore_index=True)\n",
      "C:\\Users\\eacun\\AppData\\Local\\Temp\\ipykernel_11648\\1628313578.py:14: FutureWarning: The frame.append method is deprecated and will be removed from pandas in a future version. Use pandas.concat instead.\n",
      "  gaps_df = gaps_df.append({'From': begin_gap, 'To': end_gap, 'Duration': duration}, ignore_index=True)\n",
      "C:\\Users\\eacun\\AppData\\Local\\Temp\\ipykernel_11648\\1628313578.py:14: FutureWarning: The frame.append method is deprecated and will be removed from pandas in a future version. Use pandas.concat instead.\n",
      "  gaps_df = gaps_df.append({'From': begin_gap, 'To': end_gap, 'Duration': duration}, ignore_index=True)\n",
      "C:\\Users\\eacun\\AppData\\Local\\Temp\\ipykernel_11648\\1628313578.py:14: FutureWarning: The frame.append method is deprecated and will be removed from pandas in a future version. Use pandas.concat instead.\n",
      "  gaps_df = gaps_df.append({'From': begin_gap, 'To': end_gap, 'Duration': duration}, ignore_index=True)\n",
      "C:\\Users\\eacun\\AppData\\Local\\Temp\\ipykernel_11648\\1628313578.py:14: FutureWarning: The frame.append method is deprecated and will be removed from pandas in a future version. Use pandas.concat instead.\n",
      "  gaps_df = gaps_df.append({'From': begin_gap, 'To': end_gap, 'Duration': duration}, ignore_index=True)\n",
      "C:\\Users\\eacun\\AppData\\Local\\Temp\\ipykernel_11648\\1628313578.py:14: FutureWarning: The frame.append method is deprecated and will be removed from pandas in a future version. Use pandas.concat instead.\n",
      "  gaps_df = gaps_df.append({'From': begin_gap, 'To': end_gap, 'Duration': duration}, ignore_index=True)\n",
      "C:\\Users\\eacun\\AppData\\Local\\Temp\\ipykernel_11648\\1628313578.py:14: FutureWarning: The frame.append method is deprecated and will be removed from pandas in a future version. Use pandas.concat instead.\n",
      "  gaps_df = gaps_df.append({'From': begin_gap, 'To': end_gap, 'Duration': duration}, ignore_index=True)\n",
      "C:\\Users\\eacun\\AppData\\Local\\Temp\\ipykernel_11648\\1628313578.py:14: FutureWarning: The frame.append method is deprecated and will be removed from pandas in a future version. Use pandas.concat instead.\n",
      "  gaps_df = gaps_df.append({'From': begin_gap, 'To': end_gap, 'Duration': duration}, ignore_index=True)\n",
      "C:\\Users\\eacun\\AppData\\Local\\Temp\\ipykernel_11648\\1628313578.py:14: FutureWarning: The frame.append method is deprecated and will be removed from pandas in a future version. Use pandas.concat instead.\n",
      "  gaps_df = gaps_df.append({'From': begin_gap, 'To': end_gap, 'Duration': duration}, ignore_index=True)\n",
      "C:\\Users\\eacun\\AppData\\Local\\Temp\\ipykernel_11648\\1628313578.py:14: FutureWarning: The frame.append method is deprecated and will be removed from pandas in a future version. Use pandas.concat instead.\n",
      "  gaps_df = gaps_df.append({'From': begin_gap, 'To': end_gap, 'Duration': duration}, ignore_index=True)\n",
      "C:\\Users\\eacun\\AppData\\Local\\Temp\\ipykernel_11648\\1628313578.py:14: FutureWarning: The frame.append method is deprecated and will be removed from pandas in a future version. Use pandas.concat instead.\n",
      "  gaps_df = gaps_df.append({'From': begin_gap, 'To': end_gap, 'Duration': duration}, ignore_index=True)\n",
      "C:\\Users\\eacun\\AppData\\Local\\Temp\\ipykernel_11648\\1628313578.py:14: FutureWarning: The frame.append method is deprecated and will be removed from pandas in a future version. Use pandas.concat instead.\n",
      "  gaps_df = gaps_df.append({'From': begin_gap, 'To': end_gap, 'Duration': duration}, ignore_index=True)\n",
      "C:\\Users\\eacun\\AppData\\Local\\Temp\\ipykernel_11648\\1628313578.py:14: FutureWarning: The frame.append method is deprecated and will be removed from pandas in a future version. Use pandas.concat instead.\n",
      "  gaps_df = gaps_df.append({'From': begin_gap, 'To': end_gap, 'Duration': duration}, ignore_index=True)\n",
      "C:\\Users\\eacun\\AppData\\Local\\Temp\\ipykernel_11648\\1628313578.py:14: FutureWarning: The frame.append method is deprecated and will be removed from pandas in a future version. Use pandas.concat instead.\n",
      "  gaps_df = gaps_df.append({'From': begin_gap, 'To': end_gap, 'Duration': duration}, ignore_index=True)\n",
      "C:\\Users\\eacun\\AppData\\Local\\Temp\\ipykernel_11648\\1628313578.py:14: FutureWarning: The frame.append method is deprecated and will be removed from pandas in a future version. Use pandas.concat instead.\n",
      "  gaps_df = gaps_df.append({'From': begin_gap, 'To': end_gap, 'Duration': duration}, ignore_index=True)\n",
      "C:\\Users\\eacun\\AppData\\Local\\Temp\\ipykernel_11648\\1628313578.py:14: FutureWarning: The frame.append method is deprecated and will be removed from pandas in a future version. Use pandas.concat instead.\n",
      "  gaps_df = gaps_df.append({'From': begin_gap, 'To': end_gap, 'Duration': duration}, ignore_index=True)\n",
      "C:\\Users\\eacun\\AppData\\Local\\Temp\\ipykernel_11648\\1628313578.py:14: FutureWarning: The frame.append method is deprecated and will be removed from pandas in a future version. Use pandas.concat instead.\n",
      "  gaps_df = gaps_df.append({'From': begin_gap, 'To': end_gap, 'Duration': duration}, ignore_index=True)\n",
      "C:\\Users\\eacun\\AppData\\Local\\Temp\\ipykernel_11648\\1628313578.py:14: FutureWarning: The frame.append method is deprecated and will be removed from pandas in a future version. Use pandas.concat instead.\n",
      "  gaps_df = gaps_df.append({'From': begin_gap, 'To': end_gap, 'Duration': duration}, ignore_index=True)\n",
      "C:\\Users\\eacun\\AppData\\Local\\Temp\\ipykernel_11648\\1628313578.py:14: FutureWarning: The frame.append method is deprecated and will be removed from pandas in a future version. Use pandas.concat instead.\n",
      "  gaps_df = gaps_df.append({'From': begin_gap, 'To': end_gap, 'Duration': duration}, ignore_index=True)\n",
      "C:\\Users\\eacun\\AppData\\Local\\Temp\\ipykernel_11648\\1628313578.py:14: FutureWarning: The frame.append method is deprecated and will be removed from pandas in a future version. Use pandas.concat instead.\n",
      "  gaps_df = gaps_df.append({'From': begin_gap, 'To': end_gap, 'Duration': duration}, ignore_index=True)\n",
      "C:\\Users\\eacun\\AppData\\Local\\Temp\\ipykernel_11648\\1628313578.py:14: FutureWarning: The frame.append method is deprecated and will be removed from pandas in a future version. Use pandas.concat instead.\n",
      "  gaps_df = gaps_df.append({'From': begin_gap, 'To': end_gap, 'Duration': duration}, ignore_index=True)\n",
      "C:\\Users\\eacun\\AppData\\Local\\Temp\\ipykernel_11648\\1628313578.py:14: FutureWarning: The frame.append method is deprecated and will be removed from pandas in a future version. Use pandas.concat instead.\n",
      "  gaps_df = gaps_df.append({'From': begin_gap, 'To': end_gap, 'Duration': duration}, ignore_index=True)\n",
      "C:\\Users\\eacun\\AppData\\Local\\Temp\\ipykernel_11648\\1628313578.py:14: FutureWarning: The frame.append method is deprecated and will be removed from pandas in a future version. Use pandas.concat instead.\n",
      "  gaps_df = gaps_df.append({'From': begin_gap, 'To': end_gap, 'Duration': duration}, ignore_index=True)\n",
      "C:\\Users\\eacun\\AppData\\Local\\Temp\\ipykernel_11648\\1628313578.py:14: FutureWarning: The frame.append method is deprecated and will be removed from pandas in a future version. Use pandas.concat instead.\n",
      "  gaps_df = gaps_df.append({'From': begin_gap, 'To': end_gap, 'Duration': duration}, ignore_index=True)\n",
      "C:\\Users\\eacun\\AppData\\Local\\Temp\\ipykernel_11648\\1628313578.py:14: FutureWarning: The frame.append method is deprecated and will be removed from pandas in a future version. Use pandas.concat instead.\n",
      "  gaps_df = gaps_df.append({'From': begin_gap, 'To': end_gap, 'Duration': duration}, ignore_index=True)\n",
      "C:\\Users\\eacun\\AppData\\Local\\Temp\\ipykernel_11648\\1628313578.py:14: FutureWarning: The frame.append method is deprecated and will be removed from pandas in a future version. Use pandas.concat instead.\n",
      "  gaps_df = gaps_df.append({'From': begin_gap, 'To': end_gap, 'Duration': duration}, ignore_index=True)\n",
      "C:\\Users\\eacun\\AppData\\Local\\Temp\\ipykernel_11648\\1628313578.py:14: FutureWarning: The frame.append method is deprecated and will be removed from pandas in a future version. Use pandas.concat instead.\n",
      "  gaps_df = gaps_df.append({'From': begin_gap, 'To': end_gap, 'Duration': duration}, ignore_index=True)\n",
      "C:\\Users\\eacun\\AppData\\Local\\Temp\\ipykernel_11648\\1628313578.py:14: FutureWarning: The frame.append method is deprecated and will be removed from pandas in a future version. Use pandas.concat instead.\n",
      "  gaps_df = gaps_df.append({'From': begin_gap, 'To': end_gap, 'Duration': duration}, ignore_index=True)\n",
      "C:\\Users\\eacun\\AppData\\Local\\Temp\\ipykernel_11648\\1628313578.py:14: FutureWarning: The frame.append method is deprecated and will be removed from pandas in a future version. Use pandas.concat instead.\n",
      "  gaps_df = gaps_df.append({'From': begin_gap, 'To': end_gap, 'Duration': duration}, ignore_index=True)\n",
      "C:\\Users\\eacun\\AppData\\Local\\Temp\\ipykernel_11648\\1628313578.py:14: FutureWarning: The frame.append method is deprecated and will be removed from pandas in a future version. Use pandas.concat instead.\n",
      "  gaps_df = gaps_df.append({'From': begin_gap, 'To': end_gap, 'Duration': duration}, ignore_index=True)\n",
      "C:\\Users\\eacun\\AppData\\Local\\Temp\\ipykernel_11648\\1628313578.py:14: FutureWarning: The frame.append method is deprecated and will be removed from pandas in a future version. Use pandas.concat instead.\n",
      "  gaps_df = gaps_df.append({'From': begin_gap, 'To': end_gap, 'Duration': duration}, ignore_index=True)\n",
      "C:\\Users\\eacun\\AppData\\Local\\Temp\\ipykernel_11648\\1628313578.py:14: FutureWarning: The frame.append method is deprecated and will be removed from pandas in a future version. Use pandas.concat instead.\n",
      "  gaps_df = gaps_df.append({'From': begin_gap, 'To': end_gap, 'Duration': duration}, ignore_index=True)\n"
     ]
    },
    {
     "name": "stderr",
     "output_type": "stream",
     "text": [
      "C:\\Users\\eacun\\AppData\\Local\\Temp\\ipykernel_11648\\1628313578.py:14: FutureWarning: The frame.append method is deprecated and will be removed from pandas in a future version. Use pandas.concat instead.\n",
      "  gaps_df = gaps_df.append({'From': begin_gap, 'To': end_gap, 'Duration': duration}, ignore_index=True)\n",
      "C:\\Users\\eacun\\AppData\\Local\\Temp\\ipykernel_11648\\1628313578.py:14: FutureWarning: The frame.append method is deprecated and will be removed from pandas in a future version. Use pandas.concat instead.\n",
      "  gaps_df = gaps_df.append({'From': begin_gap, 'To': end_gap, 'Duration': duration}, ignore_index=True)\n",
      "C:\\Users\\eacun\\AppData\\Local\\Temp\\ipykernel_11648\\1628313578.py:14: FutureWarning: The frame.append method is deprecated and will be removed from pandas in a future version. Use pandas.concat instead.\n",
      "  gaps_df = gaps_df.append({'From': begin_gap, 'To': end_gap, 'Duration': duration}, ignore_index=True)\n",
      "C:\\Users\\eacun\\AppData\\Local\\Temp\\ipykernel_11648\\1628313578.py:14: FutureWarning: The frame.append method is deprecated and will be removed from pandas in a future version. Use pandas.concat instead.\n",
      "  gaps_df = gaps_df.append({'From': begin_gap, 'To': end_gap, 'Duration': duration}, ignore_index=True)\n",
      "C:\\Users\\eacun\\AppData\\Local\\Temp\\ipykernel_11648\\1628313578.py:14: FutureWarning: The frame.append method is deprecated and will be removed from pandas in a future version. Use pandas.concat instead.\n",
      "  gaps_df = gaps_df.append({'From': begin_gap, 'To': end_gap, 'Duration': duration}, ignore_index=True)\n",
      "C:\\Users\\eacun\\AppData\\Local\\Temp\\ipykernel_11648\\1628313578.py:14: FutureWarning: The frame.append method is deprecated and will be removed from pandas in a future version. Use pandas.concat instead.\n",
      "  gaps_df = gaps_df.append({'From': begin_gap, 'To': end_gap, 'Duration': duration}, ignore_index=True)\n",
      "C:\\Users\\eacun\\AppData\\Local\\Temp\\ipykernel_11648\\1628313578.py:14: FutureWarning: The frame.append method is deprecated and will be removed from pandas in a future version. Use pandas.concat instead.\n",
      "  gaps_df = gaps_df.append({'From': begin_gap, 'To': end_gap, 'Duration': duration}, ignore_index=True)\n",
      "C:\\Users\\eacun\\AppData\\Local\\Temp\\ipykernel_11648\\1628313578.py:14: FutureWarning: The frame.append method is deprecated and will be removed from pandas in a future version. Use pandas.concat instead.\n",
      "  gaps_df = gaps_df.append({'From': begin_gap, 'To': end_gap, 'Duration': duration}, ignore_index=True)\n",
      "C:\\Users\\eacun\\AppData\\Local\\Temp\\ipykernel_11648\\1628313578.py:14: FutureWarning: The frame.append method is deprecated and will be removed from pandas in a future version. Use pandas.concat instead.\n",
      "  gaps_df = gaps_df.append({'From': begin_gap, 'To': end_gap, 'Duration': duration}, ignore_index=True)\n",
      "C:\\Users\\eacun\\AppData\\Local\\Temp\\ipykernel_11648\\1628313578.py:14: FutureWarning: The frame.append method is deprecated and will be removed from pandas in a future version. Use pandas.concat instead.\n",
      "  gaps_df = gaps_df.append({'From': begin_gap, 'To': end_gap, 'Duration': duration}, ignore_index=True)\n",
      "C:\\Users\\eacun\\AppData\\Local\\Temp\\ipykernel_11648\\1628313578.py:14: FutureWarning: The frame.append method is deprecated and will be removed from pandas in a future version. Use pandas.concat instead.\n",
      "  gaps_df = gaps_df.append({'From': begin_gap, 'To': end_gap, 'Duration': duration}, ignore_index=True)\n",
      "C:\\Users\\eacun\\AppData\\Local\\Temp\\ipykernel_11648\\1628313578.py:14: FutureWarning: The frame.append method is deprecated and will be removed from pandas in a future version. Use pandas.concat instead.\n",
      "  gaps_df = gaps_df.append({'From': begin_gap, 'To': end_gap, 'Duration': duration}, ignore_index=True)\n",
      "C:\\Users\\eacun\\AppData\\Local\\Temp\\ipykernel_11648\\1628313578.py:14: FutureWarning: The frame.append method is deprecated and will be removed from pandas in a future version. Use pandas.concat instead.\n",
      "  gaps_df = gaps_df.append({'From': begin_gap, 'To': end_gap, 'Duration': duration}, ignore_index=True)\n",
      "C:\\Users\\eacun\\AppData\\Local\\Temp\\ipykernel_11648\\1628313578.py:14: FutureWarning: The frame.append method is deprecated and will be removed from pandas in a future version. Use pandas.concat instead.\n",
      "  gaps_df = gaps_df.append({'From': begin_gap, 'To': end_gap, 'Duration': duration}, ignore_index=True)\n",
      "C:\\Users\\eacun\\AppData\\Local\\Temp\\ipykernel_11648\\1628313578.py:14: FutureWarning: The frame.append method is deprecated and will be removed from pandas in a future version. Use pandas.concat instead.\n",
      "  gaps_df = gaps_df.append({'From': begin_gap, 'To': end_gap, 'Duration': duration}, ignore_index=True)\n",
      "C:\\Users\\eacun\\AppData\\Local\\Temp\\ipykernel_11648\\1628313578.py:14: FutureWarning: The frame.append method is deprecated and will be removed from pandas in a future version. Use pandas.concat instead.\n",
      "  gaps_df = gaps_df.append({'From': begin_gap, 'To': end_gap, 'Duration': duration}, ignore_index=True)\n",
      "C:\\Users\\eacun\\AppData\\Local\\Temp\\ipykernel_11648\\1628313578.py:14: FutureWarning: The frame.append method is deprecated and will be removed from pandas in a future version. Use pandas.concat instead.\n",
      "  gaps_df = gaps_df.append({'From': begin_gap, 'To': end_gap, 'Duration': duration}, ignore_index=True)\n",
      "C:\\Users\\eacun\\AppData\\Local\\Temp\\ipykernel_11648\\1628313578.py:14: FutureWarning: The frame.append method is deprecated and will be removed from pandas in a future version. Use pandas.concat instead.\n",
      "  gaps_df = gaps_df.append({'From': begin_gap, 'To': end_gap, 'Duration': duration}, ignore_index=True)\n",
      "C:\\Users\\eacun\\AppData\\Local\\Temp\\ipykernel_11648\\1628313578.py:14: FutureWarning: The frame.append method is deprecated and will be removed from pandas in a future version. Use pandas.concat instead.\n",
      "  gaps_df = gaps_df.append({'From': begin_gap, 'To': end_gap, 'Duration': duration}, ignore_index=True)\n",
      "C:\\Users\\eacun\\AppData\\Local\\Temp\\ipykernel_11648\\1628313578.py:14: FutureWarning: The frame.append method is deprecated and will be removed from pandas in a future version. Use pandas.concat instead.\n",
      "  gaps_df = gaps_df.append({'From': begin_gap, 'To': end_gap, 'Duration': duration}, ignore_index=True)\n",
      "C:\\Users\\eacun\\AppData\\Local\\Temp\\ipykernel_11648\\1628313578.py:14: FutureWarning: The frame.append method is deprecated and will be removed from pandas in a future version. Use pandas.concat instead.\n",
      "  gaps_df = gaps_df.append({'From': begin_gap, 'To': end_gap, 'Duration': duration}, ignore_index=True)\n",
      "C:\\Users\\eacun\\AppData\\Local\\Temp\\ipykernel_11648\\1628313578.py:14: FutureWarning: The frame.append method is deprecated and will be removed from pandas in a future version. Use pandas.concat instead.\n",
      "  gaps_df = gaps_df.append({'From': begin_gap, 'To': end_gap, 'Duration': duration}, ignore_index=True)\n",
      "C:\\Users\\eacun\\AppData\\Local\\Temp\\ipykernel_11648\\1628313578.py:14: FutureWarning: The frame.append method is deprecated and will be removed from pandas in a future version. Use pandas.concat instead.\n",
      "  gaps_df = gaps_df.append({'From': begin_gap, 'To': end_gap, 'Duration': duration}, ignore_index=True)\n"
     ]
    }
   ],
   "source": [
    "# All gaps \n",
    "gaps_df = find_gaps(glucose_df)\n",
    "#print(gaps_df)"
   ]
  },
  {
   "cell_type": "code",
   "execution_count": 490,
   "metadata": {
    "colab": {
     "base_uri": "https://localhost:8080/"
    },
    "id": "s6UZqRPq8A-i",
    "outputId": "eeb5fcd1-407d-41af-ad85-31bfb96a7b60"
   },
   "outputs": [],
   "source": [
    "# Find gaps greater than 5 hours\n",
    "#gaps_df2 = find_gaps(glucose_df, greaterthan=5, units='h')\n",
    "#print(gaps_df2)"
   ]
  },
  {
   "cell_type": "markdown",
   "metadata": {
    "id": "sNyxY3Pcdvsv"
   },
   "source": [
    "# Impute using average per time\n"
   ]
  },
  {
   "cell_type": "code",
   "execution_count": 491,
   "metadata": {
    "colab": {
     "base_uri": "https://localhost:8080/",
     "height": 238
    },
    "id": "wbZkHAyBDkeK",
    "outputId": "7ebd0ebe-d122-47b4-ee65-12418fde9eab"
   },
   "outputs": [
    {
     "name": "stdout",
     "output_type": "stream",
     "text": [
      "<class 'pandas.core.frame.DataFrame'>\n",
      "DatetimeIndex: 13248 entries, 2025-05-14 00:00:00 to 2025-06-28 23:55:00\n",
      "Freq: 5T\n",
      "Data columns (total 1 columns):\n",
      " #   Column   Non-Null Count  Dtype  \n",
      "---  ------   --------------  -----  \n",
      " 0   glucose  12150 non-null  float64\n",
      "dtypes: float64(1)\n",
      "memory usage: 207.0 KB\n"
     ]
    }
   ],
   "source": [
    "glucose_full=glucose_df.resample('5T').mean()\n",
    "glucose_full.info()"
   ]
  },
  {
   "cell_type": "code",
   "execution_count": 492,
   "metadata": {
    "id": "QQm64AKWEDr6"
   },
   "outputs": [],
   "source": [
    "#impute_mean(glucose_full, 'glucose')"
   ]
  },
  {
   "cell_type": "code",
   "execution_count": 493,
   "metadata": {
    "colab": {
     "base_uri": "https://localhost:8080/",
     "height": 81
    },
    "id": "UC0plxLbFqy_",
    "outputId": "48ace4b8-1c37-42c9-910c-a3f51d6ee0ac"
   },
   "outputs": [],
   "source": [
    "#trainmiss[trainmiss['glucose'].isna()]\n",
    "#trainmiss.info()"
   ]
  },
  {
   "cell_type": "code",
   "execution_count": 494,
   "metadata": {
    "colab": {
     "base_uri": "https://localhost:8080/",
     "height": 455
    },
    "id": "6BLqxs8GBmfq",
    "outputId": "68126b9d-6a22-46f9-d0ba-d4c7ded01ed6"
   },
   "outputs": [],
   "source": [
    "#trainmiss.loc[dfnans.index]\n",
    "#trainmiss.info()"
   ]
  },
  {
   "cell_type": "code",
   "execution_count": 495,
   "metadata": {},
   "outputs": [],
   "source": [
    "#glucose_full= glucose_full.interpolate(method=\"spline\", order=3)\n",
    "#glucose_full.head()\n",
    "#missing_minutes =list(df2sp2[df2sp2['glucose'].isna()].index)\n",
    "#missing_minutes\n",
    "#cgmtrainclean.info()"
   ]
  },
  {
   "cell_type": "code",
   "execution_count": 496,
   "metadata": {},
   "outputs": [
    {
     "data": {
      "text/html": [
       "<div>\n",
       "<style scoped>\n",
       "    .dataframe tbody tr th:only-of-type {\n",
       "        vertical-align: middle;\n",
       "    }\n",
       "\n",
       "    .dataframe tbody tr th {\n",
       "        vertical-align: top;\n",
       "    }\n",
       "\n",
       "    .dataframe thead th {\n",
       "        text-align: right;\n",
       "    }\n",
       "</style>\n",
       "<table border=\"1\" class=\"dataframe\">\n",
       "  <thead>\n",
       "    <tr style=\"text-align: right;\">\n",
       "      <th></th>\n",
       "      <th>glucose</th>\n",
       "    </tr>\n",
       "  </thead>\n",
       "  <tbody>\n",
       "    <tr>\n",
       "      <th>count</th>\n",
       "      <td>12150.000000</td>\n",
       "    </tr>\n",
       "    <tr>\n",
       "      <th>mean</th>\n",
       "      <td>192.484444</td>\n",
       "    </tr>\n",
       "    <tr>\n",
       "      <th>std</th>\n",
       "      <td>65.442789</td>\n",
       "    </tr>\n",
       "    <tr>\n",
       "      <th>min</th>\n",
       "      <td>40.000000</td>\n",
       "    </tr>\n",
       "    <tr>\n",
       "      <th>25%</th>\n",
       "      <td>145.000000</td>\n",
       "    </tr>\n",
       "    <tr>\n",
       "      <th>50%</th>\n",
       "      <td>183.000000</td>\n",
       "    </tr>\n",
       "    <tr>\n",
       "      <th>75%</th>\n",
       "      <td>230.000000</td>\n",
       "    </tr>\n",
       "    <tr>\n",
       "      <th>max</th>\n",
       "      <td>400.000000</td>\n",
       "    </tr>\n",
       "  </tbody>\n",
       "</table>\n",
       "</div>"
      ],
      "text/plain": [
       "            glucose\n",
       "count  12150.000000\n",
       "mean     192.484444\n",
       "std       65.442789\n",
       "min       40.000000\n",
       "25%      145.000000\n",
       "50%      183.000000\n",
       "75%      230.000000\n",
       "max      400.000000"
      ]
     },
     "execution_count": 496,
     "metadata": {},
     "output_type": "execute_result"
    }
   ],
   "source": [
    "glucose_full.describe()"
   ]
  },
  {
   "cell_type": "code",
   "execution_count": 497,
   "metadata": {},
   "outputs": [],
   "source": [
    "#import matplotlib.pyplot as plt \n",
    "#import rpy2\n",
    "#import rpy2.rinterface\n",
    "#%load_ext rpy2.ipython\n",
    "#import rpy2.robjects as robjects\n",
    "#from rpy2.robjects.packages import importr\n",
    "#splines = importr('splines') \n",
    "#x_train=np.arange(len(glucose_full))\n",
    "#y_train=glucose_full['glucose']\n",
    "#r_y = robjects.FloatVector(y_train)\n",
    "#r_x = robjects.FloatVector(x_train)\n",
    "#r_smooth_spline = robjects.r['smooth.spline'] #extract R function# run smoothing function\n",
    "#spline1 = r_smooth_spline(x=r_x,y=r_y, spar=.01)\n",
    "#ySpline=np.array(robjects.r['predict'](spline1,robjects.FloatVector(x_train)).rx2('y'))\n",
    "#print(ySpline)\n",
    "#plt.figure(figsize=(12,6))\n",
    "#plt.scatter(x_train,y_train,c=\"blue\")\n",
    "#plt.plot(x_train,ySpline,c='red')"
   ]
  },
  {
   "cell_type": "code",
   "execution_count": 498,
   "metadata": {},
   "outputs": [],
   "source": [
    "#Imputation using Kalman smoothing\n",
    "from tsmoothie.smoother import *\n",
    "from tsmoothie.utils_func import create_windows\n",
    "#smoother = KalmanSmoother(component='level_trend', \n",
    "#                          component_noise={'level':0.1, 'trend':0.1})\n",
    "smoother = KalmanSmoother(component='level_season', \n",
    "                         component_noise={'level':0.1, 'season':0.1},n_seasons=7)\n",
    "#smoother = SplineSmoother(n_knots=100, spline_type='cubic_spline')\n",
    "smoother.smooth(glucose_full[['glucose']].T)\n",
    "glucosekf=smoother.smooth_data[0]\n",
    "#print(len(glucosekf))\n",
    "glucose_full['glucose']=glucosekf\n",
    "#glucose_full['glucose']=ySpline\n",
    "#glucose_full.head()\n",
    "#smoother.smooth_data[0].mean()"
   ]
  },
  {
   "cell_type": "code",
   "execution_count": 499,
   "metadata": {},
   "outputs": [
    {
     "data": {
      "text/html": [
       "<div>\n",
       "<style scoped>\n",
       "    .dataframe tbody tr th:only-of-type {\n",
       "        vertical-align: middle;\n",
       "    }\n",
       "\n",
       "    .dataframe tbody tr th {\n",
       "        vertical-align: top;\n",
       "    }\n",
       "\n",
       "    .dataframe thead th {\n",
       "        text-align: right;\n",
       "    }\n",
       "</style>\n",
       "<table border=\"1\" class=\"dataframe\">\n",
       "  <thead>\n",
       "    <tr style=\"text-align: right;\">\n",
       "      <th></th>\n",
       "      <th>glucose</th>\n",
       "    </tr>\n",
       "  </thead>\n",
       "  <tbody>\n",
       "    <tr>\n",
       "      <th>count</th>\n",
       "      <td>13248.000000</td>\n",
       "    </tr>\n",
       "    <tr>\n",
       "      <th>mean</th>\n",
       "      <td>193.666522</td>\n",
       "    </tr>\n",
       "    <tr>\n",
       "      <th>std</th>\n",
       "      <td>62.530710</td>\n",
       "    </tr>\n",
       "    <tr>\n",
       "      <th>min</th>\n",
       "      <td>52.890448</td>\n",
       "    </tr>\n",
       "    <tr>\n",
       "      <th>25%</th>\n",
       "      <td>147.529595</td>\n",
       "    </tr>\n",
       "    <tr>\n",
       "      <th>50%</th>\n",
       "      <td>184.454927</td>\n",
       "    </tr>\n",
       "    <tr>\n",
       "      <th>75%</th>\n",
       "      <td>231.020403</td>\n",
       "    </tr>\n",
       "    <tr>\n",
       "      <th>max</th>\n",
       "      <td>401.823941</td>\n",
       "    </tr>\n",
       "  </tbody>\n",
       "</table>\n",
       "</div>"
      ],
      "text/plain": [
       "            glucose\n",
       "count  13248.000000\n",
       "mean     193.666522\n",
       "std       62.530710\n",
       "min       52.890448\n",
       "25%      147.529595\n",
       "50%      184.454927\n",
       "75%      231.020403\n",
       "max      401.823941"
      ]
     },
     "execution_count": 499,
     "metadata": {},
     "output_type": "execute_result"
    }
   ],
   "source": [
    "glucose_full.describe()"
   ]
  },
  {
   "cell_type": "markdown",
   "metadata": {
    "id": "BBVmdlHi7jQg"
   },
   "source": [
    "# Process meals   (training)"
   ]
  },
  {
   "cell_type": "code",
   "execution_count": 500,
   "metadata": {
    "colab": {
     "base_uri": "https://localhost:8080/"
    },
    "id": "ol_fWphaeq_X",
    "outputId": "315967e2-9b94-4739-c2e5-796ff508236c"
   },
   "outputs": [
    {
     "name": "stdout",
     "output_type": "stream",
     "text": [
      "                          type  carbs\n",
      "ts                                   \n",
      "2025-05-15 06:30:00  Breakfast     60\n",
      "2025-05-15 10:18:00      Snack     20\n",
      "2025-05-15 12:00:00      Lunch     40\n",
      "2025-05-15 19:28:00     Dinner     60\n",
      "2025-05-16 06:39:00  Breakfast     60\n",
      "...                        ...    ...\n",
      "2025-06-26 12:00:00      Lunch     60\n",
      "2025-06-26 18:27:00     Dinner     60\n",
      "2025-06-26 20:30:00      Snack     15\n",
      "2025-06-27 18:30:00     Dinner     60\n",
      "2025-06-27 21:00:00      Snack     15\n",
      "\n",
      "[95 rows x 2 columns]\n"
     ]
    }
   ],
   "source": [
    "meal_df = read_ts_file('meal.csv')\n",
    "print(meal_df)"
   ]
  },
  {
   "cell_type": "code",
   "execution_count": 501,
   "metadata": {},
   "outputs": [],
   "source": [
    "#df_aligned2, df_dups2 = align_timeseries(glucose_full, meal_df, ['carbs'], [0], dest_columns=['meal_carbs'], include_index=True)"
   ]
  },
  {
   "cell_type": "code",
   "execution_count": 502,
   "metadata": {
    "colab": {
     "base_uri": "https://localhost:8080/"
    },
    "id": "GNn-BV2jC3El",
    "outputId": "cb620bed-cb96-43f6-d46b-75966a4401be"
   },
   "outputs": [],
   "source": [
    "#df_aligned2.describe()\n",
    "#print(df_dups2). There are no duplicates"
   ]
  },
  {
   "cell_type": "markdown",
   "metadata": {
    "id": "MVEBLh6J-M4V"
   },
   "source": [
    "# correcting  meal values"
   ]
  },
  {
   "cell_type": "code",
   "execution_count": 503,
   "metadata": {
    "id": "fGBlem-wn3Qd"
   },
   "outputs": [],
   "source": [
    "def eff_carbs(aligned_df, meals_df):\n",
    "  eff_carbs_df = aligned_df.copy()\n",
    "  eff_carbs_df.sort_index()\n",
    "  end = eff_carbs_df.index[-1]\n",
    "  meals_df.sort_index()\n",
    "  binc= 0.111\n",
    "  bdecr= 0.028\n",
    "  eff_carbs_df['eff_carbs'] = 0\n",
    "  ts_inc = list(range(15,60,5)) #increasing phase\n",
    "  ts_dec = list(range(60,240,5)) #decreasing phase\n",
    "  for i in range(len(meals_df)):\n",
    "    ts_meal = meals_df.index[i]\n",
    "    ts_loc = eff_carbs_df.index.get_loc(ts_meal, method='nearest')\n",
    "    ts_eff_carbs = eff_carbs_df.index[ts_loc]\n",
    "    cmeal = meals_df.loc[ts_meal, 'carbs']\n",
    "    #increasing phase\n",
    "    #idx = ts_eff_carbs\n",
    "    for j in range(len(ts_inc)):\n",
    "      idx = ts_eff_carbs + timedelta(minutes=ts_inc[j])\n",
    "      if idx > end:\n",
    "        break\n",
    "      eff_carbs_df.loc[idx, 'eff_carbs'] += (j+1)*binc*cmeal\n",
    "     #decreasing phase\n",
    "    for j in range(len(ts_dec)):\n",
    "      idx = ts_eff_carbs + timedelta(minutes=ts_dec[j])\n",
    "      if idx > end:\n",
    "        break\n",
    "      val = cmeal*(1-(j+1)*bdecr)\n",
    "      if val<=0: \n",
    "        break\n",
    "      eff_carbs_df.loc[idx, 'eff_carbs'] += val\n",
    "  \n",
    "  return eff_carbs_df"
   ]
  },
  {
   "cell_type": "code",
   "execution_count": 504,
   "metadata": {
    "id": "22P_nX2q0Fia"
   },
   "outputs": [
    {
     "name": "stderr",
     "output_type": "stream",
     "text": [
      "C:\\Users\\eacun\\AppData\\Local\\Temp\\ipykernel_11648\\165131089.py:13: FutureWarning: Passing method to DatetimeIndex.get_loc is deprecated and will raise in a future version. Use index.get_indexer([item], method=...) instead.\n",
      "  ts_loc = eff_carbs_df.index.get_loc(ts_meal, method='nearest')\n"
     ]
    }
   ],
   "source": [
    "corrected_meals_df = eff_carbs(glucose_full, meal_df)"
   ]
  },
  {
   "cell_type": "code",
   "execution_count": 505,
   "metadata": {
    "colab": {
     "base_uri": "https://localhost:8080/"
    },
    "id": "bvEdJyEo3qaj",
    "outputId": "61efbd7e-43e3-4bb1-ae3d-0b0368bc629a"
   },
   "outputs": [
    {
     "data": {
      "text/html": [
       "<div>\n",
       "<style scoped>\n",
       "    .dataframe tbody tr th:only-of-type {\n",
       "        vertical-align: middle;\n",
       "    }\n",
       "\n",
       "    .dataframe tbody tr th {\n",
       "        vertical-align: top;\n",
       "    }\n",
       "\n",
       "    .dataframe thead th {\n",
       "        text-align: right;\n",
       "    }\n",
       "</style>\n",
       "<table border=\"1\" class=\"dataframe\">\n",
       "  <thead>\n",
       "    <tr style=\"text-align: right;\">\n",
       "      <th></th>\n",
       "      <th>glucose</th>\n",
       "      <th>eff_carbs</th>\n",
       "    </tr>\n",
       "  </thead>\n",
       "  <tbody>\n",
       "    <tr>\n",
       "      <th>count</th>\n",
       "      <td>13248.000000</td>\n",
       "      <td>13248.000000</td>\n",
       "    </tr>\n",
       "    <tr>\n",
       "      <th>mean</th>\n",
       "      <td>193.666522</td>\n",
       "      <td>8.691924</td>\n",
       "    </tr>\n",
       "    <tr>\n",
       "      <th>std</th>\n",
       "      <td>62.530710</td>\n",
       "      <td>16.203337</td>\n",
       "    </tr>\n",
       "    <tr>\n",
       "      <th>min</th>\n",
       "      <td>52.890448</td>\n",
       "      <td>0.000000</td>\n",
       "    </tr>\n",
       "    <tr>\n",
       "      <th>25%</th>\n",
       "      <td>147.529595</td>\n",
       "      <td>0.000000</td>\n",
       "    </tr>\n",
       "    <tr>\n",
       "      <th>50%</th>\n",
       "      <td>184.454927</td>\n",
       "      <td>0.000000</td>\n",
       "    </tr>\n",
       "    <tr>\n",
       "      <th>75%</th>\n",
       "      <td>231.020403</td>\n",
       "      <td>9.600000</td>\n",
       "    </tr>\n",
       "    <tr>\n",
       "      <th>max</th>\n",
       "      <td>401.823941</td>\n",
       "      <td>60.939000</td>\n",
       "    </tr>\n",
       "  </tbody>\n",
       "</table>\n",
       "</div>"
      ],
      "text/plain": [
       "            glucose     eff_carbs\n",
       "count  13248.000000  13248.000000\n",
       "mean     193.666522      8.691924\n",
       "std       62.530710     16.203337\n",
       "min       52.890448      0.000000\n",
       "25%      147.529595      0.000000\n",
       "50%      184.454927      0.000000\n",
       "75%      231.020403      9.600000\n",
       "max      401.823941     60.939000"
      ]
     },
     "execution_count": 505,
     "metadata": {},
     "output_type": "execute_result"
    }
   ],
   "source": [
    "corrected_meals_df.describe()"
   ]
  },
  {
   "cell_type": "markdown",
   "metadata": {},
   "source": [
    "### Clean training data including cgm and corrected meals"
   ]
  },
  {
   "cell_type": "code",
   "execution_count": 506,
   "metadata": {
    "id": "fslhNTeY3vhy"
   },
   "outputs": [
    {
     "name": "stdout",
     "output_type": "stream",
     "text": [
      "<class 'pandas.core.frame.DataFrame'>\n",
      "DatetimeIndex: 13248 entries, 2025-05-14 00:00:00 to 2025-06-28 23:55:00\n",
      "Freq: 5T\n",
      "Data columns (total 2 columns):\n",
      " #   Column     Non-Null Count  Dtype  \n",
      "---  ------     --------------  -----  \n",
      " 0   glucose    13248 non-null  float64\n",
      " 1   eff_carbs  13248 non-null  float64\n",
      "dtypes: float64(2)\n",
      "memory usage: 826.5 KB\n"
     ]
    }
   ],
   "source": [
    "cgmtrainclean=corrected_meals_df.loc[:,['glucose','eff_carbs']]\n",
    "cgmtrainclean.info()\n",
    "#cgmtrainclean.to_csv('corrected_meals.csv')"
   ]
  },
  {
   "cell_type": "markdown",
   "metadata": {
    "id": "wG2kzDt4o7oT"
   },
   "source": [
    "## Reading Testing data"
   ]
  },
  {
   "cell_type": "code",
   "execution_count": 507,
   "metadata": {},
   "outputs": [],
   "source": [
    "#selected_items = ['glucose_level','bolus','meal']\n",
    "read_xml_data(filename='c://aadm/584-ws-testing.xml', selected_items=['glucose_level','meal'])"
   ]
  },
  {
   "cell_type": "code",
   "execution_count": 508,
   "metadata": {},
   "outputs": [
    {
     "name": "stdout",
     "output_type": "stream",
     "text": [
      "                     glucose\n",
      "ts                          \n",
      "2025-06-29 00:01:00      243\n",
      "2025-06-29 00:06:00      253\n",
      "2025-06-29 00:11:00      262\n",
      "2025-06-29 00:16:00      269\n",
      "2025-06-29 00:21:00      269\n",
      "...                      ...\n",
      "2025-07-09 09:12:00       71\n",
      "2025-07-09 09:17:00       74\n",
      "2025-07-09 09:22:00       72\n",
      "2025-07-09 09:27:00       78\n",
      "2025-07-09 09:32:00       79\n",
      "\n",
      "[2665 rows x 1 columns]\n"
     ]
    }
   ],
   "source": [
    "glucose_df = read_ts_file('glucose_level.csv')\n",
    "glucose_df.rename(columns={\"ts\": \"timestamp\", \"value\": \"glucose\"}, inplace=True)\n",
    "print(glucose_df)"
   ]
  },
  {
   "cell_type": "code",
   "execution_count": 509,
   "metadata": {},
   "outputs": [
    {
     "name": "stdout",
     "output_type": "stream",
     "text": [
      "Missing intervals:  331\n"
     ]
    }
   ],
   "source": [
    "#Finding the length of the complete time series\n",
    "time_df = timedf(glucose_df)\n",
    "print('Missing intervals: ', len(time_df) - len(glucose_df) )"
   ]
  },
  {
   "cell_type": "code",
   "execution_count": 510,
   "metadata": {},
   "outputs": [
    {
     "name": "stderr",
     "output_type": "stream",
     "text": [
      "C:\\Users\\eacun\\AppData\\Local\\Temp\\ipykernel_11648\\1628313578.py:14: FutureWarning: The frame.append method is deprecated and will be removed from pandas in a future version. Use pandas.concat instead.\n",
      "  gaps_df = gaps_df.append({'From': begin_gap, 'To': end_gap, 'Duration': duration}, ignore_index=True)\n",
      "C:\\Users\\eacun\\AppData\\Local\\Temp\\ipykernel_11648\\1628313578.py:14: FutureWarning: The frame.append method is deprecated and will be removed from pandas in a future version. Use pandas.concat instead.\n",
      "  gaps_df = gaps_df.append({'From': begin_gap, 'To': end_gap, 'Duration': duration}, ignore_index=True)\n",
      "C:\\Users\\eacun\\AppData\\Local\\Temp\\ipykernel_11648\\1628313578.py:14: FutureWarning: The frame.append method is deprecated and will be removed from pandas in a future version. Use pandas.concat instead.\n",
      "  gaps_df = gaps_df.append({'From': begin_gap, 'To': end_gap, 'Duration': duration}, ignore_index=True)\n",
      "C:\\Users\\eacun\\AppData\\Local\\Temp\\ipykernel_11648\\1628313578.py:14: FutureWarning: The frame.append method is deprecated and will be removed from pandas in a future version. Use pandas.concat instead.\n",
      "  gaps_df = gaps_df.append({'From': begin_gap, 'To': end_gap, 'Duration': duration}, ignore_index=True)\n",
      "C:\\Users\\eacun\\AppData\\Local\\Temp\\ipykernel_11648\\1628313578.py:14: FutureWarning: The frame.append method is deprecated and will be removed from pandas in a future version. Use pandas.concat instead.\n",
      "  gaps_df = gaps_df.append({'From': begin_gap, 'To': end_gap, 'Duration': duration}, ignore_index=True)\n",
      "C:\\Users\\eacun\\AppData\\Local\\Temp\\ipykernel_11648\\1628313578.py:14: FutureWarning: The frame.append method is deprecated and will be removed from pandas in a future version. Use pandas.concat instead.\n",
      "  gaps_df = gaps_df.append({'From': begin_gap, 'To': end_gap, 'Duration': duration}, ignore_index=True)\n",
      "C:\\Users\\eacun\\AppData\\Local\\Temp\\ipykernel_11648\\1628313578.py:14: FutureWarning: The frame.append method is deprecated and will be removed from pandas in a future version. Use pandas.concat instead.\n",
      "  gaps_df = gaps_df.append({'From': begin_gap, 'To': end_gap, 'Duration': duration}, ignore_index=True)\n",
      "C:\\Users\\eacun\\AppData\\Local\\Temp\\ipykernel_11648\\1628313578.py:14: FutureWarning: The frame.append method is deprecated and will be removed from pandas in a future version. Use pandas.concat instead.\n",
      "  gaps_df = gaps_df.append({'From': begin_gap, 'To': end_gap, 'Duration': duration}, ignore_index=True)\n",
      "C:\\Users\\eacun\\AppData\\Local\\Temp\\ipykernel_11648\\1628313578.py:14: FutureWarning: The frame.append method is deprecated and will be removed from pandas in a future version. Use pandas.concat instead.\n",
      "  gaps_df = gaps_df.append({'From': begin_gap, 'To': end_gap, 'Duration': duration}, ignore_index=True)\n",
      "C:\\Users\\eacun\\AppData\\Local\\Temp\\ipykernel_11648\\1628313578.py:14: FutureWarning: The frame.append method is deprecated and will be removed from pandas in a future version. Use pandas.concat instead.\n",
      "  gaps_df = gaps_df.append({'From': begin_gap, 'To': end_gap, 'Duration': duration}, ignore_index=True)\n",
      "C:\\Users\\eacun\\AppData\\Local\\Temp\\ipykernel_11648\\1628313578.py:14: FutureWarning: The frame.append method is deprecated and will be removed from pandas in a future version. Use pandas.concat instead.\n",
      "  gaps_df = gaps_df.append({'From': begin_gap, 'To': end_gap, 'Duration': duration}, ignore_index=True)\n",
      "C:\\Users\\eacun\\AppData\\Local\\Temp\\ipykernel_11648\\1628313578.py:14: FutureWarning: The frame.append method is deprecated and will be removed from pandas in a future version. Use pandas.concat instead.\n",
      "  gaps_df = gaps_df.append({'From': begin_gap, 'To': end_gap, 'Duration': duration}, ignore_index=True)\n",
      "C:\\Users\\eacun\\AppData\\Local\\Temp\\ipykernel_11648\\1628313578.py:14: FutureWarning: The frame.append method is deprecated and will be removed from pandas in a future version. Use pandas.concat instead.\n",
      "  gaps_df = gaps_df.append({'From': begin_gap, 'To': end_gap, 'Duration': duration}, ignore_index=True)\n",
      "C:\\Users\\eacun\\AppData\\Local\\Temp\\ipykernel_11648\\1628313578.py:14: FutureWarning: The frame.append method is deprecated and will be removed from pandas in a future version. Use pandas.concat instead.\n",
      "  gaps_df = gaps_df.append({'From': begin_gap, 'To': end_gap, 'Duration': duration}, ignore_index=True)\n",
      "C:\\Users\\eacun\\AppData\\Local\\Temp\\ipykernel_11648\\1628313578.py:14: FutureWarning: The frame.append method is deprecated and will be removed from pandas in a future version. Use pandas.concat instead.\n",
      "  gaps_df = gaps_df.append({'From': begin_gap, 'To': end_gap, 'Duration': duration}, ignore_index=True)\n"
     ]
    }
   ],
   "source": [
    "# All gaps \n",
    "gaps_df = find_gaps(glucose_df)\n",
    "#print(gaps_df)"
   ]
  },
  {
   "cell_type": "code",
   "execution_count": 511,
   "metadata": {},
   "outputs": [
    {
     "data": {
      "text/html": [
       "<div>\n",
       "<style scoped>\n",
       "    .dataframe tbody tr th:only-of-type {\n",
       "        vertical-align: middle;\n",
       "    }\n",
       "\n",
       "    .dataframe tbody tr th {\n",
       "        vertical-align: top;\n",
       "    }\n",
       "\n",
       "    .dataframe thead th {\n",
       "        text-align: right;\n",
       "    }\n",
       "</style>\n",
       "<table border=\"1\" class=\"dataframe\">\n",
       "  <thead>\n",
       "    <tr style=\"text-align: right;\">\n",
       "      <th></th>\n",
       "      <th>glucose</th>\n",
       "    </tr>\n",
       "  </thead>\n",
       "  <tbody>\n",
       "    <tr>\n",
       "      <th>count</th>\n",
       "      <td>2665.000000</td>\n",
       "    </tr>\n",
       "    <tr>\n",
       "      <th>mean</th>\n",
       "      <td>170.340713</td>\n",
       "    </tr>\n",
       "    <tr>\n",
       "      <th>std</th>\n",
       "      <td>60.825535</td>\n",
       "    </tr>\n",
       "    <tr>\n",
       "      <th>min</th>\n",
       "      <td>41.000000</td>\n",
       "    </tr>\n",
       "    <tr>\n",
       "      <th>25%</th>\n",
       "      <td>127.000000</td>\n",
       "    </tr>\n",
       "    <tr>\n",
       "      <th>50%</th>\n",
       "      <td>162.000000</td>\n",
       "    </tr>\n",
       "    <tr>\n",
       "      <th>75%</th>\n",
       "      <td>207.000000</td>\n",
       "    </tr>\n",
       "    <tr>\n",
       "      <th>max</th>\n",
       "      <td>400.000000</td>\n",
       "    </tr>\n",
       "  </tbody>\n",
       "</table>\n",
       "</div>"
      ],
      "text/plain": [
       "           glucose\n",
       "count  2665.000000\n",
       "mean    170.340713\n",
       "std      60.825535\n",
       "min      41.000000\n",
       "25%     127.000000\n",
       "50%     162.000000\n",
       "75%     207.000000\n",
       "max     400.000000"
      ]
     },
     "execution_count": 511,
     "metadata": {},
     "output_type": "execute_result"
    }
   ],
   "source": [
    "glucose_full=glucose_df.resample('5T').mean()\n",
    "glucose_full.describe()"
   ]
  },
  {
   "cell_type": "code",
   "execution_count": 512,
   "metadata": {},
   "outputs": [],
   "source": [
    "#impute_mean(glucose_full, 'glucose')"
   ]
  },
  {
   "cell_type": "code",
   "execution_count": 513,
   "metadata": {},
   "outputs": [],
   "source": [
    "#testmiss.loc[dfnans.index]\n",
    "#testmiss.info()"
   ]
  },
  {
   "cell_type": "code",
   "execution_count": 514,
   "metadata": {},
   "outputs": [],
   "source": [
    "#glucose_full= glucose_full.interpolate(method=\"spline\",order=3)"
   ]
  },
  {
   "cell_type": "code",
   "execution_count": 515,
   "metadata": {},
   "outputs": [],
   "source": [
    "#import rpy2\n",
    "#import rpy2.rinterface\n",
    "#%load_ext rpy2.ipython\n",
    "#import rpy2.robjects as robjects\n",
    "#from rpy2.robjects.packages import importr\n",
    "#splines = importr('splines') \n",
    "#x_train=np.arange(len(glucose_full))\n",
    "#y_train=glucose_full['glucose']\n",
    "#r_y = robjects.FloatVector(y_train)\n",
    "#r_x = robjects.FloatVector(x_train)\n",
    "#r_smooth_spline = robjects.r['smooth.spline'] #extract R function# run smoothing function\n",
    "#spline1 = r_smooth_spline(x=r_x,y=r_y, spar=.01)\n",
    "#ySpline=np.array(robjects.r['predict'](spline1,robjects.FloatVector(x_train)).rx2('y'))\n",
    "#print(ySpline)\n",
    "#plt.figure(figsize=(12,6))\n",
    "#plt.scatter(x_train,y_train,c=\"blue\")\n",
    "#plt.plot(x_train,ySpline,c='red')"
   ]
  },
  {
   "cell_type": "code",
   "execution_count": 516,
   "metadata": {},
   "outputs": [
    {
     "data": {
      "text/html": [
       "<div>\n",
       "<style scoped>\n",
       "    .dataframe tbody tr th:only-of-type {\n",
       "        vertical-align: middle;\n",
       "    }\n",
       "\n",
       "    .dataframe tbody tr th {\n",
       "        vertical-align: top;\n",
       "    }\n",
       "\n",
       "    .dataframe thead th {\n",
       "        text-align: right;\n",
       "    }\n",
       "</style>\n",
       "<table border=\"1\" class=\"dataframe\">\n",
       "  <thead>\n",
       "    <tr style=\"text-align: right;\">\n",
       "      <th></th>\n",
       "      <th>glucose</th>\n",
       "    </tr>\n",
       "  </thead>\n",
       "  <tbody>\n",
       "    <tr>\n",
       "      <th>count</th>\n",
       "      <td>2995.000000</td>\n",
       "    </tr>\n",
       "    <tr>\n",
       "      <th>mean</th>\n",
       "      <td>173.125089</td>\n",
       "    </tr>\n",
       "    <tr>\n",
       "      <th>std</th>\n",
       "      <td>58.826487</td>\n",
       "    </tr>\n",
       "    <tr>\n",
       "      <th>min</th>\n",
       "      <td>53.872246</td>\n",
       "    </tr>\n",
       "    <tr>\n",
       "      <th>25%</th>\n",
       "      <td>130.698708</td>\n",
       "    </tr>\n",
       "    <tr>\n",
       "      <th>50%</th>\n",
       "      <td>164.180142</td>\n",
       "    </tr>\n",
       "    <tr>\n",
       "      <th>75%</th>\n",
       "      <td>209.974661</td>\n",
       "    </tr>\n",
       "    <tr>\n",
       "      <th>max</th>\n",
       "      <td>390.599955</td>\n",
       "    </tr>\n",
       "  </tbody>\n",
       "</table>\n",
       "</div>"
      ],
      "text/plain": [
       "           glucose\n",
       "count  2995.000000\n",
       "mean    173.125089\n",
       "std      58.826487\n",
       "min      53.872246\n",
       "25%     130.698708\n",
       "50%     164.180142\n",
       "75%     209.974661\n",
       "max     390.599955"
      ]
     },
     "execution_count": 516,
     "metadata": {},
     "output_type": "execute_result"
    }
   ],
   "source": [
    "#Imputation using Kalman filter\n",
    "#smoother = KalmanSmoother(component='level_trend', \n",
    "#                          component_noise={'level':0.1, 'trend':0.1})\n",
    "smoother = KalmanSmoother(component='level_season', \n",
    "                          component_noise={'level':0.1, 'season':0.1},n_seasons=7)\n",
    "#smoother = SplineSmoother(n_knots=100, spline_type='cubic_spline')\n",
    "smoother.smooth(glucose_full[['glucose']].T)\n",
    "glucosekf=smoother.smooth_data[0]\n",
    "glucose_full['glucose']=glucosekf\n",
    "#glucose_full['glucose']=ySpline\n",
    "#smoother.smooth_data[0].mean()\n",
    "glucose_full.describe()"
   ]
  },
  {
   "cell_type": "code",
   "execution_count": 517,
   "metadata": {},
   "outputs": [],
   "source": [
    "meal_df = read_ts_file('meal.csv')\n",
    "#print(meal_df)\n",
    "#df_aligned2, df_dups2 = align_timeseries(glucose_full, meal_df, ['carbs'], [0], dest_columns=['meal_carbs'], include_index=True)"
   ]
  },
  {
   "cell_type": "markdown",
   "metadata": {},
   "source": [
    "### Cleaning testing data including cgm and corrected meals"
   ]
  },
  {
   "cell_type": "code",
   "execution_count": 518,
   "metadata": {},
   "outputs": [
    {
     "name": "stderr",
     "output_type": "stream",
     "text": [
      "C:\\Users\\eacun\\AppData\\Local\\Temp\\ipykernel_11648\\165131089.py:13: FutureWarning: Passing method to DatetimeIndex.get_loc is deprecated and will raise in a future version. Use index.get_indexer([item], method=...) instead.\n",
      "  ts_loc = eff_carbs_df.index.get_loc(ts_meal, method='nearest')\n"
     ]
    },
    {
     "data": {
      "text/html": [
       "<div>\n",
       "<style scoped>\n",
       "    .dataframe tbody tr th:only-of-type {\n",
       "        vertical-align: middle;\n",
       "    }\n",
       "\n",
       "    .dataframe tbody tr th {\n",
       "        vertical-align: top;\n",
       "    }\n",
       "\n",
       "    .dataframe thead th {\n",
       "        text-align: right;\n",
       "    }\n",
       "</style>\n",
       "<table border=\"1\" class=\"dataframe\">\n",
       "  <thead>\n",
       "    <tr style=\"text-align: right;\">\n",
       "      <th></th>\n",
       "      <th>glucose</th>\n",
       "      <th>eff_carbs</th>\n",
       "    </tr>\n",
       "  </thead>\n",
       "  <tbody>\n",
       "    <tr>\n",
       "      <th>count</th>\n",
       "      <td>2995.000000</td>\n",
       "      <td>2995.000000</td>\n",
       "    </tr>\n",
       "    <tr>\n",
       "      <th>mean</th>\n",
       "      <td>173.125089</td>\n",
       "      <td>9.703339</td>\n",
       "    </tr>\n",
       "    <tr>\n",
       "      <th>std</th>\n",
       "      <td>58.826487</td>\n",
       "      <td>16.864175</td>\n",
       "    </tr>\n",
       "    <tr>\n",
       "      <th>min</th>\n",
       "      <td>53.872246</td>\n",
       "      <td>0.000000</td>\n",
       "    </tr>\n",
       "    <tr>\n",
       "      <th>25%</th>\n",
       "      <td>130.698708</td>\n",
       "      <td>0.000000</td>\n",
       "    </tr>\n",
       "    <tr>\n",
       "      <th>50%</th>\n",
       "      <td>164.180142</td>\n",
       "      <td>0.000000</td>\n",
       "    </tr>\n",
       "    <tr>\n",
       "      <th>75%</th>\n",
       "      <td>209.974661</td>\n",
       "      <td>14.640000</td>\n",
       "    </tr>\n",
       "    <tr>\n",
       "      <th>max</th>\n",
       "      <td>390.599955</td>\n",
       "      <td>59.940000</td>\n",
       "    </tr>\n",
       "  </tbody>\n",
       "</table>\n",
       "</div>"
      ],
      "text/plain": [
       "           glucose    eff_carbs\n",
       "count  2995.000000  2995.000000\n",
       "mean    173.125089     9.703339\n",
       "std      58.826487    16.864175\n",
       "min      53.872246     0.000000\n",
       "25%     130.698708     0.000000\n",
       "50%     164.180142     0.000000\n",
       "75%     209.974661    14.640000\n",
       "max     390.599955    59.940000"
      ]
     },
     "execution_count": 518,
     "metadata": {},
     "output_type": "execute_result"
    }
   ],
   "source": [
    "#print(df_aligned2)\n",
    "corrected_meals_df = eff_carbs(glucose_full, meal_df)\n",
    "cgmtestclean=corrected_meals_df.loc[:,['glucose','eff_carbs']]\n",
    "cgmtestclean.describe()\n",
    "#cgmtestclean.to_csv('corrected_meals.csv')"
   ]
  },
  {
   "cell_type": "markdown",
   "metadata": {},
   "source": [
    "## Data Normalization"
   ]
  },
  {
   "cell_type": "code",
   "execution_count": 519,
   "metadata": {},
   "outputs": [],
   "source": [
    "#Normalizing the data\n",
    "from sklearn.preprocessing import MinMaxScaler\n",
    "from sklearn.metrics import mean_squared_error\n",
    "datatrain = np.array(cgmtrainclean.values.astype('float32'))\n",
    "datatest = np.array(cgmtestclean.values.astype('float32'))\n",
    "#print(datatest)\n",
    "#print(testmax[0])\n",
    "#print(testmin[0])\n",
    "values = cgmtrainclean.values\n",
    "values = values.astype('float32')\n",
    "# normalize features"
   ]
  },
  {
   "cell_type": "code",
   "execution_count": 520,
   "metadata": {},
   "outputs": [],
   "source": [
    "#Normalizing Testing\n",
    "values1 = cgmtestclean.values\n",
    "values1 = values1.astype('float32')\n"
   ]
  },
  {
   "cell_type": "code",
   "execution_count": 521,
   "metadata": {},
   "outputs": [
    {
     "data": {
      "text/html": [
       "<div>\n",
       "<style scoped>\n",
       "    .dataframe tbody tr th:only-of-type {\n",
       "        vertical-align: middle;\n",
       "    }\n",
       "\n",
       "    .dataframe tbody tr th {\n",
       "        vertical-align: top;\n",
       "    }\n",
       "\n",
       "    .dataframe thead th {\n",
       "        text-align: right;\n",
       "    }\n",
       "</style>\n",
       "<table border=\"1\" class=\"dataframe\">\n",
       "  <thead>\n",
       "    <tr style=\"text-align: right;\">\n",
       "      <th></th>\n",
       "      <th>var1(t-12)</th>\n",
       "      <th>var2(t-12)</th>\n",
       "      <th>var1(t-11)</th>\n",
       "      <th>var2(t-11)</th>\n",
       "      <th>var1(t-10)</th>\n",
       "      <th>var2(t-10)</th>\n",
       "      <th>var1(t-9)</th>\n",
       "      <th>var2(t-9)</th>\n",
       "      <th>var1(t-8)</th>\n",
       "      <th>var2(t-8)</th>\n",
       "      <th>...</th>\n",
       "      <th>var1(t+1)</th>\n",
       "      <th>var2(t+1)</th>\n",
       "      <th>var1(t+2)</th>\n",
       "      <th>var2(t+2)</th>\n",
       "      <th>var1(t+3)</th>\n",
       "      <th>var2(t+3)</th>\n",
       "      <th>var1(t+4)</th>\n",
       "      <th>var2(t+4)</th>\n",
       "      <th>var1(t+5)</th>\n",
       "      <th>var2(t+5)</th>\n",
       "    </tr>\n",
       "  </thead>\n",
       "  <tbody>\n",
       "    <tr>\n",
       "      <th>12</th>\n",
       "      <td>54.608406</td>\n",
       "      <td>0.0</td>\n",
       "      <td>53.356991</td>\n",
       "      <td>0.0</td>\n",
       "      <td>57.555222</td>\n",
       "      <td>0.0</td>\n",
       "      <td>61.376179</td>\n",
       "      <td>0.0</td>\n",
       "      <td>63.596989</td>\n",
       "      <td>0.0</td>\n",
       "      <td>...</td>\n",
       "      <td>70.683212</td>\n",
       "      <td>0.0</td>\n",
       "      <td>74.369041</td>\n",
       "      <td>0.0</td>\n",
       "      <td>78.734406</td>\n",
       "      <td>0.0</td>\n",
       "      <td>93.729004</td>\n",
       "      <td>0.0</td>\n",
       "      <td>101.416901</td>\n",
       "      <td>0.0</td>\n",
       "    </tr>\n",
       "    <tr>\n",
       "      <th>13</th>\n",
       "      <td>53.356991</td>\n",
       "      <td>0.0</td>\n",
       "      <td>57.555222</td>\n",
       "      <td>0.0</td>\n",
       "      <td>61.376179</td>\n",
       "      <td>0.0</td>\n",
       "      <td>63.596989</td>\n",
       "      <td>0.0</td>\n",
       "      <td>64.827087</td>\n",
       "      <td>0.0</td>\n",
       "      <td>...</td>\n",
       "      <td>74.369041</td>\n",
       "      <td>0.0</td>\n",
       "      <td>78.734406</td>\n",
       "      <td>0.0</td>\n",
       "      <td>93.729004</td>\n",
       "      <td>0.0</td>\n",
       "      <td>101.416901</td>\n",
       "      <td>0.0</td>\n",
       "      <td>108.942863</td>\n",
       "      <td>0.0</td>\n",
       "    </tr>\n",
       "    <tr>\n",
       "      <th>14</th>\n",
       "      <td>57.555222</td>\n",
       "      <td>0.0</td>\n",
       "      <td>61.376179</td>\n",
       "      <td>0.0</td>\n",
       "      <td>63.596989</td>\n",
       "      <td>0.0</td>\n",
       "      <td>64.827087</td>\n",
       "      <td>0.0</td>\n",
       "      <td>67.082718</td>\n",
       "      <td>0.0</td>\n",
       "      <td>...</td>\n",
       "      <td>78.734406</td>\n",
       "      <td>0.0</td>\n",
       "      <td>93.729004</td>\n",
       "      <td>0.0</td>\n",
       "      <td>101.416901</td>\n",
       "      <td>0.0</td>\n",
       "      <td>108.942863</td>\n",
       "      <td>0.0</td>\n",
       "      <td>114.584061</td>\n",
       "      <td>0.0</td>\n",
       "    </tr>\n",
       "    <tr>\n",
       "      <th>15</th>\n",
       "      <td>61.376179</td>\n",
       "      <td>0.0</td>\n",
       "      <td>63.596989</td>\n",
       "      <td>0.0</td>\n",
       "      <td>64.827087</td>\n",
       "      <td>0.0</td>\n",
       "      <td>67.082718</td>\n",
       "      <td>0.0</td>\n",
       "      <td>61.966164</td>\n",
       "      <td>0.0</td>\n",
       "      <td>...</td>\n",
       "      <td>93.729004</td>\n",
       "      <td>0.0</td>\n",
       "      <td>101.416901</td>\n",
       "      <td>0.0</td>\n",
       "      <td>108.942863</td>\n",
       "      <td>0.0</td>\n",
       "      <td>114.584061</td>\n",
       "      <td>0.0</td>\n",
       "      <td>120.729813</td>\n",
       "      <td>0.0</td>\n",
       "    </tr>\n",
       "    <tr>\n",
       "      <th>16</th>\n",
       "      <td>63.596989</td>\n",
       "      <td>0.0</td>\n",
       "      <td>64.827087</td>\n",
       "      <td>0.0</td>\n",
       "      <td>67.082718</td>\n",
       "      <td>0.0</td>\n",
       "      <td>61.966164</td>\n",
       "      <td>0.0</td>\n",
       "      <td>57.502823</td>\n",
       "      <td>0.0</td>\n",
       "      <td>...</td>\n",
       "      <td>101.416901</td>\n",
       "      <td>0.0</td>\n",
       "      <td>108.942863</td>\n",
       "      <td>0.0</td>\n",
       "      <td>114.584061</td>\n",
       "      <td>0.0</td>\n",
       "      <td>120.729813</td>\n",
       "      <td>0.0</td>\n",
       "      <td>122.613068</td>\n",
       "      <td>0.0</td>\n",
       "    </tr>\n",
       "  </tbody>\n",
       "</table>\n",
       "<p>5 rows × 36 columns</p>\n",
       "</div>"
      ],
      "text/plain": [
       "    var1(t-12)  var2(t-12)  var1(t-11)  var2(t-11)  var1(t-10)  var2(t-10)  \\\n",
       "12   54.608406         0.0   53.356991         0.0   57.555222         0.0   \n",
       "13   53.356991         0.0   57.555222         0.0   61.376179         0.0   \n",
       "14   57.555222         0.0   61.376179         0.0   63.596989         0.0   \n",
       "15   61.376179         0.0   63.596989         0.0   64.827087         0.0   \n",
       "16   63.596989         0.0   64.827087         0.0   67.082718         0.0   \n",
       "\n",
       "    var1(t-9)  var2(t-9)  var1(t-8)  var2(t-8)  ...   var1(t+1)  var2(t+1)  \\\n",
       "12  61.376179        0.0  63.596989        0.0  ...   70.683212        0.0   \n",
       "13  63.596989        0.0  64.827087        0.0  ...   74.369041        0.0   \n",
       "14  64.827087        0.0  67.082718        0.0  ...   78.734406        0.0   \n",
       "15  67.082718        0.0  61.966164        0.0  ...   93.729004        0.0   \n",
       "16  61.966164        0.0  57.502823        0.0  ...  101.416901        0.0   \n",
       "\n",
       "     var1(t+2)  var2(t+2)   var1(t+3)  var2(t+3)   var1(t+4)  var2(t+4)  \\\n",
       "12   74.369041        0.0   78.734406        0.0   93.729004        0.0   \n",
       "13   78.734406        0.0   93.729004        0.0  101.416901        0.0   \n",
       "14   93.729004        0.0  101.416901        0.0  108.942863        0.0   \n",
       "15  101.416901        0.0  108.942863        0.0  114.584061        0.0   \n",
       "16  108.942863        0.0  114.584061        0.0  120.729813        0.0   \n",
       "\n",
       "     var1(t+5)  var2(t+5)  \n",
       "12  101.416901        0.0  \n",
       "13  108.942863        0.0  \n",
       "14  114.584061        0.0  \n",
       "15  120.729813        0.0  \n",
       "16  122.613068        0.0  \n",
       "\n",
       "[5 rows x 36 columns]"
      ]
     },
     "execution_count": 521,
     "metadata": {},
     "output_type": "execute_result"
    }
   ],
   "source": [
    "# Transforming the training time series data into a supervised data\n",
    "train = series_to_supervised(values, 12, 6)\n",
    "train.head()"
   ]
  },
  {
   "cell_type": "code",
   "execution_count": 522,
   "metadata": {},
   "outputs": [
    {
     "data": {
      "text/html": [
       "<div>\n",
       "<style scoped>\n",
       "    .dataframe tbody tr th:only-of-type {\n",
       "        vertical-align: middle;\n",
       "    }\n",
       "\n",
       "    .dataframe tbody tr th {\n",
       "        vertical-align: top;\n",
       "    }\n",
       "\n",
       "    .dataframe thead th {\n",
       "        text-align: right;\n",
       "    }\n",
       "</style>\n",
       "<table border=\"1\" class=\"dataframe\">\n",
       "  <thead>\n",
       "    <tr style=\"text-align: right;\">\n",
       "      <th></th>\n",
       "      <th>var1(t-12)</th>\n",
       "      <th>var2(t-12)</th>\n",
       "      <th>var1(t-11)</th>\n",
       "      <th>var2(t-11)</th>\n",
       "      <th>var1(t-10)</th>\n",
       "      <th>var2(t-10)</th>\n",
       "      <th>var1(t-9)</th>\n",
       "      <th>var2(t-9)</th>\n",
       "      <th>var1(t-8)</th>\n",
       "      <th>var2(t-8)</th>\n",
       "      <th>...</th>\n",
       "      <th>var1(t-2)</th>\n",
       "      <th>var2(t-2)</th>\n",
       "      <th>var1(t-1)</th>\n",
       "      <th>var2(t-1)</th>\n",
       "      <th>var1(t)</th>\n",
       "      <th>var1(t+1)</th>\n",
       "      <th>var1(t+2)</th>\n",
       "      <th>var1(t+3)</th>\n",
       "      <th>var1(t+4)</th>\n",
       "      <th>var1(t+5)</th>\n",
       "    </tr>\n",
       "  </thead>\n",
       "  <tbody>\n",
       "    <tr>\n",
       "      <th>12</th>\n",
       "      <td>54.608406</td>\n",
       "      <td>0.0</td>\n",
       "      <td>53.356991</td>\n",
       "      <td>0.0</td>\n",
       "      <td>57.555222</td>\n",
       "      <td>0.0</td>\n",
       "      <td>61.376179</td>\n",
       "      <td>0.0</td>\n",
       "      <td>63.596989</td>\n",
       "      <td>0.0</td>\n",
       "      <td>...</td>\n",
       "      <td>59.861172</td>\n",
       "      <td>0.0</td>\n",
       "      <td>61.715797</td>\n",
       "      <td>0.0</td>\n",
       "      <td>64.342842</td>\n",
       "      <td>70.683212</td>\n",
       "      <td>74.369041</td>\n",
       "      <td>78.734406</td>\n",
       "      <td>93.729004</td>\n",
       "      <td>101.416901</td>\n",
       "    </tr>\n",
       "    <tr>\n",
       "      <th>13</th>\n",
       "      <td>53.356991</td>\n",
       "      <td>0.0</td>\n",
       "      <td>57.555222</td>\n",
       "      <td>0.0</td>\n",
       "      <td>61.376179</td>\n",
       "      <td>0.0</td>\n",
       "      <td>63.596989</td>\n",
       "      <td>0.0</td>\n",
       "      <td>64.827087</td>\n",
       "      <td>0.0</td>\n",
       "      <td>...</td>\n",
       "      <td>61.715797</td>\n",
       "      <td>0.0</td>\n",
       "      <td>64.342842</td>\n",
       "      <td>0.0</td>\n",
       "      <td>70.683212</td>\n",
       "      <td>74.369041</td>\n",
       "      <td>78.734406</td>\n",
       "      <td>93.729004</td>\n",
       "      <td>101.416901</td>\n",
       "      <td>108.942863</td>\n",
       "    </tr>\n",
       "    <tr>\n",
       "      <th>14</th>\n",
       "      <td>57.555222</td>\n",
       "      <td>0.0</td>\n",
       "      <td>61.376179</td>\n",
       "      <td>0.0</td>\n",
       "      <td>63.596989</td>\n",
       "      <td>0.0</td>\n",
       "      <td>64.827087</td>\n",
       "      <td>0.0</td>\n",
       "      <td>67.082718</td>\n",
       "      <td>0.0</td>\n",
       "      <td>...</td>\n",
       "      <td>64.342842</td>\n",
       "      <td>0.0</td>\n",
       "      <td>70.683212</td>\n",
       "      <td>0.0</td>\n",
       "      <td>74.369041</td>\n",
       "      <td>78.734406</td>\n",
       "      <td>93.729004</td>\n",
       "      <td>101.416901</td>\n",
       "      <td>108.942863</td>\n",
       "      <td>114.584061</td>\n",
       "    </tr>\n",
       "    <tr>\n",
       "      <th>15</th>\n",
       "      <td>61.376179</td>\n",
       "      <td>0.0</td>\n",
       "      <td>63.596989</td>\n",
       "      <td>0.0</td>\n",
       "      <td>64.827087</td>\n",
       "      <td>0.0</td>\n",
       "      <td>67.082718</td>\n",
       "      <td>0.0</td>\n",
       "      <td>61.966164</td>\n",
       "      <td>0.0</td>\n",
       "      <td>...</td>\n",
       "      <td>70.683212</td>\n",
       "      <td>0.0</td>\n",
       "      <td>74.369041</td>\n",
       "      <td>0.0</td>\n",
       "      <td>78.734406</td>\n",
       "      <td>93.729004</td>\n",
       "      <td>101.416901</td>\n",
       "      <td>108.942863</td>\n",
       "      <td>114.584061</td>\n",
       "      <td>120.729813</td>\n",
       "    </tr>\n",
       "    <tr>\n",
       "      <th>16</th>\n",
       "      <td>63.596989</td>\n",
       "      <td>0.0</td>\n",
       "      <td>64.827087</td>\n",
       "      <td>0.0</td>\n",
       "      <td>67.082718</td>\n",
       "      <td>0.0</td>\n",
       "      <td>61.966164</td>\n",
       "      <td>0.0</td>\n",
       "      <td>57.502823</td>\n",
       "      <td>0.0</td>\n",
       "      <td>...</td>\n",
       "      <td>74.369041</td>\n",
       "      <td>0.0</td>\n",
       "      <td>78.734406</td>\n",
       "      <td>0.0</td>\n",
       "      <td>93.729004</td>\n",
       "      <td>101.416901</td>\n",
       "      <td>108.942863</td>\n",
       "      <td>114.584061</td>\n",
       "      <td>120.729813</td>\n",
       "      <td>122.613068</td>\n",
       "    </tr>\n",
       "  </tbody>\n",
       "</table>\n",
       "<p>5 rows × 30 columns</p>\n",
       "</div>"
      ],
      "text/plain": [
       "    var1(t-12)  var2(t-12)  var1(t-11)  var2(t-11)  var1(t-10)  var2(t-10)  \\\n",
       "12   54.608406         0.0   53.356991         0.0   57.555222         0.0   \n",
       "13   53.356991         0.0   57.555222         0.0   61.376179         0.0   \n",
       "14   57.555222         0.0   61.376179         0.0   63.596989         0.0   \n",
       "15   61.376179         0.0   63.596989         0.0   64.827087         0.0   \n",
       "16   63.596989         0.0   64.827087         0.0   67.082718         0.0   \n",
       "\n",
       "    var1(t-9)  var2(t-9)  var1(t-8)  var2(t-8)  ...  var1(t-2)  var2(t-2)  \\\n",
       "12  61.376179        0.0  63.596989        0.0  ...  59.861172        0.0   \n",
       "13  63.596989        0.0  64.827087        0.0  ...  61.715797        0.0   \n",
       "14  64.827087        0.0  67.082718        0.0  ...  64.342842        0.0   \n",
       "15  67.082718        0.0  61.966164        0.0  ...  70.683212        0.0   \n",
       "16  61.966164        0.0  57.502823        0.0  ...  74.369041        0.0   \n",
       "\n",
       "    var1(t-1)  var2(t-1)    var1(t)   var1(t+1)   var1(t+2)   var1(t+3)  \\\n",
       "12  61.715797        0.0  64.342842   70.683212   74.369041   78.734406   \n",
       "13  64.342842        0.0  70.683212   74.369041   78.734406   93.729004   \n",
       "14  70.683212        0.0  74.369041   78.734406   93.729004  101.416901   \n",
       "15  74.369041        0.0  78.734406   93.729004  101.416901  108.942863   \n",
       "16  78.734406        0.0  93.729004  101.416901  108.942863  114.584061   \n",
       "\n",
       "     var1(t+4)   var1(t+5)  \n",
       "12   93.729004  101.416901  \n",
       "13  101.416901  108.942863  \n",
       "14  108.942863  114.584061  \n",
       "15  114.584061  120.729813  \n",
       "16  120.729813  122.613068  \n",
       "\n",
       "[5 rows x 30 columns]"
      ]
     },
     "execution_count": 522,
     "metadata": {},
     "output_type": "execute_result"
    }
   ],
   "source": [
    "# Transforming the training time series data into a supervised data\n",
    "#train = series_to_supervised(scaled, 12, 6)\n",
    "#print(train.shape)\n",
    "# drop columns we don't want to predict\n",
    "train.drop(train.columns[[25,27,29,31,33,35]], axis=1, inplace=True)\n",
    "train.head()\n",
    "#n_features=1\n",
    "#X1=train.iloc[:,0:24:2]\n",
    "#print(X1.shape)\n",
    "#X1=np.array(X1).reshape(X1.shape[0], X1.shape[1], n_features)\n",
    "#X2=train.iloc[:,1:24:2]\n",
    "#X2=np.array(X2).reshape(X2.shape[0], X2.shape[1], n_features)3#"
   ]
  },
  {
   "cell_type": "code",
   "execution_count": 523,
   "metadata": {},
   "outputs": [],
   "source": [
    "# Transforming the testing time series data into a supervised data\n",
    "test = series_to_supervised(values1, 12, 6)\n",
    "#print(test.shape)\n",
    "# drop columns we don't want to predict\n",
    "n_features=1\n",
    "test.drop(test.columns[[25,27,29,31,33,35]], axis=1, inplace=True)\n",
    "#Xtest1=test.iloc[:,0:24:2]\n",
    "#print(Xtest1)\n",
    "#Xtest1=np.array(Xtest1).reshape(Xtest1.shape[0], Xtest1.shape[1], n_features)\n",
    "#Xtest2=test.iloc[:,1:24:2]\n",
    "#Xtest2=np.array(Xtest2).reshape(Xtest2.shape[0], Xtest2.shape[1], n_features)\n",
    "test=np.array(test)"
   ]
  },
  {
   "cell_type": "code",
   "execution_count": 524,
   "metadata": {},
   "outputs": [],
   "source": [
    "#Past history: One hour, Prediction horizon: 30 minutes \n",
    "n_lag=24\n",
    "n_seq=6\n",
    "epochs=50"
   ]
  },
  {
   "cell_type": "code",
   "execution_count": 525,
   "metadata": {},
   "outputs": [
    {
     "name": "stdout",
     "output_type": "stream",
     "text": [
      "(13231, 24)\n"
     ]
    },
    {
     "data": {
      "text/html": [
       "<div>\n",
       "<style scoped>\n",
       "    .dataframe tbody tr th:only-of-type {\n",
       "        vertical-align: middle;\n",
       "    }\n",
       "\n",
       "    .dataframe tbody tr th {\n",
       "        vertical-align: top;\n",
       "    }\n",
       "\n",
       "    .dataframe thead th {\n",
       "        text-align: right;\n",
       "    }\n",
       "</style>\n",
       "<table border=\"1\" class=\"dataframe\">\n",
       "  <thead>\n",
       "    <tr style=\"text-align: right;\">\n",
       "      <th></th>\n",
       "      <th>0</th>\n",
       "      <th>1</th>\n",
       "      <th>2</th>\n",
       "      <th>3</th>\n",
       "      <th>4</th>\n",
       "      <th>5</th>\n",
       "    </tr>\n",
       "  </thead>\n",
       "  <tbody>\n",
       "    <tr>\n",
       "      <th>0</th>\n",
       "      <td>0.009811</td>\n",
       "      <td>-0.014046</td>\n",
       "      <td>-0.008057</td>\n",
       "      <td>-0.007812</td>\n",
       "      <td>-0.032692</td>\n",
       "      <td>-0.053207</td>\n",
       "    </tr>\n",
       "    <tr>\n",
       "      <th>1</th>\n",
       "      <td>-0.003502</td>\n",
       "      <td>-0.042351</td>\n",
       "      <td>-0.026894</td>\n",
       "      <td>-0.246574</td>\n",
       "      <td>-0.059395</td>\n",
       "      <td>-0.415283</td>\n",
       "    </tr>\n",
       "    <tr>\n",
       "      <th>2</th>\n",
       "      <td>-0.038536</td>\n",
       "      <td>-0.052910</td>\n",
       "      <td>-0.027222</td>\n",
       "      <td>-0.114098</td>\n",
       "      <td>-0.397797</td>\n",
       "      <td>0.001373</td>\n",
       "    </tr>\n",
       "    <tr>\n",
       "      <th>3</th>\n",
       "      <td>0.013855</td>\n",
       "      <td>-0.038597</td>\n",
       "      <td>-0.075539</td>\n",
       "      <td>-0.008461</td>\n",
       "      <td>-0.052246</td>\n",
       "      <td>-0.195740</td>\n",
       "    </tr>\n",
       "    <tr>\n",
       "      <th>4</th>\n",
       "      <td>-0.144890</td>\n",
       "      <td>-0.195404</td>\n",
       "      <td>-0.252090</td>\n",
       "      <td>-0.435394</td>\n",
       "      <td>-0.022743</td>\n",
       "      <td>-0.103981</td>\n",
       "    </tr>\n",
       "  </tbody>\n",
       "</table>\n",
       "</div>"
      ],
      "text/plain": [
       "          0         1         2         3         4         5\n",
       "0  0.009811 -0.014046 -0.008057 -0.007812 -0.032692 -0.053207\n",
       "1 -0.003502 -0.042351 -0.026894 -0.246574 -0.059395 -0.415283\n",
       "2 -0.038536 -0.052910 -0.027222 -0.114098 -0.397797  0.001373\n",
       "3  0.013855 -0.038597 -0.075539 -0.008461 -0.052246 -0.195740\n",
       "4 -0.144890 -0.195404 -0.252090 -0.435394 -0.022743 -0.103981"
      ]
     },
     "execution_count": 525,
     "metadata": {},
     "output_type": "execute_result"
    }
   ],
   "source": [
    "# fit model\n",
    "import time\n",
    "start_time = time.time()\n",
    "#model.fit([X1, X2], y, epochs=400, verbose=0)\n",
    "# transform list into array\n",
    "train = asarray(train)\n",
    "# split into input and output columns\n",
    "X, y = train[:, 0:n_lag], train[:, n_lag:]\n",
    "print(X.shape)\n",
    "# fit model\n",
    "import time\n",
    "start_time = time.time()\n",
    "#model = XGBRegressor(objective='reg:squarederror', n_estimators=1000)\n",
    "multioutputregressor = MultiOutputRegressor(xgb.XGBRegressor(objective='reg:squarederror',n_estimators=1000)).fit(X, y)\n",
    "# predicting\n",
    "a=multioutputregressor.predict(X)-y\n",
    "a=DataFrame(a)\n",
    "a.head()"
   ]
  },
  {
   "cell_type": "code",
   "execution_count": 526,
   "metadata": {},
   "outputs": [],
   "source": [
    "testX, testy = test[:,0:n_lag], test[:, n_lag:]"
   ]
  },
  {
   "cell_type": "code",
   "execution_count": 527,
   "metadata": {},
   "outputs": [
    {
     "data": {
      "text/plain": [
       "0    7.640965\n",
       "dtype: float32"
      ]
     },
     "execution_count": 527,
     "metadata": {},
     "output_type": "execute_result"
    }
   ],
   "source": [
    "b = np.sqrt(np.mean((multioutputregressor.predict(testX)-testy)**2,axis=0))\n",
    "from math import sqrt\n",
    "b=DataFrame(b)\n",
    "b.head()\n",
    "b.mean()"
   ]
  },
  {
   "cell_type": "code",
   "execution_count": 528,
   "metadata": {},
   "outputs": [
    {
     "name": "stdout",
     "output_type": "stream",
     "text": [
      "--- 87.71026611328125 seconds ---\n"
     ]
    }
   ],
   "source": [
    "print(\"--- %s seconds ---\" % (time.time() - start_time))"
   ]
  },
  {
   "cell_type": "code",
   "execution_count": null,
   "metadata": {},
   "outputs": [],
   "source": []
  }
 ],
 "metadata": {
  "colab": {
   "collapsed_sections": [],
   "name": "Glucose process_data v3.2.ipynb",
   "provenance": []
  },
  "kernelspec": {
   "display_name": "Python 3 (ipykernel)",
   "language": "python",
   "name": "python3"
  },
  "language_info": {
   "codemirror_mode": {
    "name": "ipython",
    "version": 3
   },
   "file_extension": ".py",
   "mimetype": "text/x-python",
   "name": "python",
   "nbconvert_exporter": "python",
   "pygments_lexer": "ipython3",
   "version": "3.9.12"
  }
 },
 "nbformat": 4,
 "nbformat_minor": 1
}
