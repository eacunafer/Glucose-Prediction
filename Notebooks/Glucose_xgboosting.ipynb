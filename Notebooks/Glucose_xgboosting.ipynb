{
 "cells": [
  {
   "cell_type": "code",
   "execution_count": 1,
   "id": "f4b63cf6",
   "metadata": {},
   "outputs": [],
   "source": [
    "# forecast monthly births with xgboost\n",
    "from numpy import asarray\n",
    "import pandas as pd\n",
    "from pandas import read_csv\n",
    "from pandas import DataFrame\n",
    "from pandas import concat\n",
    "from sklearn.metrics import mean_absolute_error\n",
    "import xgboost as xgb\n",
    "from xgboost import XGBRegressor\n",
    "from matplotlib import pyplot\n"
   ]
  },
  {
   "cell_type": "code",
   "execution_count": 2,
   "id": "807862a9",
   "metadata": {},
   "outputs": [],
   "source": [
    "import pandas as pd\n",
    "from sklearn.multioutput import MultiOutputRegressor\n",
    "import numpy as np\n",
    "import xml.etree.cElementTree as et\n",
    "from datetime import datetime\n",
    "from pandas.core.tools.datetimes import to_datetime\n",
    "from datetime import timedelta"
   ]
  },
  {
   "cell_type": "code",
   "execution_count": 3,
   "id": "e01de317",
   "metadata": {},
   "outputs": [],
   "source": [
    "# get some noised linear data\n",
    "# X = np.random.random((1000, 10))\n",
    "#a = np.random.random((10, 3))\n",
    "#y = np.dot(X, a) + np.random.normal(0, 1e-3, (1000, 3))\n",
    "#print(y.shape)\n",
    "# fitting\n",
    "#multioutputregressor = MultiOutputRegressor(xgb.XGBRegressor(objective='reg:squarederror')).fit(X, y)\n",
    "\n",
    "# predicting\n",
    "#print(np.mean((multioutputregressor.predict(X) - y)**2, axis=0))  # 0.004, 0.003, 0.005"
   ]
  },
  {
   "cell_type": "code",
   "execution_count": 4,
   "id": "585b2a43",
   "metadata": {},
   "outputs": [],
   "source": [
    "def read_xml_data(filename, selected_items):\n",
    "  tree=et.parse(filename)\n",
    "  root=tree.getroot()\n",
    "  #extract selected items\n",
    "  for child in root:\n",
    "    if child.tag in selected_items:\n",
    "      df = pd.DataFrame()\n",
    "      for elem in child:      \n",
    "        df1 = pd.DataFrame(elem.attrib, index=[0])\n",
    "        df = df.append(df1)\n",
    "      #First column is the timestamp (dayfirst)      \n",
    "      #df.iloc[:,0] = pd.to_datetime(df.iloc[:,0], dayfirst=True)\n",
    "      #write to csv file using the timestamp as index      \n",
    "      df.to_csv(child.tag+'.csv', index=0)  "
   ]
  },
  {
   "cell_type": "code",
   "execution_count": 5,
   "id": "9ead7232",
   "metadata": {},
   "outputs": [],
   "source": [
    "def read_ts_file(filename):\n",
    "  #reads csv file where the first column is a timestamp and the index column\n",
    "  df = pd.read_csv (filename, parse_dates=[0], dayfirst=True, index_col=0)\n",
    "  return df"
   ]
  },
  {
   "cell_type": "code",
   "execution_count": 6,
   "id": "cab12c01",
   "metadata": {},
   "outputs": [],
   "source": [
    "def align_timeseries(align_df, source_df, source_columns, default_vals, dest_columns=[], include_index=False):\n",
    "  # Generates a new dataframe with source_df data aligned to align_df\n",
    "  # source_columns : list of columns from source_df to be included in result\n",
    "  # dest_columns = column names of source_columns, if ommited column names will be the same as in source_df\n",
    "  #                if specified, the first column has to be the name of the index in the destination\n",
    "  # include_index: if source index must be included in the result\n",
    "  # default_vals = list of default values for source_columns\n",
    " \n",
    "  df_align = align_df.copy()\n",
    "  df_align = df_align.sort_index()\n",
    "  df2 = source_df.copy()\n",
    "  df2 = df2.sort_index()\n",
    "  df_dup = pd.DataFrame()\n",
    "  if (dest_columns==[]) : dest_columns = source_columns.copy()\n",
    "  if (len(dest_columns) == len(source_columns)) : dest_columns = ['source_ts'] + dest_columns # add column for index\n",
    "  #add blank cells in destination\n",
    "  df_align[dest_columns] = [np.nan] + default_vals\n",
    "  for i in range(len(df2)):\n",
    "      ts2 = df2.index[i]\n",
    "      ts1_loc = df_align.index.get_loc(ts2, method='nearest')\n",
    "      ts1 = df_align.index[ts1_loc]\n",
    "      vals = [ts2]+list(df2.loc[ts2, source_columns])\n",
    "      ts_old = df_align.loc[ts1, dest_columns[0]]\n",
    "      if not pd.isna(ts_old): #there are duplicates\n",
    "        if (abs(ts1.value-ts2.value) > abs(ts1.value-ts_old.value)): \n",
    "          #difference is greater, do not replace        \n",
    "          df_dup = df_dup.append(df_align.loc[ts1])\n",
    "          df_dup.loc[ts1, dest_columns] = vals\n",
    "        else: #replace\n",
    "          df_dup = df_dup.append(df_align.loc[ts1])\n",
    "          df_align.loc[ts1, dest_columns] = vals\n",
    "        continue\n",
    "      df_align.loc[ts1, dest_columns] = vals\n",
    "  \n",
    "  if not(include_index) : df_align = df_align.drop( columns = dest_columns[0])\n",
    "\n",
    "  return df_align, df_dup"
   ]
  },
  {
   "cell_type": "code",
   "execution_count": 7,
   "id": "26ee230c",
   "metadata": {},
   "outputs": [],
   "source": [
    "def timedf(df):\n",
    "  #creates a 5 minute interval timeseries dataframe based in index of df\n",
    "  # df must have a timestamp index\n",
    "  #time_df: result dataframe with timestamp index\n",
    "  timestamp = pd.date_range(start=df.index[0], end=df.index[-1]  + timedelta(minutes=4), freq='5T')\n",
    "  time_df = pd.DataFrame({'timestamp':timestamp})\n",
    "  time_df.set_index('timestamp', inplace=True)\n",
    "  return time_df"
   ]
  },
  {
   "cell_type": "code",
   "execution_count": 8,
   "id": "da293146",
   "metadata": {},
   "outputs": [],
   "source": [
    "def find_gaps(df, greaterthan=5, units='m'):\n",
    "  # find gaps relative to index, index must be a datetime field\n",
    "  # greaterthan is the number of time units to be considered a gap\n",
    "  # units 'm'=minutes, 'h'=hours\n",
    "  i = 0\n",
    "  gaps_df = pd.DataFrame()\n",
    "  while i < len(df) - 1:\n",
    "    ts = df.index[i]\n",
    "    next_ts = df.index[i+1]\n",
    "    duration = next_ts - ts\n",
    "    if duration > np.timedelta64(greaterthan, units): \n",
    "      begin_gap = ts\n",
    "      end_gap = next_ts\n",
    "      gaps_df = gaps_df.append({'From': begin_gap, 'To': end_gap, 'Duration': duration}, ignore_index=True)\n",
    "    i = i + 1\n",
    "  gaps_df.sort_values(by=['Duration'], ascending=False, inplace=True)\n",
    "  return gaps_df"
   ]
  },
  {
   "cell_type": "code",
   "execution_count": 9,
   "id": "cc9c05b5",
   "metadata": {},
   "outputs": [],
   "source": [
    "def read_files():\n",
    "  #read glucose\n",
    "  glucose_df = read_ts_file('glucose_level.csv')\n",
    "  glucose_df.rename(columns={\"ts\": \"timestamp\", \"value\": \"glucose\"}, inplace=True)\n",
    "  print(glucose_df)\n",
    "  #read meal\n",
    "  meal_df = read_ts_file('meal.csv')\n",
    "  print(meal_df)\n",
    "  #read bolus\n",
    "  meal_df = read_ts_file('bolus.csv')\n",
    "  print(meal_df)"
   ]
  },
  {
   "cell_type": "markdown",
   "id": "75fc463a",
   "metadata": {},
   "source": [
    "## Reading Training Data"
   ]
  },
  {
   "cell_type": "code",
   "execution_count": 10,
   "id": "dd170918",
   "metadata": {},
   "outputs": [],
   "source": [
    "#selected_items = ['glucose_level','bolus','meal']\n",
    "read_xml_data(filename='c://aadm/575-ws-training.xml', selected_items=['glucose_level','bolus','meal'])"
   ]
  },
  {
   "cell_type": "code",
   "execution_count": 11,
   "id": "f4d2daed",
   "metadata": {},
   "outputs": [],
   "source": [
    "glucose_train = read_ts_file('glucose_level.csv')\n",
    "glucose_train.rename(columns={\"ts\": \"timestamp\", \"value\": \"glucose\"}, inplace=True)\n",
    "#print(glucose_train)"
   ]
  },
  {
   "cell_type": "code",
   "execution_count": 12,
   "id": "8b1d9190",
   "metadata": {},
   "outputs": [
    {
     "name": "stdout",
     "output_type": "stream",
     "text": [
      "Missing intervals:  629\n"
     ]
    }
   ],
   "source": [
    "#Finding the length of the complete time series\n",
    "time_df = timedf(glucose_train)\n",
    "print('Missing intervals: ', len(time_df) - len(glucose_train) )"
   ]
  },
  {
   "cell_type": "code",
   "execution_count": 13,
   "id": "5eadf0cc",
   "metadata": {},
   "outputs": [
    {
     "data": {
      "text/html": [
       "<div>\n",
       "<style scoped>\n",
       "    .dataframe tbody tr th:only-of-type {\n",
       "        vertical-align: middle;\n",
       "    }\n",
       "\n",
       "    .dataframe tbody tr th {\n",
       "        vertical-align: top;\n",
       "    }\n",
       "\n",
       "    .dataframe thead th {\n",
       "        text-align: right;\n",
       "    }\n",
       "</style>\n",
       "<table border=\"1\" class=\"dataframe\">\n",
       "  <thead>\n",
       "    <tr style=\"text-align: right;\">\n",
       "      <th></th>\n",
       "      <th>glucose</th>\n",
       "    </tr>\n",
       "    <tr>\n",
       "      <th>ts</th>\n",
       "      <th></th>\n",
       "    </tr>\n",
       "  </thead>\n",
       "  <tbody>\n",
       "    <tr>\n",
       "      <th>2021-12-07 16:25:00</th>\n",
       "      <td>101.0</td>\n",
       "    </tr>\n",
       "    <tr>\n",
       "      <th>2021-12-07 16:30:00</th>\n",
       "      <td>100.0</td>\n",
       "    </tr>\n",
       "    <tr>\n",
       "      <th>2021-12-07 16:35:00</th>\n",
       "      <td>100.0</td>\n",
       "    </tr>\n",
       "    <tr>\n",
       "      <th>2021-12-07 16:40:00</th>\n",
       "      <td>99.0</td>\n",
       "    </tr>\n",
       "    <tr>\n",
       "      <th>2021-12-07 16:45:00</th>\n",
       "      <td>98.0</td>\n",
       "    </tr>\n",
       "  </tbody>\n",
       "</table>\n",
       "</div>"
      ],
      "text/plain": [
       "                     glucose\n",
       "ts                          \n",
       "2021-12-07 16:25:00    101.0\n",
       "2021-12-07 16:30:00    100.0\n",
       "2021-12-07 16:35:00    100.0\n",
       "2021-12-07 16:40:00     99.0\n",
       "2021-12-07 16:45:00     98.0"
      ]
     },
     "execution_count": 13,
     "metadata": {},
     "output_type": "execute_result"
    }
   ],
   "source": [
    "#Adding NA in the whole range of cgm-training\n",
    "glucose_train=glucose_train.resample('5T').mean()\n",
    "glucose_train.head()"
   ]
  },
  {
   "cell_type": "markdown",
   "id": "2d3ea0a2",
   "metadata": {},
   "source": [
    "## Reading the testing data"
   ]
  },
  {
   "cell_type": "code",
   "execution_count": 14,
   "id": "055c573a",
   "metadata": {},
   "outputs": [],
   "source": [
    "#selected_items = ['glucose_level','bolus','meal']\n",
    "read_xml_data(filename='c://aadm/575-ws-testing.xml', selected_items=['glucose_level','bolus','meal'])"
   ]
  },
  {
   "cell_type": "code",
   "execution_count": 15,
   "id": "50bbcb15",
   "metadata": {},
   "outputs": [
    {
     "name": "stdout",
     "output_type": "stream",
     "text": [
      "<class 'pandas.core.frame.DataFrame'>\n",
      "DatetimeIndex: 2745 entries, 2022-01-17 00:04:00 to 2022-01-26 23:57:00\n",
      "Data columns (total 1 columns):\n",
      " #   Column   Non-Null Count  Dtype\n",
      "---  ------   --------------  -----\n",
      " 0   glucose  2745 non-null   int64\n",
      "dtypes: int64(1)\n",
      "memory usage: 42.9 KB\n"
     ]
    }
   ],
   "source": [
    "glucose_test = read_ts_file('glucose_level.csv')\n",
    "glucose_test.rename(columns={\"ts\": \"timestamp\", \"value\": \"glucose\"}, inplace=True)\n",
    "glucose_test.info()"
   ]
  },
  {
   "cell_type": "code",
   "execution_count": 16,
   "id": "c3d07a6c",
   "metadata": {},
   "outputs": [
    {
     "name": "stdout",
     "output_type": "stream",
     "text": [
      "Missing intervals:  135\n"
     ]
    }
   ],
   "source": [
    "#Finding the length of the complete time series\n",
    "time_df = timedf(glucose_test)\n",
    "print('Missing intervals: ', len(time_df) - len(glucose_test) )"
   ]
  },
  {
   "cell_type": "code",
   "execution_count": 17,
   "id": "1faee92c",
   "metadata": {},
   "outputs": [],
   "source": [
    "# All gaps \n",
    "gaps_df = find_gaps(glucose_test)\n",
    "#print(gaps_df)"
   ]
  },
  {
   "cell_type": "code",
   "execution_count": 18,
   "id": "e273660c",
   "metadata": {},
   "outputs": [
    {
     "data": {
      "text/html": [
       "<div>\n",
       "<style scoped>\n",
       "    .dataframe tbody tr th:only-of-type {\n",
       "        vertical-align: middle;\n",
       "    }\n",
       "\n",
       "    .dataframe tbody tr th {\n",
       "        vertical-align: top;\n",
       "    }\n",
       "\n",
       "    .dataframe thead th {\n",
       "        text-align: right;\n",
       "    }\n",
       "</style>\n",
       "<table border=\"1\" class=\"dataframe\">\n",
       "  <thead>\n",
       "    <tr style=\"text-align: right;\">\n",
       "      <th></th>\n",
       "      <th>glucose</th>\n",
       "    </tr>\n",
       "    <tr>\n",
       "      <th>ts</th>\n",
       "      <th></th>\n",
       "    </tr>\n",
       "  </thead>\n",
       "  <tbody>\n",
       "    <tr>\n",
       "      <th>2022-01-17 00:00:00</th>\n",
       "      <td>135.0</td>\n",
       "    </tr>\n",
       "    <tr>\n",
       "      <th>2022-01-17 00:05:00</th>\n",
       "      <td>143.0</td>\n",
       "    </tr>\n",
       "    <tr>\n",
       "      <th>2022-01-17 00:10:00</th>\n",
       "      <td>152.0</td>\n",
       "    </tr>\n",
       "    <tr>\n",
       "      <th>2022-01-17 00:15:00</th>\n",
       "      <td>159.0</td>\n",
       "    </tr>\n",
       "    <tr>\n",
       "      <th>2022-01-17 00:20:00</th>\n",
       "      <td>166.0</td>\n",
       "    </tr>\n",
       "  </tbody>\n",
       "</table>\n",
       "</div>"
      ],
      "text/plain": [
       "                     glucose\n",
       "ts                          \n",
       "2022-01-17 00:00:00    135.0\n",
       "2022-01-17 00:05:00    143.0\n",
       "2022-01-17 00:10:00    152.0\n",
       "2022-01-17 00:15:00    159.0\n",
       "2022-01-17 00:20:00    166.0"
      ]
     },
     "execution_count": 18,
     "metadata": {},
     "output_type": "execute_result"
    }
   ],
   "source": [
    "#Adding NA in the whole range of cgm-testing\n",
    "glucose_test=glucose_test.resample('5T').mean()\n",
    "glucose_test.head()"
   ]
  },
  {
   "cell_type": "code",
   "execution_count": 19,
   "id": "9669bad5",
   "metadata": {},
   "outputs": [],
   "source": [
    "#impute_mean(cgmtestmiss, 'glucose')\n",
    "#cgmtestclean=cgmtestmiss\n",
    "#cgm559testclean.info()"
   ]
  },
  {
   "cell_type": "code",
   "execution_count": 20,
   "id": "1badca92",
   "metadata": {},
   "outputs": [],
   "source": [
    "#cgmtestclean= cgmtestmiss.interpolate(method=\"polynomial\",order=3)\n",
    "#cgm559testclean.info()"
   ]
  },
  {
   "cell_type": "code",
   "execution_count": 21,
   "id": "b77cc2ad",
   "metadata": {},
   "outputs": [],
   "source": [
    "#Normalizing the data\n",
    "from sklearn.preprocessing import MinMaxScaler\n",
    "from sklearn.metrics import mean_squared_error\n",
    "datatrain = np.array(glucose_train.values.astype('float32'))\n",
    "datatest = np.array(glucose_test.values.astype('float32'))\n",
    "#scaler = MinMaxScaler(feature_range=(0, 1))\n",
    "#datatrain = scaler.fit_transform(datatrain).flatten()\n",
    "#datatest = scaler.fit_transform(datatest).flatten()\n",
    "#n = len(data)\n",
    "train_data=pd.DataFrame(datatrain)\n",
    "test_data=pd.DataFrame(datatest)"
   ]
  },
  {
   "cell_type": "code",
   "execution_count": 22,
   "id": "52269f08",
   "metadata": {},
   "outputs": [
    {
     "name": "stdout",
     "output_type": "stream",
     "text": [
      "(11611, 1)\n",
      "(2880, 1)\n"
     ]
    }
   ],
   "source": [
    "print(train_data.shape)\n",
    "print(test_data.shape)"
   ]
  },
  {
   "cell_type": "code",
   "execution_count": 23,
   "id": "22c9fd15",
   "metadata": {},
   "outputs": [],
   "source": [
    "# convert time series into supervised learning problem\n",
    "def series_to_supervised(data, n_in=1, n_out=1, dropnan=True):\n",
    "    n_vars=1 if type(data) is list else data.shape[1]\n",
    "    df = pd.DataFrame(data)\n",
    "    cols, names = list(), list()\n",
    "    # input sequence (t-n, ... t-1)\n",
    "    for i in range(n_in, 0, -1):\n",
    "        cols.append(df.shift(i))\n",
    "        names += [('var%d(t-%d)' % (j+1, i)) for j in range(n_vars)]\n",
    "    # forecast sequence (t, t+1, ... t+n)\n",
    "    for i in range(0, n_out):\n",
    "        cols.append(df.shift(-i))\n",
    "        if i == 0:\n",
    "            names += [('var%d(t)' % (j+1)) for j in range(n_vars)]\n",
    "        else:\n",
    "            names += [('var%d(t+%d)' % (j+1, i)) for j in range(n_vars)]\n",
    "    # put it all together\n",
    "    agg = pd.concat(cols, axis=1)\n",
    "    agg.columns = names\n",
    "    # drop rows with NaN values\n",
    "    if dropnan:\n",
    "        agg.dropna(inplace=True)\n",
    "    return agg"
   ]
  },
  {
   "cell_type": "code",
   "execution_count": 24,
   "id": "b736bc50",
   "metadata": {},
   "outputs": [],
   "source": [
    "#Past history: One hour, Prediction horizon: 30 minutes \n",
    "n_lag=12\n",
    "n_seq=6"
   ]
  },
  {
   "cell_type": "code",
   "execution_count": 25,
   "id": "8e129e11",
   "metadata": {},
   "outputs": [
    {
     "name": "stdout",
     "output_type": "stream",
     "text": [
      "test shape: (2575, 18)\n",
      "train shape: (10625, 18)\n"
     ]
    }
   ],
   "source": [
    "data1=series_to_supervised(train_data, n_in=n_lag, n_out=n_seq, dropnan=True)\n",
    "data2=series_to_supervised(test_data, n_in=n_lag, n_out=n_seq, dropnan=True)\n",
    "train=data1.values\n",
    "test=data2.values\n",
    "#print(data1.shape)\n",
    "print(\"test shape:\",test.shape)\n",
    "print(\"train shape:\",train.shape)"
   ]
  },
  {
   "cell_type": "code",
   "execution_count": 26,
   "id": "a98f12c5",
   "metadata": {},
   "outputs": [
    {
     "name": "stdout",
     "output_type": "stream",
     "text": [
      "(10625, 6)\n"
     ]
    },
    {
     "data": {
      "text/html": [
       "<div>\n",
       "<style scoped>\n",
       "    .dataframe tbody tr th:only-of-type {\n",
       "        vertical-align: middle;\n",
       "    }\n",
       "\n",
       "    .dataframe tbody tr th {\n",
       "        vertical-align: top;\n",
       "    }\n",
       "\n",
       "    .dataframe thead th {\n",
       "        text-align: right;\n",
       "    }\n",
       "</style>\n",
       "<table border=\"1\" class=\"dataframe\">\n",
       "  <thead>\n",
       "    <tr style=\"text-align: right;\">\n",
       "      <th></th>\n",
       "      <th>0</th>\n",
       "      <th>1</th>\n",
       "      <th>2</th>\n",
       "      <th>3</th>\n",
       "      <th>4</th>\n",
       "      <th>5</th>\n",
       "    </tr>\n",
       "  </thead>\n",
       "  <tbody>\n",
       "    <tr>\n",
       "      <th>0</th>\n",
       "      <td>-0.042648</td>\n",
       "      <td>-0.114166</td>\n",
       "      <td>-0.408859</td>\n",
       "      <td>-0.184128</td>\n",
       "      <td>-0.451088</td>\n",
       "      <td>-0.640091</td>\n",
       "    </tr>\n",
       "    <tr>\n",
       "      <th>1</th>\n",
       "      <td>-0.101837</td>\n",
       "      <td>-0.180885</td>\n",
       "      <td>-0.203911</td>\n",
       "      <td>-0.308075</td>\n",
       "      <td>-0.663795</td>\n",
       "      <td>-0.291092</td>\n",
       "    </tr>\n",
       "    <tr>\n",
       "      <th>2</th>\n",
       "      <td>-0.029579</td>\n",
       "      <td>-0.228630</td>\n",
       "      <td>-0.072884</td>\n",
       "      <td>-0.475853</td>\n",
       "      <td>-0.040695</td>\n",
       "      <td>-0.115196</td>\n",
       "    </tr>\n",
       "    <tr>\n",
       "      <th>3</th>\n",
       "      <td>0.014320</td>\n",
       "      <td>0.159096</td>\n",
       "      <td>0.220589</td>\n",
       "      <td>0.109100</td>\n",
       "      <td>0.706985</td>\n",
       "      <td>0.310745</td>\n",
       "    </tr>\n",
       "    <tr>\n",
       "      <th>4</th>\n",
       "      <td>0.085510</td>\n",
       "      <td>0.007645</td>\n",
       "      <td>0.420319</td>\n",
       "      <td>0.527588</td>\n",
       "      <td>0.162544</td>\n",
       "      <td>-0.595467</td>\n",
       "    </tr>\n",
       "  </tbody>\n",
       "</table>\n",
       "</div>"
      ],
      "text/plain": [
       "          0         1         2         3         4         5\n",
       "0 -0.042648 -0.114166 -0.408859 -0.184128 -0.451088 -0.640091\n",
       "1 -0.101837 -0.180885 -0.203911 -0.308075 -0.663795 -0.291092\n",
       "2 -0.029579 -0.228630 -0.072884 -0.475853 -0.040695 -0.115196\n",
       "3  0.014320  0.159096  0.220589  0.109100  0.706985  0.310745\n",
       "4  0.085510  0.007645  0.420319  0.527588  0.162544 -0.595467"
      ]
     },
     "execution_count": 26,
     "metadata": {},
     "output_type": "execute_result"
    }
   ],
   "source": [
    "# transform list into array\n",
    "#train = asarray(train)\n",
    "# split into input and output columns\n",
    "X, y = train[:, 0:n_lag], train[:, n_lag:]\n",
    "print(y.shape)\n",
    "# fit model\n",
    "import time\n",
    "start_time = time.time()\n",
    "#model = XGBRegressor(objective='reg:squarederror', n_estimators=1000)\n",
    "multioutputregressor = MultiOutputRegressor(xgb.XGBRegressor(objective='reg:squarederror',n_estimators=1000)).fit(X, y)\n",
    "# predicting\n",
    "a=multioutputregressor.predict(X)-y\n",
    "a=DataFrame(a)\n",
    "a.head()"
   ]
  },
  {
   "cell_type": "code",
   "execution_count": 27,
   "id": "fbc4be77",
   "metadata": {},
   "outputs": [],
   "source": [
    "testX, testy = test[:,0:n_lag], test[:, n_lag:]"
   ]
  },
  {
   "cell_type": "code",
   "execution_count": 28,
   "id": "6f15fcbc",
   "metadata": {},
   "outputs": [
    {
     "data": {
      "text/plain": [
       "0    11.957644\n",
       "dtype: float32"
      ]
     },
     "execution_count": 28,
     "metadata": {},
     "output_type": "execute_result"
    }
   ],
   "source": [
    "b = np.sqrt(np.mean((multioutputregressor.predict(testX)-testy)**2,axis=0))\n",
    "from math import sqrt\n",
    "b=DataFrame(b)\n",
    "#b.head()\n",
    "b.mean()"
   ]
  },
  {
   "cell_type": "code",
   "execution_count": 29,
   "id": "3655aa09",
   "metadata": {},
   "outputs": [
    {
     "name": "stdout",
     "output_type": "stream",
     "text": [
      "--- 20.63851237297058 seconds ---\n"
     ]
    }
   ],
   "source": [
    "print(\"--- %s seconds ---\" % (time.time() - start_time))"
   ]
  },
  {
   "cell_type": "code",
   "execution_count": null,
   "id": "f138ad14",
   "metadata": {},
   "outputs": [],
   "source": []
  }
 ],
 "metadata": {
  "kernelspec": {
   "display_name": "Python 3 (ipykernel)",
   "language": "python",
   "name": "python3"
  },
  "language_info": {
   "codemirror_mode": {
    "name": "ipython",
    "version": 3
   },
   "file_extension": ".py",
   "mimetype": "text/x-python",
   "name": "python",
   "nbconvert_exporter": "python",
   "pygments_lexer": "ipython3",
   "version": "3.9.12"
  }
 },
 "nbformat": 4,
 "nbformat_minor": 5
}
