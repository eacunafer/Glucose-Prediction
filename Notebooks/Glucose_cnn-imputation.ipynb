{
 "cells": [
  {
   "cell_type": "code",
   "execution_count": 1,
   "metadata": {
    "id": "huJVvpnX0fem"
   },
   "outputs": [],
   "source": [
    "import pandas as pd\n",
    "import numpy as np\n",
    "import xml.etree.cElementTree as et\n",
    "from datetime import datetime\n",
    "from pandas.core.tools.datetimes import to_datetime\n",
    "import matplotlib.pyplot as plt\n",
    "from datetime import timedelta"
   ]
  },
  {
   "cell_type": "code",
   "execution_count": 2,
   "metadata": {},
   "outputs": [],
   "source": [
    "def read_xml_data(filename, selected_items):\n",
    "  tree=et.parse(filename)\n",
    "  root=tree.getroot()\n",
    "  #extract selected items\n",
    "  for child in root:\n",
    "    if child.tag in selected_items:\n",
    "      df = pd.DataFrame()\n",
    "      for elem in child:      \n",
    "        df1 = pd.DataFrame(elem.attrib, index=[0])\n",
    "        #df = df.append(df1)d\n",
    "        df = pd.concat([df, df1])\n",
    "      #First column is the timestamp (dayfirst)      \n",
    "      #df.iloc[:,0] = pd.to_datetime(df.iloc[:,0], dayfirst=True)\n",
    "      #write to csv file using the timestamp as index      \n",
    "      df.to_csv(child.tag+'.csv', index=0)  "
   ]
  },
  {
   "cell_type": "code",
   "execution_count": 3,
   "metadata": {
    "id": "vvMV4uhscPRn"
   },
   "outputs": [],
   "source": [
    "def read_ts_file(filename):\n",
    "  #reads csv file where the first column is a timestamp and the index column\n",
    "  df = pd.read_csv (filename, parse_dates=[0], dayfirst=True, index_col=0)\n",
    "  return df"
   ]
  },
  {
   "cell_type": "code",
   "execution_count": 4,
   "metadata": {
    "id": "oBTcc1bReOUI"
   },
   "outputs": [],
   "source": [
    "def align_timeseries(align_df, source_df, source_columns, default_vals, dest_columns=[], include_index=False):\n",
    "  # Generates a new dataframe with source_df data aligned to align_df\n",
    "  # source_columns : list of columns from source_df to be included in result\n",
    "  # dest_columns = column names of source_columns, if ommited column names will be the same as in source_df\n",
    "  #                if specified, the first column has to be the name of the index in the destination\n",
    "  # include_index: if source index must be included in the result\n",
    "  # default_vals = list of default values for source_columns\n",
    " \n",
    "  df_align = align_df.copy()\n",
    "  df_align = df_align.sort_index()\n",
    "  df2 = source_df.copy()\n",
    "  df2 = df2.sort_index()\n",
    "  df_dup = pd.DataFrame()\n",
    "  if (dest_columns==[]) : dest_columns = source_columns.copy()\n",
    "  if (len(dest_columns) == len(source_columns)) : dest_columns = ['source_ts'] + dest_columns # add column for index\n",
    "  #add blank cells in destination\n",
    "  df_align[dest_columns] = [np.nan] + default_vals\n",
    "  for i in range(len(df2)):\n",
    "      ts2 = df2.index[i]\n",
    "      ts1_loc = df_align.index.get_loc(ts2, method='nearest')\n",
    "      ts1 = df_align.index[ts1_loc]\n",
    "      vals = [ts2]+list(df2.loc[ts2, source_columns])\n",
    "      ts_old = df_align.loc[ts1, dest_columns[0]]\n",
    "      if not pd.isna(ts_old): #there are duplicates\n",
    "        if (abs(ts1.value-ts2.value) > abs(ts1.value-ts_old.value)): \n",
    "          #difference is greater, do not replace        \n",
    "          df_dup = df_dup.append(df_align.loc[ts1])\n",
    "          df_dup.loc[ts1, dest_columns] = vals\n",
    "        else: #replace\n",
    "          df_dup = df_dup.append(df_align.loc[ts1])\n",
    "          df_align.loc[ts1, dest_columns] = vals\n",
    "        continue\n",
    "      df_align.loc[ts1, dest_columns] = vals\n",
    "  \n",
    "  if not(include_index) : df_align = df_align.drop( columns = dest_columns[0])\n",
    "\n",
    "  return df_align, df_dup"
   ]
  },
  {
   "cell_type": "code",
   "execution_count": 5,
   "metadata": {
    "id": "DgIsZtJOfC3Y"
   },
   "outputs": [],
   "source": [
    "def timedf(df):\n",
    "  #creates a 5 minute interval timeseries dataframe based in index of df\n",
    "  # df must have a timestamp index\n",
    "  #time_df: result dataframe with timestamp index\n",
    "  timestamp = pd.date_range(start=df.index[0], end=df.index[-1]  + timedelta(minutes=4), freq='5T')\n",
    "  time_df = pd.DataFrame({'timestamp':timestamp})\n",
    "  time_df.set_index('timestamp', inplace=True)\n",
    "  return time_df"
   ]
  },
  {
   "cell_type": "code",
   "execution_count": 6,
   "metadata": {
    "id": "7F6omJDLbpun"
   },
   "outputs": [],
   "source": [
    "def find_gaps(df, greaterthan=5, units='m'):\n",
    "  # find gaps relative to index, index must be a datetime field\n",
    "  # greaterthan is the number of time units to be considered a gap\n",
    "  # units 'm'=minutes, 'h'=hours\n",
    "  i = 0\n",
    "  gaps_df = pd.DataFrame()\n",
    "  while i < len(df) - 1:\n",
    "    ts = df.index[i]\n",
    "    next_ts = df.index[i+1]\n",
    "    duration = next_ts - ts\n",
    "    if duration > np.timedelta64(greaterthan, units): \n",
    "      begin_gap = ts\n",
    "      end_gap = next_ts\n",
    "      gaps_df = gaps_df.append({'From': begin_gap, 'To': end_gap, 'Duration': duration}, ignore_index=True)\n",
    "    i = i + 1\n",
    "  gaps_df.sort_values(by=['Duration'], ascending=False, inplace=True)\n",
    "  return gaps_df"
   ]
  },
  {
   "cell_type": "code",
   "execution_count": 7,
   "metadata": {
    "id": "AqWnu7sUcy0j"
   },
   "outputs": [],
   "source": [
    "def read_files():\n",
    "  #read glucose\n",
    "  glucose_df = read_ts_file('glucose_level.csv')\n",
    "  glucose_df.rename(columns={\"ts\": \"timestamp\", \"value\": \"glucose\"}, inplace=True)\n",
    "  print(glucose_df)\n",
    "  #read meal\n",
    "  meal_df = read_ts_file('meal.csv')\n",
    "  print(meal_df)\n",
    "  #read bolus\n",
    "  meal_df = read_ts_file('bolus.csv')\n",
    "  print(meal_df)"
   ]
  },
  {
   "cell_type": "code",
   "execution_count": 8,
   "metadata": {},
   "outputs": [],
   "source": [
    "def impute_mean(df, column, by='hour'):\n",
    "  # impute with mean by hours\n",
    "  # in the future by could be another mean grouping criterion\n",
    "  df[by] = df.index.hour\n",
    "  df[column] = df.groupby(by)[column].apply(lambda x: x.fillna(x.mean()))\n",
    "  df.drop(by, axis=1, inplace=True)"
   ]
  },
  {
   "cell_type": "markdown",
   "metadata": {
    "id": "p6fGo4Bu6nic"
   },
   "source": [
    "## Read Training  Data"
   ]
  },
  {
   "cell_type": "code",
   "execution_count": 9,
   "metadata": {
    "id": "xnLzUPY70mNV"
   },
   "outputs": [],
   "source": [
    "#selected_items = ['glucose_level','bolus','meal']\n",
    "read_xml_data(filename='c://aadm/570-ws-training.xml', selected_items=['glucose_level','bolus','meal'])"
   ]
  },
  {
   "cell_type": "code",
   "execution_count": 10,
   "metadata": {
    "colab": {
     "base_uri": "https://localhost:8080/"
    },
    "id": "piTliitocOFu",
    "outputId": "0d84e6ab-657f-4453-b706-06da4ab0076d"
   },
   "outputs": [
    {
     "data": {
      "text/html": [
       "<div>\n",
       "<style scoped>\n",
       "    .dataframe tbody tr th:only-of-type {\n",
       "        vertical-align: middle;\n",
       "    }\n",
       "\n",
       "    .dataframe tbody tr th {\n",
       "        vertical-align: top;\n",
       "    }\n",
       "\n",
       "    .dataframe thead th {\n",
       "        text-align: right;\n",
       "    }\n",
       "</style>\n",
       "<table border=\"1\" class=\"dataframe\">\n",
       "  <thead>\n",
       "    <tr style=\"text-align: right;\">\n",
       "      <th></th>\n",
       "      <th>glucose</th>\n",
       "    </tr>\n",
       "  </thead>\n",
       "  <tbody>\n",
       "    <tr>\n",
       "      <th>count</th>\n",
       "      <td>10982.000000</td>\n",
       "    </tr>\n",
       "    <tr>\n",
       "      <th>mean</th>\n",
       "      <td>187.492989</td>\n",
       "    </tr>\n",
       "    <tr>\n",
       "      <th>std</th>\n",
       "      <td>62.328928</td>\n",
       "    </tr>\n",
       "    <tr>\n",
       "      <th>min</th>\n",
       "      <td>46.000000</td>\n",
       "    </tr>\n",
       "    <tr>\n",
       "      <th>25%</th>\n",
       "      <td>142.000000</td>\n",
       "    </tr>\n",
       "    <tr>\n",
       "      <th>50%</th>\n",
       "      <td>189.000000</td>\n",
       "    </tr>\n",
       "    <tr>\n",
       "      <th>75%</th>\n",
       "      <td>232.000000</td>\n",
       "    </tr>\n",
       "    <tr>\n",
       "      <th>max</th>\n",
       "      <td>377.000000</td>\n",
       "    </tr>\n",
       "  </tbody>\n",
       "</table>\n",
       "</div>"
      ],
      "text/plain": [
       "            glucose\n",
       "count  10982.000000\n",
       "mean     187.492989\n",
       "std       62.328928\n",
       "min       46.000000\n",
       "25%      142.000000\n",
       "50%      189.000000\n",
       "75%      232.000000\n",
       "max      377.000000"
      ]
     },
     "execution_count": 10,
     "metadata": {},
     "output_type": "execute_result"
    }
   ],
   "source": [
    "glucose_train = read_ts_file('glucose_level.csv')\n",
    "glucose_train.rename(columns={\"ts\": \"timestamp\", \"value\": \"glucose\"}, inplace=True)\n",
    "glucose_train.describe()"
   ]
  },
  {
   "cell_type": "markdown",
   "metadata": {
    "id": "F35XLzzv62VM"
   },
   "source": [
    "# Explore gaps"
   ]
  },
  {
   "cell_type": "code",
   "execution_count": 11,
   "metadata": {
    "colab": {
     "base_uri": "https://localhost:8080/"
    },
    "id": "1yRLPScwidM-",
    "outputId": "862c502f-4a04-4e42-c3bd-629b7554707d"
   },
   "outputs": [
    {
     "name": "stdout",
     "output_type": "stream",
     "text": [
      "Missing intervals:  629\n"
     ]
    }
   ],
   "source": [
    "#Finding the length of the complete time series\n",
    "time_df = timedf(glucose_train)\n",
    "print('Missing intervals: ', len(time_df) - len(glucose_train) )"
   ]
  },
  {
   "cell_type": "code",
   "execution_count": 12,
   "metadata": {
    "colab": {
     "base_uri": "https://localhost:8080/"
    },
    "id": "9Zy-xy9i7ATs",
    "outputId": "d2f8bf86-0cf6-47b0-c48c-079db3cf36a3"
   },
   "outputs": [
    {
     "name": "stderr",
     "output_type": "stream",
     "text": [
      "C:\\Users\\eacun\\AppData\\Local\\Temp\\ipykernel_3304\\1628313578.py:14: FutureWarning: The frame.append method is deprecated and will be removed from pandas in a future version. Use pandas.concat instead.\n",
      "  gaps_df = gaps_df.append({'From': begin_gap, 'To': end_gap, 'Duration': duration}, ignore_index=True)\n",
      "C:\\Users\\eacun\\AppData\\Local\\Temp\\ipykernel_3304\\1628313578.py:14: FutureWarning: The frame.append method is deprecated and will be removed from pandas in a future version. Use pandas.concat instead.\n",
      "  gaps_df = gaps_df.append({'From': begin_gap, 'To': end_gap, 'Duration': duration}, ignore_index=True)\n",
      "C:\\Users\\eacun\\AppData\\Local\\Temp\\ipykernel_3304\\1628313578.py:14: FutureWarning: The frame.append method is deprecated and will be removed from pandas in a future version. Use pandas.concat instead.\n",
      "  gaps_df = gaps_df.append({'From': begin_gap, 'To': end_gap, 'Duration': duration}, ignore_index=True)\n",
      "C:\\Users\\eacun\\AppData\\Local\\Temp\\ipykernel_3304\\1628313578.py:14: FutureWarning: The frame.append method is deprecated and will be removed from pandas in a future version. Use pandas.concat instead.\n",
      "  gaps_df = gaps_df.append({'From': begin_gap, 'To': end_gap, 'Duration': duration}, ignore_index=True)\n",
      "C:\\Users\\eacun\\AppData\\Local\\Temp\\ipykernel_3304\\1628313578.py:14: FutureWarning: The frame.append method is deprecated and will be removed from pandas in a future version. Use pandas.concat instead.\n",
      "  gaps_df = gaps_df.append({'From': begin_gap, 'To': end_gap, 'Duration': duration}, ignore_index=True)\n",
      "C:\\Users\\eacun\\AppData\\Local\\Temp\\ipykernel_3304\\1628313578.py:14: FutureWarning: The frame.append method is deprecated and will be removed from pandas in a future version. Use pandas.concat instead.\n",
      "  gaps_df = gaps_df.append({'From': begin_gap, 'To': end_gap, 'Duration': duration}, ignore_index=True)\n",
      "C:\\Users\\eacun\\AppData\\Local\\Temp\\ipykernel_3304\\1628313578.py:14: FutureWarning: The frame.append method is deprecated and will be removed from pandas in a future version. Use pandas.concat instead.\n",
      "  gaps_df = gaps_df.append({'From': begin_gap, 'To': end_gap, 'Duration': duration}, ignore_index=True)\n",
      "C:\\Users\\eacun\\AppData\\Local\\Temp\\ipykernel_3304\\1628313578.py:14: FutureWarning: The frame.append method is deprecated and will be removed from pandas in a future version. Use pandas.concat instead.\n",
      "  gaps_df = gaps_df.append({'From': begin_gap, 'To': end_gap, 'Duration': duration}, ignore_index=True)\n",
      "C:\\Users\\eacun\\AppData\\Local\\Temp\\ipykernel_3304\\1628313578.py:14: FutureWarning: The frame.append method is deprecated and will be removed from pandas in a future version. Use pandas.concat instead.\n",
      "  gaps_df = gaps_df.append({'From': begin_gap, 'To': end_gap, 'Duration': duration}, ignore_index=True)\n",
      "C:\\Users\\eacun\\AppData\\Local\\Temp\\ipykernel_3304\\1628313578.py:14: FutureWarning: The frame.append method is deprecated and will be removed from pandas in a future version. Use pandas.concat instead.\n",
      "  gaps_df = gaps_df.append({'From': begin_gap, 'To': end_gap, 'Duration': duration}, ignore_index=True)\n",
      "C:\\Users\\eacun\\AppData\\Local\\Temp\\ipykernel_3304\\1628313578.py:14: FutureWarning: The frame.append method is deprecated and will be removed from pandas in a future version. Use pandas.concat instead.\n",
      "  gaps_df = gaps_df.append({'From': begin_gap, 'To': end_gap, 'Duration': duration}, ignore_index=True)\n",
      "C:\\Users\\eacun\\AppData\\Local\\Temp\\ipykernel_3304\\1628313578.py:14: FutureWarning: The frame.append method is deprecated and will be removed from pandas in a future version. Use pandas.concat instead.\n",
      "  gaps_df = gaps_df.append({'From': begin_gap, 'To': end_gap, 'Duration': duration}, ignore_index=True)\n",
      "C:\\Users\\eacun\\AppData\\Local\\Temp\\ipykernel_3304\\1628313578.py:14: FutureWarning: The frame.append method is deprecated and will be removed from pandas in a future version. Use pandas.concat instead.\n",
      "  gaps_df = gaps_df.append({'From': begin_gap, 'To': end_gap, 'Duration': duration}, ignore_index=True)\n",
      "C:\\Users\\eacun\\AppData\\Local\\Temp\\ipykernel_3304\\1628313578.py:14: FutureWarning: The frame.append method is deprecated and will be removed from pandas in a future version. Use pandas.concat instead.\n",
      "  gaps_df = gaps_df.append({'From': begin_gap, 'To': end_gap, 'Duration': duration}, ignore_index=True)\n",
      "C:\\Users\\eacun\\AppData\\Local\\Temp\\ipykernel_3304\\1628313578.py:14: FutureWarning: The frame.append method is deprecated and will be removed from pandas in a future version. Use pandas.concat instead.\n",
      "  gaps_df = gaps_df.append({'From': begin_gap, 'To': end_gap, 'Duration': duration}, ignore_index=True)\n",
      "C:\\Users\\eacun\\AppData\\Local\\Temp\\ipykernel_3304\\1628313578.py:14: FutureWarning: The frame.append method is deprecated and will be removed from pandas in a future version. Use pandas.concat instead.\n",
      "  gaps_df = gaps_df.append({'From': begin_gap, 'To': end_gap, 'Duration': duration}, ignore_index=True)\n",
      "C:\\Users\\eacun\\AppData\\Local\\Temp\\ipykernel_3304\\1628313578.py:14: FutureWarning: The frame.append method is deprecated and will be removed from pandas in a future version. Use pandas.concat instead.\n",
      "  gaps_df = gaps_df.append({'From': begin_gap, 'To': end_gap, 'Duration': duration}, ignore_index=True)\n",
      "C:\\Users\\eacun\\AppData\\Local\\Temp\\ipykernel_3304\\1628313578.py:14: FutureWarning: The frame.append method is deprecated and will be removed from pandas in a future version. Use pandas.concat instead.\n",
      "  gaps_df = gaps_df.append({'From': begin_gap, 'To': end_gap, 'Duration': duration}, ignore_index=True)\n",
      "C:\\Users\\eacun\\AppData\\Local\\Temp\\ipykernel_3304\\1628313578.py:14: FutureWarning: The frame.append method is deprecated and will be removed from pandas in a future version. Use pandas.concat instead.\n",
      "  gaps_df = gaps_df.append({'From': begin_gap, 'To': end_gap, 'Duration': duration}, ignore_index=True)\n",
      "C:\\Users\\eacun\\AppData\\Local\\Temp\\ipykernel_3304\\1628313578.py:14: FutureWarning: The frame.append method is deprecated and will be removed from pandas in a future version. Use pandas.concat instead.\n",
      "  gaps_df = gaps_df.append({'From': begin_gap, 'To': end_gap, 'Duration': duration}, ignore_index=True)\n"
     ]
    }
   ],
   "source": [
    "# All gaps \n",
    "gaps_df = find_gaps(glucose_train)\n",
    "#print(gaps_df)"
   ]
  },
  {
   "cell_type": "code",
   "execution_count": 13,
   "metadata": {},
   "outputs": [
    {
     "data": {
      "text/html": [
       "<div>\n",
       "<style scoped>\n",
       "    .dataframe tbody tr th:only-of-type {\n",
       "        vertical-align: middle;\n",
       "    }\n",
       "\n",
       "    .dataframe tbody tr th {\n",
       "        vertical-align: top;\n",
       "    }\n",
       "\n",
       "    .dataframe thead th {\n",
       "        text-align: right;\n",
       "    }\n",
       "</style>\n",
       "<table border=\"1\" class=\"dataframe\">\n",
       "  <thead>\n",
       "    <tr style=\"text-align: right;\">\n",
       "      <th></th>\n",
       "      <th>glucose</th>\n",
       "    </tr>\n",
       "    <tr>\n",
       "      <th>ts</th>\n",
       "      <th></th>\n",
       "    </tr>\n",
       "  </thead>\n",
       "  <tbody>\n",
       "    <tr>\n",
       "      <th>2021-12-07 16:25:00</th>\n",
       "      <td>101.0</td>\n",
       "    </tr>\n",
       "    <tr>\n",
       "      <th>2021-12-07 16:30:00</th>\n",
       "      <td>100.0</td>\n",
       "    </tr>\n",
       "    <tr>\n",
       "      <th>2021-12-07 16:35:00</th>\n",
       "      <td>100.0</td>\n",
       "    </tr>\n",
       "    <tr>\n",
       "      <th>2021-12-07 16:40:00</th>\n",
       "      <td>99.0</td>\n",
       "    </tr>\n",
       "    <tr>\n",
       "      <th>2021-12-07 16:45:00</th>\n",
       "      <td>98.0</td>\n",
       "    </tr>\n",
       "  </tbody>\n",
       "</table>\n",
       "</div>"
      ],
      "text/plain": [
       "                     glucose\n",
       "ts                          \n",
       "2021-12-07 16:25:00    101.0\n",
       "2021-12-07 16:30:00    100.0\n",
       "2021-12-07 16:35:00    100.0\n",
       "2021-12-07 16:40:00     99.0\n",
       "2021-12-07 16:45:00     98.0"
      ]
     },
     "execution_count": 13,
     "metadata": {},
     "output_type": "execute_result"
    }
   ],
   "source": [
    "#Adding NA in the whole range of cgm-training\n",
    "cgmtrainmiss=glucose_train.resample('5T').mean()\n",
    "cgmtrainmiss.head()"
   ]
  },
  {
   "cell_type": "code",
   "execution_count": 14,
   "metadata": {},
   "outputs": [
    {
     "data": {
      "text/html": [
       "<div>\n",
       "<style scoped>\n",
       "    .dataframe tbody tr th:only-of-type {\n",
       "        vertical-align: middle;\n",
       "    }\n",
       "\n",
       "    .dataframe tbody tr th {\n",
       "        vertical-align: top;\n",
       "    }\n",
       "\n",
       "    .dataframe thead th {\n",
       "        text-align: right;\n",
       "    }\n",
       "</style>\n",
       "<table border=\"1\" class=\"dataframe\">\n",
       "  <thead>\n",
       "    <tr style=\"text-align: right;\">\n",
       "      <th></th>\n",
       "      <th>glucose</th>\n",
       "    </tr>\n",
       "    <tr>\n",
       "      <th>ts</th>\n",
       "      <th></th>\n",
       "    </tr>\n",
       "  </thead>\n",
       "  <tbody>\n",
       "    <tr>\n",
       "      <th>2021-12-07 16:25:00</th>\n",
       "      <td>101.0</td>\n",
       "    </tr>\n",
       "    <tr>\n",
       "      <th>2021-12-07 16:30:00</th>\n",
       "      <td>100.0</td>\n",
       "    </tr>\n",
       "    <tr>\n",
       "      <th>2021-12-07 16:35:00</th>\n",
       "      <td>100.0</td>\n",
       "    </tr>\n",
       "    <tr>\n",
       "      <th>2021-12-07 16:40:00</th>\n",
       "      <td>99.0</td>\n",
       "    </tr>\n",
       "    <tr>\n",
       "      <th>2021-12-07 16:45:00</th>\n",
       "      <td>98.0</td>\n",
       "    </tr>\n",
       "  </tbody>\n",
       "</table>\n",
       "</div>"
      ],
      "text/plain": [
       "                     glucose\n",
       "ts                          \n",
       "2021-12-07 16:25:00    101.0\n",
       "2021-12-07 16:30:00    100.0\n",
       "2021-12-07 16:35:00    100.0\n",
       "2021-12-07 16:40:00     99.0\n",
       "2021-12-07 16:45:00     98.0"
      ]
     },
     "execution_count": 14,
     "metadata": {},
     "output_type": "execute_result"
    }
   ],
   "source": [
    "#mean imputation\n",
    "impute_mean(cgmtrainmiss, 'glucose')\n",
    "cgmtrainclean=cgmtrainmiss\n",
    "cgmtrainclean.head()"
   ]
  },
  {
   "cell_type": "code",
   "execution_count": 15,
   "metadata": {},
   "outputs": [],
   "source": [
    "#cgmtrainclean= cgmtrainmiss.interpolate(method=\"polynomial\",order=3)\n",
    "#cgmtrainclean.describe()"
   ]
  },
  {
   "cell_type": "code",
   "execution_count": 16,
   "metadata": {},
   "outputs": [
    {
     "name": "stderr",
     "output_type": "stream",
     "text": [
      "Unable to determine R home: [WinError 2] The system cannot find the file specified\n",
      "C:\\Users\\eacun\\anaconda3\\lib\\site-packages\\rpy2\\robjects\\packages.py:367: UserWarning: The symbol 'quartz' is not in this R namespace/package.\n",
      "  warnings.warn(\n"
     ]
    }
   ],
   "source": [
    "# spline smoothing\n",
    "import rpy2\n",
    "import rpy2.rinterface\n",
    "%load_ext rpy2.ipython\n",
    "import rpy2.robjects as robjects\n",
    "from rpy2.robjects.packages import importr\n",
    "splines = importr('splines') \n",
    "x_train=np.arange(len(cgmtrainclean))\n",
    "y_train=cgmtrainclean['glucose']\n",
    "r_y = robjects.FloatVector(y_train)\n",
    "r_x = robjects.FloatVector(x_train)\n",
    "r_smooth_spline = robjects.r['smooth.spline'] #extract R function# run smoothing function\n",
    "spline1 = r_smooth_spline(x=r_x,y=r_y, spar=.01)\n",
    "ySpline=np.array(robjects.r['predict'](spline1,robjects.FloatVector(x_train)).rx2('y'))\n",
    "# print(ySpline)\n",
    "# plt.figure(figsize=(12,6))\n",
    "# plt.scatter(x_train,y_train,c=\"blue\")\n",
    "# plt.plot(x_train,ySpline,c='red')"
   ]
  },
  {
   "cell_type": "code",
   "execution_count": 17,
   "metadata": {},
   "outputs": [],
   "source": [
    "#cgmtrainclean= cgmtrainmiss.interpolate(method=\"spline\",order=3)\n",
    "#cgmtrainclean.head()\n",
    "#missing_minutes =list(df2sp2[df2sp2['glucose'].isna()].index)\n",
    "#missing_minutes\n",
    "#cgmtrainclean.info()"
   ]
  },
  {
   "cell_type": "code",
   "execution_count": 18,
   "metadata": {},
   "outputs": [],
   "source": [
    "from tsmoothie.smoother import *\n",
    "from tsmoothie.utils_func import create_windows\n",
    "#help(SplineSmoother)"
   ]
  },
  {
   "cell_type": "code",
   "execution_count": 19,
   "metadata": {},
   "outputs": [],
   "source": [
    "#Imputation using Kalman smoothing and spline smoothing\n",
    "from tsmoothie.smoother import *\n",
    "from tsmoothie.utils_func import create_windows\n",
    "#smoother1 = SplineSmoother(n_knots=100, spline_type='cubic_spline')\n",
    "#smoother1.smooth(cgmtrainclean[['glucose']].T)\n",
    "smoother = KalmanSmoother(component='level_season', \n",
    "                          component_noise={'level':0.1, 'season':0.1},n_seasons=7)\n",
    "smoother.smooth(cgmtrainmiss[['glucose']].T)\n",
    "glucosekf=smoother.smooth_data[0]\n",
    "cgmtrainclean=cgmtrainmiss\n",
    "#cgmtrainclean['glucose']=glucosekf\n",
    "cgmtrainclean['glucose']=ySpline\n",
    "#smoother1.smooth_data[0].mean()"
   ]
  },
  {
   "cell_type": "markdown",
   "metadata": {},
   "source": [
    "## Reading testing data"
   ]
  },
  {
   "cell_type": "code",
   "execution_count": 20,
   "metadata": {},
   "outputs": [],
   "source": [
    "#selected_items = ['glucose_level',\"bolus','meal']\n",
    "read_xml_data(filename='c://aadm/570-ws-testing.xml', selected_items=['glucose_level','bolus','meal'])"
   ]
  },
  {
   "cell_type": "code",
   "execution_count": 21,
   "metadata": {},
   "outputs": [
    {
     "data": {
      "text/plain": [
       "glucose    60\n",
       "dtype: int64"
      ]
     },
     "execution_count": 21,
     "metadata": {},
     "output_type": "execute_result"
    }
   ],
   "source": [
    "glucose_test = read_ts_file('glucose_level.csv')\n",
    "glucose_test.rename(columns={\"ts\": \"timestamp\", \"value\": \"glucose\"}, inplace=True)\n",
    "glucose_test.min()"
   ]
  },
  {
   "cell_type": "code",
   "execution_count": 22,
   "metadata": {},
   "outputs": [
    {
     "name": "stdout",
     "output_type": "stream",
     "text": [
      "Missing intervals:  135\n"
     ]
    }
   ],
   "source": [
    "#Finding the length of the complete time series\n",
    "time_df = timedf(glucose_test)\n",
    "print('Missing intervals: ', len(time_df) - len(glucose_test) )"
   ]
  },
  {
   "cell_type": "code",
   "execution_count": 23,
   "metadata": {},
   "outputs": [
    {
     "name": "stderr",
     "output_type": "stream",
     "text": [
      "C:\\Users\\eacun\\AppData\\Local\\Temp\\ipykernel_3304\\1628313578.py:14: FutureWarning: The frame.append method is deprecated and will be removed from pandas in a future version. Use pandas.concat instead.\n",
      "  gaps_df = gaps_df.append({'From': begin_gap, 'To': end_gap, 'Duration': duration}, ignore_index=True)\n",
      "C:\\Users\\eacun\\AppData\\Local\\Temp\\ipykernel_3304\\1628313578.py:14: FutureWarning: The frame.append method is deprecated and will be removed from pandas in a future version. Use pandas.concat instead.\n",
      "  gaps_df = gaps_df.append({'From': begin_gap, 'To': end_gap, 'Duration': duration}, ignore_index=True)\n",
      "C:\\Users\\eacun\\AppData\\Local\\Temp\\ipykernel_3304\\1628313578.py:14: FutureWarning: The frame.append method is deprecated and will be removed from pandas in a future version. Use pandas.concat instead.\n",
      "  gaps_df = gaps_df.append({'From': begin_gap, 'To': end_gap, 'Duration': duration}, ignore_index=True)\n",
      "C:\\Users\\eacun\\AppData\\Local\\Temp\\ipykernel_3304\\1628313578.py:14: FutureWarning: The frame.append method is deprecated and will be removed from pandas in a future version. Use pandas.concat instead.\n",
      "  gaps_df = gaps_df.append({'From': begin_gap, 'To': end_gap, 'Duration': duration}, ignore_index=True)\n",
      "C:\\Users\\eacun\\AppData\\Local\\Temp\\ipykernel_3304\\1628313578.py:14: FutureWarning: The frame.append method is deprecated and will be removed from pandas in a future version. Use pandas.concat instead.\n",
      "  gaps_df = gaps_df.append({'From': begin_gap, 'To': end_gap, 'Duration': duration}, ignore_index=True)\n",
      "C:\\Users\\eacun\\AppData\\Local\\Temp\\ipykernel_3304\\1628313578.py:14: FutureWarning: The frame.append method is deprecated and will be removed from pandas in a future version. Use pandas.concat instead.\n",
      "  gaps_df = gaps_df.append({'From': begin_gap, 'To': end_gap, 'Duration': duration}, ignore_index=True)\n",
      "C:\\Users\\eacun\\AppData\\Local\\Temp\\ipykernel_3304\\1628313578.py:14: FutureWarning: The frame.append method is deprecated and will be removed from pandas in a future version. Use pandas.concat instead.\n",
      "  gaps_df = gaps_df.append({'From': begin_gap, 'To': end_gap, 'Duration': duration}, ignore_index=True)\n",
      "C:\\Users\\eacun\\AppData\\Local\\Temp\\ipykernel_3304\\1628313578.py:14: FutureWarning: The frame.append method is deprecated and will be removed from pandas in a future version. Use pandas.concat instead.\n",
      "  gaps_df = gaps_df.append({'From': begin_gap, 'To': end_gap, 'Duration': duration}, ignore_index=True)\n",
      "C:\\Users\\eacun\\AppData\\Local\\Temp\\ipykernel_3304\\1628313578.py:14: FutureWarning: The frame.append method is deprecated and will be removed from pandas in a future version. Use pandas.concat instead.\n",
      "  gaps_df = gaps_df.append({'From': begin_gap, 'To': end_gap, 'Duration': duration}, ignore_index=True)\n"
     ]
    }
   ],
   "source": [
    "# All gaps \n",
    "gaps_df = find_gaps(glucose_test)\n",
    "#print(gaps_df)"
   ]
  },
  {
   "cell_type": "code",
   "execution_count": 24,
   "metadata": {},
   "outputs": [
    {
     "data": {
      "text/html": [
       "<div>\n",
       "<style scoped>\n",
       "    .dataframe tbody tr th:only-of-type {\n",
       "        vertical-align: middle;\n",
       "    }\n",
       "\n",
       "    .dataframe tbody tr th {\n",
       "        vertical-align: top;\n",
       "    }\n",
       "\n",
       "    .dataframe thead th {\n",
       "        text-align: right;\n",
       "    }\n",
       "</style>\n",
       "<table border=\"1\" class=\"dataframe\">\n",
       "  <thead>\n",
       "    <tr style=\"text-align: right;\">\n",
       "      <th></th>\n",
       "      <th>glucose</th>\n",
       "    </tr>\n",
       "    <tr>\n",
       "      <th>ts</th>\n",
       "      <th></th>\n",
       "    </tr>\n",
       "  </thead>\n",
       "  <tbody>\n",
       "    <tr>\n",
       "      <th>2022-01-17 00:00:00</th>\n",
       "      <td>135.0</td>\n",
       "    </tr>\n",
       "    <tr>\n",
       "      <th>2022-01-17 00:05:00</th>\n",
       "      <td>143.0</td>\n",
       "    </tr>\n",
       "    <tr>\n",
       "      <th>2022-01-17 00:10:00</th>\n",
       "      <td>152.0</td>\n",
       "    </tr>\n",
       "    <tr>\n",
       "      <th>2022-01-17 00:15:00</th>\n",
       "      <td>159.0</td>\n",
       "    </tr>\n",
       "    <tr>\n",
       "      <th>2022-01-17 00:20:00</th>\n",
       "      <td>166.0</td>\n",
       "    </tr>\n",
       "  </tbody>\n",
       "</table>\n",
       "</div>"
      ],
      "text/plain": [
       "                     glucose\n",
       "ts                          \n",
       "2022-01-17 00:00:00    135.0\n",
       "2022-01-17 00:05:00    143.0\n",
       "2022-01-17 00:10:00    152.0\n",
       "2022-01-17 00:15:00    159.0\n",
       "2022-01-17 00:20:00    166.0"
      ]
     },
     "execution_count": 24,
     "metadata": {},
     "output_type": "execute_result"
    }
   ],
   "source": [
    "#Adding NA in the whole range of cgm-testing\n",
    "cgmtestmiss=glucose_test.resample('5T').mean()\n",
    "cgmtestmiss.head()"
   ]
  },
  {
   "cell_type": "code",
   "execution_count": 25,
   "metadata": {},
   "outputs": [],
   "source": [
    "#def impute_mean(df, column,by=\"hour\"):\n",
    "  # impute with mean by hours\n",
    "  # in the future by could be another grouping criterion\n",
    "  #df[by] = df.index.hour\n",
    "  #df[by] = ['{}:{:02d}'.format(r.hour, (r.minute//10)*10) for r in df.index]\n",
    "  #print(df)\n",
    "  #df[column] = df.groupby(by)[column].apply(lambda x: x.fillna(x.aggregate(np.mean)))\n",
    "  #df.drop(by, axis=1, inplace=True)\n",
    "#impute_mean(cgm559trainmiss, 'glucose')\n",
    "#impute_mean(cgm559testmiss, 'glucose')\n",
    "#cgm559trainclean=cgm559trainmiss\n",
    "#cgm559testclean=cgm559testmiss\n",
    "#cgm559trainclean.info()"
   ]
  },
  {
   "cell_type": "code",
   "execution_count": 26,
   "metadata": {},
   "outputs": [
    {
     "data": {
      "text/html": [
       "<div>\n",
       "<style scoped>\n",
       "    .dataframe tbody tr th:only-of-type {\n",
       "        vertical-align: middle;\n",
       "    }\n",
       "\n",
       "    .dataframe tbody tr th {\n",
       "        vertical-align: top;\n",
       "    }\n",
       "\n",
       "    .dataframe thead th {\n",
       "        text-align: right;\n",
       "    }\n",
       "</style>\n",
       "<table border=\"1\" class=\"dataframe\">\n",
       "  <thead>\n",
       "    <tr style=\"text-align: right;\">\n",
       "      <th></th>\n",
       "      <th>glucose</th>\n",
       "    </tr>\n",
       "    <tr>\n",
       "      <th>ts</th>\n",
       "      <th></th>\n",
       "    </tr>\n",
       "  </thead>\n",
       "  <tbody>\n",
       "    <tr>\n",
       "      <th>2022-01-17 00:00:00</th>\n",
       "      <td>135.0</td>\n",
       "    </tr>\n",
       "    <tr>\n",
       "      <th>2022-01-17 00:05:00</th>\n",
       "      <td>143.0</td>\n",
       "    </tr>\n",
       "    <tr>\n",
       "      <th>2022-01-17 00:10:00</th>\n",
       "      <td>152.0</td>\n",
       "    </tr>\n",
       "    <tr>\n",
       "      <th>2022-01-17 00:15:00</th>\n",
       "      <td>159.0</td>\n",
       "    </tr>\n",
       "    <tr>\n",
       "      <th>2022-01-17 00:20:00</th>\n",
       "      <td>166.0</td>\n",
       "    </tr>\n",
       "  </tbody>\n",
       "</table>\n",
       "</div>"
      ],
      "text/plain": [
       "                     glucose\n",
       "ts                          \n",
       "2022-01-17 00:00:00    135.0\n",
       "2022-01-17 00:05:00    143.0\n",
       "2022-01-17 00:10:00    152.0\n",
       "2022-01-17 00:15:00    159.0\n",
       "2022-01-17 00:20:00    166.0"
      ]
     },
     "execution_count": 26,
     "metadata": {},
     "output_type": "execute_result"
    }
   ],
   "source": [
    "#mean imputation\n",
    "impute_mean(cgmtestmiss, 'glucose')\n",
    "cgmtestclean=cgmtestmiss\n",
    "cgmtestclean.head()"
   ]
  },
  {
   "cell_type": "code",
   "execution_count": 27,
   "metadata": {},
   "outputs": [
    {
     "name": "stdout",
     "output_type": "stream",
     "text": [
      "The rpy2.ipython extension is already loaded. To reload it, use:\n",
      "  %reload_ext rpy2.ipython\n"
     ]
    }
   ],
   "source": [
    "# #spline imputation\n",
    "import rpy2\n",
    "import rpy2.rinterface\n",
    "%load_ext rpy2.ipython\n",
    "import rpy2.robjects as robjects\n",
    "from rpy2.robjects.packages import importr\n",
    "splines = importr('splines') \n",
    "x_train=np.arange(len(cgmtestclean))\n",
    "y_train=cgmtestclean['glucose']\n",
    "r_y = robjects.FloatVector(y_train)\n",
    "r_x = robjects.FloatVector(x_train)\n",
    "r_smooth_spline = robjects.r['smooth.spline'] #extract R function# run smoothing function\n",
    "spline1 = r_smooth_spline(x=r_x,y=r_y, spar= .01)\n",
    "ySpline=np.array(robjects.r['predict'](spline1,robjects.FloatVector(x_train)).rx2('y'))\n",
    "#print(ySpline)\n",
    "# plt.figure(figsize=(12,6))\n",
    "# plt.scatter(x_train,y_train,c=\"blue\")\n",
    "# plt.plot(x_train,ySpline,c='red')"
   ]
  },
  {
   "cell_type": "code",
   "execution_count": 28,
   "metadata": {},
   "outputs": [],
   "source": [
    "#cgmtestclean= cgmtestmiss.interpolate(method=\"polynomial\",order=3)\n",
    "#missing_minutes =list(df2sp2[df2sp2['glucose'].isna()].index)\n",
    "#missing_minutes\n",
    "#cgmtestclean.describe()"
   ]
  },
  {
   "cell_type": "code",
   "execution_count": 29,
   "metadata": {},
   "outputs": [],
   "source": [
    "#Imputation using Kalman filter\n",
    "smoother1 = KalmanSmoother(component='level_season', \n",
    "                          component_noise={'level':0.1, 'season':0.1},n_seasons=7)\n",
    "smoother1.smooth(cgmtestmiss[['glucose']].T)\n",
    "# smoother1 = SplineSmoother(n_knots=100, spline_type='cubic_spline')\n",
    "# smoother1.smooth(cgmtestclean[['glucose']].T)\n",
    "glucosekf=smoother1.smooth_data[0]\n",
    "cgmtestclean=cgmtestmiss\n",
    "#cgmtestclean['glucose']=glucosekf\n",
    "cgmtestclean['glucose']=ySpline\n",
    "#smoother.smooth_data[0].mean()\n",
    "#smoother.smooth_data[0].mean()"
   ]
  },
  {
   "cell_type": "code",
   "execution_count": 30,
   "metadata": {},
   "outputs": [
    {
     "name": "stdout",
     "output_type": "stream",
     "text": [
      "377.3104 70.65777\n"
     ]
    }
   ],
   "source": [
    "#Normalizing the data\n",
    "from sklearn.preprocessing import MinMaxScaler\n",
    "from sklearn.metrics import mean_squared_error\n",
    "datatrain = np.array(cgmtrainclean.values.astype('float32'))\n",
    "datatest = np.array(cgmtestclean.values.astype('float32'))\n",
    "max=datatest.max(axis=0)[0]\n",
    "min=datatest.min(axis=0)[0]\n",
    "scaler = MinMaxScaler(feature_range=(0, 1))\n",
    "datatrain = scaler.fit_transform(datatrain).flatten()\n",
    "datatest = scaler.fit_transform(datatest).flatten()\n",
    "#n = len(data)\n",
    "train_data=pd.DataFrame(datatrain)\n",
    "test_data=pd.DataFrame(datatest)\n",
    "print(max,min)"
   ]
  },
  {
   "cell_type": "code",
   "execution_count": 31,
   "metadata": {},
   "outputs": [
    {
     "name": "stdout",
     "output_type": "stream",
     "text": [
      "(11611, 1)\n",
      "(2880, 1)\n"
     ]
    }
   ],
   "source": [
    "print(train_data.shape)\n",
    "print(test_data.shape)"
   ]
  },
  {
   "cell_type": "code",
   "execution_count": 32,
   "metadata": {},
   "outputs": [],
   "source": [
    "# convert time series into supervised learning problem\n",
    "def series_to_supervised(data, n_in=1, n_out=1, dropnan=True):\n",
    "    n_vars=1 if type(data) is list else data.shape[1]\n",
    "    df = pd.DataFrame(data)\n",
    "    cols, names = list(), list()\n",
    "    # input sequence (t-n, ... t-1)\n",
    "    for i in range(n_in, 0, -1):\n",
    "        cols.append(df.shift(i))\n",
    "        names += [('var%d(t-%d)' % (j+1, i)) for j in range(n_vars)]\n",
    "    # forecast sequence (t, t+1, ... t+n)\n",
    "    for i in range(0, n_out):\n",
    "        cols.append(df.shift(-i))\n",
    "        if i == 0:\n",
    "            names += [('var%d(t)' % (j+1)) for j in range(n_vars)]\n",
    "        else:\n",
    "            names += [('var%d(t+%d)' % (j+1, i)) for j in range(n_vars)]\n",
    "    # put it all together\n",
    "    agg = pd.concat(cols, axis=1)\n",
    "    agg.columns = names\n",
    "    # drop rows with NaN values\n",
    "    if dropnan:\n",
    "        agg.dropna(inplace=True)\n",
    "    return agg"
   ]
  },
  {
   "cell_type": "code",
   "execution_count": 33,
   "metadata": {},
   "outputs": [],
   "source": [
    "#Past history: One hour, Prediction horizon: 30 minutes \n",
    "n_lag=12\n",
    "n_seq=6\n",
    "epochs=50"
   ]
  },
  {
   "cell_type": "code",
   "execution_count": 34,
   "metadata": {},
   "outputs": [
    {
     "name": "stdout",
     "output_type": "stream",
     "text": [
      "test shape: (2863, 18)\n"
     ]
    }
   ],
   "source": [
    "data1=series_to_supervised(train_data, n_in=n_lag, n_out=n_seq, dropnan=True)\n",
    "data2=series_to_supervised(test_data, n_in=n_lag, n_out=n_seq, dropnan=True)\n",
    "train=data1.values\n",
    "test=data2.values\n",
    "#print(data1.shape)\n",
    "print(\"test shape:\",test.shape)"
   ]
  },
  {
   "cell_type": "code",
   "execution_count": 35,
   "metadata": {},
   "outputs": [],
   "source": [
    "from keras.models import Sequential\n",
    "from keras.layers import Dense\n",
    "from keras.layers import Flatten\n",
    "from keras.layers.convolutional import Conv1D\n",
    "from keras.layers import TimeDistributed\n",
    "from keras.layers.convolutional import MaxPooling1D\n",
    "import datetime   \n",
    "import math"
   ]
  },
  {
   "cell_type": "code",
   "execution_count": 36,
   "metadata": {},
   "outputs": [
    {
     "name": "stdout",
     "output_type": "stream",
     "text": [
      "<class 'numpy.ndarray'>\n",
      "(11594, 12)\n",
      "(11594, 6)\n",
      "(11594, 12, 1)\n",
      "Model: \"sequential\"\n",
      "_________________________________________________________________\n",
      " Layer (type)                Output Shape              Param #   \n",
      "=================================================================\n",
      " conv1d (Conv1D)             (None, 11, 64)            192       \n",
      "                                                                 \n",
      " max_pooling1d (MaxPooling1D  (None, 5, 64)            0         \n",
      " )                                                               \n",
      "                                                                 \n",
      " flatten (Flatten)           (None, 320)               0         \n",
      "                                                                 \n",
      " dense (Dense)               (None, 50)                16050     \n",
      "                                                                 \n",
      " dense_1 (Dense)             (None, 6)                 306       \n",
      "                                                                 \n",
      "=================================================================\n",
      "Total params: 16,548\n",
      "Trainable params: 16,548\n",
      "Non-trainable params: 0\n",
      "_________________________________________________________________\n"
     ]
    }
   ],
   "source": [
    "n_features=1\n",
    "timesteps=n_lag\n",
    "X, y = train[:, 0:n_lag], train[:, n_lag:]\n",
    "print(type(X))\n",
    "print(X.shape)\n",
    "print(y.shape)\n",
    "rows_x = len(y)\n",
    "#print(\"rows-x=\",rows_x)\n",
    "#print(trainX.shape)\n",
    "X = np.reshape(X, (rows_x, timesteps, 1)) \n",
    "print(X.shape)\n",
    "#print('train-train',X.shape)\n",
    "#print('train-test',y.shape)\n",
    "model = Sequential()\n",
    "model.add(Conv1D(filters=64, kernel_size=2, activation='relu', input_shape=(timesteps, n_features)))\n",
    "model.add(MaxPooling1D(pool_size=2))\n",
    "model.add(Flatten())\n",
    "model.add(Dense(50, activation='relu'))\n",
    "model.add(Dense(n_seq))\n",
    "model.summary()\n",
    "model.compile(optimizer='adam', loss='mse')"
   ]
  },
  {
   "cell_type": "code",
   "execution_count": 37,
   "metadata": {},
   "outputs": [
    {
     "name": "stdout",
     "output_type": "stream",
     "text": [
      "Epoch 1/200\n",
      "580/580 - 1s - loss: 0.0059 - val_loss: 7.0519e-04 - 1s/epoch - 2ms/step\n",
      "Epoch 2/200\n",
      "580/580 - 1s - loss: 2.2492e-04 - val_loss: 6.2560e-05 - 692ms/epoch - 1ms/step\n",
      "Epoch 3/200\n",
      "580/580 - 1s - loss: 5.6999e-05 - val_loss: 5.1126e-05 - 717ms/epoch - 1ms/step\n",
      "Epoch 4/200\n",
      "580/580 - 1s - loss: 6.3533e-05 - val_loss: 4.7421e-05 - 766ms/epoch - 1ms/step\n",
      "Epoch 5/200\n",
      "580/580 - 1s - loss: 5.9315e-05 - val_loss: 5.3373e-05 - 742ms/epoch - 1ms/step\n",
      "Epoch 6/200\n",
      "580/580 - 1s - loss: 6.0956e-05 - val_loss: 1.0538e-04 - 779ms/epoch - 1ms/step\n",
      "Epoch 7/200\n",
      "580/580 - 1s - loss: 5.6142e-05 - val_loss: 5.5279e-05 - 703ms/epoch - 1ms/step\n",
      "Epoch 8/200\n",
      "580/580 - 1s - loss: 6.1472e-05 - val_loss: 7.3827e-05 - 701ms/epoch - 1ms/step\n",
      "Epoch 9/200\n",
      "580/580 - 1s - loss: 5.7435e-05 - val_loss: 4.5032e-05 - 651ms/epoch - 1ms/step\n",
      "Epoch 10/200\n",
      "580/580 - 1s - loss: 5.9341e-05 - val_loss: 4.3999e-05 - 670ms/epoch - 1ms/step\n",
      "Epoch 11/200\n",
      "580/580 - 1s - loss: 6.8721e-05 - val_loss: 5.0867e-05 - 679ms/epoch - 1ms/step\n",
      "Epoch 12/200\n",
      "580/580 - 1s - loss: 5.9063e-05 - val_loss: 1.9541e-04 - 680ms/epoch - 1ms/step\n",
      "Epoch 13/200\n",
      "580/580 - 1s - loss: 5.1742e-05 - val_loss: 4.1853e-05 - 664ms/epoch - 1ms/step\n",
      "Epoch 14/200\n",
      "580/580 - 1s - loss: 5.4112e-05 - val_loss: 9.7961e-05 - 650ms/epoch - 1ms/step\n",
      "Epoch 15/200\n",
      "580/580 - 1s - loss: 5.4899e-05 - val_loss: 7.2930e-05 - 681ms/epoch - 1ms/step\n",
      "Epoch 16/200\n",
      "580/580 - 1s - loss: 5.7501e-05 - val_loss: 5.0691e-05 - 775ms/epoch - 1ms/step\n",
      "Epoch 17/200\n",
      "580/580 - 1s - loss: 5.0454e-05 - val_loss: 5.1055e-05 - 790ms/epoch - 1ms/step\n",
      "Epoch 18/200\n",
      "580/580 - 1s - loss: 4.7785e-05 - val_loss: 8.3721e-05 - 770ms/epoch - 1ms/step\n",
      "Epoch 19/200\n",
      "580/580 - 1s - loss: 5.1579e-05 - val_loss: 4.0455e-05 - 680ms/epoch - 1ms/step\n",
      "Epoch 20/200\n",
      "580/580 - 1s - loss: 5.0625e-05 - val_loss: 4.8653e-05 - 640ms/epoch - 1ms/step\n",
      "Epoch 21/200\n",
      "580/580 - 1s - loss: 4.8367e-05 - val_loss: 3.5913e-05 - 632ms/epoch - 1ms/step\n",
      "Epoch 22/200\n",
      "580/580 - 1s - loss: 4.8115e-05 - val_loss: 5.3041e-05 - 628ms/epoch - 1ms/step\n",
      "Epoch 23/200\n",
      "580/580 - 1s - loss: 4.6456e-05 - val_loss: 3.7008e-05 - 614ms/epoch - 1ms/step\n",
      "Epoch 24/200\n",
      "580/580 - 1s - loss: 4.1348e-05 - val_loss: 3.6617e-05 - 670ms/epoch - 1ms/step\n",
      "Epoch 25/200\n",
      "580/580 - 1s - loss: 4.8196e-05 - val_loss: 3.7849e-05 - 664ms/epoch - 1ms/step\n",
      "Epoch 26/200\n",
      "580/580 - 1s - loss: 4.0027e-05 - val_loss: 4.2614e-05 - 664ms/epoch - 1ms/step\n",
      "Epoch 27/200\n",
      "580/580 - 1s - loss: 4.4724e-05 - val_loss: 5.6645e-05 - 713ms/epoch - 1ms/step\n",
      "Epoch 28/200\n",
      "580/580 - 1s - loss: 4.1338e-05 - val_loss: 4.7583e-05 - 752ms/epoch - 1ms/step\n",
      "Epoch 29/200\n",
      "580/580 - 1s - loss: 4.1424e-05 - val_loss: 3.6164e-05 - 744ms/epoch - 1ms/step\n",
      "Epoch 30/200\n",
      "580/580 - 1s - loss: 3.6928e-05 - val_loss: 3.9532e-05 - 717ms/epoch - 1ms/step\n",
      "Epoch 31/200\n",
      "580/580 - 1s - loss: 4.3056e-05 - val_loss: 5.7430e-05 - 706ms/epoch - 1ms/step\n",
      "Epoch 32/200\n",
      "580/580 - 1s - loss: 3.7803e-05 - val_loss: 2.7239e-05 - 682ms/epoch - 1ms/step\n",
      "Epoch 33/200\n",
      "580/580 - 1s - loss: 4.0204e-05 - val_loss: 4.9977e-05 - 675ms/epoch - 1ms/step\n",
      "Epoch 34/200\n",
      "580/580 - 1s - loss: 3.3440e-05 - val_loss: 2.6103e-05 - 680ms/epoch - 1ms/step\n",
      "Epoch 35/200\n",
      "580/580 - 1s - loss: 3.4884e-05 - val_loss: 4.5197e-05 - 640ms/epoch - 1ms/step\n",
      "Epoch 36/200\n",
      "580/580 - 1s - loss: 3.4124e-05 - val_loss: 5.3295e-05 - 674ms/epoch - 1ms/step\n",
      "Epoch 37/200\n",
      "580/580 - 1s - loss: 2.8573e-05 - val_loss: 2.2976e-05 - 649ms/epoch - 1ms/step\n",
      "Epoch 38/200\n",
      "580/580 - 1s - loss: 2.6104e-05 - val_loss: 3.1621e-05 - 652ms/epoch - 1ms/step\n",
      "Epoch 39/200\n",
      "580/580 - 1s - loss: 2.8931e-05 - val_loss: 7.7558e-05 - 673ms/epoch - 1ms/step\n",
      "Epoch 40/200\n",
      "580/580 - 1s - loss: 2.4982e-05 - val_loss: 1.9357e-05 - 684ms/epoch - 1ms/step\n",
      "Epoch 41/200\n",
      "580/580 - 1s - loss: 2.2767e-05 - val_loss: 3.6083e-05 - 664ms/epoch - 1ms/step\n",
      "Epoch 42/200\n",
      "580/580 - 1s - loss: 2.2165e-05 - val_loss: 2.6449e-05 - 645ms/epoch - 1ms/step\n",
      "Epoch 43/200\n",
      "580/580 - 1s - loss: 1.8691e-05 - val_loss: 2.9363e-05 - 655ms/epoch - 1ms/step\n",
      "Epoch 44/200\n",
      "580/580 - 1s - loss: 1.9930e-05 - val_loss: 1.3678e-05 - 652ms/epoch - 1ms/step\n",
      "Epoch 45/200\n",
      "580/580 - 1s - loss: 1.5506e-05 - val_loss: 3.2148e-05 - 633ms/epoch - 1ms/step\n",
      "Epoch 46/200\n",
      "580/580 - 1s - loss: 1.5580e-05 - val_loss: 1.8267e-05 - 623ms/epoch - 1ms/step\n",
      "Epoch 47/200\n",
      "580/580 - 1s - loss: 1.4539e-05 - val_loss: 1.5481e-05 - 648ms/epoch - 1ms/step\n",
      "Epoch 48/200\n",
      "580/580 - 1s - loss: 1.5262e-05 - val_loss: 1.0998e-05 - 689ms/epoch - 1ms/step\n",
      "Epoch 49/200\n",
      "580/580 - 1s - loss: 1.6555e-05 - val_loss: 3.0280e-05 - 650ms/epoch - 1ms/step\n",
      "Epoch 50/200\n",
      "580/580 - 1s - loss: 1.5541e-05 - val_loss: 1.1107e-05 - 742ms/epoch - 1ms/step\n",
      "Epoch 51/200\n",
      "580/580 - 1s - loss: 1.1284e-05 - val_loss: 8.9155e-06 - 722ms/epoch - 1ms/step\n",
      "Epoch 52/200\n",
      "580/580 - 1s - loss: 1.5013e-05 - val_loss: 1.0757e-05 - 777ms/epoch - 1ms/step\n",
      "Epoch 53/200\n",
      "580/580 - 1s - loss: 9.3807e-06 - val_loss: 1.6282e-05 - 747ms/epoch - 1ms/step\n",
      "Epoch 54/200\n",
      "580/580 - 1s - loss: 9.6427e-06 - val_loss: 5.9934e-06 - 732ms/epoch - 1ms/step\n",
      "Epoch 55/200\n",
      "580/580 - 1s - loss: 7.3204e-06 - val_loss: 7.0350e-06 - 684ms/epoch - 1ms/step\n",
      "Epoch 56/200\n",
      "580/580 - 1s - loss: 5.7184e-06 - val_loss: 1.9232e-05 - 663ms/epoch - 1ms/step\n",
      "Epoch 57/200\n",
      "580/580 - 1s - loss: 1.0293e-05 - val_loss: 9.9015e-06 - 642ms/epoch - 1ms/step\n",
      "Epoch 58/200\n",
      "580/580 - 1s - loss: 1.4318e-05 - val_loss: 1.0120e-05 - 675ms/epoch - 1ms/step\n",
      "Epoch 59/200\n",
      "580/580 - 1s - loss: 1.1026e-05 - val_loss: 7.3999e-06 - 636ms/epoch - 1ms/step\n",
      "Epoch 60/200\n",
      "580/580 - 1s - loss: 8.8795e-06 - val_loss: 1.9676e-05 - 653ms/epoch - 1ms/step\n",
      "Epoch 61/200\n",
      "580/580 - 1s - loss: 1.0791e-05 - val_loss: 4.9106e-06 - 662ms/epoch - 1ms/step\n",
      "Epoch 62/200\n",
      "580/580 - 1s - loss: 6.7139e-06 - val_loss: 1.7609e-05 - 674ms/epoch - 1ms/step\n",
      "Epoch 63/200\n",
      "580/580 - 1s - loss: 6.1105e-06 - val_loss: 3.7628e-06 - 652ms/epoch - 1ms/step\n",
      "Epoch 64/200\n",
      "580/580 - 1s - loss: 4.5936e-06 - val_loss: 4.0816e-06 - 899ms/epoch - 2ms/step\n",
      "Epoch 65/200\n",
      "580/580 - 1s - loss: 7.0271e-06 - val_loss: 2.2337e-05 - 626ms/epoch - 1ms/step\n",
      "Epoch 66/200\n",
      "580/580 - 1s - loss: 5.0818e-06 - val_loss: 6.7082e-06 - 666ms/epoch - 1ms/step\n",
      "Epoch 67/200\n",
      "580/580 - 1s - loss: 3.0808e-06 - val_loss: 6.1856e-06 - 664ms/epoch - 1ms/step\n",
      "Epoch 68/200\n",
      "580/580 - 1s - loss: 4.9763e-06 - val_loss: 2.9991e-06 - 775ms/epoch - 1ms/step\n",
      "Epoch 69/200\n",
      "580/580 - 1s - loss: 4.6318e-06 - val_loss: 4.6849e-06 - 683ms/epoch - 1ms/step\n",
      "Epoch 70/200\n",
      "580/580 - 1s - loss: 3.9578e-06 - val_loss: 6.1051e-06 - 788ms/epoch - 1ms/step\n",
      "Epoch 71/200\n",
      "580/580 - 1s - loss: 9.4230e-06 - val_loss: 3.9072e-06 - 783ms/epoch - 1ms/step\n",
      "Epoch 72/200\n",
      "580/580 - 1s - loss: 4.9337e-06 - val_loss: 8.9093e-06 - 937ms/epoch - 2ms/step\n",
      "Epoch 73/200\n",
      "580/580 - 1s - loss: 3.9623e-06 - val_loss: 7.1867e-06 - 968ms/epoch - 2ms/step\n",
      "Epoch 74/200\n",
      "580/580 - 1s - loss: 4.2868e-06 - val_loss: 2.3586e-05 - 828ms/epoch - 1ms/step\n",
      "Epoch 75/200\n",
      "580/580 - 1s - loss: 4.3012e-06 - val_loss: 6.5616e-06 - 920ms/epoch - 2ms/step\n",
      "Epoch 76/200\n",
      "580/580 - 1s - loss: 4.0570e-06 - val_loss: 3.7420e-06 - 856ms/epoch - 1ms/step\n",
      "Epoch 77/200\n",
      "580/580 - 1s - loss: 3.7759e-06 - val_loss: 4.4030e-06 - 861ms/epoch - 1ms/step\n",
      "Epoch 78/200\n",
      "580/580 - 1s - loss: 3.2280e-06 - val_loss: 4.2728e-06 - 830ms/epoch - 1ms/step\n",
      "Epoch 79/200\n",
      "580/580 - 1s - loss: 4.6966e-06 - val_loss: 3.0799e-06 - 945ms/epoch - 2ms/step\n",
      "Epoch 80/200\n",
      "580/580 - 1s - loss: 5.3976e-06 - val_loss: 3.7998e-06 - 745ms/epoch - 1ms/step\n",
      "Epoch 81/200\n",
      "580/580 - 1s - loss: 2.6872e-06 - val_loss: 2.5978e-06 - 656ms/epoch - 1ms/step\n",
      "Epoch 82/200\n",
      "580/580 - 1s - loss: 4.2083e-06 - val_loss: 5.5201e-06 - 660ms/epoch - 1ms/step\n",
      "Epoch 83/200\n",
      "580/580 - 1s - loss: 3.4175e-06 - val_loss: 3.5119e-06 - 788ms/epoch - 1ms/step\n",
      "Epoch 84/200\n",
      "580/580 - 1s - loss: 3.7687e-06 - val_loss: 2.9883e-06 - 681ms/epoch - 1ms/step\n",
      "Epoch 85/200\n",
      "580/580 - 1s - loss: 3.2662e-06 - val_loss: 3.9767e-06 - 712ms/epoch - 1ms/step\n",
      "Epoch 86/200\n",
      "580/580 - 1s - loss: 4.4615e-06 - val_loss: 1.5610e-05 - 675ms/epoch - 1ms/step\n",
      "Epoch 87/200\n",
      "580/580 - 1s - loss: 3.8842e-06 - val_loss: 4.3796e-06 - 682ms/epoch - 1ms/step\n",
      "Epoch 88/200\n",
      "580/580 - 1s - loss: 2.9086e-06 - val_loss: 3.3332e-06 - 699ms/epoch - 1ms/step\n",
      "Epoch 89/200\n",
      "580/580 - 1s - loss: 3.4478e-06 - val_loss: 2.8969e-06 - 760ms/epoch - 1ms/step\n"
     ]
    },
    {
     "name": "stdout",
     "output_type": "stream",
     "text": [
      "Epoch 90/200\n",
      "580/580 - 1s - loss: 4.8479e-06 - val_loss: 3.7650e-06 - 773ms/epoch - 1ms/step\n",
      "Epoch 91/200\n",
      "580/580 - 1s - loss: 3.3275e-06 - val_loss: 4.3463e-06 - 779ms/epoch - 1ms/step\n",
      "Epoch 92/200\n",
      "580/580 - 1s - loss: 3.4329e-06 - val_loss: 3.0739e-06 - 895ms/epoch - 2ms/step\n",
      "Epoch 93/200\n",
      "580/580 - 1s - loss: 3.5776e-06 - val_loss: 8.1301e-06 - 875ms/epoch - 2ms/step\n",
      "Epoch 94/200\n",
      "580/580 - 1s - loss: 3.9595e-06 - val_loss: 4.2418e-06 - 865ms/epoch - 1ms/step\n",
      "Epoch 95/200\n",
      "580/580 - 1s - loss: 3.6894e-06 - val_loss: 1.9245e-05 - 1s/epoch - 2ms/step\n",
      "Epoch 96/200\n",
      "580/580 - 1s - loss: 3.3486e-06 - val_loss: 3.3590e-06 - 1s/epoch - 2ms/step\n",
      "Epoch 97/200\n",
      "580/580 - 1s - loss: 3.7037e-06 - val_loss: 2.6939e-05 - 1s/epoch - 2ms/step\n",
      "Epoch 98/200\n",
      "580/580 - 1s - loss: 3.1480e-06 - val_loss: 1.0835e-05 - 766ms/epoch - 1ms/step\n",
      "Epoch 99/200\n",
      "580/580 - 1s - loss: 5.6040e-06 - val_loss: 2.9224e-06 - 710ms/epoch - 1ms/step\n",
      "Epoch 100/200\n",
      "580/580 - 1s - loss: 2.5606e-06 - val_loss: 5.0554e-06 - 710ms/epoch - 1ms/step\n",
      "Epoch 101/200\n",
      "580/580 - 1s - loss: 3.2382e-06 - val_loss: 9.1703e-06 - 843ms/epoch - 1ms/step\n",
      "Epoch 102/200\n",
      "580/580 - 1s - loss: 4.1830e-06 - val_loss: 7.1210e-06 - 696ms/epoch - 1ms/step\n",
      "Epoch 103/200\n",
      "580/580 - 1s - loss: 3.2857e-06 - val_loss: 5.4909e-06 - 613ms/epoch - 1ms/step\n",
      "Epoch 104/200\n",
      "580/580 - 1s - loss: 3.1296e-06 - val_loss: 2.3666e-06 - 643ms/epoch - 1ms/step\n",
      "Epoch 105/200\n",
      "580/580 - 1s - loss: 4.1059e-06 - val_loss: 5.2502e-06 - 633ms/epoch - 1ms/step\n",
      "Epoch 106/200\n",
      "580/580 - 1s - loss: 3.0086e-06 - val_loss: 4.0050e-06 - 767ms/epoch - 1ms/step\n",
      "Epoch 107/200\n",
      "580/580 - 1s - loss: 3.1491e-06 - val_loss: 3.4932e-06 - 648ms/epoch - 1ms/step\n",
      "Epoch 108/200\n",
      "580/580 - 1s - loss: 3.2838e-06 - val_loss: 2.7793e-05 - 632ms/epoch - 1ms/step\n",
      "Epoch 109/200\n",
      "580/580 - 1s - loss: 3.8297e-06 - val_loss: 5.2253e-06 - 651ms/epoch - 1ms/step\n",
      "Epoch 110/200\n",
      "580/580 - 1s - loss: 3.1564e-06 - val_loss: 3.5977e-06 - 637ms/epoch - 1ms/step\n",
      "Epoch 111/200\n",
      "580/580 - 1s - loss: 2.9364e-06 - val_loss: 3.2701e-06 - 637ms/epoch - 1ms/step\n",
      "Epoch 112/200\n",
      "580/580 - 1s - loss: 2.6588e-06 - val_loss: 1.6674e-05 - 634ms/epoch - 1ms/step\n",
      "Epoch 113/200\n",
      "580/580 - 1s - loss: 7.5204e-06 - val_loss: 5.2698e-06 - 643ms/epoch - 1ms/step\n",
      "Epoch 114/200\n",
      "580/580 - 1s - loss: 2.2047e-06 - val_loss: 7.7619e-06 - 716ms/epoch - 1ms/step\n",
      "Epoch 115/200\n",
      "580/580 - 1s - loss: 3.0455e-06 - val_loss: 3.0644e-06 - 783ms/epoch - 1ms/step\n",
      "Epoch 116/200\n",
      "580/580 - 1s - loss: 4.2930e-06 - val_loss: 7.2329e-06 - 745ms/epoch - 1ms/step\n",
      "Epoch 117/200\n",
      "580/580 - 1s - loss: 3.1516e-06 - val_loss: 1.0210e-05 - 780ms/epoch - 1ms/step\n",
      "Epoch 118/200\n",
      "580/580 - 1s - loss: 2.3145e-06 - val_loss: 5.0312e-06 - 689ms/epoch - 1ms/step\n",
      "Epoch 119/200\n",
      "580/580 - 1s - loss: 2.4289e-06 - val_loss: 3.8051e-06 - 622ms/epoch - 1ms/step\n",
      "Epoch 120/200\n",
      "580/580 - 1s - loss: 2.9695e-06 - val_loss: 3.5312e-06 - 606ms/epoch - 1ms/step\n",
      "Epoch 121/200\n",
      "580/580 - 1s - loss: 3.7829e-06 - val_loss: 5.7143e-06 - 601ms/epoch - 1ms/step\n",
      "Epoch 122/200\n",
      "580/580 - 1s - loss: 3.9901e-06 - val_loss: 4.0235e-06 - 740ms/epoch - 1ms/step\n",
      "Epoch 123/200\n",
      "580/580 - 1s - loss: 2.5467e-06 - val_loss: 4.8336e-06 - 703ms/epoch - 1ms/step\n",
      "Epoch 124/200\n",
      "580/580 - 1s - loss: 2.8921e-06 - val_loss: 4.7536e-06 - 768ms/epoch - 1ms/step\n",
      "Epoch 125/200\n",
      "580/580 - 1s - loss: 2.8427e-06 - val_loss: 3.2522e-06 - 715ms/epoch - 1ms/step\n",
      "Epoch 126/200\n",
      "580/580 - 1s - loss: 2.6928e-06 - val_loss: 1.2463e-05 - 642ms/epoch - 1ms/step\n",
      "Epoch 127/200\n",
      "580/580 - 1s - loss: 4.9380e-06 - val_loss: 3.1748e-06 - 589ms/epoch - 1ms/step\n",
      "Epoch 128/200\n",
      "580/580 - 1s - loss: 2.6834e-06 - val_loss: 4.9446e-06 - 601ms/epoch - 1ms/step\n",
      "Epoch 129/200\n",
      "580/580 - 1s - loss: 3.8664e-06 - val_loss: 3.5401e-06 - 624ms/epoch - 1ms/step\n",
      "Epoch 130/200\n",
      "580/580 - 1s - loss: 2.8832e-06 - val_loss: 7.1138e-06 - 616ms/epoch - 1ms/step\n",
      "Epoch 131/200\n",
      "580/580 - 1s - loss: 3.1744e-06 - val_loss: 3.3332e-06 - 622ms/epoch - 1ms/step\n",
      "Epoch 132/200\n",
      "580/580 - 1s - loss: 2.4326e-06 - val_loss: 3.4050e-06 - 602ms/epoch - 1ms/step\n",
      "Epoch 133/200\n",
      "580/580 - 1s - loss: 2.3994e-06 - val_loss: 6.5780e-06 - 633ms/epoch - 1ms/step\n",
      "Epoch 134/200\n",
      "580/580 - 1s - loss: 4.6033e-06 - val_loss: 4.0164e-06 - 617ms/epoch - 1ms/step\n",
      "Epoch 135/200\n",
      "580/580 - 1s - loss: 2.8566e-06 - val_loss: 2.8668e-06 - 625ms/epoch - 1ms/step\n",
      "Epoch 136/200\n",
      "580/580 - 1s - loss: 3.0274e-06 - val_loss: 4.2137e-06 - 634ms/epoch - 1ms/step\n",
      "Epoch 137/200\n",
      "580/580 - 1s - loss: 2.1045e-06 - val_loss: 3.7381e-06 - 610ms/epoch - 1ms/step\n",
      "Epoch 138/200\n",
      "580/580 - 1s - loss: 3.4719e-06 - val_loss: 4.5029e-06 - 662ms/epoch - 1ms/step\n",
      "Epoch 139/200\n",
      "580/580 - 1s - loss: 3.4948e-06 - val_loss: 3.3210e-06 - 773ms/epoch - 1ms/step\n",
      "Epoch 140/200\n",
      "580/580 - 1s - loss: 2.8000e-06 - val_loss: 5.5655e-06 - 737ms/epoch - 1ms/step\n",
      "Epoch 141/200\n",
      "580/580 - 1s - loss: 3.0613e-06 - val_loss: 4.0084e-06 - 746ms/epoch - 1ms/step\n",
      "Epoch 142/200\n",
      "580/580 - 1s - loss: 3.3124e-06 - val_loss: 3.2417e-06 - 682ms/epoch - 1ms/step\n",
      "Epoch 143/200\n",
      "580/580 - 1s - loss: 2.1415e-06 - val_loss: 3.6926e-06 - 631ms/epoch - 1ms/step\n",
      "Epoch 144/200\n",
      "580/580 - 1s - loss: 2.9379e-06 - val_loss: 6.9731e-06 - 635ms/epoch - 1ms/step\n",
      "Epoch 145/200\n",
      "580/580 - 1s - loss: 2.9576e-06 - val_loss: 4.4317e-06 - 708ms/epoch - 1ms/step\n",
      "Epoch 146/200\n",
      "580/580 - 1s - loss: 2.8294e-06 - val_loss: 3.8591e-06 - 602ms/epoch - 1ms/step\n",
      "Epoch 147/200\n",
      "580/580 - 1s - loss: 2.9350e-06 - val_loss: 3.1491e-06 - 603ms/epoch - 1ms/step\n",
      "Epoch 148/200\n",
      "580/580 - 1s - loss: 3.0022e-06 - val_loss: 4.1380e-06 - 603ms/epoch - 1ms/step\n",
      "Epoch 149/200\n",
      "580/580 - 1s - loss: 2.2690e-06 - val_loss: 1.0391e-05 - 605ms/epoch - 1ms/step\n",
      "Epoch 150/200\n",
      "580/580 - 1s - loss: 2.7125e-06 - val_loss: 1.4407e-05 - 587ms/epoch - 1ms/step\n",
      "Epoch 151/200\n",
      "580/580 - 1s - loss: 2.6789e-06 - val_loss: 2.8203e-06 - 623ms/epoch - 1ms/step\n",
      "Epoch 152/200\n",
      "580/580 - 1s - loss: 2.8604e-06 - val_loss: 4.0005e-06 - 596ms/epoch - 1ms/step\n",
      "Epoch 153/200\n",
      "580/580 - 1s - loss: 3.1154e-06 - val_loss: 3.4742e-06 - 594ms/epoch - 1ms/step\n",
      "Epoch 154/200\n",
      "580/580 - 1s - loss: 2.4978e-06 - val_loss: 3.9202e-06 - 682ms/epoch - 1ms/step\n",
      "Epoch 155/200\n",
      "580/580 - 1s - loss: 2.3944e-06 - val_loss: 3.4427e-06 - 655ms/epoch - 1ms/step\n",
      "Epoch 156/200\n",
      "580/580 - 1s - loss: 3.0337e-06 - val_loss: 3.5593e-06 - 624ms/epoch - 1ms/step\n",
      "Epoch 157/200\n",
      "580/580 - 1s - loss: 2.5913e-06 - val_loss: 8.4740e-06 - 634ms/epoch - 1ms/step\n",
      "Epoch 158/200\n",
      "580/580 - 1s - loss: 2.5150e-06 - val_loss: 1.8151e-05 - 647ms/epoch - 1ms/step\n",
      "Epoch 159/200\n",
      "580/580 - 1s - loss: 2.8417e-06 - val_loss: 3.3358e-06 - 678ms/epoch - 1ms/step\n",
      "Epoch 160/200\n",
      "580/580 - 1s - loss: 2.9010e-06 - val_loss: 4.8050e-06 - 657ms/epoch - 1ms/step\n",
      "Epoch 161/200\n",
      "580/580 - 1s - loss: 2.4705e-06 - val_loss: 3.4885e-06 - 674ms/epoch - 1ms/step\n",
      "Epoch 162/200\n",
      "580/580 - 1s - loss: 2.8369e-06 - val_loss: 3.3365e-06 - 695ms/epoch - 1ms/step\n",
      "Epoch 163/200\n",
      "580/580 - 1s - loss: 2.4420e-06 - val_loss: 3.8684e-06 - 874ms/epoch - 2ms/step\n",
      "Epoch 164/200\n",
      "580/580 - 1s - loss: 3.0694e-06 - val_loss: 2.7980e-06 - 780ms/epoch - 1ms/step\n",
      "Epoch 165/200\n",
      "580/580 - 1s - loss: 3.4996e-06 - val_loss: 3.5280e-06 - 863ms/epoch - 1ms/step\n",
      "Epoch 166/200\n",
      "580/580 - 1s - loss: 2.0082e-06 - val_loss: 3.4659e-06 - 886ms/epoch - 2ms/step\n",
      "Epoch 167/200\n",
      "580/580 - 1s - loss: 2.5941e-06 - val_loss: 3.6726e-06 - 737ms/epoch - 1ms/step\n",
      "Epoch 168/200\n",
      "580/580 - 1s - loss: 1.8881e-06 - val_loss: 3.5339e-06 - 794ms/epoch - 1ms/step\n",
      "Epoch 169/200\n",
      "580/580 - 1s - loss: 2.5261e-06 - val_loss: 3.3997e-06 - 624ms/epoch - 1ms/step\n",
      "Epoch 170/200\n",
      "580/580 - 1s - loss: 3.7417e-06 - val_loss: 6.1399e-06 - 689ms/epoch - 1ms/step\n",
      "Epoch 171/200\n",
      "580/580 - 1s - loss: 3.3649e-06 - val_loss: 5.7897e-06 - 820ms/epoch - 1ms/step\n",
      "Epoch 172/200\n",
      "580/580 - 1s - loss: 1.8640e-06 - val_loss: 7.1482e-06 - 628ms/epoch - 1ms/step\n",
      "Epoch 173/200\n",
      "580/580 - 1s - loss: 3.0198e-06 - val_loss: 3.0626e-06 - 723ms/epoch - 1ms/step\n",
      "Epoch 174/200\n",
      "580/580 - 1s - loss: 2.6777e-06 - val_loss: 4.6230e-06 - 817ms/epoch - 1ms/step\n",
      "Epoch 175/200\n",
      "580/580 - 1s - loss: 2.4528e-06 - val_loss: 3.2330e-06 - 722ms/epoch - 1ms/step\n",
      "Epoch 176/200\n",
      "580/580 - 1s - loss: 2.1369e-06 - val_loss: 3.8989e-06 - 631ms/epoch - 1ms/step\n",
      "Epoch 177/200\n",
      "580/580 - 1s - loss: 2.7957e-06 - val_loss: 3.2752e-06 - 631ms/epoch - 1ms/step\n"
     ]
    },
    {
     "name": "stdout",
     "output_type": "stream",
     "text": [
      "Epoch 178/200\n",
      "580/580 - 1s - loss: 2.3443e-06 - val_loss: 4.1377e-06 - 638ms/epoch - 1ms/step\n",
      "Epoch 179/200\n",
      "580/580 - 1s - loss: 3.4367e-06 - val_loss: 9.4126e-06 - 685ms/epoch - 1ms/step\n",
      "Epoch 180/200\n",
      "580/580 - 1s - loss: 2.6457e-06 - val_loss: 8.2429e-06 - 809ms/epoch - 1ms/step\n",
      "Epoch 181/200\n",
      "580/580 - 1s - loss: 2.3961e-06 - val_loss: 6.4546e-06 - 658ms/epoch - 1ms/step\n",
      "Epoch 182/200\n",
      "580/580 - 1s - loss: 3.2226e-06 - val_loss: 5.2582e-06 - 640ms/epoch - 1ms/step\n",
      "Epoch 183/200\n",
      "580/580 - 1s - loss: 2.1520e-06 - val_loss: 4.4613e-06 - 673ms/epoch - 1ms/step\n",
      "Epoch 184/200\n",
      "580/580 - 1s - loss: 3.2156e-06 - val_loss: 4.8934e-06 - 737ms/epoch - 1ms/step\n",
      "Epoch 185/200\n",
      "580/580 - 1s - loss: 1.9805e-06 - val_loss: 6.3774e-06 - 776ms/epoch - 1ms/step\n",
      "Epoch 186/200\n",
      "580/580 - 1s - loss: 3.2225e-06 - val_loss: 4.1480e-06 - 745ms/epoch - 1ms/step\n",
      "Epoch 187/200\n",
      "580/580 - 1s - loss: 2.3351e-06 - val_loss: 6.8548e-06 - 754ms/epoch - 1ms/step\n",
      "Epoch 188/200\n",
      "580/580 - 1s - loss: 3.6819e-06 - val_loss: 5.7428e-06 - 713ms/epoch - 1ms/step\n",
      "Epoch 189/200\n",
      "580/580 - 1s - loss: 1.8979e-06 - val_loss: 3.4903e-06 - 701ms/epoch - 1ms/step\n",
      "Epoch 190/200\n",
      "580/580 - 1s - loss: 2.5396e-06 - val_loss: 4.3505e-06 - 595ms/epoch - 1ms/step\n",
      "Epoch 191/200\n",
      "580/580 - 1s - loss: 2.7009e-06 - val_loss: 9.9633e-06 - 652ms/epoch - 1ms/step\n",
      "Epoch 192/200\n",
      "580/580 - 1s - loss: 2.2962e-06 - val_loss: 6.6113e-06 - 640ms/epoch - 1ms/step\n",
      "Epoch 193/200\n",
      "580/580 - 1s - loss: 2.6255e-06 - val_loss: 3.3318e-06 - 628ms/epoch - 1ms/step\n",
      "Epoch 194/200\n",
      "580/580 - 1s - loss: 2.7894e-06 - val_loss: 4.6411e-06 - 659ms/epoch - 1ms/step\n",
      "Epoch 195/200\n",
      "580/580 - 1s - loss: 2.3397e-06 - val_loss: 4.3615e-06 - 634ms/epoch - 1ms/step\n",
      "Epoch 196/200\n",
      "580/580 - 1s - loss: 2.5988e-06 - val_loss: 3.7032e-06 - 622ms/epoch - 1ms/step\n",
      "Epoch 197/200\n",
      "580/580 - 1s - loss: 2.1813e-06 - val_loss: 8.1792e-06 - 798ms/epoch - 1ms/step\n",
      "Epoch 198/200\n",
      "580/580 - 1s - loss: 2.3464e-06 - val_loss: 3.4854e-06 - 959ms/epoch - 2ms/step\n",
      "Epoch 199/200\n",
      "580/580 - 1s - loss: 3.5418e-06 - val_loss: 3.5036e-06 - 655ms/epoch - 1ms/step\n",
      "Epoch 200/200\n",
      "580/580 - 1s - loss: 2.3147e-06 - val_loss: 4.4417e-06 - 654ms/epoch - 1ms/step\n"
     ]
    },
    {
     "data": {
      "text/plain": [
       "<keras.callbacks.History at 0x1e74dec8430>"
      ]
     },
     "execution_count": 37,
     "metadata": {},
     "output_type": "execute_result"
    }
   ],
   "source": [
    "import time\n",
    "start_time = time.time()\n",
    "model.fit(X, y, epochs=200,batch_size=16,validation_split=.2,verbose=2)\n",
    "#model.fit(X, y, epochs=200,validation_split=.2,verbose=2)"
   ]
  },
  {
   "cell_type": "code",
   "execution_count": 38,
   "metadata": {},
   "outputs": [
    {
     "name": "stdout",
     "output_type": "stream",
     "text": [
      "478/478 [==============================] - 0s 701us/step\n",
      "[[0.41719362 0.41937268 0.41936922 0.41707924 0.4133876  0.4073137 ]\n",
      " [0.42792493 0.4304865  0.43074816 0.42917383 0.42638707 0.42131382]\n",
      " [0.43800023 0.44096506 0.44179028 0.44122413 0.43946993 0.43551514]\n",
      " ...\n",
      " [0.42865947 0.42607677 0.4223253  0.4179763  0.41269612 0.40621462]\n",
      " [0.43081295 0.42866522 0.42561936 0.42216274 0.4179967  0.41259214]\n",
      " [0.43434328 0.43310744 0.43130556 0.42924577 0.4267465  0.4230691 ]]\n"
     ]
    }
   ],
   "source": [
    "#Normalized Testing predictions \n",
    "xt=test[:,0:12]\n",
    "xt=np.reshape(xt,(xt.shape[0],12,1))\n",
    "a=model.predict(xt,batch_size=n_seq)\n",
    "print(a)"
   ]
  },
  {
   "cell_type": "code",
   "execution_count": 39,
   "metadata": {},
   "outputs": [
    {
     "name": "stdout",
     "output_type": "stream",
     "text": [
      "(2863, 6)\n"
     ]
    }
   ],
   "source": [
    "#Denormalizing prediction\n",
    "forec1=a*(max-min)+min\n",
    "print(forec1.shape)"
   ]
  },
  {
   "cell_type": "code",
   "execution_count": 40,
   "metadata": {},
   "outputs": [
    {
     "name": "stdout",
     "output_type": "stream",
     "text": [
      "(2863, 6)\n"
     ]
    }
   ],
   "source": [
    "#Denomalizing the actual values\n",
    "test=pd.DataFrame(test)\n",
    "testy=test.loc[:,12:18]\n",
    "actual=testy*(max-min)+min\n",
    "print(actual.shape)"
   ]
  },
  {
   "cell_type": "code",
   "execution_count": 41,
   "metadata": {},
   "outputs": [
    {
     "name": "stdout",
     "output_type": "stream",
     "text": [
      "RMSE: 4.755633\n"
     ]
    }
   ],
   "source": [
    "#Computing the RMSE\n",
    "forec1=np.array(forec1)\n",
    "actual=np.array(actual)\n",
    "diff=actual-forec1\n",
    "#print(diff.shape)\n",
    "#np.sqrt(np.mean((diff)**2,axis=0))\n",
    "print(\"RMSE:\",np.sqrt(np.mean((diff)**2,axis=0)).mean())"
   ]
  },
  {
   "cell_type": "code",
   "execution_count": 42,
   "metadata": {},
   "outputs": [
    {
     "name": "stdout",
     "output_type": "stream",
     "text": [
      "--- 142.58808493614197 seconds ---\n"
     ]
    }
   ],
   "source": [
    "print(\"--- %s seconds ---\" % (time.time() - start_time))"
   ]
  }
 ],
 "metadata": {
  "colab": {
   "collapsed_sections": [],
   "name": "Glucose process_data v3.1.ipynb",
   "provenance": []
  },
  "kernelspec": {
   "display_name": "Python 3 (ipykernel)",
   "language": "python",
   "name": "python3"
  },
  "language_info": {
   "codemirror_mode": {
    "name": "ipython",
    "version": 3
   },
   "file_extension": ".py",
   "mimetype": "text/x-python",
   "name": "python",
   "nbconvert_exporter": "python",
   "pygments_lexer": "ipython3",
   "version": "3.9.12"
  }
 },
 "nbformat": 4,
 "nbformat_minor": 1
}
