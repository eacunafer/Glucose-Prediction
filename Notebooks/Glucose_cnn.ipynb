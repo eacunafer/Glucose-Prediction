{
 "cells": [
  {
   "cell_type": "code",
   "execution_count": 1455,
   "metadata": {
    "id": "huJVvpnX0fem"
   },
   "outputs": [],
   "source": [
    "import pandas as pd\n",
    "import numpy as np\n",
    "import xml.etree.cElementTree as et\n",
    "from datetime import datetime\n",
    "from pandas.core.tools.datetimes import to_datetime\n",
    "from datetime import timedelta"
   ]
  },
  {
   "cell_type": "code",
   "execution_count": 1456,
   "metadata": {},
   "outputs": [],
   "source": [
    "def read_xml_data(filename, selected_items):\n",
    "  tree=et.parse(filename)\n",
    "  root=tree.getroot()\n",
    "  #extract selected items\n",
    "  for child in root:\n",
    "    if child.tag in selected_items:\n",
    "      df = pd.DataFrame()\n",
    "      for elem in child:      \n",
    "        df1 = pd.DataFrame(elem.attrib, index=[0])\n",
    "        #df = df.append(df1)\n",
    "        df = pd.concat([df, df1])\n",
    "      #First column is the timestamp (dayfirst)      \n",
    "      #df.iloc[:,0] = pd.to_datetime(df.iloc[:,0], dayfirst=True)\n",
    "      #write to csv file using the timestamp as index      \n",
    "      df.to_csv(child.tag+'.csv', index=0)"
   ]
  },
  {
   "cell_type": "code",
   "execution_count": 1457,
   "metadata": {},
   "outputs": [],
   "source": [
    "def read_ts_file(filename):\n",
    "  #reads csv file where the first column is a timestamp and the index column\n",
    "  df = pd.read_csv (filename, parse_dates=[0], dayfirst=True, index_col=0)\n",
    "  return df"
   ]
  },
  {
   "cell_type": "code",
   "execution_count": 1458,
   "metadata": {
    "id": "oBTcc1bReOUI"
   },
   "outputs": [],
   "source": [
    "def align_timeseries(align_df, source_df, source_columns, default_vals, dest_columns=[], include_index=False):\n",
    "  # Generates a new dataframe with source_df data aligned to align_df\n",
    "  # source_columns : list of columns from source_df to be included in result\n",
    "  # dest_columns = column names of source_columns, if ommited column names will be the same as in source_df\n",
    "  #                if specified, the first column has to be the name of the index in the destination\n",
    "  # include_index: if source index must be included in the result\n",
    "  # default_vals = list of default values for source_columns\n",
    " \n",
    "  df_align = align_df.copy()\n",
    "  df_align = df_align.sort_index()\n",
    "  df2 = source_df.copy()\n",
    "  df2 = df2.sort_index()\n",
    "  df_dup = pd.DataFrame()\n",
    "  if (dest_columns==[]) : dest_columns = source_columns.copy()\n",
    "  if (len(dest_columns) == len(source_columns)) : dest_columns = ['source_ts'] + dest_columns # add column for index\n",
    "  #add blank cells in destination\n",
    "  df_align[dest_columns] = [np.nan] + default_vals\n",
    "  for i in range(len(df2)):\n",
    "      ts2 = df2.index[i]\n",
    "      ts1_loc = df_align.index.get_loc(ts2, method='nearest')\n",
    "      ts1 = df_align.index[ts1_loc]\n",
    "      vals = [ts2]+list(df2.loc[ts2, source_columns])\n",
    "      ts_old = df_align.loc[ts1, dest_columns[0]]\n",
    "      if not pd.isna(ts_old): #there are duplicates\n",
    "        if (abs(ts1.value-ts2.value) > abs(ts1.value-ts_old.value)): \n",
    "          #difference is greater, do not replace        \n",
    "          df_dup = df_dup.append(df_align.loc[ts1])\n",
    "          df_dup.loc[ts1, dest_columns] = vals\n",
    "        else: #replace\n",
    "          df_dup = df_dup.append(df_align.loc[ts1])\n",
    "          df_align.loc[ts1, dest_columns] = vals\n",
    "        continue\n",
    "      df_align.loc[ts1, dest_columns] = vals\n",
    "  \n",
    "  if not(include_index) : df_align = df_align.drop( columns = dest_columns[0])\n",
    "\n",
    "  return df_align, df_dup"
   ]
  },
  {
   "cell_type": "code",
   "execution_count": 1459,
   "metadata": {
    "id": "DgIsZtJOfC3Y"
   },
   "outputs": [],
   "source": [
    "def timedf(df):\n",
    "  #creates a 5 minute interval timeseries dataframe based in index of df\n",
    "  # df must have a timestamp index\n",
    "  #time_df: result dataframe with timestamp index\n",
    "  timestamp = pd.date_range(start=df.index[0], end=df.index[-1]  + timedelta(minutes=4), freq='5T')\n",
    "  time_df = pd.DataFrame({'timestamp':timestamp})\n",
    "  time_df.set_index('timestamp', inplace=True)\n",
    "  return time_df"
   ]
  },
  {
   "cell_type": "code",
   "execution_count": 1460,
   "metadata": {
    "id": "7F6omJDLbpun"
   },
   "outputs": [],
   "source": [
    "def find_gaps(df, greaterthan=5, units='m'):\n",
    "  # find gaps relative to index, index must be a datetime field\n",
    "  # greaterthan is the number of time units to be considered a gap\n",
    "  # units 'm'=minutes, 'h'=hours\n",
    "  i = 0\n",
    "  gaps_df = pd.DataFrame()\n",
    "  while i < len(df) - 1:\n",
    "    ts = df.index[i]\n",
    "    next_ts = df.index[i+1]\n",
    "    duration = next_ts - ts\n",
    "    if duration > np.timedelta64(greaterthan, units): \n",
    "      begin_gap = ts\n",
    "      end_gap = next_ts\n",
    "      gaps_df = gaps_df.append({'From': begin_gap, 'To': end_gap, 'Duration': duration}, ignore_index=True)\n",
    "    i = i + 1\n",
    "  gaps_df.sort_values(by=['Duration'], ascending=False, inplace=True)\n",
    "  return gaps_df"
   ]
  },
  {
   "cell_type": "code",
   "execution_count": 1461,
   "metadata": {
    "id": "AqWnu7sUcy0j"
   },
   "outputs": [],
   "source": [
    "def read_files():\n",
    "  #read glucose\n",
    "  glucose_df = read_ts_file('glucose_level.csv')\n",
    "  glucose_df.rename(columns={\"ts\": \"timestamp\", \"value\": \"glucose\"}, inplace=True)\n",
    "  print(glucose_df)\n",
    "  #read meal\n",
    "  meal_df = read_ts_file('meal.csv')\n",
    "  print(meal_df)\n",
    "  #read bolus\n",
    "  meal_df = read_ts_file('bolus.csv')\n",
    "  print(meal_df)"
   ]
  },
  {
   "cell_type": "markdown",
   "metadata": {
    "id": "p6fGo4Bu6nic"
   },
   "source": [
    "## Read Training  Data"
   ]
  },
  {
   "cell_type": "code",
   "execution_count": 1462,
   "metadata": {
    "id": "xnLzUPY70mNV",
    "scrolled": false
   },
   "outputs": [],
   "source": [
    "#selected_items = ['glucose_level','bolus','meal']\n",
    "read_xml_data(filename='c://aadm/540-ws-training.xml', selected_items=['glucose_level','bolus','meal'])"
   ]
  },
  {
   "cell_type": "code",
   "execution_count": 1463,
   "metadata": {
    "colab": {
     "base_uri": "https://localhost:8080/"
    },
    "id": "piTliitocOFu",
    "outputId": "0d84e6ab-657f-4453-b706-06da4ab0076d"
   },
   "outputs": [
    {
     "data": {
      "text/html": [
       "<div>\n",
       "<style scoped>\n",
       "    .dataframe tbody tr th:only-of-type {\n",
       "        vertical-align: middle;\n",
       "    }\n",
       "\n",
       "    .dataframe tbody tr th {\n",
       "        vertical-align: top;\n",
       "    }\n",
       "\n",
       "    .dataframe thead th {\n",
       "        text-align: right;\n",
       "    }\n",
       "</style>\n",
       "<table border=\"1\" class=\"dataframe\">\n",
       "  <thead>\n",
       "    <tr style=\"text-align: right;\">\n",
       "      <th></th>\n",
       "      <th>glucose</th>\n",
       "    </tr>\n",
       "  </thead>\n",
       "  <tbody>\n",
       "    <tr>\n",
       "      <th>count</th>\n",
       "      <td>11947.000000</td>\n",
       "    </tr>\n",
       "    <tr>\n",
       "      <th>mean</th>\n",
       "      <td>137.098602</td>\n",
       "    </tr>\n",
       "    <tr>\n",
       "      <th>std</th>\n",
       "      <td>55.026251</td>\n",
       "    </tr>\n",
       "    <tr>\n",
       "      <th>min</th>\n",
       "      <td>40.000000</td>\n",
       "    </tr>\n",
       "    <tr>\n",
       "      <th>25%</th>\n",
       "      <td>93.500000</td>\n",
       "    </tr>\n",
       "    <tr>\n",
       "      <th>50%</th>\n",
       "      <td>127.000000</td>\n",
       "    </tr>\n",
       "    <tr>\n",
       "      <th>75%</th>\n",
       "      <td>171.000000</td>\n",
       "    </tr>\n",
       "    <tr>\n",
       "      <th>max</th>\n",
       "      <td>369.000000</td>\n",
       "    </tr>\n",
       "  </tbody>\n",
       "</table>\n",
       "</div>"
      ],
      "text/plain": [
       "            glucose\n",
       "count  11947.000000\n",
       "mean     137.098602\n",
       "std       55.026251\n",
       "min       40.000000\n",
       "25%       93.500000\n",
       "50%      127.000000\n",
       "75%      171.000000\n",
       "max      369.000000"
      ]
     },
     "execution_count": 1463,
     "metadata": {},
     "output_type": "execute_result"
    }
   ],
   "source": [
    "glucose_train = read_ts_file('glucose_level.csv')\n",
    "glucose_train.rename(columns={\"ts\": \"timestamp\", \"value\": \"glucose\"}, inplace=True)\n",
    "glucose_train.describe()"
   ]
  },
  {
   "cell_type": "markdown",
   "metadata": {
    "id": "F35XLzzv62VM"
   },
   "source": [
    "# Explore gaps"
   ]
  },
  {
   "cell_type": "code",
   "execution_count": 1464,
   "metadata": {
    "colab": {
     "base_uri": "https://localhost:8080/"
    },
    "id": "1yRLPScwidM-",
    "outputId": "862c502f-4a04-4e42-c3bd-629b7554707d"
   },
   "outputs": [
    {
     "name": "stdout",
     "output_type": "stream",
     "text": [
      "Missing intervals:  1162\n"
     ]
    }
   ],
   "source": [
    "#Finding the length of the complete time series\n",
    "time_df = timedf(glucose_train)\n",
    "print('Missing intervals: ', len(time_df) - len(glucose_train) )"
   ]
  },
  {
   "cell_type": "code",
   "execution_count": 1465,
   "metadata": {
    "colab": {
     "base_uri": "https://localhost:8080/"
    },
    "id": "9Zy-xy9i7ATs",
    "outputId": "d2f8bf86-0cf6-47b0-c48c-079db3cf36a3"
   },
   "outputs": [
    {
     "name": "stderr",
     "output_type": "stream",
     "text": [
      "C:\\Users\\eacun\\AppData\\Local\\Temp\\ipykernel_11820\\1628313578.py:14: FutureWarning: The frame.append method is deprecated and will be removed from pandas in a future version. Use pandas.concat instead.\n",
      "  gaps_df = gaps_df.append({'From': begin_gap, 'To': end_gap, 'Duration': duration}, ignore_index=True)\n",
      "C:\\Users\\eacun\\AppData\\Local\\Temp\\ipykernel_11820\\1628313578.py:14: FutureWarning: The frame.append method is deprecated and will be removed from pandas in a future version. Use pandas.concat instead.\n",
      "  gaps_df = gaps_df.append({'From': begin_gap, 'To': end_gap, 'Duration': duration}, ignore_index=True)\n",
      "C:\\Users\\eacun\\AppData\\Local\\Temp\\ipykernel_11820\\1628313578.py:14: FutureWarning: The frame.append method is deprecated and will be removed from pandas in a future version. Use pandas.concat instead.\n",
      "  gaps_df = gaps_df.append({'From': begin_gap, 'To': end_gap, 'Duration': duration}, ignore_index=True)\n",
      "C:\\Users\\eacun\\AppData\\Local\\Temp\\ipykernel_11820\\1628313578.py:14: FutureWarning: The frame.append method is deprecated and will be removed from pandas in a future version. Use pandas.concat instead.\n",
      "  gaps_df = gaps_df.append({'From': begin_gap, 'To': end_gap, 'Duration': duration}, ignore_index=True)\n",
      "C:\\Users\\eacun\\AppData\\Local\\Temp\\ipykernel_11820\\1628313578.py:14: FutureWarning: The frame.append method is deprecated and will be removed from pandas in a future version. Use pandas.concat instead.\n",
      "  gaps_df = gaps_df.append({'From': begin_gap, 'To': end_gap, 'Duration': duration}, ignore_index=True)\n",
      "C:\\Users\\eacun\\AppData\\Local\\Temp\\ipykernel_11820\\1628313578.py:14: FutureWarning: The frame.append method is deprecated and will be removed from pandas in a future version. Use pandas.concat instead.\n",
      "  gaps_df = gaps_df.append({'From': begin_gap, 'To': end_gap, 'Duration': duration}, ignore_index=True)\n",
      "C:\\Users\\eacun\\AppData\\Local\\Temp\\ipykernel_11820\\1628313578.py:14: FutureWarning: The frame.append method is deprecated and will be removed from pandas in a future version. Use pandas.concat instead.\n",
      "  gaps_df = gaps_df.append({'From': begin_gap, 'To': end_gap, 'Duration': duration}, ignore_index=True)\n",
      "C:\\Users\\eacun\\AppData\\Local\\Temp\\ipykernel_11820\\1628313578.py:14: FutureWarning: The frame.append method is deprecated and will be removed from pandas in a future version. Use pandas.concat instead.\n",
      "  gaps_df = gaps_df.append({'From': begin_gap, 'To': end_gap, 'Duration': duration}, ignore_index=True)\n",
      "C:\\Users\\eacun\\AppData\\Local\\Temp\\ipykernel_11820\\1628313578.py:14: FutureWarning: The frame.append method is deprecated and will be removed from pandas in a future version. Use pandas.concat instead.\n",
      "  gaps_df = gaps_df.append({'From': begin_gap, 'To': end_gap, 'Duration': duration}, ignore_index=True)\n",
      "C:\\Users\\eacun\\AppData\\Local\\Temp\\ipykernel_11820\\1628313578.py:14: FutureWarning: The frame.append method is deprecated and will be removed from pandas in a future version. Use pandas.concat instead.\n",
      "  gaps_df = gaps_df.append({'From': begin_gap, 'To': end_gap, 'Duration': duration}, ignore_index=True)\n",
      "C:\\Users\\eacun\\AppData\\Local\\Temp\\ipykernel_11820\\1628313578.py:14: FutureWarning: The frame.append method is deprecated and will be removed from pandas in a future version. Use pandas.concat instead.\n",
      "  gaps_df = gaps_df.append({'From': begin_gap, 'To': end_gap, 'Duration': duration}, ignore_index=True)\n",
      "C:\\Users\\eacun\\AppData\\Local\\Temp\\ipykernel_11820\\1628313578.py:14: FutureWarning: The frame.append method is deprecated and will be removed from pandas in a future version. Use pandas.concat instead.\n",
      "  gaps_df = gaps_df.append({'From': begin_gap, 'To': end_gap, 'Duration': duration}, ignore_index=True)\n",
      "C:\\Users\\eacun\\AppData\\Local\\Temp\\ipykernel_11820\\1628313578.py:14: FutureWarning: The frame.append method is deprecated and will be removed from pandas in a future version. Use pandas.concat instead.\n",
      "  gaps_df = gaps_df.append({'From': begin_gap, 'To': end_gap, 'Duration': duration}, ignore_index=True)\n",
      "C:\\Users\\eacun\\AppData\\Local\\Temp\\ipykernel_11820\\1628313578.py:14: FutureWarning: The frame.append method is deprecated and will be removed from pandas in a future version. Use pandas.concat instead.\n",
      "  gaps_df = gaps_df.append({'From': begin_gap, 'To': end_gap, 'Duration': duration}, ignore_index=True)\n",
      "C:\\Users\\eacun\\AppData\\Local\\Temp\\ipykernel_11820\\1628313578.py:14: FutureWarning: The frame.append method is deprecated and will be removed from pandas in a future version. Use pandas.concat instead.\n",
      "  gaps_df = gaps_df.append({'From': begin_gap, 'To': end_gap, 'Duration': duration}, ignore_index=True)\n",
      "C:\\Users\\eacun\\AppData\\Local\\Temp\\ipykernel_11820\\1628313578.py:14: FutureWarning: The frame.append method is deprecated and will be removed from pandas in a future version. Use pandas.concat instead.\n",
      "  gaps_df = gaps_df.append({'From': begin_gap, 'To': end_gap, 'Duration': duration}, ignore_index=True)\n",
      "C:\\Users\\eacun\\AppData\\Local\\Temp\\ipykernel_11820\\1628313578.py:14: FutureWarning: The frame.append method is deprecated and will be removed from pandas in a future version. Use pandas.concat instead.\n",
      "  gaps_df = gaps_df.append({'From': begin_gap, 'To': end_gap, 'Duration': duration}, ignore_index=True)\n",
      "C:\\Users\\eacun\\AppData\\Local\\Temp\\ipykernel_11820\\1628313578.py:14: FutureWarning: The frame.append method is deprecated and will be removed from pandas in a future version. Use pandas.concat instead.\n",
      "  gaps_df = gaps_df.append({'From': begin_gap, 'To': end_gap, 'Duration': duration}, ignore_index=True)\n",
      "C:\\Users\\eacun\\AppData\\Local\\Temp\\ipykernel_11820\\1628313578.py:14: FutureWarning: The frame.append method is deprecated and will be removed from pandas in a future version. Use pandas.concat instead.\n",
      "  gaps_df = gaps_df.append({'From': begin_gap, 'To': end_gap, 'Duration': duration}, ignore_index=True)\n",
      "C:\\Users\\eacun\\AppData\\Local\\Temp\\ipykernel_11820\\1628313578.py:14: FutureWarning: The frame.append method is deprecated and will be removed from pandas in a future version. Use pandas.concat instead.\n",
      "  gaps_df = gaps_df.append({'From': begin_gap, 'To': end_gap, 'Duration': duration}, ignore_index=True)\n",
      "C:\\Users\\eacun\\AppData\\Local\\Temp\\ipykernel_11820\\1628313578.py:14: FutureWarning: The frame.append method is deprecated and will be removed from pandas in a future version. Use pandas.concat instead.\n",
      "  gaps_df = gaps_df.append({'From': begin_gap, 'To': end_gap, 'Duration': duration}, ignore_index=True)\n",
      "C:\\Users\\eacun\\AppData\\Local\\Temp\\ipykernel_11820\\1628313578.py:14: FutureWarning: The frame.append method is deprecated and will be removed from pandas in a future version. Use pandas.concat instead.\n",
      "  gaps_df = gaps_df.append({'From': begin_gap, 'To': end_gap, 'Duration': duration}, ignore_index=True)\n",
      "C:\\Users\\eacun\\AppData\\Local\\Temp\\ipykernel_11820\\1628313578.py:14: FutureWarning: The frame.append method is deprecated and will be removed from pandas in a future version. Use pandas.concat instead.\n",
      "  gaps_df = gaps_df.append({'From': begin_gap, 'To': end_gap, 'Duration': duration}, ignore_index=True)\n",
      "C:\\Users\\eacun\\AppData\\Local\\Temp\\ipykernel_11820\\1628313578.py:14: FutureWarning: The frame.append method is deprecated and will be removed from pandas in a future version. Use pandas.concat instead.\n",
      "  gaps_df = gaps_df.append({'From': begin_gap, 'To': end_gap, 'Duration': duration}, ignore_index=True)\n",
      "C:\\Users\\eacun\\AppData\\Local\\Temp\\ipykernel_11820\\1628313578.py:14: FutureWarning: The frame.append method is deprecated and will be removed from pandas in a future version. Use pandas.concat instead.\n",
      "  gaps_df = gaps_df.append({'From': begin_gap, 'To': end_gap, 'Duration': duration}, ignore_index=True)\n",
      "C:\\Users\\eacun\\AppData\\Local\\Temp\\ipykernel_11820\\1628313578.py:14: FutureWarning: The frame.append method is deprecated and will be removed from pandas in a future version. Use pandas.concat instead.\n",
      "  gaps_df = gaps_df.append({'From': begin_gap, 'To': end_gap, 'Duration': duration}, ignore_index=True)\n",
      "C:\\Users\\eacun\\AppData\\Local\\Temp\\ipykernel_11820\\1628313578.py:14: FutureWarning: The frame.append method is deprecated and will be removed from pandas in a future version. Use pandas.concat instead.\n",
      "  gaps_df = gaps_df.append({'From': begin_gap, 'To': end_gap, 'Duration': duration}, ignore_index=True)\n",
      "C:\\Users\\eacun\\AppData\\Local\\Temp\\ipykernel_11820\\1628313578.py:14: FutureWarning: The frame.append method is deprecated and will be removed from pandas in a future version. Use pandas.concat instead.\n",
      "  gaps_df = gaps_df.append({'From': begin_gap, 'To': end_gap, 'Duration': duration}, ignore_index=True)\n",
      "C:\\Users\\eacun\\AppData\\Local\\Temp\\ipykernel_11820\\1628313578.py:14: FutureWarning: The frame.append method is deprecated and will be removed from pandas in a future version. Use pandas.concat instead.\n",
      "  gaps_df = gaps_df.append({'From': begin_gap, 'To': end_gap, 'Duration': duration}, ignore_index=True)\n",
      "C:\\Users\\eacun\\AppData\\Local\\Temp\\ipykernel_11820\\1628313578.py:14: FutureWarning: The frame.append method is deprecated and will be removed from pandas in a future version. Use pandas.concat instead.\n",
      "  gaps_df = gaps_df.append({'From': begin_gap, 'To': end_gap, 'Duration': duration}, ignore_index=True)\n",
      "C:\\Users\\eacun\\AppData\\Local\\Temp\\ipykernel_11820\\1628313578.py:14: FutureWarning: The frame.append method is deprecated and will be removed from pandas in a future version. Use pandas.concat instead.\n",
      "  gaps_df = gaps_df.append({'From': begin_gap, 'To': end_gap, 'Duration': duration}, ignore_index=True)\n",
      "C:\\Users\\eacun\\AppData\\Local\\Temp\\ipykernel_11820\\1628313578.py:14: FutureWarning: The frame.append method is deprecated and will be removed from pandas in a future version. Use pandas.concat instead.\n",
      "  gaps_df = gaps_df.append({'From': begin_gap, 'To': end_gap, 'Duration': duration}, ignore_index=True)\n",
      "C:\\Users\\eacun\\AppData\\Local\\Temp\\ipykernel_11820\\1628313578.py:14: FutureWarning: The frame.append method is deprecated and will be removed from pandas in a future version. Use pandas.concat instead.\n",
      "  gaps_df = gaps_df.append({'From': begin_gap, 'To': end_gap, 'Duration': duration}, ignore_index=True)\n"
     ]
    },
    {
     "name": "stderr",
     "output_type": "stream",
     "text": [
      "C:\\Users\\eacun\\AppData\\Local\\Temp\\ipykernel_11820\\1628313578.py:14: FutureWarning: The frame.append method is deprecated and will be removed from pandas in a future version. Use pandas.concat instead.\n",
      "  gaps_df = gaps_df.append({'From': begin_gap, 'To': end_gap, 'Duration': duration}, ignore_index=True)\n",
      "C:\\Users\\eacun\\AppData\\Local\\Temp\\ipykernel_11820\\1628313578.py:14: FutureWarning: The frame.append method is deprecated and will be removed from pandas in a future version. Use pandas.concat instead.\n",
      "  gaps_df = gaps_df.append({'From': begin_gap, 'To': end_gap, 'Duration': duration}, ignore_index=True)\n",
      "C:\\Users\\eacun\\AppData\\Local\\Temp\\ipykernel_11820\\1628313578.py:14: FutureWarning: The frame.append method is deprecated and will be removed from pandas in a future version. Use pandas.concat instead.\n",
      "  gaps_df = gaps_df.append({'From': begin_gap, 'To': end_gap, 'Duration': duration}, ignore_index=True)\n",
      "C:\\Users\\eacun\\AppData\\Local\\Temp\\ipykernel_11820\\1628313578.py:14: FutureWarning: The frame.append method is deprecated and will be removed from pandas in a future version. Use pandas.concat instead.\n",
      "  gaps_df = gaps_df.append({'From': begin_gap, 'To': end_gap, 'Duration': duration}, ignore_index=True)\n",
      "C:\\Users\\eacun\\AppData\\Local\\Temp\\ipykernel_11820\\1628313578.py:14: FutureWarning: The frame.append method is deprecated and will be removed from pandas in a future version. Use pandas.concat instead.\n",
      "  gaps_df = gaps_df.append({'From': begin_gap, 'To': end_gap, 'Duration': duration}, ignore_index=True)\n",
      "C:\\Users\\eacun\\AppData\\Local\\Temp\\ipykernel_11820\\1628313578.py:14: FutureWarning: The frame.append method is deprecated and will be removed from pandas in a future version. Use pandas.concat instead.\n",
      "  gaps_df = gaps_df.append({'From': begin_gap, 'To': end_gap, 'Duration': duration}, ignore_index=True)\n",
      "C:\\Users\\eacun\\AppData\\Local\\Temp\\ipykernel_11820\\1628313578.py:14: FutureWarning: The frame.append method is deprecated and will be removed from pandas in a future version. Use pandas.concat instead.\n",
      "  gaps_df = gaps_df.append({'From': begin_gap, 'To': end_gap, 'Duration': duration}, ignore_index=True)\n",
      "C:\\Users\\eacun\\AppData\\Local\\Temp\\ipykernel_11820\\1628313578.py:14: FutureWarning: The frame.append method is deprecated and will be removed from pandas in a future version. Use pandas.concat instead.\n",
      "  gaps_df = gaps_df.append({'From': begin_gap, 'To': end_gap, 'Duration': duration}, ignore_index=True)\n",
      "C:\\Users\\eacun\\AppData\\Local\\Temp\\ipykernel_11820\\1628313578.py:14: FutureWarning: The frame.append method is deprecated and will be removed from pandas in a future version. Use pandas.concat instead.\n",
      "  gaps_df = gaps_df.append({'From': begin_gap, 'To': end_gap, 'Duration': duration}, ignore_index=True)\n",
      "C:\\Users\\eacun\\AppData\\Local\\Temp\\ipykernel_11820\\1628313578.py:14: FutureWarning: The frame.append method is deprecated and will be removed from pandas in a future version. Use pandas.concat instead.\n",
      "  gaps_df = gaps_df.append({'From': begin_gap, 'To': end_gap, 'Duration': duration}, ignore_index=True)\n",
      "C:\\Users\\eacun\\AppData\\Local\\Temp\\ipykernel_11820\\1628313578.py:14: FutureWarning: The frame.append method is deprecated and will be removed from pandas in a future version. Use pandas.concat instead.\n",
      "  gaps_df = gaps_df.append({'From': begin_gap, 'To': end_gap, 'Duration': duration}, ignore_index=True)\n",
      "C:\\Users\\eacun\\AppData\\Local\\Temp\\ipykernel_11820\\1628313578.py:14: FutureWarning: The frame.append method is deprecated and will be removed from pandas in a future version. Use pandas.concat instead.\n",
      "  gaps_df = gaps_df.append({'From': begin_gap, 'To': end_gap, 'Duration': duration}, ignore_index=True)\n",
      "C:\\Users\\eacun\\AppData\\Local\\Temp\\ipykernel_11820\\1628313578.py:14: FutureWarning: The frame.append method is deprecated and will be removed from pandas in a future version. Use pandas.concat instead.\n",
      "  gaps_df = gaps_df.append({'From': begin_gap, 'To': end_gap, 'Duration': duration}, ignore_index=True)\n",
      "C:\\Users\\eacun\\AppData\\Local\\Temp\\ipykernel_11820\\1628313578.py:14: FutureWarning: The frame.append method is deprecated and will be removed from pandas in a future version. Use pandas.concat instead.\n",
      "  gaps_df = gaps_df.append({'From': begin_gap, 'To': end_gap, 'Duration': duration}, ignore_index=True)\n",
      "C:\\Users\\eacun\\AppData\\Local\\Temp\\ipykernel_11820\\1628313578.py:14: FutureWarning: The frame.append method is deprecated and will be removed from pandas in a future version. Use pandas.concat instead.\n",
      "  gaps_df = gaps_df.append({'From': begin_gap, 'To': end_gap, 'Duration': duration}, ignore_index=True)\n",
      "C:\\Users\\eacun\\AppData\\Local\\Temp\\ipykernel_11820\\1628313578.py:14: FutureWarning: The frame.append method is deprecated and will be removed from pandas in a future version. Use pandas.concat instead.\n",
      "  gaps_df = gaps_df.append({'From': begin_gap, 'To': end_gap, 'Duration': duration}, ignore_index=True)\n",
      "C:\\Users\\eacun\\AppData\\Local\\Temp\\ipykernel_11820\\1628313578.py:14: FutureWarning: The frame.append method is deprecated and will be removed from pandas in a future version. Use pandas.concat instead.\n",
      "  gaps_df = gaps_df.append({'From': begin_gap, 'To': end_gap, 'Duration': duration}, ignore_index=True)\n",
      "C:\\Users\\eacun\\AppData\\Local\\Temp\\ipykernel_11820\\1628313578.py:14: FutureWarning: The frame.append method is deprecated and will be removed from pandas in a future version. Use pandas.concat instead.\n",
      "  gaps_df = gaps_df.append({'From': begin_gap, 'To': end_gap, 'Duration': duration}, ignore_index=True)\n",
      "C:\\Users\\eacun\\AppData\\Local\\Temp\\ipykernel_11820\\1628313578.py:14: FutureWarning: The frame.append method is deprecated and will be removed from pandas in a future version. Use pandas.concat instead.\n",
      "  gaps_df = gaps_df.append({'From': begin_gap, 'To': end_gap, 'Duration': duration}, ignore_index=True)\n",
      "C:\\Users\\eacun\\AppData\\Local\\Temp\\ipykernel_11820\\1628313578.py:14: FutureWarning: The frame.append method is deprecated and will be removed from pandas in a future version. Use pandas.concat instead.\n",
      "  gaps_df = gaps_df.append({'From': begin_gap, 'To': end_gap, 'Duration': duration}, ignore_index=True)\n",
      "C:\\Users\\eacun\\AppData\\Local\\Temp\\ipykernel_11820\\1628313578.py:14: FutureWarning: The frame.append method is deprecated and will be removed from pandas in a future version. Use pandas.concat instead.\n",
      "  gaps_df = gaps_df.append({'From': begin_gap, 'To': end_gap, 'Duration': duration}, ignore_index=True)\n",
      "C:\\Users\\eacun\\AppData\\Local\\Temp\\ipykernel_11820\\1628313578.py:14: FutureWarning: The frame.append method is deprecated and will be removed from pandas in a future version. Use pandas.concat instead.\n",
      "  gaps_df = gaps_df.append({'From': begin_gap, 'To': end_gap, 'Duration': duration}, ignore_index=True)\n",
      "C:\\Users\\eacun\\AppData\\Local\\Temp\\ipykernel_11820\\1628313578.py:14: FutureWarning: The frame.append method is deprecated and will be removed from pandas in a future version. Use pandas.concat instead.\n",
      "  gaps_df = gaps_df.append({'From': begin_gap, 'To': end_gap, 'Duration': duration}, ignore_index=True)\n",
      "C:\\Users\\eacun\\AppData\\Local\\Temp\\ipykernel_11820\\1628313578.py:14: FutureWarning: The frame.append method is deprecated and will be removed from pandas in a future version. Use pandas.concat instead.\n",
      "  gaps_df = gaps_df.append({'From': begin_gap, 'To': end_gap, 'Duration': duration}, ignore_index=True)\n",
      "C:\\Users\\eacun\\AppData\\Local\\Temp\\ipykernel_11820\\1628313578.py:14: FutureWarning: The frame.append method is deprecated and will be removed from pandas in a future version. Use pandas.concat instead.\n",
      "  gaps_df = gaps_df.append({'From': begin_gap, 'To': end_gap, 'Duration': duration}, ignore_index=True)\n",
      "C:\\Users\\eacun\\AppData\\Local\\Temp\\ipykernel_11820\\1628313578.py:14: FutureWarning: The frame.append method is deprecated and will be removed from pandas in a future version. Use pandas.concat instead.\n",
      "  gaps_df = gaps_df.append({'From': begin_gap, 'To': end_gap, 'Duration': duration}, ignore_index=True)\n",
      "C:\\Users\\eacun\\AppData\\Local\\Temp\\ipykernel_11820\\1628313578.py:14: FutureWarning: The frame.append method is deprecated and will be removed from pandas in a future version. Use pandas.concat instead.\n",
      "  gaps_df = gaps_df.append({'From': begin_gap, 'To': end_gap, 'Duration': duration}, ignore_index=True)\n",
      "C:\\Users\\eacun\\AppData\\Local\\Temp\\ipykernel_11820\\1628313578.py:14: FutureWarning: The frame.append method is deprecated and will be removed from pandas in a future version. Use pandas.concat instead.\n",
      "  gaps_df = gaps_df.append({'From': begin_gap, 'To': end_gap, 'Duration': duration}, ignore_index=True)\n",
      "C:\\Users\\eacun\\AppData\\Local\\Temp\\ipykernel_11820\\1628313578.py:14: FutureWarning: The frame.append method is deprecated and will be removed from pandas in a future version. Use pandas.concat instead.\n",
      "  gaps_df = gaps_df.append({'From': begin_gap, 'To': end_gap, 'Duration': duration}, ignore_index=True)\n",
      "C:\\Users\\eacun\\AppData\\Local\\Temp\\ipykernel_11820\\1628313578.py:14: FutureWarning: The frame.append method is deprecated and will be removed from pandas in a future version. Use pandas.concat instead.\n",
      "  gaps_df = gaps_df.append({'From': begin_gap, 'To': end_gap, 'Duration': duration}, ignore_index=True)\n",
      "C:\\Users\\eacun\\AppData\\Local\\Temp\\ipykernel_11820\\1628313578.py:14: FutureWarning: The frame.append method is deprecated and will be removed from pandas in a future version. Use pandas.concat instead.\n",
      "  gaps_df = gaps_df.append({'From': begin_gap, 'To': end_gap, 'Duration': duration}, ignore_index=True)\n"
     ]
    },
    {
     "name": "stderr",
     "output_type": "stream",
     "text": [
      "C:\\Users\\eacun\\AppData\\Local\\Temp\\ipykernel_11820\\1628313578.py:14: FutureWarning: The frame.append method is deprecated and will be removed from pandas in a future version. Use pandas.concat instead.\n",
      "  gaps_df = gaps_df.append({'From': begin_gap, 'To': end_gap, 'Duration': duration}, ignore_index=True)\n",
      "C:\\Users\\eacun\\AppData\\Local\\Temp\\ipykernel_11820\\1628313578.py:14: FutureWarning: The frame.append method is deprecated and will be removed from pandas in a future version. Use pandas.concat instead.\n",
      "  gaps_df = gaps_df.append({'From': begin_gap, 'To': end_gap, 'Duration': duration}, ignore_index=True)\n",
      "C:\\Users\\eacun\\AppData\\Local\\Temp\\ipykernel_11820\\1628313578.py:14: FutureWarning: The frame.append method is deprecated and will be removed from pandas in a future version. Use pandas.concat instead.\n",
      "  gaps_df = gaps_df.append({'From': begin_gap, 'To': end_gap, 'Duration': duration}, ignore_index=True)\n",
      "C:\\Users\\eacun\\AppData\\Local\\Temp\\ipykernel_11820\\1628313578.py:14: FutureWarning: The frame.append method is deprecated and will be removed from pandas in a future version. Use pandas.concat instead.\n",
      "  gaps_df = gaps_df.append({'From': begin_gap, 'To': end_gap, 'Duration': duration}, ignore_index=True)\n",
      "C:\\Users\\eacun\\AppData\\Local\\Temp\\ipykernel_11820\\1628313578.py:14: FutureWarning: The frame.append method is deprecated and will be removed from pandas in a future version. Use pandas.concat instead.\n",
      "  gaps_df = gaps_df.append({'From': begin_gap, 'To': end_gap, 'Duration': duration}, ignore_index=True)\n",
      "C:\\Users\\eacun\\AppData\\Local\\Temp\\ipykernel_11820\\1628313578.py:14: FutureWarning: The frame.append method is deprecated and will be removed from pandas in a future version. Use pandas.concat instead.\n",
      "  gaps_df = gaps_df.append({'From': begin_gap, 'To': end_gap, 'Duration': duration}, ignore_index=True)\n",
      "C:\\Users\\eacun\\AppData\\Local\\Temp\\ipykernel_11820\\1628313578.py:14: FutureWarning: The frame.append method is deprecated and will be removed from pandas in a future version. Use pandas.concat instead.\n",
      "  gaps_df = gaps_df.append({'From': begin_gap, 'To': end_gap, 'Duration': duration}, ignore_index=True)\n",
      "C:\\Users\\eacun\\AppData\\Local\\Temp\\ipykernel_11820\\1628313578.py:14: FutureWarning: The frame.append method is deprecated and will be removed from pandas in a future version. Use pandas.concat instead.\n",
      "  gaps_df = gaps_df.append({'From': begin_gap, 'To': end_gap, 'Duration': duration}, ignore_index=True)\n",
      "C:\\Users\\eacun\\AppData\\Local\\Temp\\ipykernel_11820\\1628313578.py:14: FutureWarning: The frame.append method is deprecated and will be removed from pandas in a future version. Use pandas.concat instead.\n",
      "  gaps_df = gaps_df.append({'From': begin_gap, 'To': end_gap, 'Duration': duration}, ignore_index=True)\n",
      "C:\\Users\\eacun\\AppData\\Local\\Temp\\ipykernel_11820\\1628313578.py:14: FutureWarning: The frame.append method is deprecated and will be removed from pandas in a future version. Use pandas.concat instead.\n",
      "  gaps_df = gaps_df.append({'From': begin_gap, 'To': end_gap, 'Duration': duration}, ignore_index=True)\n",
      "C:\\Users\\eacun\\AppData\\Local\\Temp\\ipykernel_11820\\1628313578.py:14: FutureWarning: The frame.append method is deprecated and will be removed from pandas in a future version. Use pandas.concat instead.\n",
      "  gaps_df = gaps_df.append({'From': begin_gap, 'To': end_gap, 'Duration': duration}, ignore_index=True)\n",
      "C:\\Users\\eacun\\AppData\\Local\\Temp\\ipykernel_11820\\1628313578.py:14: FutureWarning: The frame.append method is deprecated and will be removed from pandas in a future version. Use pandas.concat instead.\n",
      "  gaps_df = gaps_df.append({'From': begin_gap, 'To': end_gap, 'Duration': duration}, ignore_index=True)\n",
      "C:\\Users\\eacun\\AppData\\Local\\Temp\\ipykernel_11820\\1628313578.py:14: FutureWarning: The frame.append method is deprecated and will be removed from pandas in a future version. Use pandas.concat instead.\n",
      "  gaps_df = gaps_df.append({'From': begin_gap, 'To': end_gap, 'Duration': duration}, ignore_index=True)\n",
      "C:\\Users\\eacun\\AppData\\Local\\Temp\\ipykernel_11820\\1628313578.py:14: FutureWarning: The frame.append method is deprecated and will be removed from pandas in a future version. Use pandas.concat instead.\n",
      "  gaps_df = gaps_df.append({'From': begin_gap, 'To': end_gap, 'Duration': duration}, ignore_index=True)\n",
      "C:\\Users\\eacun\\AppData\\Local\\Temp\\ipykernel_11820\\1628313578.py:14: FutureWarning: The frame.append method is deprecated and will be removed from pandas in a future version. Use pandas.concat instead.\n",
      "  gaps_df = gaps_df.append({'From': begin_gap, 'To': end_gap, 'Duration': duration}, ignore_index=True)\n",
      "C:\\Users\\eacun\\AppData\\Local\\Temp\\ipykernel_11820\\1628313578.py:14: FutureWarning: The frame.append method is deprecated and will be removed from pandas in a future version. Use pandas.concat instead.\n",
      "  gaps_df = gaps_df.append({'From': begin_gap, 'To': end_gap, 'Duration': duration}, ignore_index=True)\n",
      "C:\\Users\\eacun\\AppData\\Local\\Temp\\ipykernel_11820\\1628313578.py:14: FutureWarning: The frame.append method is deprecated and will be removed from pandas in a future version. Use pandas.concat instead.\n",
      "  gaps_df = gaps_df.append({'From': begin_gap, 'To': end_gap, 'Duration': duration}, ignore_index=True)\n",
      "C:\\Users\\eacun\\AppData\\Local\\Temp\\ipykernel_11820\\1628313578.py:14: FutureWarning: The frame.append method is deprecated and will be removed from pandas in a future version. Use pandas.concat instead.\n",
      "  gaps_df = gaps_df.append({'From': begin_gap, 'To': end_gap, 'Duration': duration}, ignore_index=True)\n",
      "C:\\Users\\eacun\\AppData\\Local\\Temp\\ipykernel_11820\\1628313578.py:14: FutureWarning: The frame.append method is deprecated and will be removed from pandas in a future version. Use pandas.concat instead.\n",
      "  gaps_df = gaps_df.append({'From': begin_gap, 'To': end_gap, 'Duration': duration}, ignore_index=True)\n",
      "C:\\Users\\eacun\\AppData\\Local\\Temp\\ipykernel_11820\\1628313578.py:14: FutureWarning: The frame.append method is deprecated and will be removed from pandas in a future version. Use pandas.concat instead.\n",
      "  gaps_df = gaps_df.append({'From': begin_gap, 'To': end_gap, 'Duration': duration}, ignore_index=True)\n",
      "C:\\Users\\eacun\\AppData\\Local\\Temp\\ipykernel_11820\\1628313578.py:14: FutureWarning: The frame.append method is deprecated and will be removed from pandas in a future version. Use pandas.concat instead.\n",
      "  gaps_df = gaps_df.append({'From': begin_gap, 'To': end_gap, 'Duration': duration}, ignore_index=True)\n",
      "C:\\Users\\eacun\\AppData\\Local\\Temp\\ipykernel_11820\\1628313578.py:14: FutureWarning: The frame.append method is deprecated and will be removed from pandas in a future version. Use pandas.concat instead.\n",
      "  gaps_df = gaps_df.append({'From': begin_gap, 'To': end_gap, 'Duration': duration}, ignore_index=True)\n",
      "C:\\Users\\eacun\\AppData\\Local\\Temp\\ipykernel_11820\\1628313578.py:14: FutureWarning: The frame.append method is deprecated and will be removed from pandas in a future version. Use pandas.concat instead.\n",
      "  gaps_df = gaps_df.append({'From': begin_gap, 'To': end_gap, 'Duration': duration}, ignore_index=True)\n",
      "C:\\Users\\eacun\\AppData\\Local\\Temp\\ipykernel_11820\\1628313578.py:14: FutureWarning: The frame.append method is deprecated and will be removed from pandas in a future version. Use pandas.concat instead.\n",
      "  gaps_df = gaps_df.append({'From': begin_gap, 'To': end_gap, 'Duration': duration}, ignore_index=True)\n",
      "C:\\Users\\eacun\\AppData\\Local\\Temp\\ipykernel_11820\\1628313578.py:14: FutureWarning: The frame.append method is deprecated and will be removed from pandas in a future version. Use pandas.concat instead.\n",
      "  gaps_df = gaps_df.append({'From': begin_gap, 'To': end_gap, 'Duration': duration}, ignore_index=True)\n",
      "C:\\Users\\eacun\\AppData\\Local\\Temp\\ipykernel_11820\\1628313578.py:14: FutureWarning: The frame.append method is deprecated and will be removed from pandas in a future version. Use pandas.concat instead.\n",
      "  gaps_df = gaps_df.append({'From': begin_gap, 'To': end_gap, 'Duration': duration}, ignore_index=True)\n",
      "C:\\Users\\eacun\\AppData\\Local\\Temp\\ipykernel_11820\\1628313578.py:14: FutureWarning: The frame.append method is deprecated and will be removed from pandas in a future version. Use pandas.concat instead.\n",
      "  gaps_df = gaps_df.append({'From': begin_gap, 'To': end_gap, 'Duration': duration}, ignore_index=True)\n",
      "C:\\Users\\eacun\\AppData\\Local\\Temp\\ipykernel_11820\\1628313578.py:14: FutureWarning: The frame.append method is deprecated and will be removed from pandas in a future version. Use pandas.concat instead.\n",
      "  gaps_df = gaps_df.append({'From': begin_gap, 'To': end_gap, 'Duration': duration}, ignore_index=True)\n",
      "C:\\Users\\eacun\\AppData\\Local\\Temp\\ipykernel_11820\\1628313578.py:14: FutureWarning: The frame.append method is deprecated and will be removed from pandas in a future version. Use pandas.concat instead.\n",
      "  gaps_df = gaps_df.append({'From': begin_gap, 'To': end_gap, 'Duration': duration}, ignore_index=True)\n",
      "C:\\Users\\eacun\\AppData\\Local\\Temp\\ipykernel_11820\\1628313578.py:14: FutureWarning: The frame.append method is deprecated and will be removed from pandas in a future version. Use pandas.concat instead.\n",
      "  gaps_df = gaps_df.append({'From': begin_gap, 'To': end_gap, 'Duration': duration}, ignore_index=True)\n",
      "C:\\Users\\eacun\\AppData\\Local\\Temp\\ipykernel_11820\\1628313578.py:14: FutureWarning: The frame.append method is deprecated and will be removed from pandas in a future version. Use pandas.concat instead.\n",
      "  gaps_df = gaps_df.append({'From': begin_gap, 'To': end_gap, 'Duration': duration}, ignore_index=True)\n",
      "C:\\Users\\eacun\\AppData\\Local\\Temp\\ipykernel_11820\\1628313578.py:14: FutureWarning: The frame.append method is deprecated and will be removed from pandas in a future version. Use pandas.concat instead.\n",
      "  gaps_df = gaps_df.append({'From': begin_gap, 'To': end_gap, 'Duration': duration}, ignore_index=True)\n"
     ]
    },
    {
     "name": "stderr",
     "output_type": "stream",
     "text": [
      "C:\\Users\\eacun\\AppData\\Local\\Temp\\ipykernel_11820\\1628313578.py:14: FutureWarning: The frame.append method is deprecated and will be removed from pandas in a future version. Use pandas.concat instead.\n",
      "  gaps_df = gaps_df.append({'From': begin_gap, 'To': end_gap, 'Duration': duration}, ignore_index=True)\n",
      "C:\\Users\\eacun\\AppData\\Local\\Temp\\ipykernel_11820\\1628313578.py:14: FutureWarning: The frame.append method is deprecated and will be removed from pandas in a future version. Use pandas.concat instead.\n",
      "  gaps_df = gaps_df.append({'From': begin_gap, 'To': end_gap, 'Duration': duration}, ignore_index=True)\n",
      "C:\\Users\\eacun\\AppData\\Local\\Temp\\ipykernel_11820\\1628313578.py:14: FutureWarning: The frame.append method is deprecated and will be removed from pandas in a future version. Use pandas.concat instead.\n",
      "  gaps_df = gaps_df.append({'From': begin_gap, 'To': end_gap, 'Duration': duration}, ignore_index=True)\n",
      "C:\\Users\\eacun\\AppData\\Local\\Temp\\ipykernel_11820\\1628313578.py:14: FutureWarning: The frame.append method is deprecated and will be removed from pandas in a future version. Use pandas.concat instead.\n",
      "  gaps_df = gaps_df.append({'From': begin_gap, 'To': end_gap, 'Duration': duration}, ignore_index=True)\n",
      "C:\\Users\\eacun\\AppData\\Local\\Temp\\ipykernel_11820\\1628313578.py:14: FutureWarning: The frame.append method is deprecated and will be removed from pandas in a future version. Use pandas.concat instead.\n",
      "  gaps_df = gaps_df.append({'From': begin_gap, 'To': end_gap, 'Duration': duration}, ignore_index=True)\n",
      "C:\\Users\\eacun\\AppData\\Local\\Temp\\ipykernel_11820\\1628313578.py:14: FutureWarning: The frame.append method is deprecated and will be removed from pandas in a future version. Use pandas.concat instead.\n",
      "  gaps_df = gaps_df.append({'From': begin_gap, 'To': end_gap, 'Duration': duration}, ignore_index=True)\n",
      "C:\\Users\\eacun\\AppData\\Local\\Temp\\ipykernel_11820\\1628313578.py:14: FutureWarning: The frame.append method is deprecated and will be removed from pandas in a future version. Use pandas.concat instead.\n",
      "  gaps_df = gaps_df.append({'From': begin_gap, 'To': end_gap, 'Duration': duration}, ignore_index=True)\n",
      "C:\\Users\\eacun\\AppData\\Local\\Temp\\ipykernel_11820\\1628313578.py:14: FutureWarning: The frame.append method is deprecated and will be removed from pandas in a future version. Use pandas.concat instead.\n",
      "  gaps_df = gaps_df.append({'From': begin_gap, 'To': end_gap, 'Duration': duration}, ignore_index=True)\n",
      "C:\\Users\\eacun\\AppData\\Local\\Temp\\ipykernel_11820\\1628313578.py:14: FutureWarning: The frame.append method is deprecated and will be removed from pandas in a future version. Use pandas.concat instead.\n",
      "  gaps_df = gaps_df.append({'From': begin_gap, 'To': end_gap, 'Duration': duration}, ignore_index=True)\n",
      "C:\\Users\\eacun\\AppData\\Local\\Temp\\ipykernel_11820\\1628313578.py:14: FutureWarning: The frame.append method is deprecated and will be removed from pandas in a future version. Use pandas.concat instead.\n",
      "  gaps_df = gaps_df.append({'From': begin_gap, 'To': end_gap, 'Duration': duration}, ignore_index=True)\n",
      "C:\\Users\\eacun\\AppData\\Local\\Temp\\ipykernel_11820\\1628313578.py:14: FutureWarning: The frame.append method is deprecated and will be removed from pandas in a future version. Use pandas.concat instead.\n",
      "  gaps_df = gaps_df.append({'From': begin_gap, 'To': end_gap, 'Duration': duration}, ignore_index=True)\n",
      "C:\\Users\\eacun\\AppData\\Local\\Temp\\ipykernel_11820\\1628313578.py:14: FutureWarning: The frame.append method is deprecated and will be removed from pandas in a future version. Use pandas.concat instead.\n",
      "  gaps_df = gaps_df.append({'From': begin_gap, 'To': end_gap, 'Duration': duration}, ignore_index=True)\n",
      "C:\\Users\\eacun\\AppData\\Local\\Temp\\ipykernel_11820\\1628313578.py:14: FutureWarning: The frame.append method is deprecated and will be removed from pandas in a future version. Use pandas.concat instead.\n",
      "  gaps_df = gaps_df.append({'From': begin_gap, 'To': end_gap, 'Duration': duration}, ignore_index=True)\n",
      "C:\\Users\\eacun\\AppData\\Local\\Temp\\ipykernel_11820\\1628313578.py:14: FutureWarning: The frame.append method is deprecated and will be removed from pandas in a future version. Use pandas.concat instead.\n",
      "  gaps_df = gaps_df.append({'From': begin_gap, 'To': end_gap, 'Duration': duration}, ignore_index=True)\n",
      "C:\\Users\\eacun\\AppData\\Local\\Temp\\ipykernel_11820\\1628313578.py:14: FutureWarning: The frame.append method is deprecated and will be removed from pandas in a future version. Use pandas.concat instead.\n",
      "  gaps_df = gaps_df.append({'From': begin_gap, 'To': end_gap, 'Duration': duration}, ignore_index=True)\n",
      "C:\\Users\\eacun\\AppData\\Local\\Temp\\ipykernel_11820\\1628313578.py:14: FutureWarning: The frame.append method is deprecated and will be removed from pandas in a future version. Use pandas.concat instead.\n",
      "  gaps_df = gaps_df.append({'From': begin_gap, 'To': end_gap, 'Duration': duration}, ignore_index=True)\n",
      "C:\\Users\\eacun\\AppData\\Local\\Temp\\ipykernel_11820\\1628313578.py:14: FutureWarning: The frame.append method is deprecated and will be removed from pandas in a future version. Use pandas.concat instead.\n",
      "  gaps_df = gaps_df.append({'From': begin_gap, 'To': end_gap, 'Duration': duration}, ignore_index=True)\n",
      "C:\\Users\\eacun\\AppData\\Local\\Temp\\ipykernel_11820\\1628313578.py:14: FutureWarning: The frame.append method is deprecated and will be removed from pandas in a future version. Use pandas.concat instead.\n",
      "  gaps_df = gaps_df.append({'From': begin_gap, 'To': end_gap, 'Duration': duration}, ignore_index=True)\n",
      "C:\\Users\\eacun\\AppData\\Local\\Temp\\ipykernel_11820\\1628313578.py:14: FutureWarning: The frame.append method is deprecated and will be removed from pandas in a future version. Use pandas.concat instead.\n",
      "  gaps_df = gaps_df.append({'From': begin_gap, 'To': end_gap, 'Duration': duration}, ignore_index=True)\n",
      "C:\\Users\\eacun\\AppData\\Local\\Temp\\ipykernel_11820\\1628313578.py:14: FutureWarning: The frame.append method is deprecated and will be removed from pandas in a future version. Use pandas.concat instead.\n",
      "  gaps_df = gaps_df.append({'From': begin_gap, 'To': end_gap, 'Duration': duration}, ignore_index=True)\n",
      "C:\\Users\\eacun\\AppData\\Local\\Temp\\ipykernel_11820\\1628313578.py:14: FutureWarning: The frame.append method is deprecated and will be removed from pandas in a future version. Use pandas.concat instead.\n",
      "  gaps_df = gaps_df.append({'From': begin_gap, 'To': end_gap, 'Duration': duration}, ignore_index=True)\n",
      "C:\\Users\\eacun\\AppData\\Local\\Temp\\ipykernel_11820\\1628313578.py:14: FutureWarning: The frame.append method is deprecated and will be removed from pandas in a future version. Use pandas.concat instead.\n",
      "  gaps_df = gaps_df.append({'From': begin_gap, 'To': end_gap, 'Duration': duration}, ignore_index=True)\n",
      "C:\\Users\\eacun\\AppData\\Local\\Temp\\ipykernel_11820\\1628313578.py:14: FutureWarning: The frame.append method is deprecated and will be removed from pandas in a future version. Use pandas.concat instead.\n",
      "  gaps_df = gaps_df.append({'From': begin_gap, 'To': end_gap, 'Duration': duration}, ignore_index=True)\n",
      "C:\\Users\\eacun\\AppData\\Local\\Temp\\ipykernel_11820\\1628313578.py:14: FutureWarning: The frame.append method is deprecated and will be removed from pandas in a future version. Use pandas.concat instead.\n",
      "  gaps_df = gaps_df.append({'From': begin_gap, 'To': end_gap, 'Duration': duration}, ignore_index=True)\n",
      "C:\\Users\\eacun\\AppData\\Local\\Temp\\ipykernel_11820\\1628313578.py:14: FutureWarning: The frame.append method is deprecated and will be removed from pandas in a future version. Use pandas.concat instead.\n",
      "  gaps_df = gaps_df.append({'From': begin_gap, 'To': end_gap, 'Duration': duration}, ignore_index=True)\n",
      "C:\\Users\\eacun\\AppData\\Local\\Temp\\ipykernel_11820\\1628313578.py:14: FutureWarning: The frame.append method is deprecated and will be removed from pandas in a future version. Use pandas.concat instead.\n",
      "  gaps_df = gaps_df.append({'From': begin_gap, 'To': end_gap, 'Duration': duration}, ignore_index=True)\n",
      "C:\\Users\\eacun\\AppData\\Local\\Temp\\ipykernel_11820\\1628313578.py:14: FutureWarning: The frame.append method is deprecated and will be removed from pandas in a future version. Use pandas.concat instead.\n",
      "  gaps_df = gaps_df.append({'From': begin_gap, 'To': end_gap, 'Duration': duration}, ignore_index=True)\n",
      "C:\\Users\\eacun\\AppData\\Local\\Temp\\ipykernel_11820\\1628313578.py:14: FutureWarning: The frame.append method is deprecated and will be removed from pandas in a future version. Use pandas.concat instead.\n",
      "  gaps_df = gaps_df.append({'From': begin_gap, 'To': end_gap, 'Duration': duration}, ignore_index=True)\n",
      "C:\\Users\\eacun\\AppData\\Local\\Temp\\ipykernel_11820\\1628313578.py:14: FutureWarning: The frame.append method is deprecated and will be removed from pandas in a future version. Use pandas.concat instead.\n",
      "  gaps_df = gaps_df.append({'From': begin_gap, 'To': end_gap, 'Duration': duration}, ignore_index=True)\n",
      "C:\\Users\\eacun\\AppData\\Local\\Temp\\ipykernel_11820\\1628313578.py:14: FutureWarning: The frame.append method is deprecated and will be removed from pandas in a future version. Use pandas.concat instead.\n",
      "  gaps_df = gaps_df.append({'From': begin_gap, 'To': end_gap, 'Duration': duration}, ignore_index=True)\n",
      "C:\\Users\\eacun\\AppData\\Local\\Temp\\ipykernel_11820\\1628313578.py:14: FutureWarning: The frame.append method is deprecated and will be removed from pandas in a future version. Use pandas.concat instead.\n",
      "  gaps_df = gaps_df.append({'From': begin_gap, 'To': end_gap, 'Duration': duration}, ignore_index=True)\n",
      "C:\\Users\\eacun\\AppData\\Local\\Temp\\ipykernel_11820\\1628313578.py:14: FutureWarning: The frame.append method is deprecated and will be removed from pandas in a future version. Use pandas.concat instead.\n",
      "  gaps_df = gaps_df.append({'From': begin_gap, 'To': end_gap, 'Duration': duration}, ignore_index=True)\n"
     ]
    },
    {
     "name": "stderr",
     "output_type": "stream",
     "text": [
      "C:\\Users\\eacun\\AppData\\Local\\Temp\\ipykernel_11820\\1628313578.py:14: FutureWarning: The frame.append method is deprecated and will be removed from pandas in a future version. Use pandas.concat instead.\n",
      "  gaps_df = gaps_df.append({'From': begin_gap, 'To': end_gap, 'Duration': duration}, ignore_index=True)\n",
      "C:\\Users\\eacun\\AppData\\Local\\Temp\\ipykernel_11820\\1628313578.py:14: FutureWarning: The frame.append method is deprecated and will be removed from pandas in a future version. Use pandas.concat instead.\n",
      "  gaps_df = gaps_df.append({'From': begin_gap, 'To': end_gap, 'Duration': duration}, ignore_index=True)\n",
      "C:\\Users\\eacun\\AppData\\Local\\Temp\\ipykernel_11820\\1628313578.py:14: FutureWarning: The frame.append method is deprecated and will be removed from pandas in a future version. Use pandas.concat instead.\n",
      "  gaps_df = gaps_df.append({'From': begin_gap, 'To': end_gap, 'Duration': duration}, ignore_index=True)\n",
      "C:\\Users\\eacun\\AppData\\Local\\Temp\\ipykernel_11820\\1628313578.py:14: FutureWarning: The frame.append method is deprecated and will be removed from pandas in a future version. Use pandas.concat instead.\n",
      "  gaps_df = gaps_df.append({'From': begin_gap, 'To': end_gap, 'Duration': duration}, ignore_index=True)\n",
      "C:\\Users\\eacun\\AppData\\Local\\Temp\\ipykernel_11820\\1628313578.py:14: FutureWarning: The frame.append method is deprecated and will be removed from pandas in a future version. Use pandas.concat instead.\n",
      "  gaps_df = gaps_df.append({'From': begin_gap, 'To': end_gap, 'Duration': duration}, ignore_index=True)\n",
      "C:\\Users\\eacun\\AppData\\Local\\Temp\\ipykernel_11820\\1628313578.py:14: FutureWarning: The frame.append method is deprecated and will be removed from pandas in a future version. Use pandas.concat instead.\n",
      "  gaps_df = gaps_df.append({'From': begin_gap, 'To': end_gap, 'Duration': duration}, ignore_index=True)\n",
      "C:\\Users\\eacun\\AppData\\Local\\Temp\\ipykernel_11820\\1628313578.py:14: FutureWarning: The frame.append method is deprecated and will be removed from pandas in a future version. Use pandas.concat instead.\n",
      "  gaps_df = gaps_df.append({'From': begin_gap, 'To': end_gap, 'Duration': duration}, ignore_index=True)\n",
      "C:\\Users\\eacun\\AppData\\Local\\Temp\\ipykernel_11820\\1628313578.py:14: FutureWarning: The frame.append method is deprecated and will be removed from pandas in a future version. Use pandas.concat instead.\n",
      "  gaps_df = gaps_df.append({'From': begin_gap, 'To': end_gap, 'Duration': duration}, ignore_index=True)\n",
      "C:\\Users\\eacun\\AppData\\Local\\Temp\\ipykernel_11820\\1628313578.py:14: FutureWarning: The frame.append method is deprecated and will be removed from pandas in a future version. Use pandas.concat instead.\n",
      "  gaps_df = gaps_df.append({'From': begin_gap, 'To': end_gap, 'Duration': duration}, ignore_index=True)\n",
      "C:\\Users\\eacun\\AppData\\Local\\Temp\\ipykernel_11820\\1628313578.py:14: FutureWarning: The frame.append method is deprecated and will be removed from pandas in a future version. Use pandas.concat instead.\n",
      "  gaps_df = gaps_df.append({'From': begin_gap, 'To': end_gap, 'Duration': duration}, ignore_index=True)\n",
      "C:\\Users\\eacun\\AppData\\Local\\Temp\\ipykernel_11820\\1628313578.py:14: FutureWarning: The frame.append method is deprecated and will be removed from pandas in a future version. Use pandas.concat instead.\n",
      "  gaps_df = gaps_df.append({'From': begin_gap, 'To': end_gap, 'Duration': duration}, ignore_index=True)\n",
      "C:\\Users\\eacun\\AppData\\Local\\Temp\\ipykernel_11820\\1628313578.py:14: FutureWarning: The frame.append method is deprecated and will be removed from pandas in a future version. Use pandas.concat instead.\n",
      "  gaps_df = gaps_df.append({'From': begin_gap, 'To': end_gap, 'Duration': duration}, ignore_index=True)\n",
      "C:\\Users\\eacun\\AppData\\Local\\Temp\\ipykernel_11820\\1628313578.py:14: FutureWarning: The frame.append method is deprecated and will be removed from pandas in a future version. Use pandas.concat instead.\n",
      "  gaps_df = gaps_df.append({'From': begin_gap, 'To': end_gap, 'Duration': duration}, ignore_index=True)\n",
      "C:\\Users\\eacun\\AppData\\Local\\Temp\\ipykernel_11820\\1628313578.py:14: FutureWarning: The frame.append method is deprecated and will be removed from pandas in a future version. Use pandas.concat instead.\n",
      "  gaps_df = gaps_df.append({'From': begin_gap, 'To': end_gap, 'Duration': duration}, ignore_index=True)\n",
      "C:\\Users\\eacun\\AppData\\Local\\Temp\\ipykernel_11820\\1628313578.py:14: FutureWarning: The frame.append method is deprecated and will be removed from pandas in a future version. Use pandas.concat instead.\n",
      "  gaps_df = gaps_df.append({'From': begin_gap, 'To': end_gap, 'Duration': duration}, ignore_index=True)\n",
      "C:\\Users\\eacun\\AppData\\Local\\Temp\\ipykernel_11820\\1628313578.py:14: FutureWarning: The frame.append method is deprecated and will be removed from pandas in a future version. Use pandas.concat instead.\n",
      "  gaps_df = gaps_df.append({'From': begin_gap, 'To': end_gap, 'Duration': duration}, ignore_index=True)\n",
      "C:\\Users\\eacun\\AppData\\Local\\Temp\\ipykernel_11820\\1628313578.py:14: FutureWarning: The frame.append method is deprecated and will be removed from pandas in a future version. Use pandas.concat instead.\n",
      "  gaps_df = gaps_df.append({'From': begin_gap, 'To': end_gap, 'Duration': duration}, ignore_index=True)\n",
      "C:\\Users\\eacun\\AppData\\Local\\Temp\\ipykernel_11820\\1628313578.py:14: FutureWarning: The frame.append method is deprecated and will be removed from pandas in a future version. Use pandas.concat instead.\n",
      "  gaps_df = gaps_df.append({'From': begin_gap, 'To': end_gap, 'Duration': duration}, ignore_index=True)\n",
      "C:\\Users\\eacun\\AppData\\Local\\Temp\\ipykernel_11820\\1628313578.py:14: FutureWarning: The frame.append method is deprecated and will be removed from pandas in a future version. Use pandas.concat instead.\n",
      "  gaps_df = gaps_df.append({'From': begin_gap, 'To': end_gap, 'Duration': duration}, ignore_index=True)\n",
      "C:\\Users\\eacun\\AppData\\Local\\Temp\\ipykernel_11820\\1628313578.py:14: FutureWarning: The frame.append method is deprecated and will be removed from pandas in a future version. Use pandas.concat instead.\n",
      "  gaps_df = gaps_df.append({'From': begin_gap, 'To': end_gap, 'Duration': duration}, ignore_index=True)\n",
      "C:\\Users\\eacun\\AppData\\Local\\Temp\\ipykernel_11820\\1628313578.py:14: FutureWarning: The frame.append method is deprecated and will be removed from pandas in a future version. Use pandas.concat instead.\n",
      "  gaps_df = gaps_df.append({'From': begin_gap, 'To': end_gap, 'Duration': duration}, ignore_index=True)\n",
      "C:\\Users\\eacun\\AppData\\Local\\Temp\\ipykernel_11820\\1628313578.py:14: FutureWarning: The frame.append method is deprecated and will be removed from pandas in a future version. Use pandas.concat instead.\n",
      "  gaps_df = gaps_df.append({'From': begin_gap, 'To': end_gap, 'Duration': duration}, ignore_index=True)\n",
      "C:\\Users\\eacun\\AppData\\Local\\Temp\\ipykernel_11820\\1628313578.py:14: FutureWarning: The frame.append method is deprecated and will be removed from pandas in a future version. Use pandas.concat instead.\n",
      "  gaps_df = gaps_df.append({'From': begin_gap, 'To': end_gap, 'Duration': duration}, ignore_index=True)\n",
      "C:\\Users\\eacun\\AppData\\Local\\Temp\\ipykernel_11820\\1628313578.py:14: FutureWarning: The frame.append method is deprecated and will be removed from pandas in a future version. Use pandas.concat instead.\n",
      "  gaps_df = gaps_df.append({'From': begin_gap, 'To': end_gap, 'Duration': duration}, ignore_index=True)\n",
      "C:\\Users\\eacun\\AppData\\Local\\Temp\\ipykernel_11820\\1628313578.py:14: FutureWarning: The frame.append method is deprecated and will be removed from pandas in a future version. Use pandas.concat instead.\n",
      "  gaps_df = gaps_df.append({'From': begin_gap, 'To': end_gap, 'Duration': duration}, ignore_index=True)\n",
      "C:\\Users\\eacun\\AppData\\Local\\Temp\\ipykernel_11820\\1628313578.py:14: FutureWarning: The frame.append method is deprecated and will be removed from pandas in a future version. Use pandas.concat instead.\n",
      "  gaps_df = gaps_df.append({'From': begin_gap, 'To': end_gap, 'Duration': duration}, ignore_index=True)\n",
      "C:\\Users\\eacun\\AppData\\Local\\Temp\\ipykernel_11820\\1628313578.py:14: FutureWarning: The frame.append method is deprecated and will be removed from pandas in a future version. Use pandas.concat instead.\n",
      "  gaps_df = gaps_df.append({'From': begin_gap, 'To': end_gap, 'Duration': duration}, ignore_index=True)\n",
      "C:\\Users\\eacun\\AppData\\Local\\Temp\\ipykernel_11820\\1628313578.py:14: FutureWarning: The frame.append method is deprecated and will be removed from pandas in a future version. Use pandas.concat instead.\n",
      "  gaps_df = gaps_df.append({'From': begin_gap, 'To': end_gap, 'Duration': duration}, ignore_index=True)\n"
     ]
    },
    {
     "name": "stderr",
     "output_type": "stream",
     "text": [
      "C:\\Users\\eacun\\AppData\\Local\\Temp\\ipykernel_11820\\1628313578.py:14: FutureWarning: The frame.append method is deprecated and will be removed from pandas in a future version. Use pandas.concat instead.\n",
      "  gaps_df = gaps_df.append({'From': begin_gap, 'To': end_gap, 'Duration': duration}, ignore_index=True)\n",
      "C:\\Users\\eacun\\AppData\\Local\\Temp\\ipykernel_11820\\1628313578.py:14: FutureWarning: The frame.append method is deprecated and will be removed from pandas in a future version. Use pandas.concat instead.\n",
      "  gaps_df = gaps_df.append({'From': begin_gap, 'To': end_gap, 'Duration': duration}, ignore_index=True)\n",
      "C:\\Users\\eacun\\AppData\\Local\\Temp\\ipykernel_11820\\1628313578.py:14: FutureWarning: The frame.append method is deprecated and will be removed from pandas in a future version. Use pandas.concat instead.\n",
      "  gaps_df = gaps_df.append({'From': begin_gap, 'To': end_gap, 'Duration': duration}, ignore_index=True)\n",
      "C:\\Users\\eacun\\AppData\\Local\\Temp\\ipykernel_11820\\1628313578.py:14: FutureWarning: The frame.append method is deprecated and will be removed from pandas in a future version. Use pandas.concat instead.\n",
      "  gaps_df = gaps_df.append({'From': begin_gap, 'To': end_gap, 'Duration': duration}, ignore_index=True)\n",
      "C:\\Users\\eacun\\AppData\\Local\\Temp\\ipykernel_11820\\1628313578.py:14: FutureWarning: The frame.append method is deprecated and will be removed from pandas in a future version. Use pandas.concat instead.\n",
      "  gaps_df = gaps_df.append({'From': begin_gap, 'To': end_gap, 'Duration': duration}, ignore_index=True)\n",
      "C:\\Users\\eacun\\AppData\\Local\\Temp\\ipykernel_11820\\1628313578.py:14: FutureWarning: The frame.append method is deprecated and will be removed from pandas in a future version. Use pandas.concat instead.\n",
      "  gaps_df = gaps_df.append({'From': begin_gap, 'To': end_gap, 'Duration': duration}, ignore_index=True)\n",
      "C:\\Users\\eacun\\AppData\\Local\\Temp\\ipykernel_11820\\1628313578.py:14: FutureWarning: The frame.append method is deprecated and will be removed from pandas in a future version. Use pandas.concat instead.\n",
      "  gaps_df = gaps_df.append({'From': begin_gap, 'To': end_gap, 'Duration': duration}, ignore_index=True)\n",
      "C:\\Users\\eacun\\AppData\\Local\\Temp\\ipykernel_11820\\1628313578.py:14: FutureWarning: The frame.append method is deprecated and will be removed from pandas in a future version. Use pandas.concat instead.\n",
      "  gaps_df = gaps_df.append({'From': begin_gap, 'To': end_gap, 'Duration': duration}, ignore_index=True)\n",
      "C:\\Users\\eacun\\AppData\\Local\\Temp\\ipykernel_11820\\1628313578.py:14: FutureWarning: The frame.append method is deprecated and will be removed from pandas in a future version. Use pandas.concat instead.\n",
      "  gaps_df = gaps_df.append({'From': begin_gap, 'To': end_gap, 'Duration': duration}, ignore_index=True)\n",
      "C:\\Users\\eacun\\AppData\\Local\\Temp\\ipykernel_11820\\1628313578.py:14: FutureWarning: The frame.append method is deprecated and will be removed from pandas in a future version. Use pandas.concat instead.\n",
      "  gaps_df = gaps_df.append({'From': begin_gap, 'To': end_gap, 'Duration': duration}, ignore_index=True)\n",
      "C:\\Users\\eacun\\AppData\\Local\\Temp\\ipykernel_11820\\1628313578.py:14: FutureWarning: The frame.append method is deprecated and will be removed from pandas in a future version. Use pandas.concat instead.\n",
      "  gaps_df = gaps_df.append({'From': begin_gap, 'To': end_gap, 'Duration': duration}, ignore_index=True)\n",
      "C:\\Users\\eacun\\AppData\\Local\\Temp\\ipykernel_11820\\1628313578.py:14: FutureWarning: The frame.append method is deprecated and will be removed from pandas in a future version. Use pandas.concat instead.\n",
      "  gaps_df = gaps_df.append({'From': begin_gap, 'To': end_gap, 'Duration': duration}, ignore_index=True)\n",
      "C:\\Users\\eacun\\AppData\\Local\\Temp\\ipykernel_11820\\1628313578.py:14: FutureWarning: The frame.append method is deprecated and will be removed from pandas in a future version. Use pandas.concat instead.\n",
      "  gaps_df = gaps_df.append({'From': begin_gap, 'To': end_gap, 'Duration': duration}, ignore_index=True)\n",
      "C:\\Users\\eacun\\AppData\\Local\\Temp\\ipykernel_11820\\1628313578.py:14: FutureWarning: The frame.append method is deprecated and will be removed from pandas in a future version. Use pandas.concat instead.\n",
      "  gaps_df = gaps_df.append({'From': begin_gap, 'To': end_gap, 'Duration': duration}, ignore_index=True)\n",
      "C:\\Users\\eacun\\AppData\\Local\\Temp\\ipykernel_11820\\1628313578.py:14: FutureWarning: The frame.append method is deprecated and will be removed from pandas in a future version. Use pandas.concat instead.\n",
      "  gaps_df = gaps_df.append({'From': begin_gap, 'To': end_gap, 'Duration': duration}, ignore_index=True)\n",
      "C:\\Users\\eacun\\AppData\\Local\\Temp\\ipykernel_11820\\1628313578.py:14: FutureWarning: The frame.append method is deprecated and will be removed from pandas in a future version. Use pandas.concat instead.\n",
      "  gaps_df = gaps_df.append({'From': begin_gap, 'To': end_gap, 'Duration': duration}, ignore_index=True)\n",
      "C:\\Users\\eacun\\AppData\\Local\\Temp\\ipykernel_11820\\1628313578.py:14: FutureWarning: The frame.append method is deprecated and will be removed from pandas in a future version. Use pandas.concat instead.\n",
      "  gaps_df = gaps_df.append({'From': begin_gap, 'To': end_gap, 'Duration': duration}, ignore_index=True)\n",
      "C:\\Users\\eacun\\AppData\\Local\\Temp\\ipykernel_11820\\1628313578.py:14: FutureWarning: The frame.append method is deprecated and will be removed from pandas in a future version. Use pandas.concat instead.\n",
      "  gaps_df = gaps_df.append({'From': begin_gap, 'To': end_gap, 'Duration': duration}, ignore_index=True)\n",
      "C:\\Users\\eacun\\AppData\\Local\\Temp\\ipykernel_11820\\1628313578.py:14: FutureWarning: The frame.append method is deprecated and will be removed from pandas in a future version. Use pandas.concat instead.\n",
      "  gaps_df = gaps_df.append({'From': begin_gap, 'To': end_gap, 'Duration': duration}, ignore_index=True)\n",
      "C:\\Users\\eacun\\AppData\\Local\\Temp\\ipykernel_11820\\1628313578.py:14: FutureWarning: The frame.append method is deprecated and will be removed from pandas in a future version. Use pandas.concat instead.\n",
      "  gaps_df = gaps_df.append({'From': begin_gap, 'To': end_gap, 'Duration': duration}, ignore_index=True)\n"
     ]
    }
   ],
   "source": [
    "# All gaps \n",
    "gaps_df = find_gaps(glucose_train)\n",
    "#print(gaps_df)"
   ]
  },
  {
   "cell_type": "code",
   "execution_count": 1466,
   "metadata": {},
   "outputs": [
    {
     "data": {
      "text/html": [
       "<div>\n",
       "<style scoped>\n",
       "    .dataframe tbody tr th:only-of-type {\n",
       "        vertical-align: middle;\n",
       "    }\n",
       "\n",
       "    .dataframe tbody tr th {\n",
       "        vertical-align: top;\n",
       "    }\n",
       "\n",
       "    .dataframe thead th {\n",
       "        text-align: right;\n",
       "    }\n",
       "</style>\n",
       "<table border=\"1\" class=\"dataframe\">\n",
       "  <thead>\n",
       "    <tr style=\"text-align: right;\">\n",
       "      <th></th>\n",
       "      <th>glucose</th>\n",
       "    </tr>\n",
       "    <tr>\n",
       "      <th>ts</th>\n",
       "      <th></th>\n",
       "    </tr>\n",
       "  </thead>\n",
       "  <tbody>\n",
       "    <tr>\n",
       "      <th>2027-05-19 11:35:00</th>\n",
       "      <td>76.0</td>\n",
       "    </tr>\n",
       "    <tr>\n",
       "      <th>2027-05-19 11:40:00</th>\n",
       "      <td>72.0</td>\n",
       "    </tr>\n",
       "    <tr>\n",
       "      <th>2027-05-19 11:45:00</th>\n",
       "      <td>68.0</td>\n",
       "    </tr>\n",
       "    <tr>\n",
       "      <th>2027-05-19 11:50:00</th>\n",
       "      <td>65.0</td>\n",
       "    </tr>\n",
       "    <tr>\n",
       "      <th>2027-05-19 11:55:00</th>\n",
       "      <td>63.0</td>\n",
       "    </tr>\n",
       "  </tbody>\n",
       "</table>\n",
       "</div>"
      ],
      "text/plain": [
       "                     glucose\n",
       "ts                          \n",
       "2027-05-19 11:35:00     76.0\n",
       "2027-05-19 11:40:00     72.0\n",
       "2027-05-19 11:45:00     68.0\n",
       "2027-05-19 11:50:00     65.0\n",
       "2027-05-19 11:55:00     63.0"
      ]
     },
     "execution_count": 1466,
     "metadata": {},
     "output_type": "execute_result"
    }
   ],
   "source": [
    "#Adding NA in the whole range of cgm-training\n",
    "glucose_train=glucose_train.resample('5T').mean()\n",
    "glucose_train.head()"
   ]
  },
  {
   "cell_type": "code",
   "execution_count": 1467,
   "metadata": {},
   "outputs": [],
   "source": [
    "#cgmtrainclean= cgmtrainmiss.interpolate(method=\"linear\")\n",
    "#cgmtrainclean.head()\n",
    "#missing_minutes =list(df2sp2[df2sp2['glucose'].isna()].index)\n",
    "#missing_minutes\n",
    "#cgmtrainclean.describe()"
   ]
  },
  {
   "cell_type": "code",
   "execution_count": 1468,
   "metadata": {},
   "outputs": [],
   "source": [
    "#import rpy2\n",
    "#import rpy2.rinterface\n",
    "#%load_ext rpy2.ipython\n",
    "#import rpy2.robjects as robjects\n",
    "#from rpy2.robjects.packages import importr\n",
    "#splines = importr('splines') \n",
    "#x_train=np.arange(len(cgmtrainclean))\n",
    "#y_train=cgmtrainclean['glucose']\n",
    "#r_y = robjects.FloatVector(y_train)\n",
    "#r_x = robjects.FloatVector(x_train)\n",
    "#r_smooth_spline = robjects.r['smooth.spline'] #extract R function# run smoothing function\n",
    "#spline1 = r_smooth_spline(x=r_x,y=r_y, spar=.01)\n",
    "#ySpline=np.array(robjects.r['predict'](spline1,robjects.FloatVector(x_train)).rx2('y'))\n",
    "#print(ySpline)\n",
    "#plt.figure(figsize=(12,6))\n",
    "#plt.scatter(x_train,y_train,c=\"blue\")\n",
    "#plt.plot(x_train,ySpline,c='red')"
   ]
  },
  {
   "cell_type": "markdown",
   "metadata": {},
   "source": [
    "## Reading testing data"
   ]
  },
  {
   "cell_type": "code",
   "execution_count": 1469,
   "metadata": {},
   "outputs": [],
   "source": [
    "#selected_items = ['glucose_level',\"bolus','meal']\n",
    "read_xml_data(filename='c://aadm/540-ws-testing.xml', selected_items=['glucose_level','bolus','meal'])"
   ]
  },
  {
   "cell_type": "code",
   "execution_count": 1470,
   "metadata": {},
   "outputs": [],
   "source": [
    "glucose_test = read_ts_file('glucose_level.csv')\n",
    "glucose_test.rename(columns={\"ts\": \"timestamp\", \"value\": \"glucose\"}, inplace=True)\n",
    "max=glucose_test.max()\n",
    "min=glucose_test.min()"
   ]
  },
  {
   "cell_type": "code",
   "execution_count": 1471,
   "metadata": {},
   "outputs": [
    {
     "name": "stdout",
     "output_type": "stream",
     "text": [
      "Missing intervals:  170\n"
     ]
    }
   ],
   "source": [
    "#Finding the length of the complete time series\n",
    "time_df = timedf(glucose_test)\n",
    "print('Missing intervals: ', len(time_df) - len(glucose_test) )"
   ]
  },
  {
   "cell_type": "code",
   "execution_count": 1472,
   "metadata": {},
   "outputs": [
    {
     "name": "stderr",
     "output_type": "stream",
     "text": [
      "C:\\Users\\eacun\\AppData\\Local\\Temp\\ipykernel_11820\\1628313578.py:14: FutureWarning: The frame.append method is deprecated and will be removed from pandas in a future version. Use pandas.concat instead.\n",
      "  gaps_df = gaps_df.append({'From': begin_gap, 'To': end_gap, 'Duration': duration}, ignore_index=True)\n",
      "C:\\Users\\eacun\\AppData\\Local\\Temp\\ipykernel_11820\\1628313578.py:14: FutureWarning: The frame.append method is deprecated and will be removed from pandas in a future version. Use pandas.concat instead.\n",
      "  gaps_df = gaps_df.append({'From': begin_gap, 'To': end_gap, 'Duration': duration}, ignore_index=True)\n",
      "C:\\Users\\eacun\\AppData\\Local\\Temp\\ipykernel_11820\\1628313578.py:14: FutureWarning: The frame.append method is deprecated and will be removed from pandas in a future version. Use pandas.concat instead.\n",
      "  gaps_df = gaps_df.append({'From': begin_gap, 'To': end_gap, 'Duration': duration}, ignore_index=True)\n",
      "C:\\Users\\eacun\\AppData\\Local\\Temp\\ipykernel_11820\\1628313578.py:14: FutureWarning: The frame.append method is deprecated and will be removed from pandas in a future version. Use pandas.concat instead.\n",
      "  gaps_df = gaps_df.append({'From': begin_gap, 'To': end_gap, 'Duration': duration}, ignore_index=True)\n",
      "C:\\Users\\eacun\\AppData\\Local\\Temp\\ipykernel_11820\\1628313578.py:14: FutureWarning: The frame.append method is deprecated and will be removed from pandas in a future version. Use pandas.concat instead.\n",
      "  gaps_df = gaps_df.append({'From': begin_gap, 'To': end_gap, 'Duration': duration}, ignore_index=True)\n",
      "C:\\Users\\eacun\\AppData\\Local\\Temp\\ipykernel_11820\\1628313578.py:14: FutureWarning: The frame.append method is deprecated and will be removed from pandas in a future version. Use pandas.concat instead.\n",
      "  gaps_df = gaps_df.append({'From': begin_gap, 'To': end_gap, 'Duration': duration}, ignore_index=True)\n",
      "C:\\Users\\eacun\\AppData\\Local\\Temp\\ipykernel_11820\\1628313578.py:14: FutureWarning: The frame.append method is deprecated and will be removed from pandas in a future version. Use pandas.concat instead.\n",
      "  gaps_df = gaps_df.append({'From': begin_gap, 'To': end_gap, 'Duration': duration}, ignore_index=True)\n",
      "C:\\Users\\eacun\\AppData\\Local\\Temp\\ipykernel_11820\\1628313578.py:14: FutureWarning: The frame.append method is deprecated and will be removed from pandas in a future version. Use pandas.concat instead.\n",
      "  gaps_df = gaps_df.append({'From': begin_gap, 'To': end_gap, 'Duration': duration}, ignore_index=True)\n",
      "C:\\Users\\eacun\\AppData\\Local\\Temp\\ipykernel_11820\\1628313578.py:14: FutureWarning: The frame.append method is deprecated and will be removed from pandas in a future version. Use pandas.concat instead.\n",
      "  gaps_df = gaps_df.append({'From': begin_gap, 'To': end_gap, 'Duration': duration}, ignore_index=True)\n",
      "C:\\Users\\eacun\\AppData\\Local\\Temp\\ipykernel_11820\\1628313578.py:14: FutureWarning: The frame.append method is deprecated and will be removed from pandas in a future version. Use pandas.concat instead.\n",
      "  gaps_df = gaps_df.append({'From': begin_gap, 'To': end_gap, 'Duration': duration}, ignore_index=True)\n",
      "C:\\Users\\eacun\\AppData\\Local\\Temp\\ipykernel_11820\\1628313578.py:14: FutureWarning: The frame.append method is deprecated and will be removed from pandas in a future version. Use pandas.concat instead.\n",
      "  gaps_df = gaps_df.append({'From': begin_gap, 'To': end_gap, 'Duration': duration}, ignore_index=True)\n",
      "C:\\Users\\eacun\\AppData\\Local\\Temp\\ipykernel_11820\\1628313578.py:14: FutureWarning: The frame.append method is deprecated and will be removed from pandas in a future version. Use pandas.concat instead.\n",
      "  gaps_df = gaps_df.append({'From': begin_gap, 'To': end_gap, 'Duration': duration}, ignore_index=True)\n",
      "C:\\Users\\eacun\\AppData\\Local\\Temp\\ipykernel_11820\\1628313578.py:14: FutureWarning: The frame.append method is deprecated and will be removed from pandas in a future version. Use pandas.concat instead.\n",
      "  gaps_df = gaps_df.append({'From': begin_gap, 'To': end_gap, 'Duration': duration}, ignore_index=True)\n",
      "C:\\Users\\eacun\\AppData\\Local\\Temp\\ipykernel_11820\\1628313578.py:14: FutureWarning: The frame.append method is deprecated and will be removed from pandas in a future version. Use pandas.concat instead.\n",
      "  gaps_df = gaps_df.append({'From': begin_gap, 'To': end_gap, 'Duration': duration}, ignore_index=True)\n",
      "C:\\Users\\eacun\\AppData\\Local\\Temp\\ipykernel_11820\\1628313578.py:14: FutureWarning: The frame.append method is deprecated and will be removed from pandas in a future version. Use pandas.concat instead.\n",
      "  gaps_df = gaps_df.append({'From': begin_gap, 'To': end_gap, 'Duration': duration}, ignore_index=True)\n",
      "C:\\Users\\eacun\\AppData\\Local\\Temp\\ipykernel_11820\\1628313578.py:14: FutureWarning: The frame.append method is deprecated and will be removed from pandas in a future version. Use pandas.concat instead.\n",
      "  gaps_df = gaps_df.append({'From': begin_gap, 'To': end_gap, 'Duration': duration}, ignore_index=True)\n",
      "C:\\Users\\eacun\\AppData\\Local\\Temp\\ipykernel_11820\\1628313578.py:14: FutureWarning: The frame.append method is deprecated and will be removed from pandas in a future version. Use pandas.concat instead.\n",
      "  gaps_df = gaps_df.append({'From': begin_gap, 'To': end_gap, 'Duration': duration}, ignore_index=True)\n",
      "C:\\Users\\eacun\\AppData\\Local\\Temp\\ipykernel_11820\\1628313578.py:14: FutureWarning: The frame.append method is deprecated and will be removed from pandas in a future version. Use pandas.concat instead.\n",
      "  gaps_df = gaps_df.append({'From': begin_gap, 'To': end_gap, 'Duration': duration}, ignore_index=True)\n",
      "C:\\Users\\eacun\\AppData\\Local\\Temp\\ipykernel_11820\\1628313578.py:14: FutureWarning: The frame.append method is deprecated and will be removed from pandas in a future version. Use pandas.concat instead.\n",
      "  gaps_df = gaps_df.append({'From': begin_gap, 'To': end_gap, 'Duration': duration}, ignore_index=True)\n",
      "C:\\Users\\eacun\\AppData\\Local\\Temp\\ipykernel_11820\\1628313578.py:14: FutureWarning: The frame.append method is deprecated and will be removed from pandas in a future version. Use pandas.concat instead.\n",
      "  gaps_df = gaps_df.append({'From': begin_gap, 'To': end_gap, 'Duration': duration}, ignore_index=True)\n",
      "C:\\Users\\eacun\\AppData\\Local\\Temp\\ipykernel_11820\\1628313578.py:14: FutureWarning: The frame.append method is deprecated and will be removed from pandas in a future version. Use pandas.concat instead.\n",
      "  gaps_df = gaps_df.append({'From': begin_gap, 'To': end_gap, 'Duration': duration}, ignore_index=True)\n",
      "C:\\Users\\eacun\\AppData\\Local\\Temp\\ipykernel_11820\\1628313578.py:14: FutureWarning: The frame.append method is deprecated and will be removed from pandas in a future version. Use pandas.concat instead.\n",
      "  gaps_df = gaps_df.append({'From': begin_gap, 'To': end_gap, 'Duration': duration}, ignore_index=True)\n",
      "C:\\Users\\eacun\\AppData\\Local\\Temp\\ipykernel_11820\\1628313578.py:14: FutureWarning: The frame.append method is deprecated and will be removed from pandas in a future version. Use pandas.concat instead.\n",
      "  gaps_df = gaps_df.append({'From': begin_gap, 'To': end_gap, 'Duration': duration}, ignore_index=True)\n",
      "C:\\Users\\eacun\\AppData\\Local\\Temp\\ipykernel_11820\\1628313578.py:14: FutureWarning: The frame.append method is deprecated and will be removed from pandas in a future version. Use pandas.concat instead.\n",
      "  gaps_df = gaps_df.append({'From': begin_gap, 'To': end_gap, 'Duration': duration}, ignore_index=True)\n",
      "C:\\Users\\eacun\\AppData\\Local\\Temp\\ipykernel_11820\\1628313578.py:14: FutureWarning: The frame.append method is deprecated and will be removed from pandas in a future version. Use pandas.concat instead.\n",
      "  gaps_df = gaps_df.append({'From': begin_gap, 'To': end_gap, 'Duration': duration}, ignore_index=True)\n",
      "C:\\Users\\eacun\\AppData\\Local\\Temp\\ipykernel_11820\\1628313578.py:14: FutureWarning: The frame.append method is deprecated and will be removed from pandas in a future version. Use pandas.concat instead.\n",
      "  gaps_df = gaps_df.append({'From': begin_gap, 'To': end_gap, 'Duration': duration}, ignore_index=True)\n",
      "C:\\Users\\eacun\\AppData\\Local\\Temp\\ipykernel_11820\\1628313578.py:14: FutureWarning: The frame.append method is deprecated and will be removed from pandas in a future version. Use pandas.concat instead.\n",
      "  gaps_df = gaps_df.append({'From': begin_gap, 'To': end_gap, 'Duration': duration}, ignore_index=True)\n",
      "C:\\Users\\eacun\\AppData\\Local\\Temp\\ipykernel_11820\\1628313578.py:14: FutureWarning: The frame.append method is deprecated and will be removed from pandas in a future version. Use pandas.concat instead.\n",
      "  gaps_df = gaps_df.append({'From': begin_gap, 'To': end_gap, 'Duration': duration}, ignore_index=True)\n",
      "C:\\Users\\eacun\\AppData\\Local\\Temp\\ipykernel_11820\\1628313578.py:14: FutureWarning: The frame.append method is deprecated and will be removed from pandas in a future version. Use pandas.concat instead.\n",
      "  gaps_df = gaps_df.append({'From': begin_gap, 'To': end_gap, 'Duration': duration}, ignore_index=True)\n",
      "C:\\Users\\eacun\\AppData\\Local\\Temp\\ipykernel_11820\\1628313578.py:14: FutureWarning: The frame.append method is deprecated and will be removed from pandas in a future version. Use pandas.concat instead.\n",
      "  gaps_df = gaps_df.append({'From': begin_gap, 'To': end_gap, 'Duration': duration}, ignore_index=True)\n"
     ]
    },
    {
     "name": "stderr",
     "output_type": "stream",
     "text": [
      "C:\\Users\\eacun\\AppData\\Local\\Temp\\ipykernel_11820\\1628313578.py:14: FutureWarning: The frame.append method is deprecated and will be removed from pandas in a future version. Use pandas.concat instead.\n",
      "  gaps_df = gaps_df.append({'From': begin_gap, 'To': end_gap, 'Duration': duration}, ignore_index=True)\n",
      "C:\\Users\\eacun\\AppData\\Local\\Temp\\ipykernel_11820\\1628313578.py:14: FutureWarning: The frame.append method is deprecated and will be removed from pandas in a future version. Use pandas.concat instead.\n",
      "  gaps_df = gaps_df.append({'From': begin_gap, 'To': end_gap, 'Duration': duration}, ignore_index=True)\n",
      "C:\\Users\\eacun\\AppData\\Local\\Temp\\ipykernel_11820\\1628313578.py:14: FutureWarning: The frame.append method is deprecated and will be removed from pandas in a future version. Use pandas.concat instead.\n",
      "  gaps_df = gaps_df.append({'From': begin_gap, 'To': end_gap, 'Duration': duration}, ignore_index=True)\n",
      "C:\\Users\\eacun\\AppData\\Local\\Temp\\ipykernel_11820\\1628313578.py:14: FutureWarning: The frame.append method is deprecated and will be removed from pandas in a future version. Use pandas.concat instead.\n",
      "  gaps_df = gaps_df.append({'From': begin_gap, 'To': end_gap, 'Duration': duration}, ignore_index=True)\n",
      "C:\\Users\\eacun\\AppData\\Local\\Temp\\ipykernel_11820\\1628313578.py:14: FutureWarning: The frame.append method is deprecated and will be removed from pandas in a future version. Use pandas.concat instead.\n",
      "  gaps_df = gaps_df.append({'From': begin_gap, 'To': end_gap, 'Duration': duration}, ignore_index=True)\n",
      "C:\\Users\\eacun\\AppData\\Local\\Temp\\ipykernel_11820\\1628313578.py:14: FutureWarning: The frame.append method is deprecated and will be removed from pandas in a future version. Use pandas.concat instead.\n",
      "  gaps_df = gaps_df.append({'From': begin_gap, 'To': end_gap, 'Duration': duration}, ignore_index=True)\n",
      "C:\\Users\\eacun\\AppData\\Local\\Temp\\ipykernel_11820\\1628313578.py:14: FutureWarning: The frame.append method is deprecated and will be removed from pandas in a future version. Use pandas.concat instead.\n",
      "  gaps_df = gaps_df.append({'From': begin_gap, 'To': end_gap, 'Duration': duration}, ignore_index=True)\n",
      "C:\\Users\\eacun\\AppData\\Local\\Temp\\ipykernel_11820\\1628313578.py:14: FutureWarning: The frame.append method is deprecated and will be removed from pandas in a future version. Use pandas.concat instead.\n",
      "  gaps_df = gaps_df.append({'From': begin_gap, 'To': end_gap, 'Duration': duration}, ignore_index=True)\n",
      "C:\\Users\\eacun\\AppData\\Local\\Temp\\ipykernel_11820\\1628313578.py:14: FutureWarning: The frame.append method is deprecated and will be removed from pandas in a future version. Use pandas.concat instead.\n",
      "  gaps_df = gaps_df.append({'From': begin_gap, 'To': end_gap, 'Duration': duration}, ignore_index=True)\n",
      "C:\\Users\\eacun\\AppData\\Local\\Temp\\ipykernel_11820\\1628313578.py:14: FutureWarning: The frame.append method is deprecated and will be removed from pandas in a future version. Use pandas.concat instead.\n",
      "  gaps_df = gaps_df.append({'From': begin_gap, 'To': end_gap, 'Duration': duration}, ignore_index=True)\n",
      "C:\\Users\\eacun\\AppData\\Local\\Temp\\ipykernel_11820\\1628313578.py:14: FutureWarning: The frame.append method is deprecated and will be removed from pandas in a future version. Use pandas.concat instead.\n",
      "  gaps_df = gaps_df.append({'From': begin_gap, 'To': end_gap, 'Duration': duration}, ignore_index=True)\n",
      "C:\\Users\\eacun\\AppData\\Local\\Temp\\ipykernel_11820\\1628313578.py:14: FutureWarning: The frame.append method is deprecated and will be removed from pandas in a future version. Use pandas.concat instead.\n",
      "  gaps_df = gaps_df.append({'From': begin_gap, 'To': end_gap, 'Duration': duration}, ignore_index=True)\n",
      "C:\\Users\\eacun\\AppData\\Local\\Temp\\ipykernel_11820\\1628313578.py:14: FutureWarning: The frame.append method is deprecated and will be removed from pandas in a future version. Use pandas.concat instead.\n",
      "  gaps_df = gaps_df.append({'From': begin_gap, 'To': end_gap, 'Duration': duration}, ignore_index=True)\n",
      "C:\\Users\\eacun\\AppData\\Local\\Temp\\ipykernel_11820\\1628313578.py:14: FutureWarning: The frame.append method is deprecated and will be removed from pandas in a future version. Use pandas.concat instead.\n",
      "  gaps_df = gaps_df.append({'From': begin_gap, 'To': end_gap, 'Duration': duration}, ignore_index=True)\n"
     ]
    }
   ],
   "source": [
    "# All gaps \n",
    "gaps_df = find_gaps(glucose_test)\n",
    "#print(gaps_df)"
   ]
  },
  {
   "cell_type": "code",
   "execution_count": 1473,
   "metadata": {},
   "outputs": [
    {
     "data": {
      "text/html": [
       "<div>\n",
       "<style scoped>\n",
       "    .dataframe tbody tr th:only-of-type {\n",
       "        vertical-align: middle;\n",
       "    }\n",
       "\n",
       "    .dataframe tbody tr th {\n",
       "        vertical-align: top;\n",
       "    }\n",
       "\n",
       "    .dataframe thead th {\n",
       "        text-align: right;\n",
       "    }\n",
       "</style>\n",
       "<table border=\"1\" class=\"dataframe\">\n",
       "  <thead>\n",
       "    <tr style=\"text-align: right;\">\n",
       "      <th></th>\n",
       "      <th>glucose</th>\n",
       "    </tr>\n",
       "    <tr>\n",
       "      <th>ts</th>\n",
       "      <th></th>\n",
       "    </tr>\n",
       "  </thead>\n",
       "  <tbody>\n",
       "    <tr>\n",
       "      <th>2027-07-04 00:00:00</th>\n",
       "      <td>254.0</td>\n",
       "    </tr>\n",
       "    <tr>\n",
       "      <th>2027-07-04 00:05:00</th>\n",
       "      <td>250.0</td>\n",
       "    </tr>\n",
       "    <tr>\n",
       "      <th>2027-07-04 00:10:00</th>\n",
       "      <td>249.0</td>\n",
       "    </tr>\n",
       "    <tr>\n",
       "      <th>2027-07-04 00:15:00</th>\n",
       "      <td>247.0</td>\n",
       "    </tr>\n",
       "    <tr>\n",
       "      <th>2027-07-04 00:20:00</th>\n",
       "      <td>242.0</td>\n",
       "    </tr>\n",
       "  </tbody>\n",
       "</table>\n",
       "</div>"
      ],
      "text/plain": [
       "                     glucose\n",
       "ts                          \n",
       "2027-07-04 00:00:00    254.0\n",
       "2027-07-04 00:05:00    250.0\n",
       "2027-07-04 00:10:00    249.0\n",
       "2027-07-04 00:15:00    247.0\n",
       "2027-07-04 00:20:00    242.0"
      ]
     },
     "execution_count": 1473,
     "metadata": {},
     "output_type": "execute_result"
    }
   ],
   "source": [
    "#Adding NA in the whole range of cgm-testing\n",
    "glucose_test=glucose_test.resample('5T').mean()\n",
    "glucose_test.head()"
   ]
  },
  {
   "cell_type": "code",
   "execution_count": 1474,
   "metadata": {},
   "outputs": [
    {
     "name": "stdout",
     "output_type": "stream",
     "text": [
      "glucose    400\n",
      "dtype: int64 glucose    49\n",
      "dtype: int64\n"
     ]
    }
   ],
   "source": [
    "#Normalizing the data\n",
    "from sklearn.preprocessing import MinMaxScaler\n",
    "from sklearn.metrics import mean_squared_error\n",
    "datatrain = np.array(glucose_train.values.astype('float32'))\n",
    "datatest = np.array(glucose_test.values.astype('float32'))\n",
    "scaler = MinMaxScaler(feature_range=(0, 1))\n",
    "datatrain = scaler.fit_transform(datatrain).flatten()\n",
    "datatest = scaler.fit_transform(datatest).flatten()\n",
    "#n = len(data)\n",
    "train_data=pd.DataFrame(datatrain)\n",
    "test_data=pd.DataFrame(datatest)\n",
    "print(max,min)"
   ]
  },
  {
   "cell_type": "code",
   "execution_count": 1475,
   "metadata": {},
   "outputs": [
    {
     "name": "stdout",
     "output_type": "stream",
     "text": [
      "(13109, 1)\n",
      "(3066, 1)\n"
     ]
    }
   ],
   "source": [
    "print(train_data.shape)\n",
    "print(test_data.shape)"
   ]
  },
  {
   "cell_type": "code",
   "execution_count": 1476,
   "metadata": {},
   "outputs": [],
   "source": [
    "# convert time series into supervised learning problem\n",
    "def series_to_supervised(data, n_in=1, n_out=1, dropnan=True):\n",
    "    n_vars=1 if type(data) is list else data.shape[1]\n",
    "    df = pd.DataFrame(data)\n",
    "    cols, names = list(), list()\n",
    "    # input sequence (t-n, ... t-1)\n",
    "    for i in range(n_in, 0, -1):\n",
    "        cols.append(df.shift(i))\n",
    "        names += [('var%d(t-%d)' % (j+1, i)) for j in range(n_vars)]\n",
    "    # forecast sequence (t, t+1, ... t+n)\n",
    "    for i in range(0, n_out):\n",
    "        cols.append(df.shift(-i))\n",
    "        if i == 0:\n",
    "            names += [('var%d(t)' % (j+1)) for j in range(n_vars)]\n",
    "        else:\n",
    "            names += [('var%d(t+%d)' % (j+1, i)) for j in range(n_vars)]\n",
    "    # put it all together\n",
    "    agg = pd.concat(cols, axis=1)\n",
    "    agg.columns = names\n",
    "    # drop rows with NaN values\n",
    "    if dropnan:\n",
    "        agg.dropna(inplace=True)\n",
    "    return agg"
   ]
  },
  {
   "cell_type": "code",
   "execution_count": 1477,
   "metadata": {},
   "outputs": [],
   "source": [
    "#Past history: One hour, Prediction horizon: 30 minutes \n",
    "n_lag=12\n",
    "n_seq=6"
   ]
  },
  {
   "cell_type": "code",
   "execution_count": 1478,
   "metadata": {},
   "outputs": [
    {
     "name": "stdout",
     "output_type": "stream",
     "text": [
      "test shape: (2743, 18)\n"
     ]
    }
   ],
   "source": [
    "data1=series_to_supervised(train_data, n_in=n_lag, n_out=n_seq, dropnan=True)\n",
    "data2=series_to_supervised(test_data, n_in=n_lag, n_out=n_seq, dropnan=True)\n",
    "train=data1.values\n",
    "test=data2.values\n",
    "#print(data1.shape)\n",
    "print(\"test shape:\",test.shape)"
   ]
  },
  {
   "cell_type": "code",
   "execution_count": 1479,
   "metadata": {},
   "outputs": [],
   "source": [
    "from keras.models import Sequential\n",
    "from keras.layers import Dense\n",
    "from keras.layers import Flatten\n",
    "from keras.layers.convolutional import Conv1D\n",
    "from keras.layers import TimeDistributed\n",
    "from keras.layers.convolutional import MaxPooling1D\n",
    "import datetime   \n",
    "import math"
   ]
  },
  {
   "cell_type": "code",
   "execution_count": 1480,
   "metadata": {},
   "outputs": [
    {
     "name": "stdout",
     "output_type": "stream",
     "text": [
      "<class 'numpy.ndarray'>\n",
      "(11419, 12)\n",
      "(11419, 6)\n",
      "(11419, 12, 1)\n",
      "Model: \"sequential_44\"\n",
      "_________________________________________________________________\n",
      " Layer (type)                Output Shape              Param #   \n",
      "=================================================================\n",
      " conv1d_44 (Conv1D)          (None, 11, 64)            192       \n",
      "                                                                 \n",
      " max_pooling1d_44 (MaxPoolin  (None, 5, 64)            0         \n",
      " g1D)                                                            \n",
      "                                                                 \n",
      " flatten_44 (Flatten)        (None, 320)               0         \n",
      "                                                                 \n",
      " dense_88 (Dense)            (None, 50)                16050     \n",
      "                                                                 \n",
      " dense_89 (Dense)            (None, 6)                 306       \n",
      "                                                                 \n",
      "=================================================================\n",
      "Total params: 16,548\n",
      "Trainable params: 16,548\n",
      "Non-trainable params: 0\n",
      "_________________________________________________________________\n"
     ]
    }
   ],
   "source": [
    "n_features=1\n",
    "timesteps=n_lag\n",
    "X, y = train[:, 0:n_lag], train[:, n_lag:]\n",
    "print(type(X))\n",
    "print(X.shape)\n",
    "print(y.shape)\n",
    "rows_x = len(y)\n",
    "#print(\"rows-x=\",rows_x)\n",
    "#print(trainX.shape)\n",
    "X = np.reshape(X, (rows_x, timesteps, 1)) \n",
    "print(X.shape)\n",
    "#print('train-train',X.shape)\n",
    "#print('train-test',y.shape)\n",
    "model = Sequential()\n",
    "model.add(Conv1D(filters=64, kernel_size=2, activation='relu', input_shape=(timesteps, n_features)))\n",
    "model.add(MaxPooling1D(pool_size=2))\n",
    "model.add(Flatten())\n",
    "model.add(Dense(50, activation='relu'))\n",
    "model.add(Dense(n_seq))\n",
    "model.summary()\n",
    "model.compile(optimizer='adam', loss='mse')"
   ]
  },
  {
   "cell_type": "code",
   "execution_count": 1481,
   "metadata": {},
   "outputs": [
    {
     "name": "stdout",
     "output_type": "stream",
     "text": [
      "Epoch 1/100\n",
      "286/286 - 1s - loss: 0.0092 - val_loss: 0.0043 - 812ms/epoch - 3ms/step\n",
      "Epoch 2/100\n",
      "286/286 - 0s - loss: 0.0044 - val_loss: 0.0036 - 422ms/epoch - 1ms/step\n",
      "Epoch 3/100\n",
      "286/286 - 0s - loss: 0.0038 - val_loss: 0.0033 - 437ms/epoch - 2ms/step\n",
      "Epoch 4/100\n",
      "286/286 - 0s - loss: 0.0035 - val_loss: 0.0031 - 447ms/epoch - 2ms/step\n",
      "Epoch 5/100\n",
      "286/286 - 0s - loss: 0.0033 - val_loss: 0.0031 - 437ms/epoch - 2ms/step\n",
      "Epoch 6/100\n",
      "286/286 - 0s - loss: 0.0032 - val_loss: 0.0029 - 437ms/epoch - 2ms/step\n",
      "Epoch 7/100\n",
      "286/286 - 0s - loss: 0.0031 - val_loss: 0.0028 - 450ms/epoch - 2ms/step\n",
      "Epoch 8/100\n",
      "286/286 - 0s - loss: 0.0031 - val_loss: 0.0029 - 370ms/epoch - 1ms/step\n",
      "Epoch 9/100\n",
      "286/286 - 0s - loss: 0.0030 - val_loss: 0.0030 - 406ms/epoch - 1ms/step\n",
      "Epoch 10/100\n",
      "286/286 - 0s - loss: 0.0030 - val_loss: 0.0028 - 375ms/epoch - 1ms/step\n",
      "Epoch 11/100\n",
      "286/286 - 0s - loss: 0.0029 - val_loss: 0.0028 - 499ms/epoch - 2ms/step\n",
      "Epoch 12/100\n",
      "286/286 - 0s - loss: 0.0029 - val_loss: 0.0027 - 375ms/epoch - 1ms/step\n",
      "Epoch 13/100\n",
      "286/286 - 0s - loss: 0.0029 - val_loss: 0.0028 - 391ms/epoch - 1ms/step\n",
      "Epoch 14/100\n",
      "286/286 - 0s - loss: 0.0029 - val_loss: 0.0027 - 391ms/epoch - 1ms/step\n",
      "Epoch 15/100\n",
      "286/286 - 0s - loss: 0.0028 - val_loss: 0.0027 - 375ms/epoch - 1ms/step\n",
      "Epoch 16/100\n",
      "286/286 - 0s - loss: 0.0029 - val_loss: 0.0027 - 390ms/epoch - 1ms/step\n",
      "Epoch 17/100\n",
      "286/286 - 0s - loss: 0.0029 - val_loss: 0.0029 - 441ms/epoch - 2ms/step\n",
      "Epoch 18/100\n",
      "286/286 - 0s - loss: 0.0028 - val_loss: 0.0027 - 394ms/epoch - 1ms/step\n",
      "Epoch 19/100\n",
      "286/286 - 0s - loss: 0.0029 - val_loss: 0.0027 - 386ms/epoch - 1ms/step\n",
      "Epoch 20/100\n",
      "286/286 - 0s - loss: 0.0029 - val_loss: 0.0028 - 397ms/epoch - 1ms/step\n",
      "Epoch 21/100\n",
      "286/286 - 0s - loss: 0.0028 - val_loss: 0.0027 - 459ms/epoch - 2ms/step\n",
      "Epoch 22/100\n",
      "286/286 - 0s - loss: 0.0028 - val_loss: 0.0028 - 403ms/epoch - 1ms/step\n",
      "Epoch 23/100\n",
      "286/286 - 0s - loss: 0.0028 - val_loss: 0.0026 - 389ms/epoch - 1ms/step\n",
      "Epoch 24/100\n",
      "286/286 - 0s - loss: 0.0029 - val_loss: 0.0027 - 383ms/epoch - 1ms/step\n",
      "Epoch 25/100\n",
      "286/286 - 0s - loss: 0.0029 - val_loss: 0.0027 - 383ms/epoch - 1ms/step\n",
      "Epoch 26/100\n",
      "286/286 - 0s - loss: 0.0028 - val_loss: 0.0027 - 384ms/epoch - 1ms/step\n",
      "Epoch 27/100\n",
      "286/286 - 0s - loss: 0.0028 - val_loss: 0.0032 - 400ms/epoch - 1ms/step\n",
      "Epoch 28/100\n",
      "286/286 - 0s - loss: 0.0028 - val_loss: 0.0027 - 384ms/epoch - 1ms/step\n",
      "Epoch 29/100\n",
      "286/286 - 0s - loss: 0.0028 - val_loss: 0.0027 - 383ms/epoch - 1ms/step\n",
      "Epoch 30/100\n",
      "286/286 - 0s - loss: 0.0028 - val_loss: 0.0027 - 399ms/epoch - 1ms/step\n",
      "Epoch 31/100\n",
      "286/286 - 0s - loss: 0.0028 - val_loss: 0.0027 - 384ms/epoch - 1ms/step\n",
      "Epoch 32/100\n",
      "286/286 - 0s - loss: 0.0028 - val_loss: 0.0027 - 385ms/epoch - 1ms/step\n",
      "Epoch 33/100\n",
      "286/286 - 0s - loss: 0.0028 - val_loss: 0.0032 - 369ms/epoch - 1ms/step\n",
      "Epoch 34/100\n",
      "286/286 - 0s - loss: 0.0028 - val_loss: 0.0027 - 399ms/epoch - 1ms/step\n",
      "Epoch 35/100\n",
      "286/286 - 0s - loss: 0.0027 - val_loss: 0.0027 - 384ms/epoch - 1ms/step\n",
      "Epoch 36/100\n",
      "286/286 - 0s - loss: 0.0028 - val_loss: 0.0029 - 384ms/epoch - 1ms/step\n",
      "Epoch 37/100\n",
      "286/286 - 0s - loss: 0.0028 - val_loss: 0.0032 - 400ms/epoch - 1ms/step\n",
      "Epoch 38/100\n",
      "286/286 - 0s - loss: 0.0028 - val_loss: 0.0028 - 398ms/epoch - 1ms/step\n",
      "Epoch 39/100\n",
      "286/286 - 0s - loss: 0.0027 - val_loss: 0.0027 - 384ms/epoch - 1ms/step\n",
      "Epoch 40/100\n",
      "286/286 - 0s - loss: 0.0028 - val_loss: 0.0026 - 401ms/epoch - 1ms/step\n",
      "Epoch 41/100\n",
      "286/286 - 0s - loss: 0.0027 - val_loss: 0.0031 - 430ms/epoch - 2ms/step\n",
      "Epoch 42/100\n",
      "286/286 - 0s - loss: 0.0028 - val_loss: 0.0027 - 449ms/epoch - 2ms/step\n",
      "Epoch 43/100\n",
      "286/286 - 0s - loss: 0.0028 - val_loss: 0.0027 - 451ms/epoch - 2ms/step\n",
      "Epoch 44/100\n",
      "286/286 - 0s - loss: 0.0027 - val_loss: 0.0027 - 448ms/epoch - 2ms/step\n",
      "Epoch 45/100\n",
      "286/286 - 0s - loss: 0.0027 - val_loss: 0.0027 - 450ms/epoch - 2ms/step\n",
      "Epoch 46/100\n",
      "286/286 - 0s - loss: 0.0028 - val_loss: 0.0026 - 466ms/epoch - 2ms/step\n",
      "Epoch 47/100\n",
      "286/286 - 0s - loss: 0.0028 - val_loss: 0.0027 - 420ms/epoch - 1ms/step\n",
      "Epoch 48/100\n",
      "286/286 - 0s - loss: 0.0027 - val_loss: 0.0027 - 402ms/epoch - 1ms/step\n",
      "Epoch 49/100\n",
      "286/286 - 0s - loss: 0.0027 - val_loss: 0.0027 - 400ms/epoch - 1ms/step\n",
      "Epoch 50/100\n",
      "286/286 - 0s - loss: 0.0027 - val_loss: 0.0027 - 384ms/epoch - 1ms/step\n",
      "Epoch 51/100\n",
      "286/286 - 0s - loss: 0.0027 - val_loss: 0.0027 - 385ms/epoch - 1ms/step\n",
      "Epoch 52/100\n",
      "286/286 - 0s - loss: 0.0027 - val_loss: 0.0027 - 399ms/epoch - 1ms/step\n",
      "Epoch 53/100\n",
      "286/286 - 0s - loss: 0.0027 - val_loss: 0.0028 - 367ms/epoch - 1ms/step\n",
      "Epoch 54/100\n",
      "286/286 - 0s - loss: 0.0027 - val_loss: 0.0027 - 382ms/epoch - 1ms/step\n",
      "Epoch 55/100\n",
      "286/286 - 0s - loss: 0.0027 - val_loss: 0.0026 - 382ms/epoch - 1ms/step\n",
      "Epoch 56/100\n",
      "286/286 - 0s - loss: 0.0027 - val_loss: 0.0030 - 368ms/epoch - 1ms/step\n",
      "Epoch 57/100\n",
      "286/286 - 0s - loss: 0.0027 - val_loss: 0.0026 - 382ms/epoch - 1ms/step\n",
      "Epoch 58/100\n",
      "286/286 - 0s - loss: 0.0027 - val_loss: 0.0028 - 368ms/epoch - 1ms/step\n",
      "Epoch 59/100\n",
      "286/286 - 0s - loss: 0.0027 - val_loss: 0.0029 - 351ms/epoch - 1ms/step\n",
      "Epoch 60/100\n",
      "286/286 - 0s - loss: 0.0027 - val_loss: 0.0027 - 397ms/epoch - 1ms/step\n",
      "Epoch 61/100\n",
      "286/286 - 0s - loss: 0.0027 - val_loss: 0.0027 - 369ms/epoch - 1ms/step\n",
      "Epoch 62/100\n",
      "286/286 - 0s - loss: 0.0027 - val_loss: 0.0028 - 382ms/epoch - 1ms/step\n",
      "Epoch 63/100\n",
      "286/286 - 0s - loss: 0.0027 - val_loss: 0.0027 - 383ms/epoch - 1ms/step\n",
      "Epoch 64/100\n",
      "286/286 - 0s - loss: 0.0027 - val_loss: 0.0027 - 383ms/epoch - 1ms/step\n",
      "Epoch 65/100\n",
      "286/286 - 0s - loss: 0.0027 - val_loss: 0.0026 - 383ms/epoch - 1ms/step\n",
      "Epoch 66/100\n",
      "286/286 - 0s - loss: 0.0027 - val_loss: 0.0027 - 368ms/epoch - 1ms/step\n",
      "Epoch 67/100\n",
      "286/286 - 0s - loss: 0.0027 - val_loss: 0.0030 - 383ms/epoch - 1ms/step\n",
      "Epoch 68/100\n",
      "286/286 - 0s - loss: 0.0027 - val_loss: 0.0027 - 368ms/epoch - 1ms/step\n",
      "Epoch 69/100\n",
      "286/286 - 0s - loss: 0.0027 - val_loss: 0.0028 - 382ms/epoch - 1ms/step\n",
      "Epoch 70/100\n",
      "286/286 - 0s - loss: 0.0027 - val_loss: 0.0027 - 383ms/epoch - 1ms/step\n",
      "Epoch 71/100\n",
      "286/286 - 0s - loss: 0.0027 - val_loss: 0.0027 - 368ms/epoch - 1ms/step\n",
      "Epoch 72/100\n",
      "286/286 - 0s - loss: 0.0027 - val_loss: 0.0027 - 382ms/epoch - 1ms/step\n",
      "Epoch 73/100\n",
      "286/286 - 0s - loss: 0.0027 - val_loss: 0.0027 - 352ms/epoch - 1ms/step\n",
      "Epoch 74/100\n",
      "286/286 - 0s - loss: 0.0027 - val_loss: 0.0026 - 381ms/epoch - 1ms/step\n",
      "Epoch 75/100\n",
      "286/286 - 0s - loss: 0.0027 - val_loss: 0.0027 - 377ms/epoch - 1ms/step\n",
      "Epoch 76/100\n",
      "286/286 - 0s - loss: 0.0027 - val_loss: 0.0026 - 390ms/epoch - 1ms/step\n",
      "Epoch 77/100\n",
      "286/286 - 0s - loss: 0.0027 - val_loss: 0.0026 - 383ms/epoch - 1ms/step\n",
      "Epoch 78/100\n",
      "286/286 - 0s - loss: 0.0027 - val_loss: 0.0027 - 370ms/epoch - 1ms/step\n",
      "Epoch 79/100\n",
      "286/286 - 0s - loss: 0.0027 - val_loss: 0.0026 - 380ms/epoch - 1ms/step\n",
      "Epoch 80/100\n",
      "286/286 - 0s - loss: 0.0027 - val_loss: 0.0027 - 368ms/epoch - 1ms/step\n",
      "Epoch 81/100\n",
      "286/286 - 0s - loss: 0.0027 - val_loss: 0.0026 - 383ms/epoch - 1ms/step\n",
      "Epoch 82/100\n",
      "286/286 - 0s - loss: 0.0027 - val_loss: 0.0027 - 414ms/epoch - 1ms/step\n",
      "Epoch 83/100\n",
      "286/286 - 0s - loss: 0.0027 - val_loss: 0.0027 - 448ms/epoch - 2ms/step\n",
      "Epoch 84/100\n",
      "286/286 - 0s - loss: 0.0027 - val_loss: 0.0027 - 419ms/epoch - 1ms/step\n",
      "Epoch 85/100\n",
      "286/286 - 0s - loss: 0.0027 - val_loss: 0.0027 - 432ms/epoch - 2ms/step\n",
      "Epoch 86/100\n",
      "286/286 - 0s - loss: 0.0027 - val_loss: 0.0026 - 433ms/epoch - 2ms/step\n",
      "Epoch 87/100\n",
      "286/286 - 0s - loss: 0.0027 - val_loss: 0.0026 - 434ms/epoch - 2ms/step\n",
      "Epoch 88/100\n",
      "286/286 - 0s - loss: 0.0027 - val_loss: 0.0029 - 428ms/epoch - 1ms/step\n",
      "Epoch 89/100\n",
      "286/286 - 0s - loss: 0.0026 - val_loss: 0.0027 - 423ms/epoch - 1ms/step\n",
      "Epoch 90/100\n",
      "286/286 - 0s - loss: 0.0026 - val_loss: 0.0027 - 369ms/epoch - 1ms/step\n",
      "Epoch 91/100\n",
      "286/286 - 0s - loss: 0.0026 - val_loss: 0.0026 - 367ms/epoch - 1ms/step\n",
      "Epoch 92/100\n",
      "286/286 - 0s - loss: 0.0026 - val_loss: 0.0027 - 382ms/epoch - 1ms/step\n",
      "Epoch 93/100\n",
      "286/286 - 0s - loss: 0.0026 - val_loss: 0.0028 - 383ms/epoch - 1ms/step\n",
      "Epoch 94/100\n",
      "286/286 - 0s - loss: 0.0026 - val_loss: 0.0026 - 384ms/epoch - 1ms/step\n",
      "Epoch 95/100\n",
      "286/286 - 0s - loss: 0.0026 - val_loss: 0.0026 - 368ms/epoch - 1ms/step\n",
      "Epoch 96/100\n",
      "286/286 - 0s - loss: 0.0026 - val_loss: 0.0027 - 366ms/epoch - 1ms/step\n",
      "Epoch 97/100\n",
      "286/286 - 0s - loss: 0.0027 - val_loss: 0.0028 - 368ms/epoch - 1ms/step\n"
     ]
    },
    {
     "name": "stdout",
     "output_type": "stream",
     "text": [
      "Epoch 98/100\n",
      "286/286 - 0s - loss: 0.0026 - val_loss: 0.0026 - 367ms/epoch - 1ms/step\n",
      "Epoch 99/100\n",
      "286/286 - 0s - loss: 0.0026 - val_loss: 0.0027 - 382ms/epoch - 1ms/step\n",
      "Epoch 100/100\n",
      "286/286 - 0s - loss: 0.0027 - val_loss: 0.0027 - 383ms/epoch - 1ms/step\n"
     ]
    },
    {
     "data": {
      "text/plain": [
       "<keras.callbacks.History at 0x29485e2da30>"
      ]
     },
     "execution_count": 1481,
     "metadata": {},
     "output_type": "execute_result"
    }
   ],
   "source": [
    "import time\n",
    "start_time = time.time()\n",
    "model.fit(X, y, epochs=100,batch_size=32,validation_split=.2,verbose=2)"
   ]
  },
  {
   "cell_type": "code",
   "execution_count": 1482,
   "metadata": {},
   "outputs": [
    {
     "name": "stdout",
     "output_type": "stream",
     "text": [
      "458/458 [==============================] - 0s 743us/step\n",
      "[[0.4529918  0.44549775 0.4382415  0.43255693 0.42879722 0.4231955 ]\n",
      " [0.4441399  0.4379146  0.43174818 0.42674607 0.4233919  0.41881537]\n",
      " [0.43285632 0.42579472 0.4200045  0.41509247 0.41126895 0.4075381 ]\n",
      " ...\n",
      " [0.36655214 0.38443154 0.3957423  0.40357298 0.40590224 0.40484393]\n",
      " [0.41971052 0.43783402 0.44892794 0.45500857 0.45429087 0.4499446 ]\n",
      " [0.4007807  0.4063909  0.40450594 0.4008149  0.3956318  0.38527387]]\n"
     ]
    }
   ],
   "source": [
    "#Normalized Testing predictions \n",
    "xt=test[:,0:12]\n",
    "xt=np.reshape(xt,(xt.shape[0],12,1))\n",
    "a=model.predict(xt,batch_size=n_seq)\n",
    "print(a)"
   ]
  },
  {
   "cell_type": "code",
   "execution_count": 1483,
   "metadata": {},
   "outputs": [],
   "source": [
    "max=np.array(max)\n",
    "min=np.array(min)"
   ]
  },
  {
   "cell_type": "code",
   "execution_count": 1484,
   "metadata": {},
   "outputs": [
    {
     "name": "stdout",
     "output_type": "stream",
     "text": [
      "[[208.00012651 205.36971068 202.82277057 200.82748145 199.50782254\n",
      "  197.5416244 ]\n",
      " [204.89310414 202.70802808 200.54361174 198.78787071 197.61055985\n",
      "  196.00419641]\n",
      " [200.93256879 198.45394695 196.42157495 194.69745636 193.35540128\n",
      "  192.04586825]\n",
      " ...\n",
      " [177.65980265 183.93547088 187.90554631 190.65411478 191.47168508\n",
      "  191.10021818]\n",
      " [196.31839144 202.67974257 206.57370657 208.7080068  208.45609426\n",
      "  206.93054953]\n",
      " [189.67402837 191.64320779 190.98158434 189.68602669 187.86675835\n",
      "  184.23112971]]\n"
     ]
    }
   ],
   "source": [
    "#Denormalizing prediction\n",
    "forec1=a*(max-min)+min\n",
    "print(forec1)"
   ]
  },
  {
   "cell_type": "code",
   "execution_count": 1485,
   "metadata": {},
   "outputs": [
    {
     "name": "stdout",
     "output_type": "stream",
     "text": [
      "[[208.99999395 205.00000116 208.00000098 210.00000784 205.99999413\n",
      "  201.00000837]\n",
      " [205.00000116 208.00000098 210.00000784 205.99999413 201.00000837\n",
      "  198.00000855]\n",
      " [208.00000098 210.00000784 205.99999413 201.00000837 198.00000855\n",
      "  195.00000873]\n",
      " ...\n",
      " [181.00000259 205.00000116 225.0000174  239.99999559 249.00001597\n",
      "  253.99998081]\n",
      " [205.00000116 225.0000174  239.99999559 249.00001597 253.99998081\n",
      "  247.99998116]\n",
      " [225.0000174  239.99999559 249.00001597 253.99998081 247.99998116\n",
      "  241.99998152]]\n"
     ]
    }
   ],
   "source": [
    "#Denomalizing the actual values\n",
    "test=pd.DataFrame(test)\n",
    "testy=test.loc[:,12:18]\n",
    "actual=np.array(testy)*(max-min)+min\n",
    "print(actual)"
   ]
  },
  {
   "cell_type": "code",
   "execution_count": 1486,
   "metadata": {},
   "outputs": [
    {
     "name": "stdout",
     "output_type": "stream",
     "text": [
      "RMSE: 16.916969989126997\n"
     ]
    }
   ],
   "source": [
    "#Computing the RMSE\n",
    "forec1=np.array(forec1)\n",
    "actual=np.array(actual)\n",
    "diff=actual-forec1\n",
    "#print(diff.shape)\n",
    "#np.sqrt(np.mean((diff)**2,axis=0))\n",
    "print(\"RMSE:\",np.sqrt(np.mean((diff)**2,axis=0)).mean())"
   ]
  },
  {
   "cell_type": "code",
   "execution_count": 1487,
   "metadata": {},
   "outputs": [
    {
     "name": "stdout",
     "output_type": "stream",
     "text": [
      "--- 40.78574585914612 seconds ---\n"
     ]
    }
   ],
   "source": [
    "print(\"--- %s seconds ---\" % (time.time() - start_time))"
   ]
  }
 ],
 "metadata": {
  "colab": {
   "collapsed_sections": [],
   "name": "Glucose process_data v3.1.ipynb",
   "provenance": []
  },
  "kernelspec": {
   "display_name": "Python 3 (ipykernel)",
   "language": "python",
   "name": "python3"
  },
  "language_info": {
   "codemirror_mode": {
    "name": "ipython",
    "version": 3
   },
   "file_extension": ".py",
   "mimetype": "text/x-python",
   "name": "python",
   "nbconvert_exporter": "python",
   "pygments_lexer": "ipython3",
   "version": "3.9.12"
  }
 },
 "nbformat": 4,
 "nbformat_minor": 1
}
