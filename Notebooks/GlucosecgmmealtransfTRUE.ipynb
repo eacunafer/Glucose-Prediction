{
 "cells": [
  {
   "cell_type": "code",
   "execution_count": 299,
   "id": "0459db44",
   "metadata": {},
   "outputs": [],
   "source": [
    "import pandas as pd\n",
    "import numpy as np\n",
    "from matplotlib import pyplot as plt\n",
    "import os\n",
    "import glob\n",
    "import datetime\n",
    "\n",
    "from RNN import RNN\n",
    "from CNN import CNN\n",
    "from Transformer import Transformer\n",
    "\n",
    "from utils import series_to_supervised\n",
    "\n",
    "\n",
    "\n",
    "dataset = pd.read_csv('c://aadm/584all.csv', header=0, infer_datetime_format=True, parse_dates=['ts'], index_col=['ts'])\n"
   ]
  },
  {
   "cell_type": "code",
   "execution_count": 300,
   "id": "c0c6fed9",
   "metadata": {},
   "outputs": [],
   "source": [
    "def impute_mean(df, column, by='hour'):\n",
    "  # impute with mean by hours\n",
    "  # in the future by could be another mean grouping criterion\n",
    "  df[by] = df.index.hour\n",
    "  df[column] = df.groupby(by)[column].apply(lambda x: x.fillna(x.mean()))\n",
    "  df.drop(by, axis=1, inplace=True)"
   ]
  },
  {
   "cell_type": "code",
   "execution_count": 301,
   "id": "6e1c695e",
   "metadata": {
    "scrolled": true
   },
   "outputs": [
    {
     "name": "stdout",
     "output_type": "stream",
     "text": [
      "<class 'pandas.core.frame.DataFrame'>\n",
      "DatetimeIndex: 16243 entries, 2025-05-14 00:00:00 to 2025-07-09 09:30:00\n",
      "Data columns (total 3 columns):\n",
      " #   Column     Non-Null Count  Dtype  \n",
      "---  ------     --------------  -----  \n",
      " 0   glucose    14815 non-null  float64\n",
      " 1   eff_carbs  16243 non-null  float64\n",
      " 2   eff_ins    16243 non-null  float64\n",
      "dtypes: float64(3)\n",
      "memory usage: 507.6 KB\n"
     ]
    }
   ],
   "source": [
    "dataset.info()"
   ]
  },
  {
   "cell_type": "code",
   "execution_count": 302,
   "id": "b079662a",
   "metadata": {},
   "outputs": [],
   "source": [
    "# We choose to keep only Global_active_power\n",
    "to_drop = ['eff_ins']\n",
    "dataset.drop(columns=to_drop, inplace=True)"
   ]
  },
  {
   "cell_type": "code",
   "execution_count": 303,
   "id": "66f90f90",
   "metadata": {},
   "outputs": [
    {
     "data": {
      "text/html": [
       "<div>\n",
       "<style scoped>\n",
       "    .dataframe tbody tr th:only-of-type {\n",
       "        vertical-align: middle;\n",
       "    }\n",
       "\n",
       "    .dataframe tbody tr th {\n",
       "        vertical-align: top;\n",
       "    }\n",
       "\n",
       "    .dataframe thead th {\n",
       "        text-align: right;\n",
       "    }\n",
       "</style>\n",
       "<table border=\"1\" class=\"dataframe\">\n",
       "  <thead>\n",
       "    <tr style=\"text-align: right;\">\n",
       "      <th></th>\n",
       "      <th>glucose</th>\n",
       "      <th>eff_carbs</th>\n",
       "    </tr>\n",
       "    <tr>\n",
       "      <th>ts</th>\n",
       "      <th></th>\n",
       "      <th></th>\n",
       "    </tr>\n",
       "  </thead>\n",
       "  <tbody>\n",
       "    <tr>\n",
       "      <th>2025-05-14 00:00:00</th>\n",
       "      <td>48.0</td>\n",
       "      <td>0.0</td>\n",
       "    </tr>\n",
       "    <tr>\n",
       "      <th>2025-05-14 00:05:00</th>\n",
       "      <td>48.0</td>\n",
       "      <td>0.0</td>\n",
       "    </tr>\n",
       "    <tr>\n",
       "      <th>2025-05-14 00:10:00</th>\n",
       "      <td>53.0</td>\n",
       "      <td>0.0</td>\n",
       "    </tr>\n",
       "    <tr>\n",
       "      <th>2025-05-14 00:15:00</th>\n",
       "      <td>63.0</td>\n",
       "      <td>0.0</td>\n",
       "    </tr>\n",
       "    <tr>\n",
       "      <th>2025-05-14 00:20:00</th>\n",
       "      <td>69.0</td>\n",
       "      <td>0.0</td>\n",
       "    </tr>\n",
       "  </tbody>\n",
       "</table>\n",
       "</div>"
      ],
      "text/plain": [
       "                     glucose  eff_carbs\n",
       "ts                                     \n",
       "2025-05-14 00:00:00     48.0        0.0\n",
       "2025-05-14 00:05:00     48.0        0.0\n",
       "2025-05-14 00:10:00     53.0        0.0\n",
       "2025-05-14 00:15:00     63.0        0.0\n",
       "2025-05-14 00:20:00     69.0        0.0"
      ]
     },
     "execution_count": 303,
     "metadata": {},
     "output_type": "execute_result"
    }
   ],
   "source": [
    "dataset.head()"
   ]
  },
  {
   "cell_type": "code",
   "execution_count": 304,
   "id": "309ff8d3",
   "metadata": {},
   "outputs": [],
   "source": [
    "# #mean imputation\n",
    "impute_mean(dataset, 'glucose')\n",
    "#dataset.describe()"
   ]
  },
  {
   "cell_type": "code",
   "execution_count": 305,
   "id": "bb508e6b",
   "metadata": {},
   "outputs": [
    {
     "name": "stdout",
     "output_type": "stream",
     "text": [
      "<class 'pandas.core.frame.DataFrame'>\n",
      "DatetimeIndex: 16243 entries, 2025-05-14 00:00:00 to 2025-07-09 09:30:00\n",
      "Data columns (total 2 columns):\n",
      " #   Column     Non-Null Count  Dtype  \n",
      "---  ------     --------------  -----  \n",
      " 0   glucose    16243 non-null  float64\n",
      " 1   eff_carbs  16243 non-null  float64\n",
      "dtypes: float64(2)\n",
      "memory usage: 380.7 KB\n"
     ]
    }
   ],
   "source": [
    "#dataset['glucose']= dataset.glucose.interpolate(method=\"spline\",order=3)\n",
    "dataset.info()"
   ]
  },
  {
   "cell_type": "code",
   "execution_count": 306,
   "id": "9bf68297",
   "metadata": {},
   "outputs": [
    {
     "data": {
      "image/png": "[encoded data removed]",
      "text/plain": [
       "<Figure size 864x360 with 1 Axes>"
      ]
     },
     "metadata": {
      "needs_background": "light"
     },
     "output_type": "display_data"
    }
   ],
   "source": [
    "import matplotlib.pyplot as plt\n",
    "plt.figure(figsize=(12,5))\n",
    "plt.xlabel('cgm and meal')\n",
    "\n",
    "dataset.glucose.plot(color='blue', grid=True, label='Glucose')\n",
    "dataset.eff_carbs.plot(color='red', grid= True, label='Meal')\n",
    "plt.legend()\n",
    "plt.show()"
   ]
  },
  {
   "cell_type": "code",
   "execution_count": 307,
   "id": "2adee4cd",
   "metadata": {},
   "outputs": [
    {
     "data": {
      "image/png": "[encoded data removed]",
      "text/plain": [
       "<Figure size 432x288 with 1 Axes>"
      ]
     },
     "metadata": {
      "needs_background": "light"
     },
     "output_type": "display_data"
    }
   ],
   "source": [
    "from statsmodels.graphics.tsaplots import plot_acf\n",
    "plot_acf(dataset['eff_carbs'],lags=100);\n",
    "#plot_acf(dataset['glucose'])"
   ]
  },
  {
   "cell_type": "code",
   "execution_count": 308,
   "id": "305b936a",
   "metadata": {},
   "outputs": [
    {
     "data": {
      "image/png": "[encoded data removed]",
      "text/plain": [
       "<Figure size 432x288 with 1 Axes>"
      ]
     },
     "metadata": {
      "needs_background": "light"
     },
     "output_type": "display_data"
    }
   ],
   "source": [
    "plot_acf(dataset['glucose'],lags=100);"
   ]
  },
  {
   "cell_type": "code",
   "execution_count": 309,
   "id": "26376847",
   "metadata": {},
   "outputs": [
    {
     "name": "stdout",
     "output_type": "stream",
     "text": [
      "ADF Statistic: -15.574078\n",
      "p-value: 0.000000\n",
      "Critical Values:\n",
      "\t1%: -3.431\n",
      "\t5%: -2.862\n",
      "\t10%: -2.567\n"
     ]
    }
   ],
   "source": [
    "#Dickey-Fuller Test\n",
    "from statsmodels.tsa.stattools import adfuller\n",
    "X = dataset.glucose.values\n",
    "result = adfuller(X)\n",
    "print('ADF Statistic: %f' % result[0])\n",
    "print('p-value: %f' % result[1])\n",
    "print('Critical Values:')\n",
    "for key, value in result[4].items():\n",
    "\tprint('\\t%s: %.3f' % (key, value))"
   ]
  },
  {
   "cell_type": "code",
   "execution_count": 310,
   "id": "20cdeffd",
   "metadata": {},
   "outputs": [
    {
     "name": "stdout",
     "output_type": "stream",
     "text": [
      "ADF Statistic: -15.806504\n",
      "p-value: 0.000000\n",
      "Critical Values:\n",
      "\t1%: -3.431\n",
      "\t5%: -2.862\n",
      "\t10%: -2.567\n"
     ]
    }
   ],
   "source": [
    "X1= dataset.eff_carbs.values\n",
    "result = adfuller(X1)\n",
    "print('ADF Statistic: %f' % result[0])\n",
    "print('p-value: %f' % result[1])\n",
    "print('Critical Values:')\n",
    "for key, value in result[4].items():\n",
    "\tprint('\\t%s: %.3f' % (key, value))"
   ]
  },
  {
   "cell_type": "code",
   "execution_count": 251,
   "id": "b7521688",
   "metadata": {},
   "outputs": [
    {
     "name": "stdout",
     "output_type": "stream",
     "text": [
      "Results of KPSS Test:\n",
      "Test Statistic            1.247213\n",
      "p-value                   0.010000\n",
      "#Lags Used               73.000000\n",
      "Critical Value (10%)      0.347000\n",
      "Critical Value (5%)       0.463000\n",
      "Critical Value (2.5%)     0.574000\n",
      "Critical Value (1%)       0.739000\n",
      "dtype: float64\n",
      "Results of KPSS Test:\n",
      "Test Statistic            1.176027\n",
      "p-value                   0.010000\n",
      "#Lags Used               73.000000\n",
      "Critical Value (10%)      0.347000\n",
      "Critical Value (5%)       0.463000\n",
      "Critical Value (2.5%)     0.574000\n",
      "Critical Value (1%)       0.739000\n",
      "dtype: float64\n"
     ]
    },
    {
     "name": "stderr",
     "output_type": "stream",
     "text": [
      "C:\\Users\\eacun\\anaconda3\\lib\\site-packages\\statsmodels\\tsa\\stattools.py:2018: InterpolationWarning: The test statistic is outside of the range of p-values available in the\n",
      "look-up table. The actual p-value is smaller than the p-value returned.\n",
      "\n",
      "  warnings.warn(\n",
      "C:\\Users\\eacun\\anaconda3\\lib\\site-packages\\statsmodels\\tsa\\stattools.py:2018: InterpolationWarning: The test statistic is outside of the range of p-values available in the\n",
      "look-up table. The actual p-value is smaller than the p-value returned.\n",
      "\n",
      "  warnings.warn(\n"
     ]
    }
   ],
   "source": [
    "# Function to print out results in customised manner\n",
    "from statsmodels.tsa.stattools import kpss\n",
    "def kpss_test(timeseries):\n",
    "    print ('Results of KPSS Test:')\n",
    "    kpsstest = kpss(timeseries, regression='c', nlags=\"auto\")\n",
    "    kpss_output = pd.Series(kpsstest[0:3], index=['Test Statistic','p-value','#Lags Used'])\n",
    "    for key,value in kpsstest[3].items():\n",
    "        kpss_output['Critical Value (%s)'%key] = value\n",
    "    print (kpss_output)\n",
    "kpss_test(X)\n",
    "kpss_test(X1)"
   ]
  },
  {
   "cell_type": "code",
   "execution_count": 62,
   "id": "c611478c",
   "metadata": {},
   "outputs": [],
   "source": [
    "#differentiating eight times the time series to obtain stationarity\n",
    "dataset['eff_carbs'] = dataset['eff_carbs'].diff().diff()\n",
    "#dataset['glucose'] = dataset['glucose'].diff()"
   ]
  },
  {
   "cell_type": "code",
   "execution_count": 63,
   "id": "d4023612",
   "metadata": {},
   "outputs": [],
   "source": [
    "# # spline smoothing\n",
    "# import rpy2\n",
    "# import rpy2.rinterface\n",
    "# %load_ext rpy2.ipython\n",
    "# import rpy2.robjects as robjects\n",
    "# from rpy2.robjects.packages import importr\n",
    "# splines = importr('splines') \n",
    "# x_train=np.arange(len(dataset))\n",
    "# y_train=dataset['glucose']\n",
    "# r_y = robjects.FloatVector(y_train)\n",
    "# r_x = robjects.FloatVector(x_train)\n",
    "# r_smooth_spline = robjects.r['smooth.spline'] #extract R function# run smoothing function\n",
    "# spline1 = r_smooth_spline(x=r_x,y=r_y, spar=.01)\n",
    "# ySpline=np.array(robjects.r['predict'](spline1,robjects.FloatVector(x_train)).rx2('y'))\n",
    "# # print(ySpline)\n",
    "# # plt.figure(figsize=(12,6))\n",
    "# # plt.scatter(x_train,y_train,c=\"blue\")\n",
    "# # plt.plot(x_train,ySpline,c='red')"
   ]
  },
  {
   "cell_type": "code",
   "execution_count": 64,
   "id": "20aaef08",
   "metadata": {},
   "outputs": [],
   "source": [
    "# # #Imputation using Kalman smoothing and spline smoothing\n",
    "# from tsmoothie.smoother import *\n",
    "# from tsmoothie.utils_func import create_windows\n",
    "# #smoother1 = SplineSmoother(n_knots=100, spline_type='cubic_spline')\n",
    "# #smoother1.smooth(cgmtrainclean[['glucose']].T)\n",
    "# smoother = KalmanSmoother(component='level_season', \n",
    "#                            component_noise={'level':0.1, 'season':0.1},n_seasons=7)\n",
    "# smoother.smooth(dataset[['glucose']].T)\n",
    "# glucosekf=smoother.smooth_data[0]\n",
    "# dataset['glucose']=glucosekf\n",
    "#dataset['glucose']=ySpline\n",
    "# # #smoother1.smooth_data[0].mean()"
   ]
  },
  {
   "cell_type": "code",
   "execution_count": 65,
   "id": "649b0eb8",
   "metadata": {},
   "outputs": [
    {
     "name": "stdout",
     "output_type": "stream",
     "text": [
      "features: 2\n",
      "(12979, 24) (3245, 24)\n",
      "                     eff_carbs(t-12)  target(t-12)  eff_carbs(t-11)  \\\n",
      "ts                                                                    \n",
      "2025-05-14 01:10:00              0.0          53.0              0.0   \n",
      "2025-05-14 01:15:00              0.0          63.0              0.0   \n",
      "2025-05-14 01:20:00              0.0          69.0              0.0   \n",
      "2025-05-14 01:25:00              0.0          74.0              0.0   \n",
      "2025-05-14 01:30:00              0.0          77.0              0.0   \n",
      "...                              ...           ...              ...   \n",
      "2025-06-28 02:20:00              0.0         247.0              0.0   \n",
      "2025-06-28 02:25:00              0.0         250.0              0.0   \n",
      "2025-06-28 02:30:00              0.0         253.0              0.0   \n",
      "2025-06-28 02:35:00              0.0         255.0              0.0   \n",
      "2025-06-28 02:40:00              0.0         254.0              0.0   \n",
      "\n",
      "                     target(t-11)  eff_carbs(t-10)  target(t-10)  \\\n",
      "ts                                                                 \n",
      "2025-05-14 01:10:00          63.0              0.0          69.0   \n",
      "2025-05-14 01:15:00          69.0              0.0          74.0   \n",
      "2025-05-14 01:20:00          74.0              0.0          77.0   \n",
      "2025-05-14 01:25:00          77.0              0.0          70.0   \n",
      "2025-05-14 01:30:00          70.0              0.0          59.0   \n",
      "...                           ...              ...           ...   \n",
      "2025-06-28 02:20:00         250.0              0.0         253.0   \n",
      "2025-06-28 02:25:00         253.0              0.0         255.0   \n",
      "2025-06-28 02:30:00         255.0              0.0         254.0   \n",
      "2025-06-28 02:35:00         254.0              0.0         261.0   \n",
      "2025-06-28 02:40:00         261.0              0.0         272.0   \n",
      "\n",
      "                     eff_carbs(t-9)  target(t-9)  eff_carbs(t-8)  target(t-8)  \\\n",
      "ts                                                                              \n",
      "2025-05-14 01:10:00             0.0         74.0             0.0         77.0   \n",
      "2025-05-14 01:15:00             0.0         77.0             0.0         70.0   \n",
      "2025-05-14 01:20:00             0.0         70.0             0.0         59.0   \n",
      "2025-05-14 01:25:00             0.0         59.0             0.0         47.0   \n",
      "2025-05-14 01:30:00             0.0         47.0             0.0         44.0   \n",
      "...                             ...          ...             ...          ...   \n",
      "2025-06-28 02:20:00             0.0        255.0             0.0        254.0   \n",
      "2025-06-28 02:25:00             0.0        254.0             0.0        261.0   \n",
      "2025-06-28 02:30:00             0.0        261.0             0.0        272.0   \n",
      "2025-06-28 02:35:00             0.0        272.0             0.0        272.0   \n",
      "2025-06-28 02:40:00             0.0        272.0             0.0        274.0   \n",
      "\n",
      "                     ...  eff_carbs(t-5)  target(t-5)  eff_carbs(t-4)  \\\n",
      "ts                   ...                                                \n",
      "2025-05-14 01:10:00  ...             0.0         47.0             0.0   \n",
      "2025-05-14 01:15:00  ...             0.0         44.0             0.0   \n",
      "2025-05-14 01:20:00  ...             0.0         44.0             0.0   \n",
      "2025-05-14 01:25:00  ...             0.0         44.0             0.0   \n",
      "2025-05-14 01:30:00  ...             0.0         51.0             0.0   \n",
      "...                  ...             ...          ...             ...   \n",
      "2025-06-28 02:20:00  ...             0.0        272.0             0.0   \n",
      "2025-06-28 02:25:00  ...             0.0        274.0             0.0   \n",
      "2025-06-28 02:30:00  ...             0.0        276.0             0.0   \n",
      "2025-06-28 02:35:00  ...             0.0        277.0             0.0   \n",
      "2025-06-28 02:40:00  ...             0.0        278.0             0.0   \n",
      "\n",
      "                     target(t-4)  eff_carbs(t-3)  target(t-3)  eff_carbs(t-2)  \\\n",
      "ts                                                                              \n",
      "2025-05-14 01:10:00         44.0             0.0         44.0             0.0   \n",
      "2025-05-14 01:15:00         44.0             0.0         44.0             0.0   \n",
      "2025-05-14 01:20:00         44.0             0.0         51.0             0.0   \n",
      "2025-05-14 01:25:00         51.0             0.0         60.0             0.0   \n",
      "2025-05-14 01:30:00         60.0             0.0         68.0             0.0   \n",
      "...                          ...             ...          ...             ...   \n",
      "2025-06-28 02:20:00        274.0             0.0        276.0             0.0   \n",
      "2025-06-28 02:25:00        276.0             0.0        277.0             0.0   \n",
      "2025-06-28 02:30:00        277.0             0.0        278.0             0.0   \n",
      "2025-06-28 02:35:00        278.0             0.0        279.0             0.0   \n",
      "2025-06-28 02:40:00        279.0             0.0        280.0             0.0   \n",
      "\n",
      "                     target(t-2)  eff_carbs(t-1)  target(t-1)  \n",
      "ts                                                             \n",
      "2025-05-14 01:10:00         44.0             0.0         51.0  \n",
      "2025-05-14 01:15:00         51.0             0.0         60.0  \n",
      "2025-05-14 01:20:00         60.0             0.0         68.0  \n",
      "2025-05-14 01:25:00         68.0             0.0        107.0  \n",
      "2025-05-14 01:30:00        107.0             0.0        114.0  \n",
      "...                          ...             ...          ...  \n",
      "2025-06-28 02:20:00        277.0             0.0        278.0  \n",
      "2025-06-28 02:25:00        278.0             0.0        279.0  \n",
      "2025-06-28 02:30:00        279.0             0.0        280.0  \n",
      "2025-06-28 02:35:00        280.0             0.0        280.0  \n",
      "2025-06-28 02:40:00        280.0             0.0        284.0  \n",
      "\n",
      "[12979 rows x 24 columns]\n",
      "                     target(t)  target(t-1)  target(t-2)  target(t-3)  \\\n",
      "ts                                                                      \n",
      "2025-05-14 01:10:00       60.0         68.0        107.0        114.0   \n",
      "2025-05-14 01:15:00       68.0        107.0        114.0        119.0   \n",
      "2025-05-14 01:20:00      107.0        114.0        119.0        121.0   \n",
      "2025-05-14 01:25:00      114.0        119.0        121.0        127.0   \n",
      "2025-05-14 01:30:00      119.0        121.0        127.0        129.0   \n",
      "...                        ...          ...          ...          ...   \n",
      "2025-06-28 02:20:00      279.0        280.0        280.0        284.0   \n",
      "2025-06-28 02:25:00      280.0        280.0        284.0        285.0   \n",
      "2025-06-28 02:30:00      280.0        284.0        285.0        280.0   \n",
      "2025-06-28 02:35:00      284.0        285.0        280.0        278.0   \n",
      "2025-06-28 02:40:00      285.0        280.0        278.0        279.0   \n",
      "\n",
      "                     target(t-4)  target(t-5)  \n",
      "ts                                             \n",
      "2025-05-14 01:10:00        119.0        121.0  \n",
      "2025-05-14 01:15:00        121.0        127.0  \n",
      "2025-05-14 01:20:00        127.0        129.0  \n",
      "2025-05-14 01:25:00        129.0        130.0  \n",
      "2025-05-14 01:30:00        130.0        132.0  \n",
      "...                          ...          ...  \n",
      "2025-06-28 02:20:00        285.0        280.0  \n",
      "2025-06-28 02:25:00        280.0        278.0  \n",
      "2025-06-28 02:30:00        278.0        279.0  \n",
      "2025-06-28 02:35:00        279.0        273.0  \n",
      "2025-06-28 02:40:00        273.0        268.0  \n",
      "\n",
      "[12979 rows x 6 columns]\n",
      "(12979, 12, 2) (3245, 12, 2)\n"
     ]
    }
   ],
   "source": [
    "import time\n",
    "start_time = time.time()\n",
    "look_back = 12\n",
    "n_features = dataset.shape[1]\n",
    "print(\"features:\",n_features)\n",
    "# Walk-forward data split to avoid data leakage\n",
    "X_train, y_train, X_test, y_test, scale_X = series_to_supervised(dataset, train_size=0.8, n_in=look_back, n_out=6, target_column='glucose', dropnan=True, scale_X=False)\n",
    "print(X_train.shape,X_test.shape)\n",
    "print(X_train)\n",
    "print(y_train)\n",
    "# reshape input to be 3D [samples, timesteps, features]\n",
    "X_train_reshaped = X_train.values.reshape((-1,look_back,n_features))\n",
    "X_test_reshaped = X_test.values.reshape((-1,look_back,n_features))\n",
    "y_train_reshaped = y_train.values\n",
    "y_test_reshaped = y_test.values\n",
    "print(X_train_reshaped.shape,X_test_reshaped.shape)\n"
   ]
  },
  {
   "cell_type": "code",
   "execution_count": 66,
   "id": "527b8f38",
   "metadata": {
    "scrolled": false
   },
   "outputs": [
    {
     "name": "stdout",
     "output_type": "stream",
     "text": [
      "Model: \"model_2\"\n",
      "__________________________________________________________________________________________________\n",
      " Layer (type)                   Output Shape         Param #     Connected to                     \n",
      "==================================================================================================\n",
      " input_3 (InputLayer)           [(None, 12, 2)]      0           []                               \n",
      "                                                                                                  \n",
      " layer_normalization_16 (LayerN  (None, 12, 2)       4           ['input_3[0][0]']                \n",
      " ormalization)                                                                                    \n",
      "                                                                                                  \n",
      " multi_head_attention_8 (MultiH  (None, 12, 2)       11266       ['layer_normalization_16[0][0]', \n",
      " eadAttention)                                                    'layer_normalization_16[0][0]'] \n",
      "                                                                                                  \n",
      " dropout_18 (Dropout)           (None, 12, 2)        0           ['multi_head_attention_8[0][0]'] \n",
      "                                                                                                  \n",
      " tf.__operators__.add_16 (TFOpL  (None, 12, 2)       0           ['dropout_18[0][0]',             \n",
      " ambda)                                                           'input_3[0][0]']                \n",
      "                                                                                                  \n",
      " layer_normalization_17 (LayerN  (None, 12, 2)       4           ['tf.__operators__.add_16[0][0]']\n",
      " ormalization)                                                                                    \n",
      "                                                                                                  \n",
      " conv1d_16 (Conv1D)             (None, 12, 4)        12          ['layer_normalization_17[0][0]'] \n",
      "                                                                                                  \n",
      " dropout_19 (Dropout)           (None, 12, 4)        0           ['conv1d_16[0][0]']              \n",
      "                                                                                                  \n",
      " conv1d_17 (Conv1D)             (None, 12, 2)        10          ['dropout_19[0][0]']             \n",
      "                                                                                                  \n",
      " tf.__operators__.add_17 (TFOpL  (None, 12, 2)       0           ['conv1d_17[0][0]',              \n",
      " ambda)                                                           'tf.__operators__.add_16[0][0]']\n",
      "                                                                                                  \n",
      " layer_normalization_18 (LayerN  (None, 12, 2)       4           ['tf.__operators__.add_17[0][0]']\n",
      " ormalization)                                                                                    \n",
      "                                                                                                  \n",
      " multi_head_attention_9 (MultiH  (None, 12, 2)       11266       ['layer_normalization_18[0][0]', \n",
      " eadAttention)                                                    'layer_normalization_18[0][0]'] \n",
      "                                                                                                  \n",
      " dropout_20 (Dropout)           (None, 12, 2)        0           ['multi_head_attention_9[0][0]'] \n",
      "                                                                                                  \n",
      " tf.__operators__.add_18 (TFOpL  (None, 12, 2)       0           ['dropout_20[0][0]',             \n",
      " ambda)                                                           'tf.__operators__.add_17[0][0]']\n",
      "                                                                                                  \n",
      " layer_normalization_19 (LayerN  (None, 12, 2)       4           ['tf.__operators__.add_18[0][0]']\n",
      " ormalization)                                                                                    \n",
      "                                                                                                  \n",
      " conv1d_18 (Conv1D)             (None, 12, 4)        12          ['layer_normalization_19[0][0]'] \n",
      "                                                                                                  \n",
      " dropout_21 (Dropout)           (None, 12, 4)        0           ['conv1d_18[0][0]']              \n",
      "                                                                                                  \n",
      " conv1d_19 (Conv1D)             (None, 12, 2)        10          ['dropout_21[0][0]']             \n",
      "                                                                                                  \n",
      " tf.__operators__.add_19 (TFOpL  (None, 12, 2)       0           ['conv1d_19[0][0]',              \n",
      " ambda)                                                           'tf.__operators__.add_18[0][0]']\n",
      "                                                                                                  \n",
      " layer_normalization_20 (LayerN  (None, 12, 2)       4           ['tf.__operators__.add_19[0][0]']\n",
      " ormalization)                                                                                    \n",
      "                                                                                                  \n",
      " multi_head_attention_10 (Multi  (None, 12, 2)       11266       ['layer_normalization_20[0][0]', \n",
      " HeadAttention)                                                   'layer_normalization_20[0][0]'] \n",
      "                                                                                                  \n",
      " dropout_22 (Dropout)           (None, 12, 2)        0           ['multi_head_attention_10[0][0]']\n",
      "                                                                                                  \n",
      " tf.__operators__.add_20 (TFOpL  (None, 12, 2)       0           ['dropout_22[0][0]',             \n",
      " ambda)                                                           'tf.__operators__.add_19[0][0]']\n",
      "                                                                                                  \n",
      " layer_normalization_21 (LayerN  (None, 12, 2)       4           ['tf.__operators__.add_20[0][0]']\n",
      " ormalization)                                                                                    \n",
      "                                                                                                  \n",
      " conv1d_20 (Conv1D)             (None, 12, 4)        12          ['layer_normalization_21[0][0]'] \n",
      "                                                                                                  \n",
      " dropout_23 (Dropout)           (None, 12, 4)        0           ['conv1d_20[0][0]']              \n",
      "                                                                                                  \n",
      " conv1d_21 (Conv1D)             (None, 12, 2)        10          ['dropout_23[0][0]']             \n",
      "                                                                                                  \n",
      " tf.__operators__.add_21 (TFOpL  (None, 12, 2)       0           ['conv1d_21[0][0]',              \n",
      " ambda)                                                           'tf.__operators__.add_20[0][0]']\n",
      "                                                                                                  \n",
      " layer_normalization_22 (LayerN  (None, 12, 2)       4           ['tf.__operators__.add_21[0][0]']\n",
      " ormalization)                                                                                    \n",
      "                                                                                                  \n",
      " multi_head_attention_11 (Multi  (None, 12, 2)       11266       ['layer_normalization_22[0][0]', \n",
      " HeadAttention)                                                   'layer_normalization_22[0][0]'] \n",
      "                                                                                                  \n",
      " dropout_24 (Dropout)           (None, 12, 2)        0           ['multi_head_attention_11[0][0]']\n",
      "                                                                                                  \n",
      " tf.__operators__.add_22 (TFOpL  (None, 12, 2)       0           ['dropout_24[0][0]',             \n"
     ]
    },
    {
     "name": "stdout",
     "output_type": "stream",
     "text": [
      " ambda)                                                           'tf.__operators__.add_21[0][0]']\n",
      "                                                                                                  \n",
      " layer_normalization_23 (LayerN  (None, 12, 2)       4           ['tf.__operators__.add_22[0][0]']\n",
      " ormalization)                                                                                    \n",
      "                                                                                                  \n",
      " conv1d_22 (Conv1D)             (None, 12, 4)        12          ['layer_normalization_23[0][0]'] \n",
      "                                                                                                  \n",
      " dropout_25 (Dropout)           (None, 12, 4)        0           ['conv1d_22[0][0]']              \n",
      "                                                                                                  \n",
      " conv1d_23 (Conv1D)             (None, 12, 2)        10          ['dropout_25[0][0]']             \n",
      "                                                                                                  \n",
      " tf.__operators__.add_23 (TFOpL  (None, 12, 2)       0           ['conv1d_23[0][0]',              \n",
      " ambda)                                                           'tf.__operators__.add_22[0][0]']\n",
      "                                                                                                  \n",
      " global_average_pooling1d_2 (Gl  (None, 12)          0           ['tf.__operators__.add_23[0][0]']\n",
      " obalAveragePooling1D)                                                                            \n",
      "                                                                                                  \n",
      " dense_4 (Dense)                (None, 128)          1664        ['global_average_pooling1d_2[0][0\n",
      "                                                                 ]']                              \n",
      "                                                                                                  \n",
      " dropout_26 (Dropout)           (None, 128)          0           ['dense_4[0][0]']                \n",
      "                                                                                                  \n",
      " dense_5 (Dense)                (None, 6)            774         ['dropout_26[0][0]']             \n",
      "                                                                                                  \n",
      "==================================================================================================\n",
      "Total params: 47,622\n",
      "Trainable params: 47,622\n",
      "Non-trainable params: 0\n",
      "__________________________________________________________________________________________________\n",
      "None\n",
      "Epoch 1/50\n",
      "203/203 [==============================] - ETA: 0s - loss: 31080.5137 - rmse: 173.8471 - mae: 159.8978 - smape: 70.2779 - coeff_determination: -6.6797WARNING:tensorflow:Early stopping conditioned on metric `val_loss` which is not available. Available metrics are: loss,rmse,mae,smape,coeff_determination\n",
      "\n",
      "Epoch 1: loss improved from inf to 31080.51367, saving model to checkpoint\\Transformer.test Mon Dec 19 20 50 35 2022.hdf5\n",
      "203/203 [==============================] - 32s 140ms/step - loss: 31080.5137 - rmse: 173.8471 - mae: 159.8978 - smape: 70.2779 - coeff_determination: -6.6797\n",
      "Epoch 2/50\n",
      "203/203 [==============================] - ETA: 0s - loss: 7280.4136 - rmse: 83.3637 - mae: 66.9249 - smape: 21.8274 - coeff_determination: -0.7975WARNING:tensorflow:Early stopping conditioned on metric `val_loss` which is not available. Available metrics are: loss,rmse,mae,smape,coeff_determination\n",
      "\n",
      "Epoch 2: loss improved from 31080.51367 to 7280.41357, saving model to checkpoint\\Transformer.test Mon Dec 19 20 50 35 2022.hdf5\n",
      "203/203 [==============================] - 30s 149ms/step - loss: 7280.4136 - rmse: 83.3637 - mae: 66.9249 - smape: 21.8274 - coeff_determination: -0.7975\n",
      "Epoch 3/50\n",
      "203/203 [==============================] - ETA: 0s - loss: 3750.9463 - rmse: 61.1031 - mae: 47.3128 - smape: 13.2412 - coeff_determination: 0.0717WARNING:tensorflow:Early stopping conditioned on metric `val_loss` which is not available. Available metrics are: loss,rmse,mae,smape,coeff_determination\n",
      "\n",
      "Epoch 3: loss improved from 7280.41357 to 3750.94629, saving model to checkpoint\\Transformer.test Mon Dec 19 20 50 35 2022.hdf5\n",
      "203/203 [==============================] - 30s 147ms/step - loss: 3750.9463 - rmse: 61.1031 - mae: 47.3128 - smape: 13.2412 - coeff_determination: 0.0717\n",
      "Epoch 4/50\n",
      "203/203 [==============================] - ETA: 0s - loss: 3194.6311 - rmse: 56.3572 - mae: 43.6713 - smape: 12.0827 - coeff_determination: 0.2033WARNING:tensorflow:Early stopping conditioned on metric `val_loss` which is not available. Available metrics are: loss,rmse,mae,smape,coeff_determination\n",
      "\n",
      "Epoch 4: loss improved from 3750.94629 to 3194.63110, saving model to checkpoint\\Transformer.test Mon Dec 19 20 50 35 2022.hdf5\n",
      "203/203 [==============================] - 30s 146ms/step - loss: 3194.6311 - rmse: 56.3572 - mae: 43.6713 - smape: 12.0827 - coeff_determination: 0.2033\n",
      "Epoch 5/50\n",
      "203/203 [==============================] - ETA: 0s - loss: 2925.6902 - rmse: 53.8940 - mae: 41.5131 - smape: 11.4390 - coeff_determination: 0.2739WARNING:tensorflow:Early stopping conditioned on metric `val_loss` which is not available. Available metrics are: loss,rmse,mae,smape,coeff_determination\n",
      "\n",
      "Epoch 5: loss improved from 3194.63110 to 2925.69019, saving model to checkpoint\\Transformer.test Mon Dec 19 20 50 35 2022.hdf5\n",
      "203/203 [==============================] - 28s 138ms/step - loss: 2925.6902 - rmse: 53.8940 - mae: 41.5131 - smape: 11.4390 - coeff_determination: 0.2739\n",
      "Epoch 6/50\n",
      "203/203 [==============================] - ETA: 0s - loss: 2699.8171 - rmse: 51.7756 - mae: 39.8382 - smape: 10.9420 - coeff_determination: 0.3288WARNING:tensorflow:Early stopping conditioned on metric `val_loss` which is not available. Available metrics are: loss,rmse,mae,smape,coeff_determination\n",
      "\n",
      "Epoch 6: loss improved from 2925.69019 to 2699.81714, saving model to checkpoint\\Transformer.test Mon Dec 19 20 50 35 2022.hdf5\n",
      "203/203 [==============================] - 31s 150ms/step - loss: 2699.8171 - rmse: 51.7756 - mae: 39.8382 - smape: 10.9420 - coeff_determination: 0.3288\n",
      "Epoch 7/50\n",
      "203/203 [==============================] - ETA: 0s - loss: 2466.7542 - rmse: 49.5146 - mae: 38.0559 - smape: 10.4635 - coeff_determination: 0.3912WARNING:tensorflow:Early stopping conditioned on metric `val_loss` which is not available. Available metrics are: loss,rmse,mae,smape,coeff_determination\n",
      "\n",
      "Epoch 7: loss improved from 2699.81714 to 2466.75415, saving model to checkpoint\\Transformer.test Mon Dec 19 20 50 35 2022.hdf5\n",
      "203/203 [==============================] - 34s 167ms/step - loss: 2466.7542 - rmse: 49.5146 - mae: 38.0559 - smape: 10.4635 - coeff_determination: 0.3912\n",
      "Epoch 8/50\n",
      "203/203 [==============================] - ETA: 0s - loss: 2346.9680 - rmse: 48.2539 - mae: 36.9679 - smape: 10.1422 - coeff_determination: 0.4199WARNING:tensorflow:Early stopping conditioned on metric `val_loss` which is not available. Available metrics are: loss,rmse,mae,smape,coeff_determination\n",
      "\n",
      "Epoch 8: loss improved from 2466.75415 to 2346.96802, saving model to checkpoint\\Transformer.test Mon Dec 19 20 50 35 2022.hdf5\n",
      "203/203 [==============================] - 33s 163ms/step - loss: 2346.9680 - rmse: 48.2539 - mae: 36.9679 - smape: 10.1422 - coeff_determination: 0.4199\n",
      "Epoch 9/50\n",
      "203/203 [==============================] - ETA: 0s - loss: 2201.6506 - rmse: 46.7454 - mae: 35.7821 - smape: 9.7964 - coeff_determination: 0.4553WARNING:tensorflow:Early stopping conditioned on metric `val_loss` which is not available. Available metrics are: loss,rmse,mae,smape,coeff_determination\n",
      "\n",
      "Epoch 9: loss improved from 2346.96802 to 2201.65063, saving model to checkpoint\\Transformer.test Mon Dec 19 20 50 35 2022.hdf5\n",
      "203/203 [==============================] - 29s 142ms/step - loss: 2201.6506 - rmse: 46.7454 - mae: 35.7821 - smape: 9.7964 - coeff_determination: 0.4553\n",
      "Epoch 10/50\n",
      "203/203 [==============================] - ETA: 0s - loss: 2113.7251 - rmse: 45.7939 - mae: 35.1405 - smape: 9.6496 - coeff_determination: 0.4776WARNING:tensorflow:Early stopping conditioned on metric `val_loss` which is not available. Available metrics are: loss,rmse,mae,smape,coeff_determination\n"
     ]
    },
    {
     "name": "stdout",
     "output_type": "stream",
     "text": [
      "\n",
      "Epoch 10: loss improved from 2201.65063 to 2113.72510, saving model to checkpoint\\Transformer.test Mon Dec 19 20 50 35 2022.hdf5\n",
      "203/203 [==============================] - 27s 131ms/step - loss: 2113.7251 - rmse: 45.7939 - mae: 35.1405 - smape: 9.6496 - coeff_determination: 0.4776\n",
      "Epoch 11/50\n",
      "203/203 [==============================] - ETA: 0s - loss: 1980.2809 - rmse: 44.3486 - mae: 33.9551 - smape: 9.2997 - coeff_determination: 0.5130WARNING:tensorflow:Early stopping conditioned on metric `val_loss` which is not available. Available metrics are: loss,rmse,mae,smape,coeff_determination\n",
      "\n",
      "Epoch 11: loss improved from 2113.72510 to 1980.28088, saving model to checkpoint\\Transformer.test Mon Dec 19 20 50 35 2022.hdf5\n",
      "203/203 [==============================] - 31s 150ms/step - loss: 1980.2809 - rmse: 44.3486 - mae: 33.9551 - smape: 9.2997 - coeff_determination: 0.5130\n",
      "Epoch 12/50\n",
      "203/203 [==============================] - ETA: 0s - loss: 1875.0004 - rmse: 43.1345 - mae: 33.0348 - smape: 9.0588 - coeff_determination: 0.5338WARNING:tensorflow:Early stopping conditioned on metric `val_loss` which is not available. Available metrics are: loss,rmse,mae,smape,coeff_determination\n",
      "\n",
      "Epoch 12: loss improved from 1980.28088 to 1875.00037, saving model to checkpoint\\Transformer.test Mon Dec 19 20 50 35 2022.hdf5\n",
      "203/203 [==============================] - 34s 169ms/step - loss: 1875.0004 - rmse: 43.1345 - mae: 33.0348 - smape: 9.0588 - coeff_determination: 0.5338\n",
      "Epoch 13/50\n",
      "203/203 [==============================] - ETA: 0s - loss: 1799.3534 - rmse: 42.2039 - mae: 32.2631 - smape: 8.8382 - coeff_determination: 0.5554WARNING:tensorflow:Early stopping conditioned on metric `val_loss` which is not available. Available metrics are: loss,rmse,mae,smape,coeff_determination\n",
      "\n",
      "Epoch 13: loss improved from 1875.00037 to 1799.35339, saving model to checkpoint\\Transformer.test Mon Dec 19 20 50 35 2022.hdf5\n",
      "203/203 [==============================] - 34s 166ms/step - loss: 1799.3534 - rmse: 42.2039 - mae: 32.2631 - smape: 8.8382 - coeff_determination: 0.5554\n",
      "Epoch 14/50\n",
      "203/203 [==============================] - ETA: 0s - loss: 1751.8867 - rmse: 41.6981 - mae: 31.9179 - smape: 8.7522 - coeff_determination: 0.5669WARNING:tensorflow:Early stopping conditioned on metric `val_loss` which is not available. Available metrics are: loss,rmse,mae,smape,coeff_determination\n",
      "\n",
      "Epoch 14: loss improved from 1799.35339 to 1751.88672, saving model to checkpoint\\Transformer.test Mon Dec 19 20 50 35 2022.hdf5\n",
      "203/203 [==============================] - 30s 148ms/step - loss: 1751.8867 - rmse: 41.6981 - mae: 31.9179 - smape: 8.7522 - coeff_determination: 0.5669\n",
      "Epoch 15/50\n",
      "203/203 [==============================] - ETA: 0s - loss: 1697.2998 - rmse: 40.9776 - mae: 31.2483 - smape: 8.5613 - coeff_determination: 0.5819WARNING:tensorflow:Early stopping conditioned on metric `val_loss` which is not available. Available metrics are: loss,rmse,mae,smape,coeff_determination\n",
      "\n",
      "Epoch 15: loss improved from 1751.88672 to 1697.29980, saving model to checkpoint\\Transformer.test Mon Dec 19 20 50 35 2022.hdf5\n",
      "203/203 [==============================] - 30s 146ms/step - loss: 1697.2998 - rmse: 40.9776 - mae: 31.2483 - smape: 8.5613 - coeff_determination: 0.5819\n",
      "Epoch 16/50\n",
      "203/203 [==============================] - ETA: 0s - loss: 1619.6007 - rmse: 40.0661 - mae: 30.5752 - smape: 8.3830 - coeff_determination: 0.5991WARNING:tensorflow:Early stopping conditioned on metric `val_loss` which is not available. Available metrics are: loss,rmse,mae,smape,coeff_determination\n",
      "\n",
      "Epoch 16: loss improved from 1697.29980 to 1619.60071, saving model to checkpoint\\Transformer.test Mon Dec 19 20 50 35 2022.hdf5\n",
      "203/203 [==============================] - 30s 146ms/step - loss: 1619.6007 - rmse: 40.0661 - mae: 30.5752 - smape: 8.3830 - coeff_determination: 0.5991\n",
      "Epoch 17/50\n",
      "203/203 [==============================] - ETA: 0s - loss: 1586.2880 - rmse: 39.6421 - mae: 30.3001 - smape: 8.2903 - coeff_determination: 0.6085WARNING:tensorflow:Early stopping conditioned on metric `val_loss` which is not available. Available metrics are: loss,rmse,mae,smape,coeff_determination\n",
      "\n",
      "Epoch 17: loss improved from 1619.60071 to 1586.28796, saving model to checkpoint\\Transformer.test Mon Dec 19 20 50 35 2022.hdf5\n",
      "203/203 [==============================] - 30s 149ms/step - loss: 1586.2880 - rmse: 39.6421 - mae: 30.3001 - smape: 8.2903 - coeff_determination: 0.6085\n",
      "Epoch 18/50\n",
      "203/203 [==============================] - ETA: 0s - loss: 1496.5861 - rmse: 38.4719 - mae: 29.3853 - smape: 8.0413 - coeff_determination: 0.6328WARNING:tensorflow:Early stopping conditioned on metric `val_loss` which is not available. Available metrics are: loss,rmse,mae,smape,coeff_determination\n",
      "\n",
      "Epoch 18: loss improved from 1586.28796 to 1496.58606, saving model to checkpoint\\Transformer.test Mon Dec 19 20 50 35 2022.hdf5\n",
      "203/203 [==============================] - 27s 134ms/step - loss: 1496.5861 - rmse: 38.4719 - mae: 29.3853 - smape: 8.0413 - coeff_determination: 0.6328\n",
      "Epoch 19/50\n",
      "203/203 [==============================] - ETA: 0s - loss: 1491.0316 - rmse: 38.4266 - mae: 29.2919 - smape: 8.0072 - coeff_determination: 0.6290WARNING:tensorflow:Early stopping conditioned on metric `val_loss` which is not available. Available metrics are: loss,rmse,mae,smape,coeff_determination\n",
      "\n",
      "Epoch 19: loss improved from 1496.58606 to 1491.03162, saving model to checkpoint\\Transformer.test Mon Dec 19 20 50 35 2022.hdf5\n",
      "203/203 [==============================] - 27s 132ms/step - loss: 1491.0316 - rmse: 38.4266 - mae: 29.2919 - smape: 8.0072 - coeff_determination: 0.6290\n",
      "Epoch 20/50\n",
      "203/203 [==============================] - ETA: 0s - loss: 1443.5132 - rmse: 37.8067 - mae: 28.6919 - smape: 7.8213 - coeff_determination: 0.6447WARNING:tensorflow:Early stopping conditioned on metric `val_loss` which is not available. Available metrics are: loss,rmse,mae,smape,coeff_determination\n",
      "\n",
      "Epoch 20: loss improved from 1491.03162 to 1443.51318, saving model to checkpoint\\Transformer.test Mon Dec 19 20 50 35 2022.hdf5\n",
      "203/203 [==============================] - 27s 134ms/step - loss: 1443.5132 - rmse: 37.8067 - mae: 28.6919 - smape: 7.8213 - coeff_determination: 0.6447\n",
      "Epoch 21/50\n",
      "203/203 [==============================] - ETA: 0s - loss: 1436.1616 - rmse: 37.7071 - mae: 28.5509 - smape: 7.7836 - coeff_determination: 0.6438WARNING:tensorflow:Early stopping conditioned on metric `val_loss` which is not available. Available metrics are: loss,rmse,mae,smape,coeff_determination\n",
      "\n",
      "Epoch 21: loss improved from 1443.51318 to 1436.16162, saving model to checkpoint\\Transformer.test Mon Dec 19 20 50 35 2022.hdf5\n",
      "203/203 [==============================] - 29s 141ms/step - loss: 1436.1616 - rmse: 37.7071 - mae: 28.5509 - smape: 7.7836 - coeff_determination: 0.6438\n",
      "Epoch 22/50\n",
      "203/203 [==============================] - ETA: 0s - loss: 1370.5657 - rmse: 36.8138 - mae: 27.9757 - smape: 7.6464 - coeff_determination: 0.6599WARNING:tensorflow:Early stopping conditioned on metric `val_loss` which is not available. Available metrics are: loss,rmse,mae,smape,coeff_determination\n",
      "\n",
      "Epoch 22: loss improved from 1436.16162 to 1370.56567, saving model to checkpoint\\Transformer.test Mon Dec 19 20 50 35 2022.hdf5\n",
      "203/203 [==============================] - 27s 134ms/step - loss: 1370.5657 - rmse: 36.8138 - mae: 27.9757 - smape: 7.6464 - coeff_determination: 0.6599\n",
      "Epoch 23/50\n",
      "203/203 [==============================] - ETA: 0s - loss: 1343.0138 - rmse: 36.4355 - mae: 27.7462 - smape: 7.5885 - coeff_determination: 0.6693WARNING:tensorflow:Early stopping conditioned on metric `val_loss` which is not available. Available metrics are: loss,rmse,mae,smape,coeff_determination\n",
      "\n",
      "Epoch 23: loss improved from 1370.56567 to 1343.01379, saving model to checkpoint\\Transformer.test Mon Dec 19 20 50 35 2022.hdf5\n",
      "203/203 [==============================] - 29s 143ms/step - loss: 1343.0138 - rmse: 36.4355 - mae: 27.7462 - smape: 7.5885 - coeff_determination: 0.6693\n",
      "Epoch 24/50\n",
      "203/203 [==============================] - ETA: 0s - loss: 1310.4852 - rmse: 35.9779 - mae: 27.2187 - smape: 7.4371 - coeff_determination: 0.6779WARNING:tensorflow:Early stopping conditioned on metric `val_loss` which is not available. Available metrics are: loss,rmse,mae,smape,coeff_determination\n"
     ]
    },
    {
     "name": "stdout",
     "output_type": "stream",
     "text": [
      "\n",
      "Epoch 24: loss improved from 1343.01379 to 1310.48523, saving model to checkpoint\\Transformer.test Mon Dec 19 20 50 35 2022.hdf5\n",
      "203/203 [==============================] - 29s 143ms/step - loss: 1310.4852 - rmse: 35.9779 - mae: 27.2187 - smape: 7.4371 - coeff_determination: 0.6779\n",
      "Epoch 25/50\n",
      "203/203 [==============================] - ETA: 0s - loss: 1291.9220 - rmse: 35.7281 - mae: 27.0194 - smape: 7.3649 - coeff_determination: 0.6801WARNING:tensorflow:Early stopping conditioned on metric `val_loss` which is not available. Available metrics are: loss,rmse,mae,smape,coeff_determination\n",
      "\n",
      "Epoch 25: loss improved from 1310.48523 to 1291.92200, saving model to checkpoint\\Transformer.test Mon Dec 19 20 50 35 2022.hdf5\n",
      "203/203 [==============================] - 37s 181ms/step - loss: 1291.9220 - rmse: 35.7281 - mae: 27.0194 - smape: 7.3649 - coeff_determination: 0.6801\n",
      "Epoch 26/50\n",
      "203/203 [==============================] - ETA: 0s - loss: 1250.9000 - rmse: 35.1814 - mae: 26.5553 - smape: 7.2574 - coeff_determination: 0.6914WARNING:tensorflow:Early stopping conditioned on metric `val_loss` which is not available. Available metrics are: loss,rmse,mae,smape,coeff_determination\n",
      "\n",
      "Epoch 26: loss improved from 1291.92200 to 1250.90002, saving model to checkpoint\\Transformer.test Mon Dec 19 20 50 35 2022.hdf5\n",
      "203/203 [==============================] - 29s 141ms/step - loss: 1250.9000 - rmse: 35.1814 - mae: 26.5553 - smape: 7.2574 - coeff_determination: 0.6914\n",
      "Epoch 27/50\n",
      "203/203 [==============================] - ETA: 0s - loss: 1225.8632 - rmse: 34.8548 - mae: 26.3888 - smape: 7.2216 - coeff_determination: 0.6948WARNING:tensorflow:Early stopping conditioned on metric `val_loss` which is not available. Available metrics are: loss,rmse,mae,smape,coeff_determination\n",
      "\n",
      "Epoch 27: loss improved from 1250.90002 to 1225.86316, saving model to checkpoint\\Transformer.test Mon Dec 19 20 50 35 2022.hdf5\n",
      "203/203 [==============================] - 28s 138ms/step - loss: 1225.8632 - rmse: 34.8548 - mae: 26.3888 - smape: 7.2216 - coeff_determination: 0.6948\n",
      "Epoch 28/50\n",
      "203/203 [==============================] - ETA: 0s - loss: 1210.7526 - rmse: 34.6196 - mae: 26.2750 - smape: 7.1611 - coeff_determination: 0.7006WARNING:tensorflow:Early stopping conditioned on metric `val_loss` which is not available. Available metrics are: loss,rmse,mae,smape,coeff_determination\n",
      "\n",
      "Epoch 28: loss improved from 1225.86316 to 1210.75256, saving model to checkpoint\\Transformer.test Mon Dec 19 20 50 35 2022.hdf5\n",
      "203/203 [==============================] - 30s 147ms/step - loss: 1210.7526 - rmse: 34.6196 - mae: 26.2750 - smape: 7.1611 - coeff_determination: 0.7006\n",
      "Epoch 29/50\n",
      "203/203 [==============================] - ETA: 0s - loss: 1174.8384 - rmse: 34.0909 - mae: 25.8433 - smape: 7.0626 - coeff_determination: 0.7058WARNING:tensorflow:Early stopping conditioned on metric `val_loss` which is not available. Available metrics are: loss,rmse,mae,smape,coeff_determination\n",
      "\n",
      "Epoch 29: loss improved from 1210.75256 to 1174.83838, saving model to checkpoint\\Transformer.test Mon Dec 19 20 50 35 2022.hdf5\n",
      "203/203 [==============================] - 35s 171ms/step - loss: 1174.8384 - rmse: 34.0909 - mae: 25.8433 - smape: 7.0626 - coeff_determination: 0.7058\n",
      "Epoch 30/50\n",
      "203/203 [==============================] - ETA: 0s - loss: 1173.8059 - rmse: 34.0193 - mae: 25.7243 - smape: 7.0088 - coeff_determination: 0.7097WARNING:tensorflow:Early stopping conditioned on metric `val_loss` which is not available. Available metrics are: loss,rmse,mae,smape,coeff_determination\n",
      "\n",
      "Epoch 30: loss improved from 1174.83838 to 1173.80591, saving model to checkpoint\\Transformer.test Mon Dec 19 20 50 35 2022.hdf5\n",
      "203/203 [==============================] - 29s 141ms/step - loss: 1173.8059 - rmse: 34.0193 - mae: 25.7243 - smape: 7.0088 - coeff_determination: 0.7097\n",
      "Epoch 31/50\n",
      "203/203 [==============================] - ETA: 0s - loss: 1154.2274 - rmse: 33.7359 - mae: 25.5047 - smape: 6.9638 - coeff_determination: 0.7141WARNING:tensorflow:Early stopping conditioned on metric `val_loss` which is not available. Available metrics are: loss,rmse,mae,smape,coeff_determination\n",
      "\n",
      "Epoch 31: loss improved from 1173.80591 to 1154.22742, saving model to checkpoint\\Transformer.test Mon Dec 19 20 50 35 2022.hdf5\n",
      "203/203 [==============================] - 29s 145ms/step - loss: 1154.2274 - rmse: 33.7359 - mae: 25.5047 - smape: 6.9638 - coeff_determination: 0.7141\n",
      "Epoch 32/50\n",
      "203/203 [==============================] - ETA: 0s - loss: 1134.7948 - rmse: 33.4958 - mae: 25.1959 - smape: 6.8683 - coeff_determination: 0.7197WARNING:tensorflow:Early stopping conditioned on metric `val_loss` which is not available. Available metrics are: loss,rmse,mae,smape,coeff_determination\n",
      "\n",
      "Epoch 32: loss improved from 1154.22742 to 1134.79480, saving model to checkpoint\\Transformer.test Mon Dec 19 20 50 35 2022.hdf5\n",
      "203/203 [==============================] - 29s 142ms/step - loss: 1134.7948 - rmse: 33.4958 - mae: 25.1959 - smape: 6.8683 - coeff_determination: 0.7197\n",
      "Epoch 33/50\n",
      "203/203 [==============================] - ETA: 0s - loss: 1116.6248 - rmse: 33.2264 - mae: 25.0758 - smape: 6.8554 - coeff_determination: 0.7237WARNING:tensorflow:Early stopping conditioned on metric `val_loss` which is not available. Available metrics are: loss,rmse,mae,smape,coeff_determination\n",
      "\n",
      "Epoch 33: loss improved from 1134.79480 to 1116.62476, saving model to checkpoint\\Transformer.test Mon Dec 19 20 50 35 2022.hdf5\n",
      "203/203 [==============================] - 30s 148ms/step - loss: 1116.6248 - rmse: 33.2264 - mae: 25.0758 - smape: 6.8554 - coeff_determination: 0.7237\n",
      "Epoch 34/50\n",
      "203/203 [==============================] - ETA: 0s - loss: 1108.4427 - rmse: 33.0882 - mae: 24.9223 - smape: 6.8086 - coeff_determination: 0.7274WARNING:tensorflow:Early stopping conditioned on metric `val_loss` which is not available. Available metrics are: loss,rmse,mae,smape,coeff_determination\n",
      "\n",
      "Epoch 34: loss improved from 1116.62476 to 1108.44275, saving model to checkpoint\\Transformer.test Mon Dec 19 20 50 35 2022.hdf5\n",
      "203/203 [==============================] - 31s 153ms/step - loss: 1108.4427 - rmse: 33.0882 - mae: 24.9223 - smape: 6.8086 - coeff_determination: 0.7274\n",
      "Epoch 35/50\n",
      "203/203 [==============================] - ETA: 0s - loss: 1089.9885 - rmse: 32.8323 - mae: 24.7516 - smape: 6.7560 - coeff_determination: 0.7303WARNING:tensorflow:Early stopping conditioned on metric `val_loss` which is not available. Available metrics are: loss,rmse,mae,smape,coeff_determination\n",
      "\n",
      "Epoch 35: loss improved from 1108.44275 to 1089.98853, saving model to checkpoint\\Transformer.test Mon Dec 19 20 50 35 2022.hdf5\n",
      "203/203 [==============================] - 34s 169ms/step - loss: 1089.9885 - rmse: 32.8323 - mae: 24.7516 - smape: 6.7560 - coeff_determination: 0.7303\n",
      "Epoch 36/50\n",
      "203/203 [==============================] - ETA: 0s - loss: 1071.8915 - rmse: 32.5470 - mae: 24.5830 - smape: 6.6942 - coeff_determination: 0.7358WARNING:tensorflow:Early stopping conditioned on metric `val_loss` which is not available. Available metrics are: loss,rmse,mae,smape,coeff_determination\n",
      "\n",
      "Epoch 36: loss improved from 1089.98853 to 1071.89148, saving model to checkpoint\\Transformer.test Mon Dec 19 20 50 35 2022.hdf5\n",
      "203/203 [==============================] - 27s 135ms/step - loss: 1071.8915 - rmse: 32.5470 - mae: 24.5830 - smape: 6.6942 - coeff_determination: 0.7358\n",
      "Epoch 37/50\n",
      "203/203 [==============================] - ETA: 0s - loss: 1097.9497 - rmse: 32.9200 - mae: 24.6308 - smape: 6.7182 - coeff_determination: 0.7271WARNING:tensorflow:Early stopping conditioned on metric `val_loss` which is not available. Available metrics are: loss,rmse,mae,smape,coeff_determination\n",
      "\n",
      "Epoch 37: loss did not improve from 1071.89148\n",
      "203/203 [==============================] - 27s 131ms/step - loss: 1097.9497 - rmse: 32.9200 - mae: 24.6308 - smape: 6.7182 - coeff_determination: 0.7271\n",
      "Epoch 38/50\n",
      "203/203 [==============================] - ETA: 0s - loss: 1048.5226 - rmse: 32.1616 - mae: 24.2244 - smape: 6.6042 - coeff_determination: 0.7411WARNING:tensorflow:Early stopping conditioned on metric `val_loss` which is not available. Available metrics are: loss,rmse,mae,smape,coeff_determination\n"
     ]
    },
    {
     "name": "stdout",
     "output_type": "stream",
     "text": [
      "\n",
      "Epoch 38: loss improved from 1071.89148 to 1048.52258, saving model to checkpoint\\Transformer.test Mon Dec 19 20 50 35 2022.hdf5\n",
      "203/203 [==============================] - 29s 144ms/step - loss: 1048.5226 - rmse: 32.1616 - mae: 24.2244 - smape: 6.6042 - coeff_determination: 0.7411\n",
      "Epoch 39/50\n",
      "203/203 [==============================] - ETA: 0s - loss: 1033.8433 - rmse: 31.9747 - mae: 24.1340 - smape: 6.5911 - coeff_determination: 0.7456WARNING:tensorflow:Early stopping conditioned on metric `val_loss` which is not available. Available metrics are: loss,rmse,mae,smape,coeff_determination\n",
      "\n",
      "Epoch 39: loss improved from 1048.52258 to 1033.84326, saving model to checkpoint\\Transformer.test Mon Dec 19 20 50 35 2022.hdf5\n",
      "203/203 [==============================] - 27s 131ms/step - loss: 1033.8433 - rmse: 31.9747 - mae: 24.1340 - smape: 6.5911 - coeff_determination: 0.7456\n",
      "Epoch 40/50\n",
      "203/203 [==============================] - ETA: 0s - loss: 1048.1494 - rmse: 32.1333 - mae: 24.0503 - smape: 6.5323 - coeff_determination: 0.7405WARNING:tensorflow:Early stopping conditioned on metric `val_loss` which is not available. Available metrics are: loss,rmse,mae,smape,coeff_determination\n",
      "\n",
      "Epoch 40: loss did not improve from 1033.84326\n",
      "203/203 [==============================] - 31s 152ms/step - loss: 1048.1494 - rmse: 32.1333 - mae: 24.0503 - smape: 6.5323 - coeff_determination: 0.7405\n",
      "Epoch 41/50\n",
      "203/203 [==============================] - ETA: 0s - loss: 1028.1182 - rmse: 31.8458 - mae: 24.0017 - smape: 6.5434 - coeff_determination: 0.7453WARNING:tensorflow:Early stopping conditioned on metric `val_loss` which is not available. Available metrics are: loss,rmse,mae,smape,coeff_determination\n",
      "\n",
      "Epoch 41: loss improved from 1033.84326 to 1028.11816, saving model to checkpoint\\Transformer.test Mon Dec 19 20 50 35 2022.hdf5\n",
      "203/203 [==============================] - 34s 166ms/step - loss: 1028.1182 - rmse: 31.8458 - mae: 24.0017 - smape: 6.5434 - coeff_determination: 0.7453\n",
      "Epoch 42/50\n",
      "203/203 [==============================] - ETA: 0s - loss: 1010.5722 - rmse: 31.5892 - mae: 23.6770 - smape: 6.4427 - coeff_determination: 0.7506WARNING:tensorflow:Early stopping conditioned on metric `val_loss` which is not available. Available metrics are: loss,rmse,mae,smape,coeff_determination\n",
      "\n",
      "Epoch 42: loss improved from 1028.11816 to 1010.57220, saving model to checkpoint\\Transformer.test Mon Dec 19 20 50 35 2022.hdf5\n",
      "203/203 [==============================] - 29s 141ms/step - loss: 1010.5722 - rmse: 31.5892 - mae: 23.6770 - smape: 6.4427 - coeff_determination: 0.7506\n",
      "Epoch 43/50\n",
      "203/203 [==============================] - ETA: 0s - loss: 1024.7971 - rmse: 31.8100 - mae: 23.9056 - smape: 6.5123 - coeff_determination: 0.7466WARNING:tensorflow:Early stopping conditioned on metric `val_loss` which is not available. Available metrics are: loss,rmse,mae,smape,coeff_determination\n",
      "\n",
      "Epoch 43: loss did not improve from 1010.57220\n",
      "203/203 [==============================] - 29s 144ms/step - loss: 1024.7971 - rmse: 31.8100 - mae: 23.9056 - smape: 6.5123 - coeff_determination: 0.7466\n",
      "Epoch 44/50\n",
      "203/203 [==============================] - ETA: 0s - loss: 1009.3759 - rmse: 31.5765 - mae: 23.8274 - smape: 6.4946 - coeff_determination: 0.7508WARNING:tensorflow:Early stopping conditioned on metric `val_loss` which is not available. Available metrics are: loss,rmse,mae,smape,coeff_determination\n",
      "\n",
      "Epoch 44: loss improved from 1010.57220 to 1009.37585, saving model to checkpoint\\Transformer.test Mon Dec 19 20 50 35 2022.hdf5\n",
      "203/203 [==============================] - 28s 139ms/step - loss: 1009.3759 - rmse: 31.5765 - mae: 23.8274 - smape: 6.4946 - coeff_determination: 0.7508\n",
      "Epoch 45/50\n",
      "203/203 [==============================] - ETA: 0s - loss: 1002.2255 - rmse: 31.4660 - mae: 23.4888 - smape: 6.3721 - coeff_determination: 0.7513WARNING:tensorflow:Early stopping conditioned on metric `val_loss` which is not available. Available metrics are: loss,rmse,mae,smape,coeff_determination\n",
      "\n",
      "Epoch 45: loss improved from 1009.37585 to 1002.22546, saving model to checkpoint\\Transformer.test Mon Dec 19 20 50 35 2022.hdf5\n",
      "203/203 [==============================] - 30s 149ms/step - loss: 1002.2255 - rmse: 31.4660 - mae: 23.4888 - smape: 6.3721 - coeff_determination: 0.7513\n",
      "Epoch 46/50\n",
      "203/203 [==============================] - ETA: 0s - loss: 996.7980 - rmse: 31.3457 - mae: 23.4626 - smape: 6.3857 - coeff_determination: 0.7533WARNING:tensorflow:Early stopping conditioned on metric `val_loss` which is not available. Available metrics are: loss,rmse,mae,smape,coeff_determination\n",
      "\n",
      "Epoch 46: loss improved from 1002.22546 to 996.79797, saving model to checkpoint\\Transformer.test Mon Dec 19 20 50 35 2022.hdf5\n",
      "203/203 [==============================] - 30s 146ms/step - loss: 996.7980 - rmse: 31.3457 - mae: 23.4626 - smape: 6.3857 - coeff_determination: 0.7533\n",
      "Epoch 47/50\n",
      "203/203 [==============================] - ETA: 0s - loss: 979.9916 - rmse: 31.1082 - mae: 23.2653 - smape: 6.3396 - coeff_determination: 0.7570WARNING:tensorflow:Early stopping conditioned on metric `val_loss` which is not available. Available metrics are: loss,rmse,mae,smape,coeff_determination\n",
      "\n",
      "Epoch 47: loss improved from 996.79797 to 979.99158, saving model to checkpoint\\Transformer.test Mon Dec 19 20 50 35 2022.hdf5\n",
      "203/203 [==============================] - 29s 144ms/step - loss: 979.9916 - rmse: 31.1082 - mae: 23.2653 - smape: 6.3396 - coeff_determination: 0.7570\n",
      "Epoch 48/50\n",
      "203/203 [==============================] - ETA: 0s - loss: 1002.8466 - rmse: 31.4622 - mae: 23.6784 - smape: 6.4418 - coeff_determination: 0.7529WARNING:tensorflow:Early stopping conditioned on metric `val_loss` which is not available. Available metrics are: loss,rmse,mae,smape,coeff_determination\n",
      "\n",
      "Epoch 48: loss did not improve from 979.99158\n",
      "203/203 [==============================] - 30s 146ms/step - loss: 1002.8466 - rmse: 31.4622 - mae: 23.6784 - smape: 6.4418 - coeff_determination: 0.7529\n",
      "Epoch 49/50\n",
      "203/203 [==============================] - ETA: 0s - loss: 991.2086 - rmse: 31.2433 - mae: 23.3929 - smape: 6.3670 - coeff_determination: 0.7551WARNING:tensorflow:Early stopping conditioned on metric `val_loss` which is not available. Available metrics are: loss,rmse,mae,smape,coeff_determination\n",
      "\n",
      "Epoch 49: loss did not improve from 979.99158\n",
      "203/203 [==============================] - 30s 147ms/step - loss: 991.2086 - rmse: 31.2433 - mae: 23.3929 - smape: 6.3670 - coeff_determination: 0.7551\n",
      "Epoch 50/50\n",
      "203/203 [==============================] - ETA: 0s - loss: 985.3070 - rmse: 31.1738 - mae: 23.2567 - smape: 6.3070 - coeff_determination: 0.7546WARNING:tensorflow:Early stopping conditioned on metric `val_loss` which is not available. Available metrics are: loss,rmse,mae,smape,coeff_determination\n",
      "\n",
      "Epoch 50: loss did not improve from 979.99158\n",
      "203/203 [==============================] - 28s 139ms/step - loss: 985.3070 - rmse: 31.1738 - mae: 23.2567 - smape: 6.3070 - coeff_determination: 0.7546\n",
      "102/102 [==============================] - 4s 30ms/step\n",
      "[[274.90665  274.4681   274.3394   273.7392   273.78488  272.40723 ]\n",
      " [272.58392  272.02884  271.97565  271.2563   271.07825  270.0257  ]\n",
      " [270.42007  269.76865  269.80734  268.8764   268.80084  267.75775 ]\n",
      " ...\n",
      " [ 85.13738   86.280685  85.019135  86.77269   86.747826  86.57437 ]\n",
      " [ 92.12882   93.131935  92.67145   93.92316   93.39689   93.7271  ]\n",
      " [ 96.029945  96.09186   96.82058   97.37502   96.75399   97.97204 ]]\n"
     ]
    }
   ],
   "source": [
    "## Testing the Transformer\n",
    "tr = Transformer()\n",
    "tr.train(X_train_reshaped,y_train_reshaped)\n",
    "a=tr.evaluate(X_test_reshaped,y_test_reshaped)\n",
    "print(a)\n",
    "#_, rmse_result, mae_result, smape_result, r2_result = tr.evaluate(X_test_reshaped,y_test_reshaped)\n",
    "#print('Result \\n RMSE = %.2f [kWh] \\n MAE = %.2f [kWh]\\n R2 = %.1f [%%]' % (rmse_result,\n",
    "#                                                                            mae_result,\n",
    "#        "
   ]
  },
  {
   "cell_type": "code",
   "execution_count": 67,
   "id": "69c96d43",
   "metadata": {},
   "outputs": [
    {
     "name": "stdout",
     "output_type": "stream",
     "text": [
      "(3245, 6)\n"
     ]
    }
   ],
   "source": [
    "print(a.shape)"
   ]
  },
  {
   "cell_type": "code",
   "execution_count": 68,
   "id": "fb559af2",
   "metadata": {},
   "outputs": [
    {
     "name": "stdout",
     "output_type": "stream",
     "text": [
      "<class 'numpy.ndarray'>\n"
     ]
    }
   ],
   "source": [
    "print(type(a))"
   ]
  },
  {
   "cell_type": "code",
   "execution_count": 69,
   "id": "ae9826e8",
   "metadata": {},
   "outputs": [],
   "source": [
    "actual=y_test.to_numpy()"
   ]
  },
  {
   "cell_type": "code",
   "execution_count": 70,
   "id": "01280953",
   "metadata": {},
   "outputs": [],
   "source": [
    "#print(actual)\n",
    "diff=actual-a"
   ]
  },
  {
   "cell_type": "code",
   "execution_count": 71,
   "id": "62a8ca89",
   "metadata": {},
   "outputs": [
    {
     "name": "stdout",
     "output_type": "stream",
     "text": [
      "RMSE: 17.109426023498298\n"
     ]
    }
   ],
   "source": [
    "print(\"RMSE:\",np.sqrt(np.mean((diff)**2,axis=0)).mean())"
   ]
  },
  {
   "cell_type": "code",
   "execution_count": 72,
   "id": "f395bb26",
   "metadata": {},
   "outputs": [
    {
     "name": "stdout",
     "output_type": "stream",
     "text": [
      "--- 1498.1145505905151 seconds ---\n"
     ]
    }
   ],
   "source": [
    "print(\"--- %s seconds ---\" % (time.time() - start_time))"
   ]
  },
  {
   "cell_type": "code",
   "execution_count": null,
   "id": "d61d5bde",
   "metadata": {},
   "outputs": [],
   "source": []
  }
 ],
 "metadata": {
  "kernelspec": {
   "display_name": "Python 3 (ipykernel)",
   "language": "python",
   "name": "python3"
  },
  "language_info": {
   "codemirror_mode": {
    "name": "ipython",
    "version": 3
   },
   "file_extension": ".py",
   "mimetype": "text/x-python",
   "name": "python",
   "nbconvert_exporter": "python",
   "pygments_lexer": "ipython3",
   "version": "3.9.12"
  }
 },
 "nbformat": 4,
 "nbformat_minor": 5
}
